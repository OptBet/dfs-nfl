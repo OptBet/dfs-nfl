{
 "cells": [
  {
   "cell_type": "code",
   "execution_count": 1,
   "metadata": {},
   "outputs": [],
   "source": [
    "using DataFrames, DelimitedFiles, DataStructures\n",
    "using GLPKMathProgInterface\n",
    "using JuMP, StatsBase, CSV, LinearAlgebra, Distributions, Random\n",
    "using Gurobi, BenchmarkTools"
   ]
  },
  {
   "cell_type": "code",
   "execution_count": null,
   "metadata": {},
   "outputs": [],
   "source": []
  },
  {
   "cell_type": "code",
   "execution_count": 3,
   "metadata": {},
   "outputs": [],
   "source": [
    "# using Pkg\n",
    "# Pkg.add([\"DataFrames\", \"DelimitedFiles\", \"DataStructures\", \"GLPKMathProgInterface\",\n",
    "#         \"StatsBase\", \"CSV\", \"LinearAlgebra\", \"Distributions\", \"Random\", \"GLPK\",\n",
    "#         \"BenchmarkTools\", \"Gurobi\"])"
   ]
  },
  {
   "cell_type": "code",
   "execution_count": 2,
   "metadata": {},
   "outputs": [
    {
     "data": {
      "text/plain": [
       "get_source (generic function with 1 method)"
      ]
     },
     "execution_count": 2,
     "metadata": {},
     "output_type": "execute_result"
    }
   ],
   "source": [
    "function get_source()\n",
    "    return CSV.read(string(\"Data/Projections/SaberSim/2022/Week_1.csv\"), copycols=true, DataFrame)\n",
    "end"
   ]
  },
  {
   "cell_type": "markdown",
   "metadata": {},
   "source": [
    "## Function to clean inputs\n"
   ]
  },
  {
   "cell_type": "code",
   "execution_count": 3,
   "metadata": {},
   "outputs": [
    {
     "data": {
      "text/plain": [
       "clean_input (generic function with 1 method)"
      ]
     },
     "execution_count": 3,
     "metadata": {},
     "output_type": "execute_result"
    }
   ],
   "source": [
    "function clean_input(year, week, version, source)\n",
    "    offense = get_source()\n",
    "\n",
    "    \n",
    "    if source ==  \"SaberSim\"\n",
    "        rename!(offense, Symbol(string(\"Name\")) => :Player)\n",
    "        rename!(offense, Symbol(string(\"Pos\")) => :\"DK Position\")\n",
    "        rename!(offense, Symbol(string(\"Opp\")) => :Opponent)\n",
    "        rename!(offense, Symbol(string(\"dk_85_percentile\")) => :Projection)\n",
    "        rename!(offense, Symbol(string(\"DFS ID\")) => :DKSlateID)\n",
    "        offense = offense[:, [\n",
    "                :Player,\n",
    "                Symbol(\"DK Position\"),\n",
    "                :Team,\n",
    "                :Opponent,\n",
    "                :Salary,\n",
    "                :Projection,\n",
    "                :DKSlateID\n",
    "            ]]\n",
    "        offense.\"DK Position\" .= replace.(offense.\"DK Position\", r\",FLEX\" => \"\")\n",
    "    elseif source == \"ETR\"\n",
    "        rename!(offense, Symbol(string(\"DK Salary\")) => :Salary)\n",
    "        rename!(offense, Symbol(string(\"DK Ceiling\")) => :Projection)\n",
    "        rename!(offense, Symbol(string(\"DK Ownership\")) => :Ownership)\n",
    "    elseif source == \"Stokastic\"\n",
    "        rename!(offense, Symbol(string(\"Name\")) => :Player)\n",
    "        rename!(offense, Symbol(string(\"Position\")) => :\"DK Position\")\n",
    "        rename!(offense, Symbol(string(\"Fpts\")) => :Projection)\n",
    "    end\n",
    "\n",
    "\n",
    "\n",
    "\n",
    "    offense = offense[completecases(offense), :]\n",
    "\n",
    " \n",
    "    #cut off players that have projected points less than 5\n",
    "    offense = offense[(offense.\"Projection\".>=9) .| (offense.\"DK Position\".== \"DST\"),:]\n",
    "    #remove injured players\n",
    "\n",
    "    #scores_o = copy(offense)\n",
    "    #global scores_d = copy(defense)\n",
    "\n",
    "    global num_offense = size(offense)[1]\n",
    "\n",
    "    \n",
    "    QB_indicies = Vector{Int}()\n",
    "    RB_indicies = Vector{Int}()\n",
    "    WR_indicies = Vector{Int}()\n",
    "    TE_indicies = Vector{Int}()\n",
    "    FLEX_indicies = Vector{Int}()\n",
    "    DST_indicies = Vector{Int}()\n",
    "\n",
    "\n",
    "   \n",
    "    for i =1:num_offense\n",
    "        if offense.\"DK Position\"[i] == \"QB\"\n",
    "            append!(QB_indicies, i)\n",
    "        elseif offense.\"DK Position\"[i] == \"RB\"\n",
    "            append!(RB_indicies, i)\n",
    "            append!(FLEX_indicies, i)\n",
    "        elseif offense.\"DK Position\"[i] == \"WR\"\n",
    "            append!(WR_indicies, i)\n",
    "            append!(FLEX_indicies, i)\n",
    "        elseif offense.\"DK Position\"[i] == \"TE\"\n",
    "            append!(TE_indicies, i)\n",
    "            append!(FLEX_indicies, i)\n",
    "        elseif offense.\"DK Position\"[i] == \"DST\"\n",
    "            append!(DST_indicies, i)\n",
    "        else\n",
    "            append!(FLEX_indicies, i)\n",
    "        end\n",
    "    end\n",
    "    \n",
    "    return offense, QB_indicies, RB_indicies, WR_indicies, TE_indicies, FLEX_indicies, DST_indicies\n",
    "        \n",
    "        \n",
    "    \n",
    "end"
   ]
  },
  {
   "cell_type": "code",
   "execution_count": 4,
   "metadata": {},
   "outputs": [
    {
     "data": {
      "text/plain": [
       "calc_cor (generic function with 1 method)"
      ]
     },
     "execution_count": 4,
     "metadata": {},
     "output_type": "execute_result"
    }
   ],
   "source": [
    "function calc_cor(player_matrix, temp_teams, player_cor, i, j)\n",
    "    if ismissing(temp_teams[i,2])\n",
    "        player_matrix[i,j] .= 0\n",
    "    elseif ismissing(temp_teams[j,2])\n",
    "        player_matrix[i,j] = 0\n",
    "    elseif temp_teams[i,2]==temp_teams[j,2]\n",
    "        try\n",
    "            orig_a = player_cor[:,i]\n",
    "            orig_b = player_cor[:,j]\n",
    "\n",
    "            a = orig_a[(ismissing.(orig_b).==false) .& (ismissing.(orig_a).==false),1]\n",
    "            b = orig_b[(ismissing.(orig_a).==false) .& (ismissing.(orig_b).==false),1]\n",
    "            \n",
    "            if (i ==1) & (j == 47)\n",
    "                println(a, b)\n",
    "            end\n",
    "            player_matrix[i,j] = cor(a, b)\n",
    "        catch err\n",
    "            player_matrix[i,j] = 0\n",
    "        end\n",
    "    else\n",
    "        player_matrix[i,j] = 0\n",
    "    end\n",
    "    return player_matrix[i,j]\n",
    "end"
   ]
  },
  {
   "cell_type": "code",
   "execution_count": 5,
   "metadata": {},
   "outputs": [
    {
     "data": {
      "text/plain": [
       "calc_var (generic function with 1 method)"
      ]
     },
     "execution_count": 5,
     "metadata": {},
     "output_type": "execute_result"
    }
   ],
   "source": [
    "function calc_var(player_matrix, temp_teams, player_cor, i)\n",
    "\n",
    "    orig_a = player_cor[:,i]\n",
    "    #a = orig_a[(ismissing.(orig_a).==false),1]\n",
    "    a = skipmissing(orig_a)\n",
    "\n",
    "    \n",
    "    println(a)\n",
    "    try\n",
    "        variance = var(a)\n",
    "    catch err\n",
    "        variance = 0    \n",
    "    end\n",
    "    \n",
    "    return variance\n",
    "end"
   ]
  },
  {
   "cell_type": "code",
   "execution_count": 6,
   "metadata": {},
   "outputs": [
    {
     "data": {
      "text/plain": [
       "get_variance (generic function with 1 method)"
      ]
     },
     "execution_count": 6,
     "metadata": {},
     "output_type": "execute_result"
    }
   ],
   "source": [
    "function get_variance(from, to, v, max_score, year, source)\n",
    "    #cd(\"/Users/kevin/Dropbox (MIT)/Draft Kings/2021/2020SeasonData/\")\n",
    "    offense2 = get_stripped_offense(from)\n",
    "    offense2 = offense2[:,[:Player_Name,:Actual_FP]]\n",
    "    temp = offense2\n",
    "    \n",
    "    for i=from+1:to-1\n",
    "        offense2 = get_stripped_offense(i)\n",
    "        offense2 = offense2[:,[:Player_Name,:Actual_FP]]\n",
    "\n",
    "   \n",
    "        temp = outerjoin(temp, offense2, on = :Player_Name, makeunique=true)\n",
    "        \n",
    "    end\n",
    "    #print(temp)\n",
    "    \n",
    "    #temp = Tables.matrix(temp[:,2:end])\n",
    "    #print(temp)\n",
    "    #print(temp)\n",
    "    #cd(\"/Users/kevin/Dropbox (MIT)/Draft Kings/2021/2020SeasonData/\")\n",
    "    # current_offense, QB_i, RB_i, WR_i, TE_i, FLEX_i, DST_i = clean_input_v2(to, v);\n",
    "    current_offense, QB_i, RB_i, WR_i, TE_i, FLEX_i, DST_i = clean_input(year, to, v, source);\n",
    "    current_offense.\"Player\" .= replace.(current_offense.\"Player\", r\"-\" => \"\")\n",
    "    current_offense.\"Player\" .= replace.(current_offense.\"Player\", r\"\\.\" => \"\")\n",
    "    current_offense.\"Player\" .= replace.(current_offense.\"Player\", r\"'\" => \"\")\n",
    "    transform!(current_offense, :Player => ByRow(lowercase) => :Player)\n",
    "    rename!(current_offense, Symbol(string(\"Player\")) => :Player_Name)\n",
    "   \n",
    "   #print(current_offense) \n",
    "    \n",
    "    var_array = []\n",
    "    \n",
    "    for i=1:length(current_offense[:,1])\n",
    "        points = []\n",
    "        #println(current_offense[i,1])\n",
    "        #println(Matrix(filter(row -> row.Player_Name == current_offense[i,1], temp)))\n",
    "        \n",
    "        #println(temp)\n",
    "        \n",
    "        if current_offense[i,1] in temp[:,1]\n",
    "            #println(current_offense[i,1])\n",
    "            points_df = filter(row -> row.Player_Name == current_offense[i,1], temp)\n",
    "            #println(points_df)\n",
    "            for j = 2:(to-from)+1\n",
    "                if ismissing(points_df[1,j]) == false\n",
    "                    if Float64.(points_df[1,j]) != 0\n",
    "                        append!(points, points_df[1,j])\n",
    "                    end\n",
    "                end\n",
    "            end\n",
    "            \n",
    "            #println(current_offense[i,1], points)\n",
    "        else            \n",
    "            points = 0\n",
    "        end\n",
    "        \n",
    "        if length(points) > 0\n",
    "            variance = var(points)\n",
    "        else\n",
    "            variance = 0\n",
    "        end\n",
    "        \n",
    "        if variance > 0\n",
    "            append!(var_array, variance)\n",
    "        else\n",
    "            append!(var_array, 0)\n",
    "        end\n",
    "            \n",
    "        #println(var_array)\n",
    "    end\n",
    "    \n",
    "    #println(var_array)\n",
    "\n",
    "    b = Float64.(var_array)\n",
    "    \n",
    "    scale = maximum(b) / max_score\n",
    "    \n",
    "    b = b ./ scale\n",
    "    \n",
    "    #print(b)\n",
    "    \n",
    "    return b\n",
    "end\n"
   ]
  },
  {
   "cell_type": "code",
   "execution_count": 7,
   "metadata": {},
   "outputs": [
    {
     "data": {
      "text/plain": [
       "\"/Users/tnonet/Documents/GitHub/OptBet/dfs-nfl\""
      ]
     },
     "execution_count": 7,
     "metadata": {},
     "output_type": "execute_result"
    }
   ],
   "source": [
    "# var_boost = get_variance(6,12,4, 33);\n",
    "pwd()"
   ]
  },
  {
   "cell_type": "code",
   "execution_count": 8,
   "metadata": {},
   "outputs": [
    {
     "data": {
      "text/plain": [
       "get_stripped_offense (generic function with 1 method)"
      ]
     },
     "execution_count": 8,
     "metadata": {},
     "output_type": "execute_result"
    }
   ],
   "source": [
    "function get_stripped_offense(week)\n",
    "    offense = CSV.read(string(\"Data/Actuals/2022-2023/Week \", week, \"/Offense.csv\"), copycols=true, DataFrame)\n",
    "    rename!(offense, Symbol(string(\"Proj FP\")) => :Projection)\n",
    "    #offense = offense[offense[:,:Projection].>=3.01,:]\n",
    "    \n",
    "    offense.\"Player Name\" .= replace.(offense.\"Player Name\", r\"-\" => \"\")\n",
    "    offense.\"Player Name\" .= replace.(offense.\"Player Name\", r\"\\.\" => \"\")\n",
    "    offense.\"Player Name\" .= replace.(offense.\"Player Name\", r\"'\" => \"\")\n",
    "    \n",
    "    rename!(offense, Symbol(string(\"Player Name\")) => :Player_Name)\n",
    "    rename!(offense, Symbol(string(\"Actual FP\")) => :Actual_FP)\n",
    "    transform!(offense, :Player_Name => ByRow(lowercase) => :Player_Name)\n",
    "\n",
    "    return offense\n",
    "end"
   ]
  },
  {
   "cell_type": "code",
   "execution_count": 9,
   "metadata": {},
   "outputs": [
    {
     "data": {
      "text/plain": [
       "get_correlation_matrix (generic function with 1 method)"
      ]
     },
     "execution_count": 9,
     "metadata": {},
     "output_type": "execute_result"
    }
   ],
   "source": [
    "function get_correlation_matrix(from, to, v, year, source)\n",
    "    #cd(\"/Users/kevin/Dropbox (MIT)/Draft Kings/2021/2020SeasonData/\")\n",
    "\n",
    "    for i=from:to-1\n",
    "        offense2 = get_stripped_offense(i)\n",
    "        offense2 = offense2[:,[:Player_Name,:Actual_FP]]\n",
    "\n",
    "\n",
    "        #print(i)\n",
    "        if i==from\n",
    "            temp = offense2\n",
    "        else\n",
    "            temp = outerjoin(temp, offense2, on = :Player_Name, makeunique=true)\n",
    "        end\n",
    "    end\n",
    "    #print(temp)\n",
    "    #cd(\"/Users/kevin/Dropbox (MIT)/Draft Kings/2021/2020SeasonData/\")\n",
    "    # current_offense, QB_i, RB_i, WR_i, TE_i, FLEX_i, DST_i = clean_input_v2(to, v);\n",
    "    current_offense, QB_i, RB_i, WR_i, TE_i, FLEX_i, DST_i = clean_input(year, to, v, source);\n",
    "    current_offense.\"Player\" .= replace.(current_offense.\"Player\", r\"-\" => \"\")\n",
    "    current_offense.\"Player\" .= replace.(current_offense.\"Player\", r\"\\.\" => \"\")\n",
    "    current_offense.\"Player\" .= replace.(current_offense.\"Player\", r\"'\" => \"\")\n",
    "    transform!(current_offense, :Player => ByRow(lowercase) => :Player)\n",
    "    rename!(current_offense, Symbol(string(\"Player\")) => :Player_Name)\n",
    "\n",
    "\n",
    "    current_offense = current_offense[:,[:Player_Name,:Team]]\n",
    "    #temp = temp[:,[:Player_Name,:Actual_FP]]\n",
    "\n",
    "    #print(temp)\n",
    "    #print(current_offense)\n",
    "    #print(temp)\n",
    "    #gold skeleton key\n",
    "    temp = leftjoin(current_offense, temp, on = :Player_Name, makeunique=true)\n",
    "\n",
    "\n",
    "    #temp = leftjoin(current_offense, temp, on = [:Player_Name])\n",
    "    #print(temp2)\n",
    "    #println(temp)\n",
    "    temp = temp[:,setdiff(names(temp), [:Team])]\n",
    "    temp_teams = current_offense\n",
    "\n",
    "    temp = Matrix(temp)\n",
    "    #print(temp)\n",
    "    temp = permutedims(temp)\n",
    "    #print(temp)\n",
    "\n",
    "\n",
    "    player_list = temp[1,:]\n",
    "    player_cor = temp[3:end,:]\n",
    "    temp_teams = temp_teams[:,[:Player_Name,:Team]]\n",
    "    #println(player_cor)\n",
    "\n",
    "\n",
    "\n",
    "    n = size(temp_teams)[1]\n",
    "    player_matrix = zeros(n,n)\n",
    "    #temp_teams\n",
    "    for i=1:n,j=1:n\n",
    "        \n",
    "        #if i in FLEX_i && j in FLEX_i && j in opp_team[i]\n",
    "         #   player_matrix[i,j] = (cOffense[j,:Projection]/(9*10))\n",
    "        if i in DST_i || j in DST_i\n",
    "            player_matrix[i,j] = 0\n",
    "        elseif i in QB_i && j in RB_i\n",
    "            player_matrix[i,j] = calc_cor(player_matrix, temp_teams, player_cor, i, j)\n",
    "            if player_matrix[i,j] < -0.2\n",
    "                player_matrix[i,j] = -100\n",
    "            else\n",
    "                player_matrix[i,j] = player_matrix[i,j] * 0.25\n",
    "            end\n",
    "        elseif j in QB_i && i in RB_i\n",
    "            player_matrix[i,j] = calc_cor(player_matrix, temp_teams, player_cor, i, j) \n",
    "            if player_matrix[i,j] < -0.2\n",
    "                player_matrix[i,j] = -100\n",
    "            else\n",
    "                player_matrix[i,j] = player_matrix[i,j] * 0.25\n",
    "            end\n",
    "        elseif i in QB_i || j in QB_i\n",
    "            player_matrix[i,j] = calc_cor(player_matrix, temp_teams, player_cor, i, j)\n",
    "        else\n",
    "            player_matrix[i,j] = calc_cor(player_matrix, temp_teams, player_cor, i, j)\n",
    "            if player_matrix[i,j] < -0.2\n",
    "                player_matrix[i,j] = -100\n",
    "            else\n",
    "                player_matrix[i,j] = player_matrix[i,j] * 0.25\n",
    "            end\n",
    "        end\n",
    "        if isnan(player_matrix[i,j])\n",
    "            player_matrix[i,j] = 0\n",
    "        end\n",
    "    end\n",
    "\n",
    "    for i=1:n\n",
    "        player_matrix[i,i] = 1\n",
    "    end\n",
    "    player_matrix[player_matrix.<-0.2] .= -100;\n",
    "    return player_matrix\n",
    "end"
   ]
  },
  {
   "cell_type": "code",
   "execution_count": 10,
   "metadata": {},
   "outputs": [
    {
     "data": {
      "text/plain": [
       "get_bring_back (generic function with 1 method)"
      ]
     },
     "execution_count": 10,
     "metadata": {},
     "output_type": "execute_result"
    }
   ],
   "source": [
    "function get_bring_back(week, QB_i, offense)\n",
    "    \n",
    "    bring_back = Vector{Vector{Int}}()\n",
    "\n",
    "    for i = 1:length(QB_i)\n",
    "        temp = Vector{Int}()\n",
    "        for j = 1:size(t)[1]\n",
    "            \n",
    "            if (offense[j, :Team] == offense[QB_i[i], :Opponent]) && (j in FLEX_i)\n",
    "                append!(temp, j)\n",
    "\n",
    "            end\n",
    "        end\n",
    "        push!(bring_back, temp)   \n",
    "    end\n",
    "    \n",
    "    return bring_back\n",
    "end"
   ]
  },
  {
   "cell_type": "code",
   "execution_count": 11,
   "metadata": {},
   "outputs": [
    {
     "data": {
      "text/plain": [
       "get_opposing_defense (generic function with 1 method)"
      ]
     },
     "execution_count": 11,
     "metadata": {},
     "output_type": "execute_result"
    }
   ],
   "source": [
    "function get_opposing_defense(week, QB_i, offense)\n",
    "    \n",
    "    opp_defense = Vector{Vector{Int}}()\n",
    "\n",
    "    for i = 1:length(QB_i)\n",
    "        temp = Vector{Int}()\n",
    "        for j = 1:size(t)[1]\n",
    "            \n",
    "            if (offense[QB_i[i], :Team] == offense[j, :Opponent]) && (j in DST_i)\n",
    "                append!(temp, j)\n",
    "\n",
    "            end\n",
    "        end\n",
    "        push!(opp_defense, temp)   \n",
    "    end\n",
    "    \n",
    "    return opp_defense\n",
    "end"
   ]
  },
  {
   "cell_type": "code",
   "execution_count": 12,
   "metadata": {},
   "outputs": [
    {
     "data": {
      "text/plain": [
       "get_opposing_team (generic function with 1 method)"
      ]
     },
     "execution_count": 12,
     "metadata": {},
     "output_type": "execute_result"
    }
   ],
   "source": [
    "function get_opposing_team(week, offense)\n",
    "    \n",
    "    opp_team = Vector{Vector{Int}}()\n",
    "\n",
    "    for i = 1:size(t)[1]\n",
    "        temp = Vector{Int}()\n",
    "        for j = 1:size(t)[1]\n",
    "            \n",
    "            if (offense[i, :Team] == offense[j, :Opponent]) && i in FLEX_i && j in FLEX_i\n",
    "                append!(temp, j)\n",
    "\n",
    "            end\n",
    "        end\n",
    "        push!(opp_team, temp)   \n",
    "    end\n",
    "    \n",
    "    return opp_team\n",
    "end"
   ]
  },
  {
   "cell_type": "code",
   "execution_count": 13,
   "metadata": {},
   "outputs": [
    {
     "data": {
      "text/plain": [
       "get_games (generic function with 1 method)"
      ]
     },
     "execution_count": 13,
     "metadata": {},
     "output_type": "execute_result"
    }
   ],
   "source": [
    "function get_games(df)\n",
    "    unq = unique(df[:,:Team])\n",
    "    num_games = length(unq)\n",
    "    game = Vector{Vector{Int}}()\n",
    "\n",
    "    for i = 1:num_games\n",
    "        temp = Vector{Int}()\n",
    "        for j = 1:size(t)[1]\n",
    "            \n",
    "            if j in FLEX_i || j in DST_i\n",
    "                if (df[j, :Team] == unq[i]) || (df[j, :Opponent] == unq[i]) \n",
    "                    append!(temp, j)\n",
    "\n",
    "                end\n",
    "            end\n",
    "        end\n",
    "        push!(game, temp)   \n",
    "    end\n",
    "    \n",
    "    return game, num_games\n",
    "    \n",
    "end"
   ]
  },
  {
   "cell_type": "code",
   "execution_count": 14,
   "metadata": {},
   "outputs": [
    {
     "data": {
      "text/plain": [
       "get_teams (generic function with 1 method)"
      ]
     },
     "execution_count": 14,
     "metadata": {},
     "output_type": "execute_result"
    }
   ],
   "source": [
    "function get_teams(df)\n",
    "    unq = unique(df[:,:Team])\n",
    "    num_teams = length(unq)\n",
    "    team = Vector{Vector{Int}}()\n",
    "\n",
    "    for i = 1:num_teams\n",
    "        temp = Vector{Int}()\n",
    "        for j = 1:size(t)[1]\n",
    "            \n",
    "            #if j in FLEX_i || j in DST_i\n",
    "                if (df[j, :Team] == unq[i]) \n",
    "                    append!(temp, j)\n",
    "\n",
    "                end\n",
    "           # end\n",
    "        end\n",
    "        push!(team, temp)   \n",
    "    end\n",
    "    \n",
    "    return team, num_teams\n",
    "    \n",
    "end"
   ]
  },
  {
   "cell_type": "code",
   "execution_count": 15,
   "metadata": {},
   "outputs": [
    {
     "data": {
      "text/plain": [
       "get_idx (generic function with 1 method)"
      ]
     },
     "execution_count": 15,
     "metadata": {},
     "output_type": "execute_result"
    }
   ],
   "source": [
    "function get_idx(t)\n",
    "    team_idx = Vector{Vector{Int}}()\n",
    "\n",
    "    for i=1:size(t)[1]\n",
    "\n",
    "        temp = Vector{Int}()\n",
    "\n",
    "        for j=1:size(t)[2]\n",
    "            if i<j\n",
    "                if t[i,j] != 0\n",
    "                    append!(temp, j)\n",
    "                end\n",
    "            end    \n",
    "        end\n",
    "\n",
    "        push!(team_idx, temp)   \n",
    "\n",
    "    end\n",
    "\n",
    "\n",
    "\n",
    "\n",
    "    #####################\n",
    "\n",
    "    team_idx_cross = Vector{Vector{Int}}()\n",
    "\n",
    "    for i=1:size(t)[1]\n",
    "\n",
    "        temp = Vector{Int}()\n",
    "\n",
    "        for j=1:size(t)[2]\n",
    "            #if i<=j\n",
    "                if t[i,j] > 0\n",
    "                    append!(temp, j)\n",
    "                end\n",
    "            #end    \n",
    "        end\n",
    "\n",
    "        push!(team_idx_cross, temp)   \n",
    "    end\n",
    "    \n",
    "    return team_idx, team_idx_cross\n",
    "end"
   ]
  },
  {
   "cell_type": "code",
   "execution_count": 16,
   "metadata": {},
   "outputs": [],
   "source": [
    "# function late_swap_ids(week, new_version, late_teams)\n",
    "#     df, QB_i, RB_i, WR_i, TE_i, FLEX_i, DST_i = clean_input_v2(week, new_version)\n",
    "\n",
    "#     ids = readdlm(string(\"/Users/kevin/Desktop/Draftkings/2022/Data/ETR/Week \", week, \"/dk_ids3.csv\"), ',', Int)\n",
    "    \n",
    "#     all_teams = []\n",
    "#     for i = 1:length(ids[:,1])\n",
    "#         team_i = []\n",
    "#         for j = 1:9            \n",
    "#             row = findall(x -> x == ids[i,j], df.\"DKSlateID\")\n",
    "#             if length(row) > 0\n",
    "#                 if (df[row[1], :Team] in late_teams) == false \n",
    "#                     team_i = push!(team_i, row[1])\n",
    "#                 end\n",
    "#             end\n",
    "#         end\n",
    "#         all_teams = push!(all_teams, team_i)\n",
    "#     end\n",
    "    \n",
    "#     return all_teams\n",
    "# end"
   ]
  },
  {
   "cell_type": "code",
   "execution_count": 18,
   "metadata": {},
   "outputs": [
    {
     "data": {
      "text/plain": [
       "8-element Vector{String}:\n",
       " \"GB\"\n",
       " \"MIN\"\n",
       " \"NYG\"\n",
       " \"TEN\"\n",
       " \"OAK\"\n",
       " \"LAC\"\n",
       " \"KC\"\n",
       " \"ARI\""
      ]
     },
     "execution_count": 18,
     "metadata": {},
     "output_type": "execute_result"
    }
   ],
   "source": [
    "late_teams = [\"GB\", \"MIN\", \"NYG\", \"TEN\", \"OAK\", \"LAC\", \"KC\", \"ARI\"]"
   ]
  },
  {
   "cell_type": "markdown",
   "metadata": {},
   "source": [
    "## required input cleanings"
   ]
  },
  {
   "cell_type": "code",
   "execution_count": 21,
   "metadata": {},
   "outputs": [],
   "source": [
    "year = \"2022-2023\"\n",
    "source = \"SaberSim\"\n",
    "week = 1\n",
    "version = 1\n",
    "max_score = 38\n",
    "variance_start_week = -3\n",
    "correlation_start_week = week -4\n",
    "\n",
    "cOffense, QB_i, RB_i, WR_i, TE_i, FLEX_i, DST_i = clean_input(year, week, version, source);\n",
    "\n",
    "#QB, RB, WR, TE, num_teams, num_offense, num_defense, offense, defense, offense_opp, offense_teams = clean_input(week);\n",
    "\n",
    "t = get_correlation_matrix(correlation_start_week, week, version, year, source)\n",
    "\n",
    "\n",
    "\n",
    "cNum_offense = length(cOffense[:,1])\n",
    "#cNum_teams = length(cDefense[:,1])\n",
    "num_QB = length(QB_i)\n",
    "num_RB = length(RB_i)\n",
    "num_WR = length(WR_i)\n",
    "num_TE = length(TE_i)\n",
    "num_DST = length(DST_i)\n",
    "num_FLEX = length(FLEX_i)\n",
    "\n",
    "\n",
    "var_boost = get_variance(variance_start_week, week, version, max_score, year, source);"
   ]
  },
  {
   "cell_type": "code",
   "execution_count": 22,
   "metadata": {},
   "outputs": [],
   "source": [
    "# get a player that's opposing your QB\n",
    "bring_back = get_bring_back(week, QB_i, cOffense);"
   ]
  },
  {
   "cell_type": "code",
   "execution_count": 23,
   "metadata": {},
   "outputs": [],
   "source": [
    "opp_team = get_opposing_team(week, cOffense);"
   ]
  },
  {
   "cell_type": "code",
   "execution_count": 24,
   "metadata": {},
   "outputs": [],
   "source": [
    "# get dataframe indexes of players on same team\n",
    "# cross is indexes of players on opposing team\n",
    "team_idx, team_idx_cross = get_idx(t);"
   ]
  },
  {
   "cell_type": "code",
   "execution_count": 25,
   "metadata": {},
   "outputs": [],
   "source": [
    "# getting games and teams that are playing for the selected slate\n",
    "game_stack, num_games = get_games(cOffense);\n",
    "team_stack, num_teams = get_teams(cOffense);"
   ]
  },
  {
   "cell_type": "markdown",
   "metadata": {},
   "source": [
    "## make optimization"
   ]
  },
  {
   "cell_type": "code",
   "execution_count": 32,
   "metadata": {},
   "outputs": [
    {
     "data": {
      "text/plain": [
       "makeTeamX (generic function with 1 method)"
      ]
     },
     "execution_count": 32,
     "metadata": {},
     "output_type": "execute_result"
    }
   ],
   "source": [
    "function makeTeamX(num, X, cOffense, cNum_offense, QB_i, RB_i, WR_i, TE_i, FLEX_i, num_QB, num_RB, num_WR, num_TE, num_FLEX, bring_back, team_idx, team_idx_cross, opp_team, game_stack, num_games, rand_vec, team_stack, num_teams, var_boost)#num is what team it is from 1-100, X is current teams\n",
    "    m1 = Model(Gurobi.Optimizer)\n",
    "    JuMP.set_optimizer_attribute(m1, \"Threads\", 1)\n",
    "    set_silent(m1)\n",
    "    #GLPK.Optimizer\n",
    "    M = 100\n",
    "    max_overlap = 5.1\n",
    "    max_same_player = 40\n",
    "    @variable(m1, x[1:cNum_offense], Bin) #pick players\n",
    "    #@variable(m1, def[1:cNum_teams], Bin) #pick players\n",
    "    #@variable(m1, PB[1:cNum_offense], Bin) #player boost\n",
    "    \n",
    "    \n",
    "    #@constraint(m1, [i=1:length(FLEX_i)], PB[FLEX_i[i]] <= sum(x[opp_team[i][j]] for j = 1:length(opp_team[i])))\n",
    "    \n",
    "    #@constraint(m1, [i=1:length(QB_i)], PB[QB_i[i]] == 0)\n",
    "    #@constraint(m1, [i=1:length(DST_i)], PB[DST_i[i]] == 0)\n",
    "\n",
    "    #@variable(m1, G[1:num_games], Bin)\n",
    "    #@constraint(m1,[i=1:num_games], 1.5 * G[i] <= sum(x[game_stack[i][j]] for j=1:length(game_stack[i])))\n",
    "    #@constraint(m1, sum(G[i] for i=1:num_games) >= 2)\n",
    "    #need to make num_games and game_stack, try using uniques to get it\n",
    "    \n",
    "    @variable(m1, u>=0) #pick players\n",
    "\n",
    "\n",
    "    @objective(m1, Max, u)\n",
    "\n",
    "    @constraint(m1, sum(x[i]*rand_vec[i] for i=1:cNum_offense) +  # cOffense[i, :Projection] for i=1:cNum_offense) + \n",
    "                    (sum(t[i,team_idx[i][j]]*x[i]*x[team_idx[i][j]] for i=1:cNum_offense for j=1:length(team_idx[i])) * 9) +\n",
    "                        (sum(x[i]*var_boost[i] for i=1:cNum_offense) *0.03) >= u)\n",
    "                    #sum(0.1 * x[i] * x[opp_def[i][j]] for i=1:cNum_offense for j=1:length(opp_def[i])) +\n",
    "                    #sum(0.1*PB[i]*cOffense[i, :Projection] for i=1:cNum_offense) +\n",
    "                    \n",
    "\n",
    "    @constraint(m1, sum(x[QB_i[i]] for i=1:num_QB) == 1)\n",
    "    @constraint(m1, sum(x[RB_i[i]] for i=1:num_RB) >= 2)\n",
    "    @constraint(m1, sum(x[WR_i[i]] for i=1:num_WR) >= 3)\n",
    "    @constraint(m1, sum(x[TE_i[i]] for i=1:num_TE) >= 1)\n",
    "    @constraint(m1, sum(x[DST_i[i]] for i=1:num_DST) == 1)\n",
    "    @constraint(m1, sum(x[FLEX_i[i]] for i=1:num_FLEX) == 7)\n",
    "    @constraint(m1, sum(x[i]*cOffense[i, :Salary] for i=1:cNum_offense) <= 50000)\n",
    "    @constraint(m1, sum(x[i] for i=1:cNum_offense) == 9)\n",
    "       \n",
    "    \n",
    "    # @constraint(m1,sum(x[i]*cOffense[i, :Ownership] for i=1:cNum_offense) <= 200)\n",
    "\n",
    "\n",
    "    \n",
    "    \n",
    "    #@constraint(m1, sum(t[i,team_idx[i][j]]*x[i]*x[team_idx[i][j]] for i=1:cNum_offense for j=1:length(team_idx[i])) >= 1.5)\n",
    "    \n",
    "    #bring back\n",
    "                    \n",
    "    @constraint(m1,[i=1:length(QB_i)], x[QB_i[i]] - sum(x[bring_back[i][j]] for j = 1:length(bring_back[i])) <= 0)\n",
    "                        \n",
    "    #team stack          \n",
    "    @constraint(m1,[i=1:num_teams], sum(x[team_stack[i][j]] for j=1:length(team_stack[i])) <= 4)\n",
    "\n",
    "\n",
    "    \n",
    "    #@constraint(m1, sum(def[i] for i=1:cNum_teams) == 1)\n",
    "\n",
    "\n",
    "    if num != 1\n",
    "        #for i=1:num\n",
    "        @constraint(m1,[i=1:num-1], sum(t[X[i][k],team_idx_cross[X[i][k]][j]] * x[team_idx_cross[X[i][k]][j]] for k = 1:9 for j=1:length(team_idx_cross[X[i][k]])) <= 6.9)\n",
    "        #end\n",
    "                        \n",
    "        #@constraint(m1,[i=1:num-1], sum(x[X[i][k]] for k = 1:8) <= max_overlap)\n",
    "    end \n",
    "                                        \n",
    "    optimize!(m1)\n",
    "    return(JuMP.value.(x))\n",
    "end"
   ]
  },
  {
   "cell_type": "code",
   "execution_count": 37,
   "metadata": {
    "scrolled": true
   },
   "outputs": [
    {
     "data": {
      "text/plain": [
       "makeAllTeams (generic function with 1 method)"
      ]
     },
     "execution_count": 37,
     "metadata": {},
     "output_type": "execute_result"
    }
   ],
   "source": [
    "function makeAllTeams(count, X, cOffense, cNum_offense, QB_i, RB_i, WR_i, TE_i, FLEX_i, num_QB, num_RB, num_WR, num_TE, num_FLEX, bring_back, team_idx, team_idx_cross, opp_team, game_stack, num_games, team_stack, num_teams, var_boost) #count is how many teams you want\n",
    "    \n",
    "    rand_vec = rand(cNum_offense,1)/25 .+1\n",
    "    temp = cOffense[:, :Projection]\n",
    "    rand_vec = rand_vec .* temp\n",
    "    x1 = makeTeamX(1, X, cOffense, cNum_offense, QB_i, RB_i, WR_i, TE_i, FLEX_i, num_QB, num_RB, num_WR, num_TE, num_FLEX, bring_back, team_idx, team_idx_cross, opp_team, game_stack, num_games, rand_vec, team_stack, num_teams, var_boost);\n",
    "\n",
    "    B = Vector{Int}()\n",
    "    for i=1:length(x1)\n",
    "        if x1[i] > 0.5\n",
    "            append!(B,i)\n",
    "        end\n",
    "    end\n",
    "    X = push!(X, B)\n",
    "    \n",
    "    for i = 2:count\n",
    "        rand_vec = rand(cNum_offense,1)/25 .+1\n",
    "        temp = cOffense[:, :Projection]\n",
    "        rand_vec = rand_vec .* temp\n",
    "        @time x1 = makeTeamX(i, X, cOffense, cNum_offense, QB_i, RB_i, WR_i, TE_i, FLEX_i, num_QB, num_RB, num_WR, num_TE, num_FLEX, bring_back, team_idx, team_idx_cross, opp_team, game_stack, num_games, rand_vec, team_stack, num_teams, var_boost);\n",
    "        B = Vector{Int}()\n",
    "        for i=1:length(x1)\n",
    "            if x1[i] > 0.5\n",
    "                append!(B,i)\n",
    "            end\n",
    "        end\n",
    "        \n",
    "        X = push!(X, B)\n",
    "        #print(X)\n",
    "        #D = hcat(D, d1)\n",
    "        \n",
    "        println(i)\n",
    "\n",
    "    end\n",
    "\n",
    "    return(X)\n",
    "end"
   ]
  },
  {
   "cell_type": "code",
   "execution_count": 38,
   "metadata": {},
   "outputs": [
    {
     "name": "stdout",
     "output_type": "stream",
     "text": [
      "Academic license - for non-commercial use only\n",
      "Academic license - for non-commercial use only\n",
      "  2.807679 seconds (284.95 k allocations: 16.231 MiB, 4.00% compilation time)\n",
      "2\n",
      "Academic license - for non-commercial use only\n",
      "  1.228803 seconds (16.32 k allocations: 1.287 MiB)\n",
      "3\n",
      "Academic license - for non-commercial use only\n",
      "  3.186340 seconds (19.90 k allocations: 1.400 MiB)\n",
      "4\n",
      "Academic license - for non-commercial use only\n",
      "  5.146473 seconds (20.51 k allocations: 1.421 MiB)\n",
      "5\n",
      "Academic license - for non-commercial use only\n",
      "  6.625901 seconds (21.02 k allocations: 1.439 MiB)\n",
      "6\n",
      "Academic license - for non-commercial use only\n",
      "  6.088598 seconds (21.27 k allocations: 1.449 MiB)\n",
      "7\n",
      "Academic license - for non-commercial use only\n",
      "  5.753606 seconds (21.57 k allocations: 1.461 MiB)\n",
      "8\n",
      "Academic license - for non-commercial use only\n",
      "  9.492890 seconds (23.84 k allocations: 1.533 MiB)\n",
      "9\n",
      "Academic license - for non-commercial use only\n",
      " 14.605843 seconds (27.28 k allocations: 1.642 MiB)\n",
      "10\n",
      "Academic license - for non-commercial use only\n",
      "  4.779374 seconds (20.59 k allocations: 1.441 MiB)\n",
      "11\n",
      "Academic license - for non-commercial use only\n",
      "  9.879201 seconds (23.91 k allocations: 1.545 MiB)\n",
      "12\n",
      "Academic license - for non-commercial use only\n",
      "  7.532143 seconds (21.97 k allocations: 1.488 MiB)\n",
      "13\n",
      "Academic license - for non-commercial use only\n",
      "  5.208435 seconds (21.24 k allocations: 1.469 MiB)\n",
      "14\n",
      "Academic license - for non-commercial use only\n",
      " 11.685428 seconds (25.45 k allocations: 1.600 MiB)\n",
      "15\n",
      "Academic license - for non-commercial use only\n",
      " 14.249538 seconds (26.13 k allocations: 1.624 MiB)\n",
      "16\n",
      "Academic license - for non-commercial use only\n",
      "  5.587654 seconds (22.22 k allocations: 1.507 MiB)\n",
      "17\n",
      "Academic license - for non-commercial use only\n",
      "  6.642920 seconds (23.17 k allocations: 1.540 MiB)\n",
      "18\n",
      "Academic license - for non-commercial use only\n",
      " 11.461560 seconds (26.44 k allocations: 1.642 MiB)\n",
      "19\n",
      "Academic license - for non-commercial use only\n",
      " 10.369388 seconds (26.16 k allocations: 1.637 MiB)\n",
      "20\n",
      "Academic license - for non-commercial use only\n",
      " 16.042810 seconds (29.53 k allocations: 1.743 MiB)\n",
      "21\n",
      "Academic license - for non-commercial use only\n",
      " 16.815452 seconds (29.81 k allocations: 1.755 MiB)\n",
      "22\n",
      "Academic license - for non-commercial use only\n",
      " 21.395979 seconds (33.27 k allocations: 1.864 MiB)\n",
      "23\n",
      "Academic license - for non-commercial use only\n",
      "  5.570558 seconds (23.95 k allocations: 1.583 MiB)\n",
      "24\n",
      "Academic license - for non-commercial use only\n",
      "  9.376649 seconds (24.64 k allocations: 1.607 MiB)\n",
      "25\n",
      "Academic license - for non-commercial use only\n",
      " 29.695298 seconds (38.69 k allocations: 2.039 MiB)\n",
      "26\n",
      "Academic license - for non-commercial use only\n",
      " 31.486280 seconds (37.35 k allocations: 2.002 MiB)\n",
      "27\n",
      "Academic license - for non-commercial use only\n",
      " 11.523593 seconds (26.11 k allocations: 1.662 MiB)\n",
      "28\n",
      "Academic license - for non-commercial use only\n",
      " 22.870625 seconds (34.02 k allocations: 1.906 MiB)\n",
      "29\n",
      "Academic license - for non-commercial use only\n",
      " 21.237369 seconds (33.81 k allocations: 1.903 MiB)\n",
      "30\n",
      "Academic license - for non-commercial use only\n",
      " 15.273705 seconds (30.02 k allocations: 1.790 MiB)\n",
      "31\n",
      "Academic license - for non-commercial use only\n",
      "  7.565461 seconds (24.57 k allocations: 1.626 MiB)\n",
      "32\n",
      "Academic license - for non-commercial use only\n",
      " 24.697833 seconds (36.34 k allocations: 1.988 MiB)\n",
      "33\n",
      "Academic license - for non-commercial use only\n",
      " 18.944934 seconds (35.78 k allocations: 1.977 MiB)\n",
      "34\n",
      "Academic license - for non-commercial use only\n",
      "  8.985836 seconds (26.45 k allocations: 1.695 MiB)\n",
      "35\n",
      "Academic license - for non-commercial use only\n",
      "  8.772886 seconds (27.29 k allocations: 1.724 MiB)\n",
      "36\n",
      "Academic license - for non-commercial use only\n",
      " 15.270862 seconds (32.04 k allocations: 1.872 MiB)\n",
      "37\n",
      "Academic license - for non-commercial use only\n",
      " 20.866338 seconds (33.43 k allocations: 1.918 MiB)\n",
      "38\n",
      "Academic license - for non-commercial use only\n",
      "  8.843579 seconds (28.21 k allocations: 1.761 MiB)\n",
      "39\n",
      "Academic license - for non-commercial use only\n",
      "  9.861141 seconds (30.63 k allocations: 1.838 MiB)\n",
      "40\n",
      "Academic license - for non-commercial use only\n",
      " 31.326180 seconds (41.03 k allocations: 2.159 MiB)\n",
      "41\n",
      "Academic license - for non-commercial use only\n",
      " 15.587925 seconds (33.28 k allocations: 1.925 MiB)\n",
      "42\n",
      "Academic license - for non-commercial use only\n",
      "  9.273775 seconds (28.95 k allocations: 1.796 MiB)\n",
      "43\n",
      "Academic license - for non-commercial use only\n",
      " 21.076554 seconds (36.63 k allocations: 2.034 MiB)\n",
      "44\n",
      "Academic license - for non-commercial use only\n",
      " 19.254524 seconds (35.47 k allocations: 2.002 MiB)\n",
      "45\n",
      "Academic license - for non-commercial use only\n",
      " 24.800290 seconds (37.25 k allocations: 2.060 MiB)\n",
      "46\n",
      "Academic license - for non-commercial use only\n",
      " 16.939757 seconds (33.93 k allocations: 1.962 MiB)\n",
      "47\n",
      "Academic license - for non-commercial use only\n",
      " 11.394096 seconds (31.48 k allocations: 1.890 MiB)\n",
      "48\n",
      "Academic license - for non-commercial use only\n",
      " 17.273707 seconds (34.37 k allocations: 1.980 MiB)\n",
      "49\n",
      "Academic license - for non-commercial use only\n",
      "  8.807805 seconds (29.14 k allocations: 1.824 MiB)\n",
      "50\n",
      "Academic license - for non-commercial use only\n",
      " 24.535756 seconds (37.51 k allocations: 2.083 MiB)\n",
      "51\n",
      "Academic license - for non-commercial use only\n",
      " 21.839575 seconds (37.59 k allocations: 2.088 MiB)\n",
      "52\n",
      "Academic license - for non-commercial use only\n",
      " 21.378278 seconds (39.34 k allocations: 2.145 MiB)\n",
      "53\n",
      "Academic license - for non-commercial use only\n",
      " 29.277817 seconds (42.53 k allocations: 2.246 MiB)\n",
      "54\n",
      "Academic license - for non-commercial use only\n",
      " 19.911226 seconds (39.35 k allocations: 2.152 MiB)\n",
      "55\n",
      "Academic license - for non-commercial use only\n",
      " 26.908029 seconds (41.55 k allocations: 2.222 MiB)\n",
      "56\n",
      "Academic license - for non-commercial use only\n",
      " 14.713193 seconds (34.42 k allocations: 2.007 MiB)\n",
      "57\n",
      "Academic license - for non-commercial use only\n",
      " 25.794668 seconds (42.18 k allocations: 2.248 MiB)\n",
      "58\n",
      "Academic license - for non-commercial use only\n",
      " 28.798127 seconds (45.35 k allocations: 2.348 MiB)\n",
      "59\n",
      "Academic license - for non-commercial use only\n",
      " 16.738685 seconds (37.03 k allocations: 2.097 MiB)\n",
      "60\n",
      "Academic license - for non-commercial use only\n",
      " 25.306025 seconds (39.52 k allocations: 2.176 MiB)\n",
      "61\n",
      "Academic license - for non-commercial use only\n",
      "  7.878239 seconds (31.17 k allocations: 1.925 MiB)\n",
      "62\n",
      "Academic license - for non-commercial use only\n",
      " 17.464981 seconds (36.86 k allocations: 2.101 MiB)\n",
      "63\n",
      "Academic license - for non-commercial use only\n",
      " 24.167830 seconds (42.18 k allocations: 2.266 MiB)\n",
      "64\n",
      "Academic license - for non-commercial use only\n",
      "  7.779484 seconds (29.58 k allocations: 1.885 MiB, 0.75% gc time)\n",
      "65\n",
      "Academic license - for non-commercial use only\n",
      " 16.314834 seconds (36.35 k allocations: 2.095 MiB)\n",
      "66\n",
      "Academic license - for non-commercial use only\n",
      " 25.669836 seconds (43.74 k allocations: 2.323 MiB)\n",
      "67\n",
      "Academic license - for non-commercial use only\n",
      " 23.940732 seconds (43.31 k allocations: 2.313 MiB)\n",
      "68\n",
      "Academic license - for non-commercial use only\n",
      " 20.628931 seconds (42.45 k allocations: 2.291 MiB)\n",
      "69\n",
      "Academic license - for non-commercial use only\n",
      "  9.110916 seconds (34.06 k allocations: 2.038 MiB)\n",
      "70\n",
      "Academic license - for non-commercial use only\n",
      " 11.963180 seconds (36.27 k allocations: 2.109 MiB)\n",
      "71\n",
      "Academic license - for non-commercial use only\n",
      " 10.281137 seconds (35.41 k allocations: 2.085 MiB)\n",
      "72\n",
      "Academic license - for non-commercial use only\n",
      " 20.848866 seconds (41.61 k allocations: 2.278 MiB)\n",
      "73\n",
      "Academic license - for non-commercial use only\n",
      "  8.884429 seconds (34.01 k allocations: 2.049 MiB)\n",
      "74\n",
      "Academic license - for non-commercial use only\n",
      " 33.969011 seconds (49.05 k allocations: 2.511 MiB)\n",
      "75\n",
      "Academic license - for non-commercial use only\n",
      " 14.683412 seconds (37.36 k allocations: 2.158 MiB)\n",
      "76\n",
      "Academic license - for non-commercial use only\n",
      "  9.951370 seconds (36.67 k allocations: 2.140 MiB)\n",
      "77\n",
      "Academic license - for non-commercial use only\n",
      " 18.404412 seconds (39.73 k allocations: 2.238 MiB)\n",
      "78\n",
      "Academic license - for non-commercial use only\n",
      " 16.699845 seconds (40.02 k allocations: 2.250 MiB)\n",
      "79\n",
      "Academic license - for non-commercial use only\n",
      " 25.245409 seconds (46.48 k allocations: 2.450 MiB)\n",
      "80\n",
      "Academic license - for non-commercial use only\n",
      " 28.353310 seconds (49.10 k allocations: 2.533 MiB)\n",
      "81\n",
      "Academic license - for non-commercial use only\n",
      " 20.120498 seconds (42.30 k allocations: 2.328 MiB)\n",
      "82\n",
      "Academic license - for non-commercial use only\n",
      " 13.763211 seconds (38.24 k allocations: 2.207 MiB)\n",
      "83\n",
      "Academic license - for non-commercial use only\n",
      " 20.134243 seconds (40.93 k allocations: 2.292 MiB)\n",
      "84\n",
      "Academic license - for non-commercial use only\n",
      "  7.129353 seconds (32.89 k allocations: 2.050 MiB)\n",
      "85\n",
      "Academic license - for non-commercial use only\n",
      " 24.142159 seconds (44.69 k allocations: 2.413 MiB)\n",
      "86\n",
      "Academic license - for non-commercial use only\n",
      " 12.287039 seconds (36.39 k allocations: 2.163 MiB)\n",
      "87\n",
      "Academic license - for non-commercial use only\n",
      " 40.070942 seconds (51.40 k allocations: 2.624 MiB)\n",
      "88\n",
      "Academic license - for non-commercial use only\n",
      " 16.460687 seconds (41.57 k allocations: 2.328 MiB)\n",
      "89\n",
      "Academic license - for non-commercial use only\n",
      " 18.526054 seconds (40.96 k allocations: 2.312 MiB)\n",
      "90\n",
      "Academic license - for non-commercial use only\n",
      " 16.579228 seconds (44.61 k allocations: 2.427 MiB)\n",
      "91\n",
      "Academic license - for non-commercial use only\n",
      " 40.467746 seconds (56.40 k allocations: 2.789 MiB)\n",
      "92\n",
      "Academic license - for non-commercial use only\n",
      " 12.338677 seconds (37.71 k allocations: 2.222 MiB)\n",
      "93\n",
      "Academic license - for non-commercial use only\n",
      "  9.633616 seconds (38.22 k allocations: 2.241 MiB)\n",
      "94\n",
      "Academic license - for non-commercial use only\n",
      " 17.018131 seconds (39.81 k allocations: 2.292 MiB)\n",
      "95\n",
      "Academic license - for non-commercial use only\n",
      " 11.788492 seconds (39.56 k allocations: 2.288 MiB)\n",
      "96\n",
      "Academic license - for non-commercial use only\n",
      " 18.037736 seconds (43.94 k allocations: 2.425 MiB)\n",
      "97\n",
      "Academic license - for non-commercial use only\n",
      " 10.321705 seconds (41.73 k allocations: 2.361 MiB)\n",
      "98\n",
      "Academic license - for non-commercial use only\n",
      " 25.461196 seconds (48.23 k allocations: 2.563 MiB)\n",
      "99\n",
      "Academic license - for non-commercial use only\n",
      " 17.748862 seconds (42.30 k allocations: 2.386 MiB)\n",
      "100\n",
      "Academic license - for non-commercial use only\n",
      "  9.007310 seconds (36.88 k allocations: 2.223 MiB)\n",
      "101\n",
      "Academic license - for non-commercial use only\n",
      " 24.950187 seconds (49.47 k allocations: 2.611 MiB)\n",
      "102\n",
      "Academic license - for non-commercial use only\n",
      "  9.933941 seconds (39.05 k allocations: 2.296 MiB)\n",
      "103\n",
      "Academic license - for non-commercial use only\n",
      " 19.483477 seconds (45.30 k allocations: 2.490 MiB)\n",
      "104\n",
      "Academic license - for non-commercial use only\n",
      " 14.585162 seconds (43.22 k allocations: 2.429 MiB)\n",
      "105\n",
      "Academic license - for non-commercial use only\n",
      " 17.320314 seconds (40.94 k allocations: 2.363 MiB)\n",
      "106\n",
      "Academic license - for non-commercial use only\n",
      " 24.523672 seconds (46.17 k allocations: 2.526 MiB)\n",
      "107\n",
      "Academic license - for non-commercial use only\n",
      " 10.224801 seconds (40.67 k allocations: 2.361 MiB)\n",
      "108\n",
      "Academic license - for non-commercial use only\n",
      " 15.602516 seconds (39.19 k allocations: 2.319 MiB)\n",
      "109\n",
      "Academic license - for non-commercial use only\n",
      " 24.308165 seconds (48.83 k allocations: 2.616 MiB)\n",
      "110\n",
      "Academic license - for non-commercial use only\n",
      " 36.464376 seconds (56.58 k allocations: 2.856 MiB)\n",
      "111\n",
      "Academic license - for non-commercial use only\n",
      " 16.456105 seconds (44.68 k allocations: 2.513 MiB)\n",
      "112\n",
      "Academic license - for non-commercial use only\n",
      " 20.861633 seconds (47.29 k allocations: 2.596 MiB)\n",
      "113\n",
      "Academic license - for non-commercial use only\n",
      " 27.964713 seconds (51.87 k allocations: 2.740 MiB)\n",
      "114\n",
      "Academic license - for non-commercial use only\n",
      " 29.922044 seconds (52.89 k allocations: 2.773 MiB)\n",
      "115\n",
      "Academic license - for non-commercial use only\n",
      " 22.451959 seconds (49.80 k allocations: 2.682 MiB)\n",
      "116\n",
      "Academic license - for non-commercial use only\n",
      " 38.530065 seconds (56.19 k allocations: 2.880 MiB)\n",
      "117\n",
      "Academic license - for non-commercial use only\n",
      " 14.192085 seconds (44.07 k allocations: 2.514 MiB)\n",
      "118\n",
      "Academic license - for non-commercial use only\n",
      " 10.836104 seconds (42.34 k allocations: 2.485 MiB)\n",
      "119\n",
      "Academic license - for non-commercial use only\n",
      " 19.281269 seconds (50.61 k allocations: 2.741 MiB)\n",
      "120\n",
      "Academic license - for non-commercial use only\n",
      " 23.896118 seconds (50.70 k allocations: 2.746 MiB)\n",
      "121\n",
      "Academic license - for non-commercial use only\n",
      " 31.735611 seconds (52.54 k allocations: 2.805 MiB)\n",
      "122\n",
      "Academic license - for non-commercial use only\n",
      " 16.747110 seconds (45.53 k allocations: 2.606 MiB, 0.21% gc time)\n",
      "123\n",
      "Academic license - for non-commercial use only\n",
      " 11.973694 seconds (41.59 k allocations: 2.489 MiB)\n",
      "124\n",
      "Academic license - for non-commercial use only\n",
      " 13.797193 seconds (45.22 k allocations: 2.602 MiB)\n",
      "125\n",
      "Academic license - for non-commercial use only\n",
      " 19.824057 seconds (47.36 k allocations: 2.671 MiB)\n",
      "126\n",
      "Academic license - for non-commercial use only\n",
      " 15.317028 seconds (48.78 k allocations: 2.717 MiB)\n",
      "127\n",
      "Academic license - for non-commercial use only\n",
      " 24.090758 seconds (54.70 k allocations: 2.902 MiB)\n",
      "128\n",
      "Academic license - for non-commercial use only\n",
      " 13.604493 seconds (42.63 k allocations: 2.537 MiB)\n",
      "129\n",
      "Academic license - for non-commercial use only\n",
      " 12.187849 seconds (42.34 k allocations: 2.531 MiB)\n",
      "130\n",
      "Academic license - for non-commercial use only\n",
      " 19.608932 seconds (47.41 k allocations: 2.689 MiB)\n",
      "131\n",
      "Academic license - for non-commercial use only\n",
      " 18.247273 seconds (49.93 k allocations: 2.769 MiB)\n",
      "132\n",
      "Academic license - for non-commercial use only\n",
      " 16.241107 seconds (52.67 k allocations: 2.856 MiB)\n",
      "133\n",
      "Academic license - for non-commercial use only\n",
      " 14.092711 seconds (43.90 k allocations: 2.592 MiB)\n",
      "134\n",
      "Academic license - for non-commercial use only\n",
      " 16.840355 seconds (45.43 k allocations: 2.642 MiB)\n",
      "135\n",
      "Academic license - for non-commercial use only\n",
      " 24.514677 seconds (55.01 k allocations: 2.938 MiB)\n",
      "136\n",
      "Academic license - for non-commercial use only\n",
      " 37.127912 seconds (61.37 k allocations: 3.135 MiB)\n",
      "137\n",
      "Academic license - for non-commercial use only\n",
      " 26.391449 seconds (57.76 k allocations: 3.028 MiB)\n",
      "138\n",
      "Academic license - for non-commercial use only\n",
      " 28.105017 seconds (55.25 k allocations: 2.955 MiB)\n",
      "139\n",
      "Academic license - for non-commercial use only\n",
      " 26.837204 seconds (49.16 k allocations: 2.772 MiB)\n",
      "140\n",
      "Academic license - for non-commercial use only\n",
      " 33.453670 seconds (52.88 k allocations: 2.889 MiB)\n",
      "141\n",
      "Academic license - for non-commercial use only\n",
      " 30.997793 seconds (57.43 k allocations: 3.031 MiB)\n",
      "142\n",
      "Academic license - for non-commercial use only\n",
      " 25.849860 seconds (53.20 k allocations: 2.905 MiB)\n",
      "143\n",
      "Academic license - for non-commercial use only\n",
      " 17.521287 seconds (48.87 k allocations: 2.775 MiB)\n",
      "144\n",
      "Academic license - for non-commercial use only\n",
      " 26.170972 seconds (53.51 k allocations: 2.920 MiB)\n",
      "145\n",
      "Academic license - for non-commercial use only\n",
      " 33.677479 seconds (58.72 k allocations: 3.083 MiB)\n",
      "146\n",
      "Academic license - for non-commercial use only\n",
      " 20.118676 seconds (47.19 k allocations: 2.735 MiB)\n",
      "147\n",
      "Academic license - for non-commercial use only\n",
      " 20.097530 seconds (54.92 k allocations: 2.974 MiB)\n",
      "148\n",
      "Academic license - for non-commercial use only\n",
      " 19.840160 seconds (54.43 k allocations: 2.963 MiB)\n",
      "149\n",
      "Academic license - for non-commercial use only\n",
      " 53.888828 seconds (69.67 k allocations: 3.431 MiB)\n",
      "150\n",
      "2709.624887 seconds (11.82 M allocations: 645.464 MiB, 0.01% gc time, 0.25% compilation time: 0% of which was recompilation)\n"
     ]
    }
   ],
   "source": [
    "X = Vector{Vector{Int}}()\n",
    "\n",
    "@time all_teams = makeAllTeams(150, X, cOffense, cNum_offense, QB_i, RB_i, WR_i, TE_i, FLEX_i, num_QB, num_RB, num_WR, num_TE, num_FLEX, bring_back, team_idx, team_idx_cross, opp_team, game_stack, num_games, team_stack, num_teams, var_boost);"
   ]
  },
  {
   "cell_type": "code",
   "execution_count": 35,
   "metadata": {},
   "outputs": [
    {
     "ename": "LoadError",
     "evalue": "UndefVarError: all_teams not defined",
     "output_type": "error",
     "traceback": [
      "UndefVarError: all_teams not defined",
      "",
      "Stacktrace:",
      " [1] top-level scope",
      "   @ ./In[35]:18",
      " [2] eval",
      "   @ ./boot.jl:368 [inlined]",
      " [3] include_string(mapexpr::typeof(REPL.softscope), mod::Module, code::String, filename::String)",
      "   @ Base ./loading.jl:1428"
     ]
    }
   ],
   "source": [
    "num_teams_making = 150\n",
    "\n",
    "\n",
    "offense = cOffense\n",
    "lineup2 = \"\"\n",
    "#outfile = open(path_to_output, \"w\")\n",
    "print_team = []\n",
    "\n",
    "\n",
    "\n",
    "    for i = 1:num_teams_making\n",
    "        lineup = [\"\" \"\" \"\" \"\" \"\" \"\" \"\" \"\" \"\"]\n",
    "        skip = []\n",
    "\n",
    "\n",
    "        for j =1:9\n",
    "        \n",
    "            if string(offense[all_teams[i][j],2]) in late_teams\n",
    "                skip = push!(skip, all_teams[i][j])\n",
    "            else\n",
    "                    if all_teams[i][j] in QB_i\n",
    "                        if lineup[1]==\"\"\n",
    "                            lineup[1] = string(offense[all_teams[i][j],1])\n",
    "                        end\n",
    "                    elseif all_teams[i][j] in RB_i\n",
    "                        if lineup[2] == \"\"\n",
    "                            lineup[2] = string(offense[all_teams[i][j],1])\n",
    "                        elseif lineup[3] == \"\"\n",
    "                            lineup[3] = string(offense[all_teams[i][j],1])\n",
    "                        elseif lineup[8] == \"\"\n",
    "                            lineup[8] = string(offense[all_teams[i][j],1])\n",
    "                        end\n",
    "                    elseif all_teams[i][j] in WR_i\n",
    "                        if lineup[4] == \"\"\n",
    "                            lineup[4] = string(offense[all_teams[i][j],1])\n",
    "                        elseif lineup[5] ==\"\"\n",
    "                            lineup[5] = string(offense[all_teams[i][j],1])\n",
    "                        elseif lineup[6] == \"\"\n",
    "                            lineup[6] = string(offense[all_teams[i][j],1])\n",
    "                        elseif lineup[8] == \"\"\n",
    "                            lineup[8] = string(offense[all_teams[i][j],1])\n",
    "                        end\n",
    "                    elseif all_teams[i][j] in TE_i\n",
    "                        if lineup[7] == \"\"\n",
    "                            lineup[7] = string(offense[all_teams[i][j],1])\n",
    "                        elseif lineup[8] == \"\"\n",
    "                            lineup[8] = string(offense[all_teams[i][j],1])\n",
    "                        end\n",
    "                    elseif all_teams[i][j] in DST_i\n",
    "                        if lineup[9] == \"\"\n",
    "                            lineup[9] = string(offense[all_teams[i][j],1])\n",
    "                        end\n",
    "                    end\n",
    "                #end\n",
    "\n",
    "            end\n",
    "      end\n",
    "    #println(skip)\n",
    "        for k in skip\n",
    "                    if k in QB_i\n",
    "                        if lineup[1]==\"\"\n",
    "                            lineup[1] = string(offense[k,1])\n",
    "                        end\n",
    "                    elseif k in RB_i\n",
    "                        if lineup[2] == \"\"\n",
    "                            lineup[2] = string(offense[k,1])\n",
    "                        elseif lineup[3] == \"\"\n",
    "                            lineup[3] = string(offense[k,1])\n",
    "                        elseif lineup[8] == \"\"\n",
    "                            lineup[8] = string(offense[k,1])\n",
    "                        end\n",
    "                    elseif k in WR_i\n",
    "                        if lineup[4] == \"\"\n",
    "                            lineup[4] = string(offense[k,1])\n",
    "                        elseif lineup[5] ==\"\"\n",
    "                            lineup[5] = string(offense[k,1])\n",
    "                        elseif lineup[6] == \"\"\n",
    "                            lineup[6] = string(offense[k,1])\n",
    "                        elseif lineup[8] == \"\"\n",
    "                            lineup[8] = string(offense[k,1])\n",
    "                        end\n",
    "                    elseif k in TE_i\n",
    "                        if lineup[7] == \"\"\n",
    "                            lineup[7] = string(offense[k,1])\n",
    "                        elseif lineup[8] == \"\"\n",
    "                            lineup[8] = string(offense[k,1])\n",
    "                        end\n",
    "                    elseif k in DST_i\n",
    "                        if lineup[9] == \"\"\n",
    "                            lineup[9] = string(offense[k,1])\n",
    "                        end\n",
    "                    end\n",
    "                #end\n",
    "\n",
    "        end\n",
    "\n",
    "       print_team = push!(print_team, lineup)\n",
    "    end\n",
    "   #close(outfile)\n",
    "#end"
   ]
  },
  {
   "cell_type": "code",
   "execution_count": 36,
   "metadata": {},
   "outputs": [],
   "source": [
    "writedlm(\"teams_2022_2023_Sep6_2022.csv\",  print_team, ',')"
   ]
  },
  {
   "cell_type": "code",
   "execution_count": 28,
   "metadata": {},
   "outputs": [
    {
     "data": {
      "text/plain": [
       "150-element Vector{Any}:\n",
       " [\"Carson Wentz\" \"Christian McCaffrey\" … \"Travis Etienne Jr.\" \"Titans\"]\n",
       " [\"Patrick Mahomes\" \"Christian McCaffrey\" … \"Dallas Goedert\" \"Dolphins\"]\n",
       " [\"Mitch Trubisky\" \"Christian McCaffrey\" … \"George Pickens\" \"Lions\"]\n",
       " [\"Lamar Jackson\" \"Christian McCaffrey\" … \"Dallas Goedert\" \"Bears\"]\n",
       " [\"Jared Goff\" \"Christian McCaffrey\" … \"T.J. Hockenson\" \"Lions\"]\n",
       " [\"Joe Burrow\" \"Najee Harris\" … \"Dallas Goedert\" \"Commanders\"]\n",
       " [\"Zach Wilson\" \"Christian McCaffrey\" … \"Garrett Wilson\" \"Bears\"]\n",
       " [\"Aaron Rodgers\" \"Christian McCaffrey\" … \"Aaron Jones\" \"Commanders\"]\n",
       " [\"Jalen Hurts\" \"Najee Harris\" … \"Kenneth Gainwell\" \"Lions\"]\n",
       " [\"Baker Mayfield\" \"Christian McCaffrey\" … \"Miles Sanders\" \"Commanders\"]\n",
       " [\"Jalen Hurts\" \"Christian McCaffrey\" … \"Antonio Gibson\" \"Dolphins\"]\n",
       " [\"Baker Mayfield\" \"Christian McCaffrey\" … \"David Njoku\" \"Dolphins\"]\n",
       " [\"Jalen Hurts\" \"Christian McCaffrey\" … \"D'Andre Swift\" \"Commanders\"]\n",
       " ⋮\n",
       " [\"Lamar Jackson\" \"Aaron Jones\" … \"Breece Hall\" \"Titans\"]\n",
       " [\"Trevor Lawrence\" \"Christian McCaffrey\" … \"Dallas Goedert\" \"Commanders\"]\n",
       " [\"Daniel Jones\" \"Christian McCaffrey\" … \"Dallas Goedert\" \"Bears\"]\n",
       " [\"Joe Burrow\" \"Christian McCaffrey\" … \"AJ Dillon\" \"Giants\"]\n",
       " [\"Jalen Hurts\" \"Aaron Jones\" … \"Breece Hall\" \"Jets\"]\n",
       " [\"Jalen Hurts\" \"Najee Harris\" … \"Irv Smith Jr.\" \"Commanders\"]\n",
       " [\"Jalen Hurts\" \"Christian McCaffrey\" … \"Dallas Goedert\" \"Lions\"]\n",
       " [\"Jalen Hurts\" \"Christian McCaffrey\" … \"Hunter Henry\" \"Bears\"]\n",
       " [\"Davis Mills\" \"Christian McCaffrey\" … \"Dallas Goedert\" \"Dolphins\"]\n",
       " [\"Jalen Hurts\" \"Joe Mixon\" … \"D'Andre Swift\" \"Dolphins\"]\n",
       " [\"Jalen Hurts\" \"Christian McCaffrey\" … \"D'Andre Swift\" \"Lions\"]\n",
       " [\"Zach Wilson\" \"Christian McCaffrey\" … \"Dallas Goedert\" \"Commanders\"]"
      ]
     },
     "execution_count": 28,
     "metadata": {},
     "output_type": "execute_result"
    }
   ],
   "source": [
    "print_team"
   ]
  },
  {
   "cell_type": "code",
   "execution_count": 29,
   "metadata": {},
   "outputs": [
    {
     "data": {
      "text/plain": [
       "1×9 Matrix{String}:\n",
       " \"Carson Wentz\"  \"Christian McCaffrey\"  …  \"Travis Etienne Jr.\"  \"Titans\""
      ]
     },
     "execution_count": 29,
     "metadata": {},
     "output_type": "execute_result"
    }
   ],
   "source": [
    "print_team[1]"
   ]
  },
  {
   "cell_type": "code",
   "execution_count": 30,
   "metadata": {},
   "outputs": [
    {
     "name": "stdout",
     "output_type": "stream",
     "text": [
      "Michael Pittman Jr.\n",
      "Michael Pittman Jr.\n",
      "Michael Pittman Jr.\n",
      "Michael Pittman Jr.\n",
      "Michael Pittman Jr.\n",
      "Michael Pittman Jr.\n",
      "Michael Pittman Jr.\n",
      "Michael Pittman Jr.\n",
      "Michael Pittman Jr.\n"
     ]
    }
   ],
   "source": [
    "for i=1:9\n",
    "    println(offense[all_teams[10][4],1])\n",
    "end"
   ]
  },
  {
   "cell_type": "markdown",
   "metadata": {},
   "source": [
    "# correlation check"
   ]
  },
  {
   "cell_type": "code",
   "execution_count": 31,
   "metadata": {},
   "outputs": [
    {
     "name": "stdout",
     "output_type": "stream",
     "text": [
      "Derrick Henry + Derrick Henry = 1.0\n",
      "Derrick Henry + Ryan Tannehill = 0.1389313958823521\n",
      "Derrick Henry + Robert Woods = 0.24865881765533143\n",
      "Derrick Henry + Treylon Burks = -0.04525523114847672\n",
      "Derrick Henry + Titans = 0.0\n",
      "Derrick Henry + Austin Hooper = -100.0\n",
      "Derrick Henry + Nick Westbrook-Ikhine = 0.0\n",
      "Ryan Tannehill + Derrick Henry = 0.1389313958823521\n",
      "Ryan Tannehill + Ryan Tannehill = 1.0\n",
      "Ryan Tannehill + Robert Woods = 0.5063901498559916\n",
      "Ryan Tannehill + Treylon Burks = 0.71066397278705\n",
      "Ryan Tannehill + Titans = 0.0\n",
      "Ryan Tannehill + Austin Hooper = -100.0\n",
      "Ryan Tannehill + Nick Westbrook-Ikhine = 0.0\n",
      "Robert Woods + Derrick Henry = 0.24865881765533143\n",
      "Robert Woods + Ryan Tannehill = 0.5063901498559916\n",
      "Robert Woods + Robert Woods = 1.0\n",
      "Robert Woods + Treylon Burks = -100.0\n",
      "Robert Woods + Titans = 0.0\n",
      "Robert Woods + Austin Hooper = -100.0\n",
      "Robert Woods + Nick Westbrook-Ikhine = 0.0\n",
      "Treylon Burks + Derrick Henry = -0.04525523114847672\n",
      "Treylon Burks + Ryan Tannehill = 0.71066397278705\n",
      "Treylon Burks + Robert Woods = -100.0\n",
      "Treylon Burks + Treylon Burks = 1.0\n",
      "Treylon Burks + Titans = 0.0\n",
      "Treylon Burks + Austin Hooper = 0.026233812088007437\n",
      "Treylon Burks + Nick Westbrook-Ikhine = 0.0\n",
      "Titans + Derrick Henry = 0.0\n",
      "Titans + Ryan Tannehill = 0.0\n",
      "Titans + Robert Woods = 0.0\n",
      "Titans + Treylon Burks = 0.0\n",
      "Titans + Titans = 1.0\n",
      "Titans + Austin Hooper = 0.0\n",
      "Titans + Nick Westbrook-Ikhine = 0.0\n",
      "Austin Hooper + Derrick Henry = -100.0\n",
      "Austin Hooper + Ryan Tannehill = -100.0\n",
      "Austin Hooper + Robert Woods = -100.0\n",
      "Austin Hooper + Treylon Burks = 0.026233812088007437\n",
      "Austin Hooper + Titans = 0.0\n",
      "Austin Hooper + Austin Hooper = 1.0\n",
      "Austin Hooper + Nick Westbrook-Ikhine = 0.0\n",
      "Nick Westbrook-Ikhine + Derrick Henry = 0.0\n",
      "Nick Westbrook-Ikhine + Ryan Tannehill = 0.0\n",
      "Nick Westbrook-Ikhine + Robert Woods = 0.0\n",
      "Nick Westbrook-Ikhine + Treylon Burks = 0.0\n",
      "Nick Westbrook-Ikhine + Titans = 0.0\n",
      "Nick Westbrook-Ikhine + Austin Hooper = 0.0\n",
      "Nick Westbrook-Ikhine + Nick Westbrook-Ikhine = 1.0\n"
     ]
    }
   ],
   "source": [
    "corr = 0\n",
    "team_num = 0\n",
    "team = \"TEN\"\n",
    "\n",
    "\n",
    "for i = 1:length(offense[:,1])\n",
    "    for j = 1:length(offense[:,1])\n",
    "        #if all_teams[team_num][i]< all_teams[team_num][j] \n",
    "                if offense[i, :Team] == team && offense[j, :Team] == team\n",
    "            \n",
    "                #corr = t[all_teams[team_num][i],all_teams[team_num][j]]\n",
    "                    println(string(offense[i,:Player]),\" + \", string(offense[j,:Player]), \" = \", t[i,j])\n",
    "\n",
    "                end\n",
    "            \n",
    "        #end\n",
    "    end\n",
    "end"
   ]
  },
  {
   "cell_type": "code",
   "execution_count": 32,
   "metadata": {},
   "outputs": [
    {
     "data": {
      "text/plain": [
       "195"
      ]
     },
     "execution_count": 32,
     "metadata": {},
     "output_type": "execute_result"
    }
   ],
   "source": [
    "length(offense[:,1])"
   ]
  },
  {
   "cell_type": "code",
   "execution_count": 33,
   "metadata": {},
   "outputs": [
    {
     "name": "stdout",
     "output_type": "stream",
     "text": [
      "Christian McCaffrey + Austin Ekeler = 0.0\n",
      "Christian McCaffrey + Carson Wentz = 0.0\n",
      "Christian McCaffrey + Michael Pittman Jr. = 0.0\n",
      "Christian McCaffrey + Travis Etienne Jr. = 0.0\n",
      "Christian McCaffrey + Terry McLaurin = 0.0\n",
      "Christian McCaffrey + Titans = 0.0\n",
      "Christian McCaffrey + Logan Thomas = 0.0\n",
      "Christian McCaffrey + Jahan Dotson = 0.0\n",
      "Austin Ekeler + Carson Wentz = 0.0\n",
      "Austin Ekeler + Michael Pittman Jr. = 0.0\n",
      "Austin Ekeler + Travis Etienne Jr. = 0.0\n",
      "Austin Ekeler + Terry McLaurin = 0.0\n",
      "Austin Ekeler + Titans = 0.0\n",
      "Austin Ekeler + Logan Thomas = 0.0\n",
      "Austin Ekeler + Jahan Dotson = 0.0\n",
      "Carson Wentz + Michael Pittman Jr. = 0.0\n",
      "Carson Wentz + Travis Etienne Jr. = 0.0\n",
      "Carson Wentz + Terry McLaurin = 0.9600308889162426\n",
      "Carson Wentz + Titans = 0.0\n",
      "Carson Wentz + Logan Thomas = 0.8758876290991978\n",
      "Carson Wentz + Jahan Dotson = 0.9436130307721806\n",
      "Michael Pittman Jr. + Travis Etienne Jr. = 0.0\n",
      "Michael Pittman Jr. + Terry McLaurin = 0.0\n",
      "Michael Pittman Jr. + Titans = 0.0\n",
      "Michael Pittman Jr. + Logan Thomas = 0.0\n",
      "Michael Pittman Jr. + Jahan Dotson = 0.0\n",
      "Travis Etienne Jr. + Terry McLaurin = 0.0\n",
      "Travis Etienne Jr. + Titans = 0.0\n",
      "Travis Etienne Jr. + Logan Thomas = 0.0\n",
      "Travis Etienne Jr. + Jahan Dotson = 0.0\n",
      "Terry McLaurin + Titans = 0.0\n",
      "Terry McLaurin + Logan Thomas = 0.23749951063175725\n",
      "Terry McLaurin + Jahan Dotson = 0.24713798484188765\n",
      "Titans + Logan Thomas = 0.0\n",
      "Titans + Jahan Dotson = 0.0\n",
      "Logan Thomas + Jahan Dotson = 0.24655896740129352\n"
     ]
    }
   ],
   "source": [
    "corr = 0\n",
    "team_num = 1\n",
    "team = \"NE\"\n",
    "\n",
    "\n",
    "for i = 1:9\n",
    "    for j = 1:9\n",
    "        if all_teams[team_num][i]< all_teams[team_num][j] \n",
    "     #corr = t[all_teams[team_num][i],all_teams[team_num][j]]\n",
    "            println(string(offense[all_teams[team_num][i],1]),\" + \", string(offense[all_teams[team_num][j],1]), \" = \", t[all_teams[team_num][i],all_teams[team_num][j]])\n",
    "\n",
    "\n",
    "        end\n",
    "    end\n",
    "end"
   ]
  },
  {
   "cell_type": "markdown",
   "metadata": {},
   "source": [
    "## player frequnecies"
   ]
  },
  {
   "cell_type": "code",
   "execution_count": 34,
   "metadata": {},
   "outputs": [],
   "source": [
    "players = []\n",
    "\n",
    "for i = 1:num_teams_making\n",
    "    for j =1:9\n",
    "        #if print_team[i][j] in QB_i\n",
    "            push!(players, print_team[i][j])\n",
    "        #end\n",
    "    end\n",
    "end\n",
    "\n",
    "frequency = []\n",
    "for i in players\n",
    "    \n",
    "    \n",
    "end"
   ]
  },
  {
   "cell_type": "code",
   "execution_count": 35,
   "metadata": {},
   "outputs": [
    {
     "data": {
      "text/plain": [
       "98×2 Matrix{Any}:\n",
       " \"Christian McCaffrey\"  100\n",
       " \"Michael Pittman Jr.\"   86\n",
       " \"Jalen Hurts\"           79\n",
       " \"A.J. Brown\"            71\n",
       " \"Mark Andrews\"          58\n",
       " \"Dallas Goedert\"        57\n",
       " \"Najee Harris\"          52\n",
       " \"Joe Mixon\"             52\n",
       " \"Jakobi Meyers\"         51\n",
       " \"DJ Moore\"              49\n",
       " \"Amon-Ra St. Brown\"     42\n",
       " \"Travis Kelce\"          34\n",
       " \"Aaron Jones\"           32\n",
       " ⋮                      \n",
       " \"Adam Trautman\"          1\n",
       " \"Terry McLaurin\"         1\n",
       " \"Treylon Burks\"          1\n",
       " \"Deebo Samuel\"           1\n",
       " \"Trey Lance\"             1\n",
       " \"Rondale Moore\"          1\n",
       " \"Mecole Hardman\"         1\n",
       " \"Evan Engram\"            1\n",
       " \"Kenneth Gainwell\"       1\n",
       " \"Trevor Lawrence\"        1\n",
       " \"Corey Davis\"            1\n",
       " \"Darren Waller\"          1"
      ]
     },
     "execution_count": 35,
     "metadata": {},
     "output_type": "execute_result"
    }
   ],
   "source": [
    "c = counter(players)\n",
    "\n",
    "r = hcat(collect(keys(c)),collect(values(c)))\n",
    "\n",
    "r[sortperm(r[:, 2], rev=true), :]"
   ]
  },
  {
   "cell_type": "code",
   "execution_count": 36,
   "metadata": {},
   "outputs": [
    {
     "ename": "LoadError",
     "evalue": "IOError: cd(\"/Users/kevin/Desktop/Draftkings/2022/Data/ETR/Week 15/\"): no such file or directory (ENOENT)",
     "output_type": "error",
     "traceback": [
      "IOError: cd(\"/Users/kevin/Desktop/Draftkings/2022/Data/ETR/Week 15/\"): no such file or directory (ENOENT)",
      "",
      "Stacktrace:",
      " [1] uv_error",
      "   @ ./libuv.jl:97 [inlined]",
      " [2] cd(dir::String)",
      "   @ Base.Filesystem ./file.jl:91",
      " [3] top-level scope",
      "   @ In[36]:2",
      " [4] eval",
      "   @ ./boot.jl:368 [inlined]",
      " [5] include_string(mapexpr::typeof(REPL.softscope), mod::Module, code::String, filename::String)",
      "   @ Base ./loading.jl:1428"
     ]
    }
   ],
   "source": [
    "\n",
    "cd(\"/Users/kevin/Desktop/Draftkings/2022/Data/ETR/Week 15/\")\n",
    "\n",
    "\n",
    "\n",
    "writedlm( \"exposure_v3.csv\",  r, ',')"
   ]
  },
  {
   "cell_type": "markdown",
   "metadata": {},
   "source": [
    "## Print money/points"
   ]
  },
  {
   "cell_type": "code",
   "execution_count": 37,
   "metadata": {},
   "outputs": [
    {
     "ename": "LoadError",
     "evalue": "BoundsError: attempt to access 195×7 DataFrame at index [1, 9]",
     "output_type": "error",
     "traceback": [
      "BoundsError: attempt to access 195×7 DataFrame at index [1, 9]",
      "",
      "Stacktrace:",
      " [1] getindex(df::DataFrame, row_ind::Int64, col_ind::Int64)",
      "   @ DataFrames ~/opt/anaconda3/envs/julia/share/julia/packages/DataFrames/zqFGs/src/dataframe/dataframe.jl:478",
      " [2] top-level scope",
      "   @ ./In[37]:36",
      " [3] eval",
      "   @ ./boot.jl:368 [inlined]",
      " [4] include_string(mapexpr::typeof(REPL.softscope), mod::Module, code::String, filename::String)",
      "   @ Base ./loading.jl:1428"
     ]
    }
   ],
   "source": [
    "num_teams_making = 150\n",
    "\n",
    "\n",
    "num = 9 #column \n",
    "\n",
    "#5 = salary\n",
    "#6 = regular projection\n",
    "#7 = DK value\n",
    "#8 = ownership\n",
    "#9 = DK ID\n",
    "#10 = ceiling projection\n",
    "\n",
    "\n",
    "\n",
    "offense = cOffense\n",
    "lineup2 = \"\"\n",
    "#outfile = open(path_to_output, \"w\")\n",
    "print_team = []\n",
    "\n",
    "\n",
    "\n",
    "    for i = 1:num_teams_making\n",
    "        lineup = [\"\" \"\" \"\" \"\" \"\" \"\" \"\" \"\" \"\"]\n",
    "        skip = []\n",
    "\n",
    "\n",
    "        for j =1:9\n",
    "        \n",
    "            if string(offense[all_teams[i][j],2]) in late_teams\n",
    "                skip = push!(skip, all_teams[i][j])\n",
    "            else\n",
    "                    if all_teams[i][j] in QB_i\n",
    "                        if lineup[1]==\"\"\n",
    "                            lineup[1] = string(offense[all_teams[i][j],num])\n",
    "                        end\n",
    "                    elseif all_teams[i][j] in RB_i\n",
    "                        if lineup[2] == \"\"\n",
    "                            lineup[2] = string(offense[all_teams[i][j],num])\n",
    "                        elseif lineup[3] == \"\"\n",
    "                            lineup[3] = string(offense[all_teams[i][j],num])\n",
    "                        elseif lineup[8] == \"\"\n",
    "                            lineup[8] = string(offense[all_teams[i][j],num])\n",
    "                        end\n",
    "                    elseif all_teams[i][j] in WR_i\n",
    "                        if lineup[4] == \"\"\n",
    "                            lineup[4] = string(offense[all_teams[i][j],num])\n",
    "                        elseif lineup[5] ==\"\"\n",
    "                            lineup[5] = string(offense[all_teams[i][j],num])\n",
    "                        elseif lineup[6] == \"\"\n",
    "                            lineup[6] = string(offense[all_teams[i][j],num])\n",
    "                        elseif lineup[8] == \"\"\n",
    "                            lineup[8] = string(offense[all_teams[i][j],num])\n",
    "                        end\n",
    "                    elseif all_teams[i][j] in TE_i\n",
    "                        if lineup[7] == \"\"\n",
    "                            lineup[7] = string(offense[all_teams[i][j],num])\n",
    "                        elseif lineup[8] == \"\"\n",
    "                            lineup[8] = string(offense[all_teams[i][j],num])\n",
    "                        end\n",
    "                    elseif all_teams[i][j] in DST_i\n",
    "                        if lineup[9] == \"\"\n",
    "                            lineup[9] = string(offense[all_teams[i][j],num])\n",
    "                        end\n",
    "                    end\n",
    "                #end\n",
    "\n",
    "            end\n",
    "      end\n",
    "    #println(skip)\n",
    "        for k in skip\n",
    "                    if k in QB_i\n",
    "                        if lineup[1]==\"\"\n",
    "                            lineup[1] = string(offense[k,num])\n",
    "                        end\n",
    "                    elseif k in RB_i\n",
    "                        if lineup[2] == \"\"\n",
    "                            lineup[2] = string(offense[k,num])\n",
    "                        elseif lineup[3] == \"\"\n",
    "                            lineup[3] = string(offense[k,num])\n",
    "                        elseif lineup[8] == \"\"\n",
    "                            lineup[8] = string(offense[k,num])\n",
    "                        end\n",
    "                    elseif k in WR_i\n",
    "                        if lineup[4] == \"\"\n",
    "                            lineup[4] = string(offense[k,num])\n",
    "                        elseif lineup[5] ==\"\"\n",
    "                            lineup[5] = string(offense[k,num])\n",
    "                        elseif lineup[6] == \"\"\n",
    "                            lineup[6] = string(offense[k,num])\n",
    "                        elseif lineup[8] == \"\"\n",
    "                            lineup[8] = string(offense[k,num])\n",
    "                        end\n",
    "                    elseif k in TE_i\n",
    "                        if lineup[7] == \"\"\n",
    "                            lineup[7] = string(offense[k,num])\n",
    "                        elseif lineup[8] == \"\"\n",
    "                            lineup[8] = string(offense[k,num])\n",
    "                        end\n",
    "                    elseif k in DST_i\n",
    "                        if lineup[9] == \"\"\n",
    "                            lineup[9] = string(offense[k,num])\n",
    "                        end\n",
    "                    end\n",
    "                #end\n",
    "\n",
    "        end\n",
    "\n",
    "       print_team = push!(print_team, lineup)\n",
    "    end\n",
    "   #close(outfile)\n",
    "#end"
   ]
  },
  {
   "cell_type": "code",
   "execution_count": 38,
   "metadata": {},
   "outputs": [
    {
     "ename": "LoadError",
     "evalue": "IOError: cd(\"/Users/kevin/Desktop/Draftkings/2022/Data/ETR/Week 15/\"): no such file or directory (ENOENT)",
     "output_type": "error",
     "traceback": [
      "IOError: cd(\"/Users/kevin/Desktop/Draftkings/2022/Data/ETR/Week 15/\"): no such file or directory (ENOENT)",
      "",
      "Stacktrace:",
      " [1] uv_error",
      "   @ ./libuv.jl:97 [inlined]",
      " [2] cd(dir::String)",
      "   @ Base.Filesystem ./file.jl:91",
      " [3] top-level scope",
      "   @ In[38]:1",
      " [4] eval",
      "   @ ./boot.jl:368 [inlined]",
      " [5] include_string(mapexpr::typeof(REPL.softscope), mod::Module, code::String, filename::String)",
      "   @ Base ./loading.jl:1428"
     ]
    }
   ],
   "source": [
    "cd(\"/Users/kevin/Desktop/Draftkings/2022/Data/ETR/Week 15/\")\n",
    "\n",
    "\n",
    "\n",
    "writedlm( \"dk_ids.csv\",  print_team, ',')"
   ]
  },
  {
   "cell_type": "code",
   "execution_count": 39,
   "metadata": {},
   "outputs": [
    {
     "ename": "LoadError",
     "evalue": "BoundsError: attempt to access 0-element Vector{Any} at index [1]",
     "output_type": "error",
     "traceback": [
      "BoundsError: attempt to access 0-element Vector{Any} at index [1]",
      "",
      "Stacktrace:",
      " [1] getindex(A::Vector{Any}, i1::Int64)",
      "   @ Base ./array.jl:924",
      " [2] top-level scope",
      "   @ ./In[39]:4",
      " [3] eval",
      "   @ ./boot.jl:368 [inlined]",
      " [4] include_string(mapexpr::typeof(REPL.softscope), mod::Module, code::String, filename::String)",
      "   @ Base ./loading.jl:1428"
     ]
    }
   ],
   "source": [
    "scores = []\n",
    "\n",
    "for i =1:150\n",
    "    println(sum(parse.(Float64, print_team[i])))\n",
    "    append!(scores, sum(parse.(Float64, print_team[i])))\n",
    "end"
   ]
  },
  {
   "cell_type": "code",
   "execution_count": 40,
   "metadata": {},
   "outputs": [
    {
     "data": {
      "text/plain": [
       "clean_print_teams (generic function with 1 method)"
      ]
     },
     "execution_count": 40,
     "metadata": {},
     "output_type": "execute_result"
    }
   ],
   "source": [
    "function clean_print_teams(offense, week)\n",
    "    DFN_offense = get_stripped_offense(week)\n",
    "    \n",
    "    offense.\"Player\" .= replace.(offense.\"Player\", r\"-\" => \"\")\n",
    "    offense.\"Player\" .= replace.(offense.\"Player\", r\"\\.\" => \"\")\n",
    "    offense.\"Player\" .= replace.(offense.\"Player\", r\"'\" => \"\")\n",
    "    \n",
    "    transform!(offense, :Player => ByRow(lowercase) => :Player)\n",
    "    \n",
    "    #offense[!, :Actual_FP] = 0\n",
    "\n",
    "\n",
    "\n",
    "    for i = 1:length(offense[:,1])\n",
    "        for j = 1:length(DFN_offense[:,1])\n",
    "            if offense[i, :Player] == DFN_offense[j, :Player_Name]\n",
    "               offense.\"DK Value\"[i] = DFN_offense[j, :Actual_FP] \n",
    "            end\n",
    "        end\n",
    "    end\n",
    "    \n",
    "\n",
    "    return offense\n",
    "end"
   ]
  },
  {
   "cell_type": "code",
   "execution_count": 41,
   "metadata": {},
   "outputs": [
    {
     "ename": "LoadError",
     "evalue": "ArgumentError: \"Data/Actuals/2022-2023/Week 4/Offense.csv\" is not a valid file or doesn't exist",
     "output_type": "error",
     "traceback": [
      "ArgumentError: \"Data/Actuals/2022-2023/Week 4/Offense.csv\" is not a valid file or doesn't exist",
      "",
      "Stacktrace:",
      " [1] CSV.Context(source::CSV.Arg, header::CSV.Arg, normalizenames::CSV.Arg, datarow::CSV.Arg, skipto::CSV.Arg, footerskip::CSV.Arg, transpose::CSV.Arg, comment::CSV.Arg, ignoreemptyrows::CSV.Arg, ignoreemptylines::CSV.Arg, select::CSV.Arg, drop::CSV.Arg, limit::CSV.Arg, buffer_in_memory::CSV.Arg, threaded::CSV.Arg, ntasks::CSV.Arg, tasks::CSV.Arg, rows_to_check::CSV.Arg, lines_to_check::CSV.Arg, missingstrings::CSV.Arg, missingstring::CSV.Arg, delim::CSV.Arg, ignorerepeated::CSV.Arg, quoted::CSV.Arg, quotechar::CSV.Arg, openquotechar::CSV.Arg, closequotechar::CSV.Arg, escapechar::CSV.Arg, dateformat::CSV.Arg, dateformats::CSV.Arg, decimal::CSV.Arg, truestrings::CSV.Arg, falsestrings::CSV.Arg, stripwhitespace::CSV.Arg, type::CSV.Arg, types::CSV.Arg, typemap::CSV.Arg, pool::CSV.Arg, downcast::CSV.Arg, lazystrings::CSV.Arg, stringtype::CSV.Arg, strict::CSV.Arg, silencewarnings::CSV.Arg, maxwarnings::CSV.Arg, debug::CSV.Arg, parsingdebug::CSV.Arg, validate::CSV.Arg, streaming::CSV.Arg)",
      "   @ CSV ~/opt/anaconda3/envs/julia/share/julia/packages/CSV/jFiCn/src/context.jl:236",
      " [2] #File#25",
      "   @ ~/opt/anaconda3/envs/julia/share/julia/packages/CSV/jFiCn/src/file.jl:221 [inlined]",
      " [3] File",
      "   @ ~/opt/anaconda3/envs/julia/share/julia/packages/CSV/jFiCn/src/file.jl:162 [inlined]",
      " [4] read(source::String, sink::Type; copycols::Bool, kwargs::Base.Pairs{Symbol, Union{}, Tuple{}, NamedTuple{(), Tuple{}}})",
      "   @ CSV ~/opt/anaconda3/envs/julia/share/julia/packages/CSV/jFiCn/src/CSV.jl:91",
      " [5] get_stripped_offense(week::Int64)",
      "   @ Main ./In[8]:2",
      " [6] clean_print_teams(offense::DataFrame, week::Int64)",
      "   @ Main ./In[40]:2",
      " [7] top-level scope",
      "   @ In[41]:1",
      " [8] eval",
      "   @ ./boot.jl:368 [inlined]",
      " [9] include_string(mapexpr::typeof(REPL.softscope), mod::Module, code::String, filename::String)",
      "   @ Base ./loading.jl:1428"
     ]
    }
   ],
   "source": [
    "offense = clean_print_teams(cOffense, 4)"
   ]
  },
  {
   "cell_type": "code",
   "execution_count": 42,
   "metadata": {},
   "outputs": [
    {
     "ename": "LoadError",
     "evalue": "ArgumentError: \"Data/Actuals/2022-2023/Week 4/Offense.csv\" is not a valid file or doesn't exist",
     "output_type": "error",
     "traceback": [
      "ArgumentError: \"Data/Actuals/2022-2023/Week 4/Offense.csv\" is not a valid file or doesn't exist",
      "",
      "Stacktrace:",
      " [1] CSV.Context(source::CSV.Arg, header::CSV.Arg, normalizenames::CSV.Arg, datarow::CSV.Arg, skipto::CSV.Arg, footerskip::CSV.Arg, transpose::CSV.Arg, comment::CSV.Arg, ignoreemptyrows::CSV.Arg, ignoreemptylines::CSV.Arg, select::CSV.Arg, drop::CSV.Arg, limit::CSV.Arg, buffer_in_memory::CSV.Arg, threaded::CSV.Arg, ntasks::CSV.Arg, tasks::CSV.Arg, rows_to_check::CSV.Arg, lines_to_check::CSV.Arg, missingstrings::CSV.Arg, missingstring::CSV.Arg, delim::CSV.Arg, ignorerepeated::CSV.Arg, quoted::CSV.Arg, quotechar::CSV.Arg, openquotechar::CSV.Arg, closequotechar::CSV.Arg, escapechar::CSV.Arg, dateformat::CSV.Arg, dateformats::CSV.Arg, decimal::CSV.Arg, truestrings::CSV.Arg, falsestrings::CSV.Arg, stripwhitespace::CSV.Arg, type::CSV.Arg, types::CSV.Arg, typemap::CSV.Arg, pool::CSV.Arg, downcast::CSV.Arg, lazystrings::CSV.Arg, stringtype::CSV.Arg, strict::CSV.Arg, silencewarnings::CSV.Arg, maxwarnings::CSV.Arg, debug::CSV.Arg, parsingdebug::CSV.Arg, validate::CSV.Arg, streaming::CSV.Arg)",
      "   @ CSV ~/opt/anaconda3/envs/julia/share/julia/packages/CSV/jFiCn/src/context.jl:236",
      " [2] #File#25",
      "   @ ~/opt/anaconda3/envs/julia/share/julia/packages/CSV/jFiCn/src/file.jl:221 [inlined]",
      " [3] File",
      "   @ ~/opt/anaconda3/envs/julia/share/julia/packages/CSV/jFiCn/src/file.jl:162 [inlined]",
      " [4] read(source::String, sink::Type; copycols::Bool, kwargs::Base.Pairs{Symbol, Union{}, Tuple{}, NamedTuple{(), Tuple{}}})",
      "   @ CSV ~/opt/anaconda3/envs/julia/share/julia/packages/CSV/jFiCn/src/CSV.jl:91",
      " [5] get_stripped_offense(week::Int64)",
      "   @ Main ./In[8]:2",
      " [6] top-level scope",
      "   @ In[42]:1",
      " [7] eval",
      "   @ ./boot.jl:368 [inlined]",
      " [8] include_string(mapexpr::typeof(REPL.softscope), mod::Module, code::String, filename::String)",
      "   @ Base ./loading.jl:1428"
     ]
    }
   ],
   "source": [
    "current_offense = get_stripped_offense(4);\n"
   ]
  },
  {
   "cell_type": "code",
   "execution_count": 43,
   "metadata": {},
   "outputs": [],
   "source": [
    "writedlm( \"dk_ids_20.csv\",  print_team, ',')"
   ]
  },
  {
   "cell_type": "markdown",
   "metadata": {},
   "source": [
    "# late swap"
   ]
  },
  {
   "cell_type": "code",
   "execution_count": 44,
   "metadata": {},
   "outputs": [
    {
     "data": {
      "text/plain": [
       "lateSwapTeamX (generic function with 1 method)"
      ]
     },
     "execution_count": 44,
     "metadata": {},
     "output_type": "execute_result"
    }
   ],
   "source": [
    "function lateSwapTeamX(num, X, cOffense, cNum_offense, QB_i, RB_i, WR_i, TE_i, FLEX_i, num_QB, num_RB, num_WR, num_TE, num_FLEX, bring_back, team_idx, team_idx_cross, opp_team, game_stack, num_games, rand_vec, team_stack, num_teams, current_teams, late_games)#num is what team it is from 1-100, X is current teams\n",
    "    m1 = Model(SCIP.Optimizer)\n",
    "    set_silent(m1)\n",
    "    #GLPK.Optimizer\n",
    "    M = 100\n",
    "    max_overlap = 5.1\n",
    "    max_same_player = 40\n",
    "    @variable(m1, x[1:cNum_offense], Bin) #pick players\n",
    "    #@variable(m1, def[1:cNum_teams], Bin) #pick players\n",
    "    #@variable(m1, PB[1:cNum_offense], Bin) #player boost\n",
    "    \n",
    "    \n",
    "    #@constraint(m1, [i=1:length(FLEX_i)], PB[FLEX_i[i]] <= sum(x[opp_team[i][j]] for j = 1:length(opp_team[i])))\n",
    "    \n",
    "    #@constraint(m1, [i=1:length(QB_i)], PB[QB_i[i]] == 0)\n",
    "    #@constraint(m1, [i=1:length(DST_i)], PB[DST_i[i]] == 0)\n",
    "\n",
    "    #@variable(m1, G[1:num_games], Bin)\n",
    "    #@constraint(m1,[i=1:num_games], 1.5 * G[i] <= sum(x[game_stack[i][j]] for j=1:length(game_stack[i])))\n",
    "    #@constraint(m1, sum(G[i] for i=1:num_games) >= 2)\n",
    "    #need to make num_games and game_stack, try using uniques to get it\n",
    "    \n",
    "    @variable(m1, u) #pick players\n",
    "\n",
    "\n",
    "    @objective(m1, Max, u)\n",
    "\n",
    "    @constraint(m1, sum(x[i]*rand_vec[i] for i=1:cNum_offense) +  # cOffense[i, :Projection] for i=1:cNum_offense) + \n",
    "                    (sum(t[i,team_idx[i][j]]*x[i]*x[team_idx[i][j]] for i=1:cNum_offense for j=1:length(team_idx[i])) * 9)>= u)\n",
    "                    #sum(0.1 * x[i] * x[opp_def[i][j]] for i=1:cNum_offense for j=1:length(opp_def[i])) +\n",
    "                    #sum(0.1*PB[i]*cOffense[i, :Projection] for i=1:cNum_offense) +\n",
    "                    \n",
    "\n",
    "    @constraint(m1, sum(x[QB_i[i]] for i=1:num_QB) == 1)\n",
    "    @constraint(m1, sum(x[RB_i[i]] for i=1:num_RB) >= 2)\n",
    "    @constraint(m1, sum(x[WR_i[i]] for i=1:num_WR) >= 3)\n",
    "    @constraint(m1, sum(x[TE_i[i]] for i=1:num_TE) >= 1)\n",
    "    @constraint(m1, sum(x[DST_i[i]] for i=1:num_DST) == 1)\n",
    "    @constraint(m1, sum(x[FLEX_i[i]] for i=1:num_FLEX) == 7)\n",
    "    @constraint(m1,sum(x[i]*cOffense[i, :Salary] for i=1:cNum_offense) <= 50000)\n",
    "    @constraint(m1, sum(x[i] for i=1:cNum_offense) == 9)\n",
    "                        \n",
    "    @constraint(m1,sum(x[i]*cOffense.\"DK Ownership\"[i] for i=1:cNum_offense) <= 50)\n",
    "                        \n",
    "    for i=1:cNum_offense\n",
    "        #println(i)\n",
    "        if (cOffense[i, :Team] in late_games) == false\n",
    "            if isempty(current_teams[num]) == false\n",
    "                #println(num)\n",
    "                if i in current_teams[num]\n",
    "                    #println(current_teams[num])\n",
    "\n",
    "\n",
    "                    @constraint(m1, x[i] == 1)\n",
    "                else\n",
    "                    @constraint(m1, x[i] == 0)            \n",
    "                end\n",
    "            end\n",
    "        end\n",
    "    end\n",
    "\n",
    "\n",
    "    \n",
    "    \n",
    "    #@constraint(m1, sum(t[i,team_idx[i][j]]*x[i]*x[team_idx[i][j]] for i=1:cNum_offense for j=1:length(team_idx[i])) >= 1.5)\n",
    "    \n",
    "    #bring back\n",
    "                    \n",
    "    @constraint(m1,[i=1:length(QB_i)], x[QB_i[i]] - sum(x[bring_back[i][j]] for j = 1:length(bring_back[i])) <= 0)\n",
    "                        \n",
    "    #team stack          \n",
    "    @constraint(m1,[i=1:num_teams], sum(x[team_stack[i][j]] for j=1:length(team_stack[i])) <= 4)\n",
    "\n",
    "\n",
    "    \n",
    "    #@constraint(m1, sum(def[i] for i=1:cNum_teams) == 1)\n",
    "\n",
    "\n",
    "    if num != 1\n",
    "        #for i=1:num\n",
    "        @constraint(m1,[i=1:num-1], sum(t[X[i][k],team_idx_cross[X[i][k]][j]] * x[team_idx_cross[X[i][k]][j]] for k = 1:9 for j=1:length(team_idx_cross[X[i][k]])) <= 7.9)\n",
    "        #end\n",
    "                        \n",
    "        #@constraint(m1,[i=1:num-1], sum(x[X[i][k]] for k = 1:8) <= max_overlap)\n",
    "\n",
    "\n",
    "    end \n",
    "                                        \n",
    "    optimize!(m1)\n",
    "    return(JuMP.value.(x))\n",
    "end"
   ]
  },
  {
   "cell_type": "code",
   "execution_count": 45,
   "metadata": {},
   "outputs": [
    {
     "data": {
      "text/plain": [
       "lateSwapAllTeams (generic function with 1 method)"
      ]
     },
     "execution_count": 45,
     "metadata": {},
     "output_type": "execute_result"
    }
   ],
   "source": [
    "function lateSwapAllTeams(count, X, cOffense, cNum_offense, QB_i, RB_i, WR_i, TE_i, FLEX_i, num_QB, num_RB, num_WR, num_TE, num_FLEX, bring_back, team_idx, team_idx_cross, opp_team, game_stack, num_games, team_stack, num_teams, current_teams, late_games) #count is how many teams you want\n",
    "    \n",
    "    rand_vec = rand(cNum_offense,1)/25 .+1\n",
    "    temp = cOffense[:, :Projection]\n",
    "    rand_vec = rand_vec .* temp\n",
    "    x1 = lateSwapTeamX(1, X, cOffense, cNum_offense, QB_i, RB_i, WR_i, TE_i, FLEX_i, num_QB, num_RB, num_WR, num_TE, num_FLEX, bring_back, team_idx, team_idx_cross, opp_team, game_stack, num_games, rand_vec, team_stack, num_teams, current_teams, late_games);\n",
    "\n",
    "    B = Vector{Int}()\n",
    "    for i=1:length(x1)\n",
    "        if x1[i] > 0.5\n",
    "            append!(B,i)\n",
    "        end\n",
    "    end\n",
    "    X = push!(X, B)\n",
    "    \n",
    "    for i = 2:count\n",
    "        rand_vec = rand(cNum_offense,1)/25 .+1\n",
    "        temp = cOffense[:, :Projection]\n",
    "        rand_vec = rand_vec .* temp\n",
    "        @time x1 = lateSwapTeamX(i, X, cOffense, cNum_offense, QB_i, RB_i, WR_i, TE_i, FLEX_i, num_QB, num_RB, num_WR, num_TE, num_FLEX, bring_back, team_idx, team_idx_cross, opp_team, game_stack, num_games, rand_vec, team_stack, num_teams, current_teams, late_games);\n",
    "        B = Vector{Int}()\n",
    "        for i=1:length(x1)\n",
    "            if x1[i] > 0.5\n",
    "                append!(B,i)\n",
    "            end\n",
    "        end\n",
    "        \n",
    "        X = push!(X, B)\n",
    "        #print(X)\n",
    "        #D = hcat(D, d1)\n",
    "        \n",
    "        println(i)\n",
    "\n",
    "    end\n",
    "\n",
    "    return(X)\n",
    "end"
   ]
  },
  {
   "cell_type": "code",
   "execution_count": 46,
   "metadata": {},
   "outputs": [
    {
     "ename": "LoadError",
     "evalue": "UndefVarError: a not defined",
     "output_type": "error",
     "traceback": [
      "UndefVarError: a not defined",
      "",
      "Stacktrace:",
      " [1] top-level scope",
      "   @ ./timing.jl:263 [inlined]",
      " [2] top-level scope",
      "   @ ./In[46]:0",
      " [3] eval",
      "   @ ./boot.jl:368 [inlined]",
      " [4] include_string(mapexpr::typeof(REPL.softscope), mod::Module, code::String, filename::String)",
      "   @ Base ./loading.jl:1428"
     ]
    }
   ],
   "source": [
    "X = Vector{Vector{Int}}()\n",
    "\n",
    "@time all_teams = lateSwapAllTeams(110, X, cOffense, cNum_offense, QB_i, RB_i, WR_i, TE_i, FLEX_i, num_QB, num_RB, num_WR, num_TE, num_FLEX, bring_back, team_idx, team_idx_cross, opp_team, game_stack, num_games, team_stack, num_teams, a, late_teams);"
   ]
  },
  {
   "cell_type": "code",
   "execution_count": 47,
   "metadata": {},
   "outputs": [
    {
     "ename": "LoadError",
     "evalue": "UndefVarError: a not defined",
     "output_type": "error",
     "traceback": [
      "UndefVarError: a not defined",
      "",
      "Stacktrace:",
      " [1] top-level scope",
      "   @ In[47]:1",
      " [2] eval",
      "   @ ./boot.jl:368 [inlined]",
      " [3] include_string(mapexpr::typeof(REPL.softscope), mod::Module, code::String, filename::String)",
      "   @ Base ./loading.jl:1428"
     ]
    }
   ],
   "source": [
    "a[1]"
   ]
  },
  {
   "cell_type": "code",
   "execution_count": 48,
   "metadata": {},
   "outputs": [
    {
     "data": {
      "text/html": [
       "<p>DataFrameRow (7 columns)</p><div class=\"data-frame\"><table class=\"data-frame\"><thead><tr><th></th><th>Player</th><th>DK Position</th><th>Team</th><th>Opponent</th><th>Salary</th><th>Projection</th><th>DKSlateID</th></tr><tr><th></th><th title=\"String31\">String31</th><th title=\"String7\">String7</th><th title=\"String3\">String3</th><th title=\"String3\">String3</th><th title=\"Int64\">Int64</th><th title=\"Union{Missing, Float64}\">Float64?</th><th title=\"Int64\">Int64</th></tr></thead><tbody><tr><th>2</th><td>Jalen Hurts</td><td>QB</td><td>PHI</td><td>DET</td><td>6800</td><td>30.82</td><td>23485911</td></tr></tbody></table></div>"
      ],
      "text/latex": [
       "\\begin{tabular}{r|ccccccc}\n",
       "\t& Player & DK Position & Team & Opponent & Salary & Projection & DKSlateID\\\\\n",
       "\t\\hline\n",
       "\t& String31 & String7 & String3 & String3 & Int64 & Float64? & Int64\\\\\n",
       "\t\\hline\n",
       "\t2 & Jalen Hurts & QB & PHI & DET & 6800 & 30.82 & 23485911 \\\\\n",
       "\\end{tabular}\n"
      ],
      "text/plain": [
       "\u001b[1mDataFrameRow\u001b[0m\n",
       "\u001b[1m Row \u001b[0m│\u001b[1m Player      \u001b[0m\u001b[1m DK Position \u001b[0m\u001b[1m Team    \u001b[0m\u001b[1m Opponent \u001b[0m\u001b[1m Salary \u001b[0m\u001b[1m Projection \u001b[0m\u001b[1m DKSlat\u001b[0m ⋯\n",
       "\u001b[1m     \u001b[0m│\u001b[90m String31    \u001b[0m\u001b[90m String7     \u001b[0m\u001b[90m String3 \u001b[0m\u001b[90m String3  \u001b[0m\u001b[90m Int64  \u001b[0m\u001b[90m Float64?   \u001b[0m\u001b[90m Int64 \u001b[0m ⋯\n",
       "─────┼──────────────────────────────────────────────────────────────────────────\n",
       "   2 │ Jalen Hurts  QB           PHI      DET         6800       30.82   23485 ⋯\n",
       "\u001b[36m                                                                1 column omitted\u001b[0m"
      ]
     },
     "execution_count": 48,
     "metadata": {},
     "output_type": "execute_result"
    }
   ],
   "source": [
    "cOffense[2,:]"
   ]
  },
  {
   "cell_type": "code",
   "execution_count": 49,
   "metadata": {},
   "outputs": [
    {
     "ename": "LoadError",
     "evalue": "UndefVarError: a not defined",
     "output_type": "error",
     "traceback": [
      "UndefVarError: a not defined",
      "",
      "Stacktrace:",
      " [1] top-level scope",
      "   @ :0",
      " [2] eval",
      "   @ ./boot.jl:368 [inlined]",
      " [3] include_string(mapexpr::typeof(REPL.softscope), mod::Module, code::String, filename::String)",
      "   @ Base ./loading.jl:1428"
     ]
    }
   ],
   "source": [
    "a"
   ]
  },
  {
   "cell_type": "code",
   "execution_count": 50,
   "metadata": {},
   "outputs": [
    {
     "ename": "LoadError",
     "evalue": "ArgumentError: Cannot open '/Users/kevin/Desktop/Draftkings/2022/Data/ETR/Week 12/dk_ids3.csv': not a file",
     "output_type": "error",
     "traceback": [
      "ArgumentError: Cannot open '/Users/kevin/Desktop/Draftkings/2022/Data/ETR/Week 12/dk_ids3.csv': not a file",
      "",
      "Stacktrace:",
      " [1] readdlm_auto(input::String, dlm::Char, T::Type, eol::Char, auto::Bool; opts::Base.Pairs{Symbol, Union{}, Tuple{}, NamedTuple{(), Tuple{}}})",
      "   @ DelimitedFiles ~/opt/anaconda3/envs/julia/share/julia/stdlib/v1.8/DelimitedFiles/src/DelimitedFiles.jl:234",
      " [2] readdlm_auto",
      "   @ ~/opt/anaconda3/envs/julia/share/julia/stdlib/v1.8/DelimitedFiles/src/DelimitedFiles.jl:233 [inlined]",
      " [3] #readdlm#6",
      "   @ ~/opt/anaconda3/envs/julia/share/julia/stdlib/v1.8/DelimitedFiles/src/DelimitedFiles.jl:226 [inlined]",
      " [4] readdlm",
      "   @ ~/opt/anaconda3/envs/julia/share/julia/stdlib/v1.8/DelimitedFiles/src/DelimitedFiles.jl:226 [inlined]",
      " [5] #readdlm#2",
      "   @ ~/opt/anaconda3/envs/julia/share/julia/stdlib/v1.8/DelimitedFiles/src/DelimitedFiles.jl:86 [inlined]",
      " [6] readdlm(input::String, dlm::Char, T::Type)",
      "   @ DelimitedFiles ~/opt/anaconda3/envs/julia/share/julia/stdlib/v1.8/DelimitedFiles/src/DelimitedFiles.jl:86",
      " [7] top-level scope",
      "   @ In[50]:1",
      " [8] eval",
      "   @ ./boot.jl:368 [inlined]",
      " [9] include_string(mapexpr::typeof(REPL.softscope), mod::Module, code::String, filename::String)",
      "   @ Base ./loading.jl:1428"
     ]
    }
   ],
   "source": [
    "    ids = readdlm(string(\"/Users/kevin/Desktop/Draftkings/2022/Data/ETR/Week 12/dk_ids3.csv\"), ',', Int)\n",
    "\n"
   ]
  },
  {
   "cell_type": "code",
   "execution_count": 51,
   "metadata": {},
   "outputs": [
    {
     "data": {
      "text/html": [
       "<div class=\"data-frame\"><p>195 rows × 7 columns</p><table class=\"data-frame\"><thead><tr><th></th><th>Player</th><th>DK Position</th><th>Team</th><th>Opponent</th><th>Salary</th><th>Projection</th><th>DKSlateID</th></tr><tr><th></th><th title=\"String31\">String31</th><th title=\"String7\">String7</th><th title=\"String3\">String3</th><th title=\"String3\">String3</th><th title=\"Int64\">Int64</th><th title=\"Union{Missing, Float64}\">Float64?</th><th title=\"Int64\">Int64</th></tr></thead><tbody><tr><th>1</th><td>Christian McCaffrey</td><td>RB</td><td>CAR</td><td>CLE</td><td>8500</td><td>33.6</td><td>23486004</td></tr><tr><th>2</th><td>Jalen Hurts</td><td>QB</td><td>PHI</td><td>DET</td><td>6800</td><td>30.82</td><td>23485911</td></tr><tr><th>3</th><td>Lamar Jackson</td><td>QB</td><td>BAL</td><td>NYJ</td><td>7300</td><td>30.303</td><td>23485908</td></tr><tr><th>4</th><td>Patrick Mahomes</td><td>QB</td><td>KC</td><td>ARI</td><td>7700</td><td>29.36</td><td>23485906</td></tr><tr><th>5</th><td>Jonathan Taylor</td><td>RB</td><td>IND</td><td>HOU</td><td>9100</td><td>29.515</td><td>23486000</td></tr><tr><th>6</th><td>Kyler Murray</td><td>QB</td><td>ARI</td><td>KC</td><td>7200</td><td>27.763</td><td>23485909</td></tr><tr><th>7</th><td>Justin Herbert</td><td>QB</td><td>LAC</td><td>LV</td><td>7600</td><td>26.7</td><td>23485907</td></tr><tr><th>8</th><td>Austin Ekeler</td><td>RB</td><td>LAC</td><td>LV</td><td>8200</td><td>29.0</td><td>23486006</td></tr><tr><th>9</th><td>Aaron Rodgers</td><td>QB</td><td>GB</td><td>MIN</td><td>7000</td><td>25.58</td><td>23485910</td></tr><tr><th>10</th><td>Trey Lance</td><td>QB</td><td>SF</td><td>CHI</td><td>6000</td><td>25.483</td><td>23485915</td></tr><tr><th>11</th><td>Alvin Kamara</td><td>RB</td><td>NO</td><td>ATL</td><td>7600</td><td>26.615</td><td>23486010</td></tr><tr><th>12</th><td>Joe Mixon</td><td>RB</td><td>CIN</td><td>PIT</td><td>7100</td><td>27.115</td><td>23486012</td></tr><tr><th>13</th><td>Derek Carr</td><td>QB</td><td>LV</td><td>LAC</td><td>5900</td><td>24.8</td><td>23485916</td></tr><tr><th>14</th><td>Jameis Winston</td><td>QB</td><td>NO</td><td>ATL</td><td>5300</td><td>24.3</td><td>23485929</td></tr><tr><th>15</th><td>Joe Burrow</td><td>QB</td><td>CIN</td><td>PIT</td><td>6400</td><td>24.923</td><td>23485913</td></tr><tr><th>16</th><td>Kirk Cousins</td><td>QB</td><td>MIN</td><td>GB</td><td>6100</td><td>24.083</td><td>23485914</td></tr><tr><th>17</th><td>Tua Tagovailoa</td><td>QB</td><td>MIA</td><td>NE</td><td>5700</td><td>23.923</td><td>23485918</td></tr><tr><th>18</th><td>Aaron Jones</td><td>RB</td><td>GB</td><td>MIN</td><td>6700</td><td>25.2</td><td>23486018</td></tr><tr><th>19</th><td>Mark Andrews</td><td>TE</td><td>BAL</td><td>NYJ</td><td>6800</td><td>26.5</td><td>23486996</td></tr><tr><th>20</th><td>Najee Harris</td><td>RB</td><td>PIT</td><td>CIN</td><td>6400</td><td>24.7</td><td>23486022</td></tr><tr><th>21</th><td>Trevor Lawrence</td><td>QB</td><td>JAX</td><td>WAS</td><td>5600</td><td>23.703</td><td>23485919</td></tr><tr><th>22</th><td>Derrick Henry</td><td>RB</td><td>TEN</td><td>NYG</td><td>8600</td><td>25.315</td><td>23486002</td></tr><tr><th>23</th><td>Carson Wentz</td><td>QB</td><td>WAS</td><td>JAX</td><td>5500</td><td>23.423</td><td>23485921</td></tr><tr><th>24</th><td>Ryan Tannehill</td><td>QB</td><td>TEN</td><td>NYG</td><td>5700</td><td>23.183</td><td>23485917</td></tr><tr><th>25</th><td>Marcus Mariota</td><td>QB</td><td>ATL</td><td>NO</td><td>5200</td><td>23.786</td><td>23485933</td></tr><tr><th>26</th><td>Justin Fields</td><td>QB</td><td>CHI</td><td>SF</td><td>5600</td><td>23.049</td><td>23485920</td></tr><tr><th>27</th><td>Matt Ryan</td><td>QB</td><td>IND</td><td>HOU</td><td>5500</td><td>22.503</td><td>23485922</td></tr><tr><th>28</th><td>Jared Goff</td><td>QB</td><td>DET</td><td>PHI</td><td>5400</td><td>22.603</td><td>23485923</td></tr><tr><th>29</th><td>Travis Kelce</td><td>TE</td><td>KC</td><td>ARI</td><td>6600</td><td>25.1</td><td>23486998</td></tr><tr><th>30</th><td>Mac Jones</td><td>QB</td><td>NE</td><td>MIA</td><td>5400</td><td>22.803</td><td>23485924</td></tr><tr><th>&vellip;</th><td>&vellip;</td><td>&vellip;</td><td>&vellip;</td><td>&vellip;</td><td>&vellip;</td><td>&vellip;</td><td>&vellip;</td></tr></tbody></table></div>"
      ],
      "text/latex": [
       "\\begin{tabular}{r|ccccccc}\n",
       "\t& Player & DK Position & Team & Opponent & Salary & Projection & DKSlateID\\\\\n",
       "\t\\hline\n",
       "\t& String31 & String7 & String3 & String3 & Int64 & Float64? & Int64\\\\\n",
       "\t\\hline\n",
       "\t1 & Christian McCaffrey & RB & CAR & CLE & 8500 & 33.6 & 23486004 \\\\\n",
       "\t2 & Jalen Hurts & QB & PHI & DET & 6800 & 30.82 & 23485911 \\\\\n",
       "\t3 & Lamar Jackson & QB & BAL & NYJ & 7300 & 30.303 & 23485908 \\\\\n",
       "\t4 & Patrick Mahomes & QB & KC & ARI & 7700 & 29.36 & 23485906 \\\\\n",
       "\t5 & Jonathan Taylor & RB & IND & HOU & 9100 & 29.515 & 23486000 \\\\\n",
       "\t6 & Kyler Murray & QB & ARI & KC & 7200 & 27.763 & 23485909 \\\\\n",
       "\t7 & Justin Herbert & QB & LAC & LV & 7600 & 26.7 & 23485907 \\\\\n",
       "\t8 & Austin Ekeler & RB & LAC & LV & 8200 & 29.0 & 23486006 \\\\\n",
       "\t9 & Aaron Rodgers & QB & GB & MIN & 7000 & 25.58 & 23485910 \\\\\n",
       "\t10 & Trey Lance & QB & SF & CHI & 6000 & 25.483 & 23485915 \\\\\n",
       "\t11 & Alvin Kamara & RB & NO & ATL & 7600 & 26.615 & 23486010 \\\\\n",
       "\t12 & Joe Mixon & RB & CIN & PIT & 7100 & 27.115 & 23486012 \\\\\n",
       "\t13 & Derek Carr & QB & LV & LAC & 5900 & 24.8 & 23485916 \\\\\n",
       "\t14 & Jameis Winston & QB & NO & ATL & 5300 & 24.3 & 23485929 \\\\\n",
       "\t15 & Joe Burrow & QB & CIN & PIT & 6400 & 24.923 & 23485913 \\\\\n",
       "\t16 & Kirk Cousins & QB & MIN & GB & 6100 & 24.083 & 23485914 \\\\\n",
       "\t17 & Tua Tagovailoa & QB & MIA & NE & 5700 & 23.923 & 23485918 \\\\\n",
       "\t18 & Aaron Jones & RB & GB & MIN & 6700 & 25.2 & 23486018 \\\\\n",
       "\t19 & Mark Andrews & TE & BAL & NYJ & 6800 & 26.5 & 23486996 \\\\\n",
       "\t20 & Najee Harris & RB & PIT & CIN & 6400 & 24.7 & 23486022 \\\\\n",
       "\t21 & Trevor Lawrence & QB & JAX & WAS & 5600 & 23.703 & 23485919 \\\\\n",
       "\t22 & Derrick Henry & RB & TEN & NYG & 8600 & 25.315 & 23486002 \\\\\n",
       "\t23 & Carson Wentz & QB & WAS & JAX & 5500 & 23.423 & 23485921 \\\\\n",
       "\t24 & Ryan Tannehill & QB & TEN & NYG & 5700 & 23.183 & 23485917 \\\\\n",
       "\t25 & Marcus Mariota & QB & ATL & NO & 5200 & 23.786 & 23485933 \\\\\n",
       "\t26 & Justin Fields & QB & CHI & SF & 5600 & 23.049 & 23485920 \\\\\n",
       "\t27 & Matt Ryan & QB & IND & HOU & 5500 & 22.503 & 23485922 \\\\\n",
       "\t28 & Jared Goff & QB & DET & PHI & 5400 & 22.603 & 23485923 \\\\\n",
       "\t29 & Travis Kelce & TE & KC & ARI & 6600 & 25.1 & 23486998 \\\\\n",
       "\t30 & Mac Jones & QB & NE & MIA & 5400 & 22.803 & 23485924 \\\\\n",
       "\t$\\dots$ & $\\dots$ & $\\dots$ & $\\dots$ & $\\dots$ & $\\dots$ & $\\dots$ & $\\dots$ \\\\\n",
       "\\end{tabular}\n"
      ],
      "text/plain": [
       "\u001b[1m195×7 DataFrame\u001b[0m\n",
       "\u001b[1m Row \u001b[0m│\u001b[1m Player              \u001b[0m\u001b[1m DK Position \u001b[0m\u001b[1m Team    \u001b[0m\u001b[1m Opponent \u001b[0m\u001b[1m Salary \u001b[0m\u001b[1m Projection\u001b[0m ⋯\n",
       "\u001b[1m     \u001b[0m│\u001b[90m String31            \u001b[0m\u001b[90m String7     \u001b[0m\u001b[90m String3 \u001b[0m\u001b[90m String3  \u001b[0m\u001b[90m Int64  \u001b[0m\u001b[90m Float64?  \u001b[0m ⋯\n",
       "─────┼──────────────────────────────────────────────────────────────────────────\n",
       "   1 │ Christian McCaffrey  RB           CAR      CLE         8500      33.6   ⋯\n",
       "   2 │ Jalen Hurts          QB           PHI      DET         6800      30.82\n",
       "   3 │ Lamar Jackson        QB           BAL      NYJ         7300      30.303\n",
       "   4 │ Patrick Mahomes      QB           KC       ARI         7700      29.36\n",
       "   5 │ Jonathan Taylor      RB           IND      HOU         9100      29.515 ⋯\n",
       "   6 │ Kyler Murray         QB           ARI      KC          7200      27.763\n",
       "   7 │ Justin Herbert       QB           LAC      LV          7600      26.7\n",
       "   8 │ Austin Ekeler        RB           LAC      LV          8200      29.0\n",
       "   9 │ Aaron Rodgers        QB           GB       MIN         7000      25.58  ⋯\n",
       "  10 │ Trey Lance           QB           SF       CHI         6000      25.483\n",
       "  11 │ Alvin Kamara         RB           NO       ATL         7600      26.615\n",
       "  ⋮  │          ⋮                ⋮          ⋮        ⋮        ⋮         ⋮      ⋱\n",
       " 186 │ Jerick McKinnon      RB           KC       ARI         4200       9.2\n",
       " 187 │ Brevin Jordan        TE           HOU      IND         3100       9.0   ⋯\n",
       " 188 │ Jameson Williams     WR           DET      PHI         5600       9.1\n",
       " 189 │ Lions                DST          DET      PHI         2000       9.0\n",
       " 190 │ Chargers             DST          LAC      LV          3300       9.0\n",
       " 191 │ Sammy Watkins        WR           GB       MIN         4700       9.3   ⋯\n",
       " 192 │ Christian Watson     WR           GB       MIN         5100       9.1\n",
       " 193 │ Vikings              DST          MIN      GB          2200       8.0\n",
       " 194 │ Raiders              DST          LV       LAC         2100       8.0\n",
       " 195 │ Cardinals            DST          ARI      KC          2900       8.0   ⋯\n",
       "\u001b[36m                                                   1 column and 174 rows omitted\u001b[0m"
      ]
     },
     "execution_count": 51,
     "metadata": {},
     "output_type": "execute_result"
    }
   ],
   "source": [
    "offense"
   ]
  },
  {
   "cell_type": "code",
   "execution_count": 52,
   "metadata": {},
   "outputs": [
    {
     "data": {
      "text/plain": [
       "\"RB\""
      ]
     },
     "execution_count": 52,
     "metadata": {},
     "output_type": "execute_result"
    }
   ],
   "source": [
    "string(offense[all_teams[1][1],2])"
   ]
  },
  {
   "cell_type": "code",
   "execution_count": 53,
   "metadata": {},
   "outputs": [
    {
     "ename": "LoadError",
     "evalue": "UndefVarError: late_swap_print not defined",
     "output_type": "error",
     "traceback": [
      "UndefVarError: late_swap_print not defined",
      "",
      "Stacktrace:",
      " [1] top-level scope",
      "   @ In[53]:1",
      " [2] eval",
      "   @ ./boot.jl:368 [inlined]",
      " [3] include_string(mapexpr::typeof(REPL.softscope), mod::Module, code::String, filename::String)",
      "   @ Base ./loading.jl:1428"
     ]
    }
   ],
   "source": [
    "z = late_swap_print(all_teams, 12, 110, late_teams, cOffense)"
   ]
  },
  {
   "cell_type": "code",
   "execution_count": 54,
   "metadata": {},
   "outputs": [
    {
     "ename": "LoadError",
     "evalue": "IOError: cd(\"/Users/kevin/Desktop/Draftkings/2022/Data/ETR/Week 12/\"): no such file or directory (ENOENT)",
     "output_type": "error",
     "traceback": [
      "IOError: cd(\"/Users/kevin/Desktop/Draftkings/2022/Data/ETR/Week 12/\"): no such file or directory (ENOENT)",
      "",
      "Stacktrace:",
      " [1] uv_error",
      "   @ ./libuv.jl:97 [inlined]",
      " [2] cd(dir::String)",
      "   @ Base.Filesystem ./file.jl:91",
      " [3] top-level scope",
      "   @ In[54]:1",
      " [4] eval",
      "   @ ./boot.jl:368 [inlined]",
      " [5] include_string(mapexpr::typeof(REPL.softscope), mod::Module, code::String, filename::String)",
      "   @ Base ./loading.jl:1428"
     ]
    }
   ],
   "source": [
    "cd(\"/Users/kevin/Desktop/Draftkings/2022/Data/ETR/Week 12/\")\n",
    "\n",
    "\n",
    "\n",
    "writedlm( \"ls_names.csv\",  z, ',')"
   ]
  },
  {
   "cell_type": "code",
   "execution_count": 55,
   "metadata": {},
   "outputs": [
    {
     "data": {
      "text/plain": [
       "late_swap_print (generic function with 1 method)"
      ]
     },
     "execution_count": 55,
     "metadata": {},
     "output_type": "execute_result"
    }
   ],
   "source": [
    "function late_swap_print(new_teams, week, num_teams, late_teams, cOffense)\n",
    "\n",
    "    num_teams_making = num_teams\n",
    "    num = 9 #column\n",
    "\n",
    "    #5 = salary\n",
    "    #6 = regular projection\n",
    "    #7 = DK value\n",
    "    #8 = ownership\n",
    "    #9 = DK ID\n",
    "    #10 = ceiling projection\n",
    "    \n",
    "    ids = readdlm(string(\"/Users/kevin/Desktop/Draftkings/2022/Data/ETR/Week \", week, \"/dk_ids3.csv\"), ',', Int)\n",
    "\n",
    "\n",
    "\n",
    "\n",
    "\n",
    "    offense = cOffense\n",
    "    lineup2 = \"\"\n",
    "    #outfile = open(path_to_output, \"w\")\n",
    "    print_team = []\n",
    "\n",
    "\n",
    "\n",
    "    for i = 1:num_teams_making\n",
    "        lineup = [\"\" \"\" \"\" \"\" \"\" \"\" \"\" \"\" \"\"]\n",
    "        skip = []\n",
    "\n",
    "\n",
    "        for j =1:9\n",
    "            #println(i, \" \", j)\n",
    "            #if in ids, assign the same, else skip and come back to later\n",
    "            in_old_teams = 0\n",
    "            for t = 1:9\n",
    "                #println(string(offense[new_teams[i][j],9]), ids[i,j])\n",
    "                if string(offense[new_teams[i][j],9]) == string(ids[t,j]) && string(offense[new_teams[i][j],2]) in late_teams == false\n",
    "                    #print(\"here\")\n",
    "                    lineup[t] = string(offense[new_teams[i][j],9])\n",
    "                    in_old_teams = 0\n",
    "                end\n",
    "            end\n",
    "            \n",
    "            if in_old_teams == 0\n",
    "                skip = push!(skip, new_teams[i][j])\n",
    "            end\n",
    "        end\n",
    "    #println(skip)\n",
    "        if length(skip) > 0\n",
    "            for k in skip\n",
    "            \n",
    "                    if k in QB_i\n",
    "                        if lineup[1]==\"\"\n",
    "                            lineup[1] = string(offense[k,num])\n",
    "                        end\n",
    "                    elseif k in RB_i\n",
    "                        if lineup[2] == \"\"\n",
    "                            lineup[2] = string(offense[k,num])\n",
    "                        elseif lineup[3] == \"\"\n",
    "                            lineup[3] = string(offense[k,num])\n",
    "                        elseif lineup[8] == \"\"\n",
    "                            lineup[8] = string(offense[k,num])\n",
    "                        end\n",
    "                    elseif k in WR_i\n",
    "                        if lineup[4] == \"\"\n",
    "                            lineup[4] = string(offense[k,num])\n",
    "                        elseif lineup[5] ==\"\"\n",
    "                            lineup[5] = string(offense[k,num])\n",
    "                        elseif lineup[6] == \"\"\n",
    "                            lineup[6] = string(offense[k,num])\n",
    "                        elseif lineup[8] == \"\"\n",
    "                            lineup[8] = string(offense[k,num])\n",
    "                        end\n",
    "                    elseif k in TE_i\n",
    "                        if lineup[7] == \"\"\n",
    "                            lineup[7] = string(offense[k,num])\n",
    "                        elseif lineup[8] == \"\"\n",
    "                            lineup[8] = string(offense[k,num])\n",
    "                        end\n",
    "                    elseif k in DST_i\n",
    "                        if lineup[9] == \"\"\n",
    "                            lineup[9] = string(offense[k,num])\n",
    "                        end\n",
    "                    else\n",
    "                        println(i, \" \", j, \" sad boi\")\n",
    "                    end\n",
    "                #end\n",
    "\n",
    "            end\n",
    "        end\n",
    "\n",
    "       print_team = push!(print_team, lineup)\n",
    "    end\n",
    "    \n",
    "    return print_team\n",
    "end"
   ]
  },
  {
   "cell_type": "code",
   "execution_count": 56,
   "metadata": {},
   "outputs": [
    {
     "data": {
      "text/plain": [
       "0"
      ]
     },
     "execution_count": 56,
     "metadata": {},
     "output_type": "execute_result"
    }
   ],
   "source": [
    "length([])"
   ]
  },
  {
   "cell_type": "code",
   "execution_count": 57,
   "metadata": {},
   "outputs": [
    {
     "ename": "LoadError",
     "evalue": "UndefVarError: z not defined",
     "output_type": "error",
     "traceback": [
      "UndefVarError: z not defined",
      "",
      "Stacktrace:",
      " [1] top-level scope",
      "   @ :0",
      " [2] eval",
      "   @ ./boot.jl:368 [inlined]",
      " [3] include_string(mapexpr::typeof(REPL.softscope), mod::Module, code::String, filename::String)",
      "   @ Base ./loading.jl:1428"
     ]
    }
   ],
   "source": [
    "z"
   ]
  },
  {
   "cell_type": "code",
   "execution_count": 58,
   "metadata": {},
   "outputs": [
    {
     "data": {
      "text/plain": [
       "9-element Vector{Int64}:\n",
       "   1\n",
       "  12\n",
       "  19\n",
       "  32\n",
       "  43\n",
       "  49\n",
       "  76\n",
       " 109\n",
       " 152"
      ]
     },
     "execution_count": 58,
     "metadata": {},
     "output_type": "execute_result"
    }
   ],
   "source": [
    "all_teams[12]"
   ]
  },
  {
   "cell_type": "code",
   "execution_count": 59,
   "metadata": {},
   "outputs": [
    {
     "ename": "LoadError",
     "evalue": "UndefVarError: ids not defined",
     "output_type": "error",
     "traceback": [
      "UndefVarError: ids not defined",
      "",
      "Stacktrace:",
      " [1] top-level scope",
      "   @ In[59]:1",
      " [2] eval",
      "   @ ./boot.jl:368 [inlined]",
      " [3] include_string(mapexpr::typeof(REPL.softscope), mod::Module, code::String, filename::String)",
      "   @ Base ./loading.jl:1428"
     ]
    }
   ],
   "source": [
    "isempty(df[in(ids[11,7]).(df.DKSlateID), 2])"
   ]
  },
  {
   "cell_type": "code",
   "execution_count": 60,
   "metadata": {},
   "outputs": [
    {
     "data": {
      "text/plain": [
       "7-element Vector{Int64}:\n",
       " 1\n",
       " 2\n",
       " 3\n",
       " 4\n",
       " 5\n",
       " 6\n",
       " 7"
      ]
     },
     "execution_count": 60,
     "metadata": {},
     "output_type": "execute_result"
    }
   ],
   "source": [
    "a = [1,2,3,4,5,6,7]"
   ]
  },
  {
   "cell_type": "code",
   "execution_count": 61,
   "metadata": {},
   "outputs": [
    {
     "data": {
      "text/plain": [
       "7-element Vector{Float64}:\n",
       " 0.3333333333333333\n",
       " 0.6666666666666666\n",
       " 1.0\n",
       " 1.3333333333333333\n",
       " 1.6666666666666667\n",
       " 2.0\n",
       " 2.3333333333333335"
      ]
     },
     "execution_count": 61,
     "metadata": {},
     "output_type": "execute_result"
    }
   ],
   "source": [
    "a = a./3"
   ]
  },
  {
   "cell_type": "code",
   "execution_count": null,
   "metadata": {},
   "outputs": [],
   "source": []
  }
 ],
 "metadata": {
  "instance_type": "ml.m5.large",
  "kernelspec": {
   "display_name": "Julia 1.8.0",
   "language": "julia",
   "name": "julia-1.8"
  },
  "language_info": {
   "file_extension": ".jl",
   "mimetype": "application/julia",
   "name": "julia",
   "version": "1.8.0"
  }
 },
 "nbformat": 4,
 "nbformat_minor": 4
}
