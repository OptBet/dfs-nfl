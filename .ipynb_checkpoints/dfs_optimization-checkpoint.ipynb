{
 "cells": [
  {
   "cell_type": "code",
   "execution_count": 4,
   "metadata": {},
   "outputs": [
    {
     "ename": "LoadError",
     "evalue": "ArgumentError: Package GLPKMathProgInterface not found in current path:\n- Run `import Pkg; Pkg.add(\"GLPKMathProgInterface\")` to install the GLPKMathProgInterface package.\n",
     "output_type": "error",
     "traceback": [
      "ArgumentError: Package GLPKMathProgInterface not found in current path:\n- Run `import Pkg; Pkg.add(\"GLPKMathProgInterface\")` to install the GLPKMathProgInterface package.\n",
      "",
      "Stacktrace:",
      " [1] require(into::Module, mod::Symbol)",
      "   @ Base ./loading.jl:967",
      " [2] eval",
      "   @ ./boot.jl:373 [inlined]",
      " [3] include_string(mapexpr::typeof(REPL.softscope), mod::Module, code::String, filename::String)",
      "   @ Base ./loading.jl:1196"
     ]
    }
   ],
   "source": [
    "using DataFrames, DelimitedFiles, DataStructures\n",
    "using GLPKMathProgInterface\n",
    "using JuMP, StatsBase, DataFrames, CSV, LinearAlgebra, Distributions, Random\n",
    "using SCIP, GLPK,BenchmarkTools"
   ]
  },
  {
   "cell_type": "markdown",
   "metadata": {},
   "source": [
    "## Function to clean inputs\n"
   ]
  },
  {
   "cell_type": "code",
   "execution_count": 2,
   "metadata": {},
   "outputs": [
    {
     "data": {
      "text/plain": [
       "clean_input_v2 (generic function with 1 method)"
      ]
     },
     "execution_count": 2,
     "metadata": {},
     "output_type": "execute_result"
    }
   ],
   "source": [
    "function clean_input_v2(i,v)\n",
    "    cd(\"/Users/kevin/Desktop/Draftkings/2022/Data/ETR/\")\n",
    "    offense = CSV.read(string(\"Week \",i,\"/Weekly DraftKings Main Slate Projections Week \",i,\"_v\",v,\".csv\"), copycols=true, DataFrame)\n",
    "\n",
    "    \n",
    "    rename!(offense, Symbol(string(\"DK Salary\")) => :Salary)\n",
    "    rename!(offense, Symbol(string(\"DK Ceiling\")) => :Projection)\n",
    "    rename!(offense, Symbol(string(\"DK Ownership\")) => :Ownership)\n",
    "\n",
    "\n",
    "\n",
    "\n",
    "    offense = offense[completecases(offense), :]\n",
    "\n",
    " \n",
    "    #cut off players that have projected points less than 5\n",
    "    offense = offense[(offense.\"Projection\".>=9) .| (offense.\"DK Position\".== \"DST\"),:]\n",
    "    #remove injured players\n",
    "\n",
    "    #scores_o = copy(offense)\n",
    "    #global scores_d = copy(defense)\n",
    "\n",
    "    global num_offense = size(offense)[1]\n",
    "\n",
    "    \n",
    "    QB_indicies = Vector{Int}()\n",
    "    RB_indicies = Vector{Int}()\n",
    "    WR_indicies = Vector{Int}()\n",
    "    TE_indicies = Vector{Int}()\n",
    "    FLEX_indicies = Vector{Int}()\n",
    "    DST_indicies = Vector{Int}()\n",
    "\n",
    "\n",
    "   \n",
    "    for i =1:num_offense\n",
    "        if offense.\"DK Position\"[i] == \"QB\"\n",
    "            append!(QB_indicies, i)\n",
    "        elseif offense.\"DK Position\"[i] == \"RB\"\n",
    "            append!(RB_indicies, i)\n",
    "            append!(FLEX_indicies, i)\n",
    "        elseif offense.\"DK Position\"[i] == \"WR\"\n",
    "            append!(WR_indicies, i)\n",
    "            append!(FLEX_indicies, i)\n",
    "        elseif offense.\"DK Position\"[i] == \"TE\"\n",
    "            append!(TE_indicies, i)\n",
    "            append!(FLEX_indicies, i)\n",
    "        elseif offense.\"DK Position\"[i] == \"DST\"\n",
    "            append!(DST_indicies, i)\n",
    "        else\n",
    "            append!(FLEX_indicies, i)\n",
    "        end\n",
    "    end\n",
    "    \n",
    "    return offense, QB_indicies, RB_indicies, WR_indicies, TE_indicies, FLEX_indicies, DST_indicies\n",
    "        \n",
    "        \n",
    "    \n",
    "end"
   ]
  },
  {
   "cell_type": "code",
   "execution_count": 3,
   "metadata": {},
   "outputs": [
    {
     "data": {
      "text/plain": [
       "calc_cor (generic function with 1 method)"
      ]
     },
     "execution_count": 3,
     "metadata": {},
     "output_type": "execute_result"
    }
   ],
   "source": [
    "function calc_cor(player_matrix, temp_teams, player_cor, i, j)\n",
    "    if ismissing(temp_teams[i,2])\n",
    "        player_matrix[i,j] .= 0\n",
    "    elseif ismissing(temp_teams[j,2])\n",
    "        player_matrix[i,j] = 0\n",
    "    elseif temp_teams[i,2]==temp_teams[j,2]\n",
    "        try\n",
    "            orig_a = player_cor[:,i]\n",
    "            orig_b = player_cor[:,j]\n",
    "\n",
    "            a = orig_a[(ismissing.(orig_b).==false) .& (ismissing.(orig_a).==false),1]\n",
    "            b = orig_b[(ismissing.(orig_a).==false) .& (ismissing.(orig_b).==false),1]\n",
    "            \n",
    "            if (i ==1) & (j == 47)\n",
    "                println(a, b)\n",
    "            end\n",
    "            player_matrix[i,j] = cor(a, b)\n",
    "        catch err\n",
    "            player_matrix[i,j] = 0\n",
    "        end\n",
    "    else\n",
    "        player_matrix[i,j] = 0\n",
    "    end\n",
    "    return player_matrix[i,j]\n",
    "end"
   ]
  },
  {
   "cell_type": "code",
   "execution_count": 4,
   "metadata": {},
   "outputs": [
    {
     "data": {
      "text/plain": [
       "calc_var (generic function with 1 method)"
      ]
     },
     "execution_count": 4,
     "metadata": {},
     "output_type": "execute_result"
    }
   ],
   "source": [
    "function calc_var(player_matrix, temp_teams, player_cor, i)\n",
    "\n",
    "    orig_a = player_cor[:,i]\n",
    "    #a = orig_a[(ismissing.(orig_a).==false),1]\n",
    "    a = skipmissing(orig_a)\n",
    "\n",
    "    \n",
    "    println(a)\n",
    "    try\n",
    "        variance = var(a)\n",
    "    catch err\n",
    "        variance = 0    \n",
    "    end\n",
    "    \n",
    "    return variance\n",
    "end"
   ]
  },
  {
   "cell_type": "code",
   "execution_count": 5,
   "metadata": {},
   "outputs": [
    {
     "data": {
      "text/plain": [
       "get_variance (generic function with 1 method)"
      ]
     },
     "execution_count": 5,
     "metadata": {},
     "output_type": "execute_result"
    }
   ],
   "source": [
    "function get_variance(from, to, v, max_score)\n",
    "    #cd(\"/Users/kevin/Dropbox (MIT)/Draft Kings/2021/2020SeasonData/\")\n",
    "    offense2 = get_stripped_offense(from)\n",
    "    offense2 = offense2[:,[:Player_Name,:Actual_FP]]\n",
    "    temp = offense2\n",
    "    \n",
    "    for i=from+1:to-1\n",
    "        offense2 = get_stripped_offense(i)\n",
    "        offense2 = offense2[:,[:Player_Name,:Actual_FP]]\n",
    "\n",
    "   \n",
    "        temp = outerjoin(temp, offense2, on = :Player_Name, makeunique=true)\n",
    "        \n",
    "    end\n",
    "    #print(temp)\n",
    "    \n",
    "    #temp = Tables.matrix(temp[:,2:end])\n",
    "    #print(temp)\n",
    "    #print(temp)\n",
    "    #cd(\"/Users/kevin/Dropbox (MIT)/Draft Kings/2021/2020SeasonData/\")\n",
    "    current_offense, QB_i, RB_i, WR_i, TE_i, FLEX_i, DST_i = clean_input_v2(to, v);\n",
    "    current_offense.\"Player\" .= replace.(current_offense.\"Player\", r\"-\" => \"\")\n",
    "    current_offense.\"Player\" .= replace.(current_offense.\"Player\", r\"\\.\" => \"\")\n",
    "    current_offense.\"Player\" .= replace.(current_offense.\"Player\", r\"'\" => \"\")\n",
    "    transform!(current_offense, :Player => ByRow(lowercase) => :Player)\n",
    "    rename!(current_offense, Symbol(string(\"Player\")) => :Player_Name)\n",
    "   \n",
    "   #print(current_offense) \n",
    "    \n",
    "    var_array = []\n",
    "    \n",
    "    for i=1:length(current_offense[:,1])\n",
    "        points = []\n",
    "        #println(current_offense[i,1])\n",
    "        #println(Matrix(filter(row -> row.Player_Name == current_offense[i,1], temp)))\n",
    "        \n",
    "        #println(temp)\n",
    "        \n",
    "        if current_offense[i,1] in temp[:,1]\n",
    "            #println(current_offense[i,1])\n",
    "            points_df = filter(row -> row.Player_Name == current_offense[i,1], temp)\n",
    "            #println(points_df)\n",
    "            for j = 2:(to-from)+1\n",
    "                if ismissing(points_df[1,j]) == false\n",
    "                    if Float64.(points_df[1,j]) != 0\n",
    "                        append!(points, points_df[1,j])\n",
    "                    end\n",
    "                end\n",
    "            end\n",
    "            \n",
    "            #println(current_offense[i,1], points)\n",
    "        else            \n",
    "            points = 0\n",
    "        end\n",
    "        \n",
    "        if length(points) > 0\n",
    "            variance = var(points)\n",
    "        else\n",
    "            variance = 0\n",
    "        end\n",
    "        \n",
    "        if variance > 0\n",
    "            append!(var_array, variance)\n",
    "        else\n",
    "            append!(var_array, 0)\n",
    "        end\n",
    "            \n",
    "        #println(var_array)\n",
    "    end\n",
    "    \n",
    "    #println(var_array)\n",
    "\n",
    "    b = Float64.(var_array)\n",
    "    \n",
    "    scale = maximum(b) / max_score\n",
    "    \n",
    "    b = b ./ scale\n",
    "    \n",
    "    #print(b)\n",
    "    \n",
    "    return b\n",
    "end\n"
   ]
  },
  {
   "cell_type": "code",
   "execution_count": 6,
   "metadata": {},
   "outputs": [
    {
     "ename": "LoadError",
     "evalue": "UndefVarError: get_stripped_offense not defined",
     "output_type": "error",
     "traceback": [
      "UndefVarError: get_stripped_offense not defined",
      "",
      "Stacktrace:",
      " [1] get_variance(from::Int64, to::Int64, v::Int64, max_score::Int64)",
      "   @ Main ./In[5]:3",
      " [2] top-level scope",
      "   @ In[6]:1",
      " [3] eval",
      "   @ ./boot.jl:360 [inlined]",
      " [4] include_string(mapexpr::typeof(REPL.softscope), mod::Module, code::String, filename::String)",
      "   @ Base ./loading.jl:1116"
     ]
    }
   ],
   "source": [
    "var_boost = get_variance(6,12,4, 33);"
   ]
  },
  {
   "cell_type": "code",
   "execution_count": 7,
   "metadata": {},
   "outputs": [
    {
     "ename": "LoadError",
     "evalue": "UndefVarError: var_boost not defined",
     "output_type": "error",
     "traceback": [
      "UndefVarError: var_boost not defined",
      "",
      "Stacktrace:",
      " [1] top-level scope",
      "   @ In[7]:1",
      " [2] eval",
      "   @ ./boot.jl:360 [inlined]",
      " [3] include_string(mapexpr::typeof(REPL.softscope), mod::Module, code::String, filename::String)",
      "   @ Base ./loading.jl:1116"
     ]
    }
   ],
   "source": [
    "var_boost[1]"
   ]
  },
  {
   "cell_type": "code",
   "execution_count": 8,
   "metadata": {},
   "outputs": [
    {
     "data": {
      "text/plain": [
       "get_stripped_offense (generic function with 1 method)"
      ]
     },
     "execution_count": 8,
     "metadata": {},
     "output_type": "execute_result"
    }
   ],
   "source": [
    "function get_stripped_offense(week)\n",
    "    cd(\"/Users/kevin/Desktop/Draftkings/2022/Data/DFN_Historical/\")\n",
    "    offense = CSV.read(string(\"DFN NFL Offense DK Week \",week,\".csv\"), copycols=true, DataFrame)\n",
    "    rename!(offense, Symbol(string(\"Proj FP\")) => :Projection)\n",
    "    #offense = offense[offense[:,:Projection].>=3.01,:]\n",
    "    \n",
    "    offense.\"Player Name\" .= replace.(offense.\"Player Name\", r\"-\" => \"\")\n",
    "    offense.\"Player Name\" .= replace.(offense.\"Player Name\", r\"\\.\" => \"\")\n",
    "    offense.\"Player Name\" .= replace.(offense.\"Player Name\", r\"'\" => \"\")\n",
    "    \n",
    "    rename!(offense, Symbol(string(\"Player Name\")) => :Player_Name)\n",
    "    rename!(offense, Symbol(string(\"Actual FP\")) => :Actual_FP)\n",
    "    transform!(offense, :Player_Name => ByRow(lowercase) => :Player_Name)\n",
    "\n",
    "    return offense\n",
    "end"
   ]
  },
  {
   "cell_type": "code",
   "execution_count": 9,
   "metadata": {},
   "outputs": [
    {
     "data": {
      "text/plain": [
       "get_correlation_matrix (generic function with 1 method)"
      ]
     },
     "execution_count": 9,
     "metadata": {},
     "output_type": "execute_result"
    }
   ],
   "source": [
    "function get_correlation_matrix(from, to, v)\n",
    "    #cd(\"/Users/kevin/Dropbox (MIT)/Draft Kings/2021/2020SeasonData/\")\n",
    "\n",
    "    for i=from:to-1\n",
    "        offense2 = get_stripped_offense(i)\n",
    "        offense2 = offense2[:,[:Player_Name,:Actual_FP]]\n",
    "\n",
    "\n",
    "        #print(i)\n",
    "        if i==from\n",
    "            temp = offense2\n",
    "        else\n",
    "            temp = outerjoin(temp, offense2, on = :Player_Name, makeunique=true)\n",
    "        end\n",
    "    end\n",
    "    #print(temp)\n",
    "    #cd(\"/Users/kevin/Dropbox (MIT)/Draft Kings/2021/2020SeasonData/\")\n",
    "    current_offense, QB_i, RB_i, WR_i, TE_i, FLEX_i, DST_i = clean_input_v2(to, v);\n",
    "    current_offense.\"Player\" .= replace.(current_offense.\"Player\", r\"-\" => \"\")\n",
    "    current_offense.\"Player\" .= replace.(current_offense.\"Player\", r\"\\.\" => \"\")\n",
    "    current_offense.\"Player\" .= replace.(current_offense.\"Player\", r\"'\" => \"\")\n",
    "    transform!(current_offense, :Player => ByRow(lowercase) => :Player)\n",
    "    rename!(current_offense, Symbol(string(\"Player\")) => :Player_Name)\n",
    "\n",
    "\n",
    "    current_offense = current_offense[:,[:Player_Name,:Team]]\n",
    "    #temp = temp[:,[:Player_Name,:Actual_FP]]\n",
    "\n",
    "    #print(temp)\n",
    "    #print(current_offense)\n",
    "    #print(temp)\n",
    "    #gold skeleton key\n",
    "    temp = leftjoin(current_offense, temp, on = :Player_Name, makeunique=true)\n",
    "\n",
    "\n",
    "    #temp = leftjoin(current_offense, temp, on = [:Player_Name])\n",
    "    #print(temp2)\n",
    "    #println(temp)\n",
    "    temp = temp[:,setdiff(names(temp), [:Team])]\n",
    "    temp_teams = current_offense\n",
    "\n",
    "    temp = Matrix(temp)\n",
    "    #print(temp)\n",
    "    temp = permutedims(temp)\n",
    "    #print(temp)\n",
    "\n",
    "\n",
    "    player_list = temp[1,:]\n",
    "    player_cor = temp[3:end,:]\n",
    "    temp_teams = temp_teams[:,[:Player_Name,:Team]]\n",
    "    #println(player_cor)\n",
    "\n",
    "\n",
    "\n",
    "    n = size(temp_teams)[1]\n",
    "    player_matrix = zeros(n,n)\n",
    "    #temp_teams\n",
    "    for i=1:n,j=1:n\n",
    "        \n",
    "        #if i in FLEX_i && j in FLEX_i && j in opp_team[i]\n",
    "         #   player_matrix[i,j] = (cOffense[j,:Projection]/(9*10))\n",
    "        if i in DST_i || j in DST_i\n",
    "            player_matrix[i,j] = 0\n",
    "        elseif i in QB_i && j in RB_i\n",
    "            player_matrix[i,j] = calc_cor(player_matrix, temp_teams, player_cor, i, j)\n",
    "            if player_matrix[i,j] < -0.2\n",
    "                player_matrix[i,j] = -100\n",
    "            else\n",
    "                player_matrix[i,j] = player_matrix[i,j] * 0.25\n",
    "            end\n",
    "        elseif j in QB_i && i in RB_i\n",
    "            player_matrix[i,j] = calc_cor(player_matrix, temp_teams, player_cor, i, j) \n",
    "            if player_matrix[i,j] < -0.2\n",
    "                player_matrix[i,j] = -100\n",
    "            else\n",
    "                player_matrix[i,j] = player_matrix[i,j] * 0.25\n",
    "            end\n",
    "        elseif i in QB_i || j in QB_i\n",
    "            player_matrix[i,j] = calc_cor(player_matrix, temp_teams, player_cor, i, j)\n",
    "        else\n",
    "            player_matrix[i,j] = calc_cor(player_matrix, temp_teams, player_cor, i, j)\n",
    "            if player_matrix[i,j] < -0.2\n",
    "                player_matrix[i,j] = -100\n",
    "            else\n",
    "                player_matrix[i,j] = player_matrix[i,j] * 0.25\n",
    "            end\n",
    "        end\n",
    "        if isnan(player_matrix[i,j])\n",
    "            player_matrix[i,j] = 0\n",
    "        end\n",
    "    end\n",
    "\n",
    "    for i=1:n\n",
    "        player_matrix[i,i] = 1\n",
    "    end\n",
    "    player_matrix[player_matrix.<-0.2] .= -100;\n",
    "    return player_matrix\n",
    "end"
   ]
  },
  {
   "cell_type": "code",
   "execution_count": 10,
   "metadata": {},
   "outputs": [
    {
     "data": {
      "text/plain": [
       "get_bring_back (generic function with 1 method)"
      ]
     },
     "execution_count": 10,
     "metadata": {},
     "output_type": "execute_result"
    }
   ],
   "source": [
    "function get_bring_back(week, QB_i, offense)\n",
    "    \n",
    "    bring_back = Vector{Vector{Int}}()\n",
    "\n",
    "    for i = 1:length(QB_i)\n",
    "        temp = Vector{Int}()\n",
    "        for j = 1:size(t)[1]\n",
    "            \n",
    "            if (offense[j, :Team] == offense[QB_i[i], :Opponent]) && (j in FLEX_i)\n",
    "                append!(temp, j)\n",
    "\n",
    "            end\n",
    "        end\n",
    "        push!(bring_back, temp)   \n",
    "    end\n",
    "    \n",
    "    return bring_back\n",
    "end"
   ]
  },
  {
   "cell_type": "code",
   "execution_count": 11,
   "metadata": {},
   "outputs": [
    {
     "data": {
      "text/plain": [
       "get_opposing_defense (generic function with 1 method)"
      ]
     },
     "execution_count": 11,
     "metadata": {},
     "output_type": "execute_result"
    }
   ],
   "source": [
    "function get_opposing_defense(week, QB_i, offense)\n",
    "    \n",
    "    opp_defense = Vector{Vector{Int}}()\n",
    "\n",
    "    for i = 1:length(QB_i)\n",
    "        temp = Vector{Int}()\n",
    "        for j = 1:size(t)[1]\n",
    "            \n",
    "            if (offense[QB_i[i], :Team] == offense[j, :Opponent]) && (j in DST_i)\n",
    "                append!(temp, j)\n",
    "\n",
    "            end\n",
    "        end\n",
    "        push!(opp_defense, temp)   \n",
    "    end\n",
    "    \n",
    "    return opp_defense\n",
    "end"
   ]
  },
  {
   "cell_type": "code",
   "execution_count": 12,
   "metadata": {},
   "outputs": [
    {
     "data": {
      "text/plain": [
       "get_opposing_team (generic function with 1 method)"
      ]
     },
     "execution_count": 12,
     "metadata": {},
     "output_type": "execute_result"
    }
   ],
   "source": [
    "function get_opposing_team(week, offense)\n",
    "    \n",
    "    opp_team = Vector{Vector{Int}}()\n",
    "\n",
    "    for i = 1:size(t)[1]\n",
    "        temp = Vector{Int}()\n",
    "        for j = 1:size(t)[1]\n",
    "            \n",
    "            if (offense[i, :Team] == offense[j, :Opponent]) && i in FLEX_i && j in FLEX_i\n",
    "                append!(temp, j)\n",
    "\n",
    "            end\n",
    "        end\n",
    "        push!(opp_team, temp)   \n",
    "    end\n",
    "    \n",
    "    return opp_team\n",
    "end"
   ]
  },
  {
   "cell_type": "code",
   "execution_count": 13,
   "metadata": {},
   "outputs": [
    {
     "data": {
      "text/plain": [
       "get_games (generic function with 1 method)"
      ]
     },
     "execution_count": 13,
     "metadata": {},
     "output_type": "execute_result"
    }
   ],
   "source": [
    "function get_games(df)\n",
    "    unq = unique(df[:,:Team])\n",
    "    num_games = length(unq)\n",
    "    game = Vector{Vector{Int}}()\n",
    "\n",
    "    for i = 1:num_games\n",
    "        temp = Vector{Int}()\n",
    "        for j = 1:size(t)[1]\n",
    "            \n",
    "            if j in FLEX_i || j in DST_i\n",
    "                if (df[j, :Team] == unq[i]) || (df[j, :Opponent] == unq[i]) \n",
    "                    append!(temp, j)\n",
    "\n",
    "                end\n",
    "            end\n",
    "        end\n",
    "        push!(game, temp)   \n",
    "    end\n",
    "    \n",
    "    return game, num_games\n",
    "    \n",
    "end"
   ]
  },
  {
   "cell_type": "code",
   "execution_count": 14,
   "metadata": {},
   "outputs": [
    {
     "data": {
      "text/plain": [
       "get_teams (generic function with 1 method)"
      ]
     },
     "execution_count": 14,
     "metadata": {},
     "output_type": "execute_result"
    }
   ],
   "source": [
    "function get_teams(df)\n",
    "    unq = unique(df[:,:Team])\n",
    "    num_teams = length(unq)\n",
    "    team = Vector{Vector{Int}}()\n",
    "\n",
    "    for i = 1:num_teams\n",
    "        temp = Vector{Int}()\n",
    "        for j = 1:size(t)[1]\n",
    "            \n",
    "            #if j in FLEX_i || j in DST_i\n",
    "                if (df[j, :Team] == unq[i]) \n",
    "                    append!(temp, j)\n",
    "\n",
    "                end\n",
    "           # end\n",
    "        end\n",
    "        push!(team, temp)   \n",
    "    end\n",
    "    \n",
    "    return team, num_teams\n",
    "    \n",
    "end"
   ]
  },
  {
   "cell_type": "code",
   "execution_count": 15,
   "metadata": {},
   "outputs": [
    {
     "data": {
      "text/plain": [
       "get_idx (generic function with 1 method)"
      ]
     },
     "execution_count": 15,
     "metadata": {},
     "output_type": "execute_result"
    }
   ],
   "source": [
    "function get_idx(t)\n",
    "    team_idx = Vector{Vector{Int}}()\n",
    "\n",
    "    for i=1:size(t)[1]\n",
    "\n",
    "        temp = Vector{Int}()\n",
    "\n",
    "        for j=1:size(t)[2]\n",
    "            if i<j\n",
    "                if t[i,j] != 0\n",
    "                    append!(temp, j)\n",
    "                end\n",
    "            end    \n",
    "        end\n",
    "\n",
    "        push!(team_idx, temp)   \n",
    "\n",
    "    end\n",
    "\n",
    "\n",
    "\n",
    "\n",
    "    #####################\n",
    "\n",
    "    team_idx_cross = Vector{Vector{Int}}()\n",
    "\n",
    "    for i=1:size(t)[1]\n",
    "\n",
    "        temp = Vector{Int}()\n",
    "\n",
    "        for j=1:size(t)[2]\n",
    "            #if i<=j\n",
    "                if t[i,j] > 0\n",
    "                    append!(temp, j)\n",
    "                end\n",
    "            #end    \n",
    "        end\n",
    "\n",
    "        push!(team_idx_cross, temp)   \n",
    "    end\n",
    "    \n",
    "    return team_idx, team_idx_cross\n",
    "end"
   ]
  },
  {
   "cell_type": "code",
   "execution_count": 16,
   "metadata": {},
   "outputs": [
    {
     "data": {
      "text/plain": [
       "late_swap_ids (generic function with 1 method)"
      ]
     },
     "execution_count": 16,
     "metadata": {},
     "output_type": "execute_result"
    }
   ],
   "source": [
    "function late_swap_ids(week, new_version, late_teams)\n",
    "    df, QB_i, RB_i, WR_i, TE_i, FLEX_i, DST_i = clean_input_v2(week, new_version)\n",
    "\n",
    "    ids = readdlm(string(\"/Users/kevin/Desktop/Draftkings/2022/Data/ETR/Week \", week, \"/dk_ids3.csv\"), ',', Int)\n",
    "    \n",
    "    all_teams = []\n",
    "    for i = 1:length(ids[:,1])\n",
    "        team_i = []\n",
    "        for j = 1:9            \n",
    "            row = findall(x -> x == ids[i,j], df.\"DKSlateID\")\n",
    "            if length(row) > 0\n",
    "                if (df[row[1], :Team] in late_teams) == false \n",
    "                    team_i = push!(team_i, row[1])\n",
    "                end\n",
    "            end\n",
    "        end\n",
    "        all_teams = push!(all_teams, team_i)\n",
    "    end\n",
    "    \n",
    "    return all_teams\n",
    "end"
   ]
  },
  {
   "cell_type": "code",
   "execution_count": 17,
   "metadata": {},
   "outputs": [
    {
     "ename": "LoadError",
     "evalue": "UndefVarError: df not defined",
     "output_type": "error",
     "traceback": [
      "UndefVarError: df not defined",
      "",
      "Stacktrace:",
      " [1] top-level scope",
      "   @ In[17]:1",
      " [2] eval",
      "   @ ./boot.jl:360 [inlined]",
      " [3] include_string(mapexpr::typeof(REPL.softscope), mod::Module, code::String, filename::String)",
      "   @ Base ./loading.jl:1116"
     ]
    }
   ],
   "source": [
    "df[2, :Team] in late_teams \n"
   ]
  },
  {
   "cell_type": "code",
   "execution_count": 18,
   "metadata": {},
   "outputs": [],
   "source": [
    "for i = 1:0\n",
    "    print(i)\n",
    "end"
   ]
  },
  {
   "cell_type": "code",
   "execution_count": 19,
   "metadata": {},
   "outputs": [
    {
     "ename": "LoadError",
     "evalue": "UndefVarError: cOffense not defined",
     "output_type": "error",
     "traceback": [
      "UndefVarError: cOffense not defined",
      "",
      "Stacktrace:",
      " [1] top-level scope",
      "   @ In[19]:1",
      " [2] eval",
      "   @ ./boot.jl:360 [inlined]",
      " [3] include_string(mapexpr::typeof(REPL.softscope), mod::Module, code::String, filename::String)",
      "   @ Base ./loading.jl:1116"
     ]
    }
   ],
   "source": [
    "cOffense[!,\"DK Ownership\"]"
   ]
  },
  {
   "cell_type": "code",
   "execution_count": 20,
   "metadata": {},
   "outputs": [
    {
     "ename": "LoadError",
     "evalue": "UndefVarError: all_teams not defined",
     "output_type": "error",
     "traceback": [
      "UndefVarError: all_teams not defined",
      "",
      "Stacktrace:",
      " [1] top-level scope",
      "   @ :0",
      " [2] eval",
      "   @ ./boot.jl:360 [inlined]",
      " [3] include_string(mapexpr::typeof(REPL.softscope), mod::Module, code::String, filename::String)",
      "   @ Base ./loading.jl:1116"
     ]
    }
   ],
   "source": [
    "all_teams"
   ]
  },
  {
   "cell_type": "code",
   "execution_count": 21,
   "metadata": {},
   "outputs": [
    {
     "data": {
      "text/plain": [
       "6-element Vector{String}:\n",
       " \"DEN\"\n",
       " \"CIN\"\n",
       " \"ATL\"\n",
       " \"GB\"\n",
       " \"SF\"\n",
       " \"BAL\""
      ]
     },
     "execution_count": 21,
     "metadata": {},
     "output_type": "execute_result"
    }
   ],
   "source": [
    "late_teams = [\"DEN\", \"CIN\", \"ATL\", \"GB\", \"SF\", \"BAL\"]"
   ]
  },
  {
   "cell_type": "markdown",
   "metadata": {},
   "source": [
    "## required input cleanings"
   ]
  },
  {
   "cell_type": "code",
   "execution_count": 22,
   "metadata": {},
   "outputs": [],
   "source": [
    "week = 15\n",
    "version = 3\n",
    "\n",
    "cOffense, QB_i, RB_i, WR_i, TE_i, FLEX_i, DST_i = clean_input_v2(week, version);\n",
    "\n",
    "#QB, RB, WR, TE, num_teams, num_offense, num_defense, offense, defense, offense_opp, offense_teams = clean_input(week);\n",
    "\n",
    "t = get_correlation_matrix(week -5, week, version)\n",
    "\n",
    "\n",
    "\n",
    "cNum_offense = length(cOffense[:,1])\n",
    "#cNum_teams = length(cDefense[:,1])\n",
    "num_QB = length(QB_i)\n",
    "num_RB = length(RB_i)\n",
    "num_WR = length(WR_i)\n",
    "num_TE = length(TE_i)\n",
    "num_DST = length(DST_i)\n",
    "num_FLEX = length(FLEX_i)\n",
    "\n",
    "\n",
    "var_boost = get_variance(1, week, version, 38);"
   ]
  },
  {
   "cell_type": "code",
   "execution_count": 23,
   "metadata": {},
   "outputs": [],
   "source": [
    "bring_back = get_bring_back(week, QB_i, cOffense);"
   ]
  },
  {
   "cell_type": "code",
   "execution_count": 24,
   "metadata": {},
   "outputs": [],
   "source": [
    "opp_team = get_opposing_team(week, cOffense);"
   ]
  },
  {
   "cell_type": "code",
   "execution_count": 25,
   "metadata": {},
   "outputs": [],
   "source": [
    "team_idx, team_idx_cross = get_idx(t);"
   ]
  },
  {
   "cell_type": "code",
   "execution_count": 26,
   "metadata": {},
   "outputs": [],
   "source": [
    "game_stack, num_games = get_games(cOffense);\n",
    "team_stack, num_teams = get_teams(cOffense);"
   ]
  },
  {
   "cell_type": "markdown",
   "metadata": {},
   "source": [
    "## make optimization"
   ]
  },
  {
   "cell_type": "code",
   "execution_count": 27,
   "metadata": {},
   "outputs": [
    {
     "data": {
      "text/plain": [
       "makeTeamX (generic function with 1 method)"
      ]
     },
     "execution_count": 27,
     "metadata": {},
     "output_type": "execute_result"
    }
   ],
   "source": [
    "function makeTeamX(num, X, cOffense, cNum_offense, QB_i, RB_i, WR_i, TE_i, FLEX_i, num_QB, num_RB, num_WR, num_TE, num_FLEX, bring_back, team_idx, team_idx_cross, opp_team, game_stack, num_games, rand_vec, team_stack, num_teams, var_boost)#num is what team it is from 1-100, X is current teams\n",
    "    m1 = Model(SCIP.Optimizer)\n",
    "    set_silent(m1)\n",
    "    #GLPK.Optimizer\n",
    "    M = 100\n",
    "    max_overlap = 5.1\n",
    "    max_same_player = 40\n",
    "    @variable(m1, x[1:cNum_offense], Bin) #pick players\n",
    "    #@variable(m1, def[1:cNum_teams], Bin) #pick players\n",
    "    #@variable(m1, PB[1:cNum_offense], Bin) #player boost\n",
    "    \n",
    "    \n",
    "    #@constraint(m1, [i=1:length(FLEX_i)], PB[FLEX_i[i]] <= sum(x[opp_team[i][j]] for j = 1:length(opp_team[i])))\n",
    "    \n",
    "    #@constraint(m1, [i=1:length(QB_i)], PB[QB_i[i]] == 0)\n",
    "    #@constraint(m1, [i=1:length(DST_i)], PB[DST_i[i]] == 0)\n",
    "\n",
    "    #@variable(m1, G[1:num_games], Bin)\n",
    "    #@constraint(m1,[i=1:num_games], 1.5 * G[i] <= sum(x[game_stack[i][j]] for j=1:length(game_stack[i])))\n",
    "    #@constraint(m1, sum(G[i] for i=1:num_games) >= 2)\n",
    "    #need to make num_games and game_stack, try using uniques to get it\n",
    "    \n",
    "    @variable(m1, u>=0) #pick players\n",
    "\n",
    "\n",
    "    @objective(m1, Max, u)\n",
    "\n",
    "    @constraint(m1, sum(x[i]*rand_vec[i] for i=1:cNum_offense) +  # cOffense[i, :Projection] for i=1:cNum_offense) + \n",
    "                    (sum(t[i,team_idx[i][j]]*x[i]*x[team_idx[i][j]] for i=1:cNum_offense for j=1:length(team_idx[i])) * 9) +\n",
    "                        (sum(x[i]*var_boost[i] for i=1:cNum_offense) *0.03) >= u)\n",
    "                    #sum(0.1 * x[i] * x[opp_def[i][j]] for i=1:cNum_offense for j=1:length(opp_def[i])) +\n",
    "                    #sum(0.1*PB[i]*cOffense[i, :Projection] for i=1:cNum_offense) +\n",
    "                    \n",
    "\n",
    "    @constraint(m1, sum(x[QB_i[i]] for i=1:num_QB) == 1)\n",
    "    @constraint(m1, sum(x[RB_i[i]] for i=1:num_RB) >= 2)\n",
    "    @constraint(m1, sum(x[WR_i[i]] for i=1:num_WR) >= 3)\n",
    "    @constraint(m1, sum(x[TE_i[i]] for i=1:num_TE) >= 1)\n",
    "    @constraint(m1, sum(x[DST_i[i]] for i=1:num_DST) == 1)\n",
    "    @constraint(m1, sum(x[FLEX_i[i]] for i=1:num_FLEX) == 7)\n",
    "    @constraint(m1,sum(x[i]*cOffense[i, :Salary] for i=1:cNum_offense) <= 50000)\n",
    "    @constraint(m1, sum(x[i] for i=1:cNum_offense) == 9)\n",
    "                        \n",
    "    @constraint(m1,sum(x[i]*cOffense[i, :Ownership] for i=1:cNum_offense) <= 200)\n",
    "\n",
    "\n",
    "    \n",
    "    \n",
    "    #@constraint(m1, sum(t[i,team_idx[i][j]]*x[i]*x[team_idx[i][j]] for i=1:cNum_offense for j=1:length(team_idx[i])) >= 1.5)\n",
    "    \n",
    "    #bring back\n",
    "                    \n",
    "    @constraint(m1,[i=1:length(QB_i)], x[QB_i[i]] - sum(x[bring_back[i][j]] for j = 1:length(bring_back[i])) <= 0)\n",
    "                        \n",
    "    #team stack          \n",
    "    @constraint(m1,[i=1:num_teams], sum(x[team_stack[i][j]] for j=1:length(team_stack[i])) <= 4)\n",
    "\n",
    "\n",
    "    \n",
    "    #@constraint(m1, sum(def[i] for i=1:cNum_teams) == 1)\n",
    "\n",
    "\n",
    "    if num != 1\n",
    "        #for i=1:num\n",
    "        @constraint(m1,[i=1:num-1], sum(t[X[i][k],team_idx_cross[X[i][k]][j]] * x[team_idx_cross[X[i][k]][j]] for k = 1:9 for j=1:length(team_idx_cross[X[i][k]])) <= 6.9)\n",
    "        #end\n",
    "                        \n",
    "        #@constraint(m1,[i=1:num-1], sum(x[X[i][k]] for k = 1:8) <= max_overlap)\n",
    "\n",
    "\n",
    "    end \n",
    "                                        \n",
    "    optimize!(m1)\n",
    "    return(JuMP.value.(x))\n",
    "end"
   ]
  },
  {
   "cell_type": "code",
   "execution_count": 28,
   "metadata": {
    "scrolled": true
   },
   "outputs": [
    {
     "data": {
      "text/plain": [
       "makeAllTeams (generic function with 1 method)"
      ]
     },
     "execution_count": 28,
     "metadata": {},
     "output_type": "execute_result"
    }
   ],
   "source": [
    "function makeAllTeams(count, X, cOffense, cNum_offense, QB_i, RB_i, WR_i, TE_i, FLEX_i, num_QB, num_RB, num_WR, num_TE, num_FLEX, bring_back, team_idx, team_idx_cross, opp_team, game_stack, num_games, team_stack, num_teams, var_boost) #count is how many teams you want\n",
    "    \n",
    "    rand_vec = rand(cNum_offense,1)/25 .+1\n",
    "    temp = cOffense[:, :Projection]\n",
    "    rand_vec = rand_vec .* temp\n",
    "    x1 = makeTeamX(1, X, cOffense, cNum_offense, QB_i, RB_i, WR_i, TE_i, FLEX_i, num_QB, num_RB, num_WR, num_TE, num_FLEX, bring_back, team_idx, team_idx_cross, opp_team, game_stack, num_games, rand_vec, team_stack, num_teams, var_boost);\n",
    "\n",
    "    B = Vector{Int}()\n",
    "    for i=1:length(x1)\n",
    "        if x1[i] > 0.5\n",
    "            append!(B,i)\n",
    "        end\n",
    "    end\n",
    "    X = push!(X, B)\n",
    "    \n",
    "    for i = 2:count\n",
    "        rand_vec = rand(cNum_offense,1)/25 .+1\n",
    "        temp = cOffense[:, :Projection]\n",
    "        rand_vec = rand_vec .* temp\n",
    "        @time x1 = makeTeamX(i, X, cOffense, cNum_offense, QB_i, RB_i, WR_i, TE_i, FLEX_i, num_QB, num_RB, num_WR, num_TE, num_FLEX, bring_back, team_idx, team_idx_cross, opp_team, game_stack, num_games, rand_vec, team_stack, num_teams, var_boost);\n",
    "        B = Vector{Int}()\n",
    "        for i=1:length(x1)\n",
    "            if x1[i] > 0.5\n",
    "                append!(B,i)\n",
    "            end\n",
    "        end\n",
    "        \n",
    "        X = push!(X, B)\n",
    "        #print(X)\n",
    "        #D = hcat(D, d1)\n",
    "        \n",
    "        println(i)\n",
    "\n",
    "    end\n",
    "\n",
    "    return(X)\n",
    "end"
   ]
  },
  {
   "cell_type": "code",
   "execution_count": null,
   "metadata": {},
   "outputs": [],
   "source": [
    "X = Vector{Vector{Int}}()\n",
    "\n",
    "@time all_teams = makeAllTeams(10, X, cOffense, cNum_offense, QB_i, RB_i, WR_i, TE_i, FLEX_i, num_QB, num_RB, num_WR, num_TE, num_FLEX, bring_back, team_idx, team_idx_cross, opp_team, game_stack, num_games, team_stack, num_teams, var_boost);\n",
    "\n",
    "\n",
    "#"
   ]
  },
  {
   "cell_type": "code",
   "execution_count": 127,
   "metadata": {},
   "outputs": [],
   "source": [
    "num_teams_making = 150\n",
    "\n",
    "\n",
    "offense = cOffense\n",
    "lineup2 = \"\"\n",
    "#outfile = open(path_to_output, \"w\")\n",
    "print_team = []\n",
    "\n",
    "\n",
    "\n",
    "    for i = 1:num_teams_making\n",
    "        lineup = [\"\" \"\" \"\" \"\" \"\" \"\" \"\" \"\" \"\"]\n",
    "        skip = []\n",
    "\n",
    "\n",
    "        for j =1:9\n",
    "        \n",
    "            if string(offense[all_teams[i][j],2]) in late_teams\n",
    "                skip = push!(skip, all_teams[i][j])\n",
    "            else\n",
    "                    if all_teams[i][j] in QB_i\n",
    "                        if lineup[1]==\"\"\n",
    "                            lineup[1] = string(offense[all_teams[i][j],1])\n",
    "                        end\n",
    "                    elseif all_teams[i][j] in RB_i\n",
    "                        if lineup[2] == \"\"\n",
    "                            lineup[2] = string(offense[all_teams[i][j],1])\n",
    "                        elseif lineup[3] == \"\"\n",
    "                            lineup[3] = string(offense[all_teams[i][j],1])\n",
    "                        elseif lineup[8] == \"\"\n",
    "                            lineup[8] = string(offense[all_teams[i][j],1])\n",
    "                        end\n",
    "                    elseif all_teams[i][j] in WR_i\n",
    "                        if lineup[4] == \"\"\n",
    "                            lineup[4] = string(offense[all_teams[i][j],1])\n",
    "                        elseif lineup[5] ==\"\"\n",
    "                            lineup[5] = string(offense[all_teams[i][j],1])\n",
    "                        elseif lineup[6] == \"\"\n",
    "                            lineup[6] = string(offense[all_teams[i][j],1])\n",
    "                        elseif lineup[8] == \"\"\n",
    "                            lineup[8] = string(offense[all_teams[i][j],1])\n",
    "                        end\n",
    "                    elseif all_teams[i][j] in TE_i\n",
    "                        if lineup[7] == \"\"\n",
    "                            lineup[7] = string(offense[all_teams[i][j],1])\n",
    "                        elseif lineup[8] == \"\"\n",
    "                            lineup[8] = string(offense[all_teams[i][j],1])\n",
    "                        end\n",
    "                    elseif all_teams[i][j] in DST_i\n",
    "                        if lineup[9] == \"\"\n",
    "                            lineup[9] = string(offense[all_teams[i][j],1])\n",
    "                        end\n",
    "                    end\n",
    "                #end\n",
    "\n",
    "            end\n",
    "      end\n",
    "    #println(skip)\n",
    "        for k in skip\n",
    "                    if k in QB_i\n",
    "                        if lineup[1]==\"\"\n",
    "                            lineup[1] = string(offense[k,1])\n",
    "                        end\n",
    "                    elseif k in RB_i\n",
    "                        if lineup[2] == \"\"\n",
    "                            lineup[2] = string(offense[k,1])\n",
    "                        elseif lineup[3] == \"\"\n",
    "                            lineup[3] = string(offense[k,1])\n",
    "                        elseif lineup[8] == \"\"\n",
    "                            lineup[8] = string(offense[k,1])\n",
    "                        end\n",
    "                    elseif k in WR_i\n",
    "                        if lineup[4] == \"\"\n",
    "                            lineup[4] = string(offense[k,1])\n",
    "                        elseif lineup[5] ==\"\"\n",
    "                            lineup[5] = string(offense[k,1])\n",
    "                        elseif lineup[6] == \"\"\n",
    "                            lineup[6] = string(offense[k,1])\n",
    "                        elseif lineup[8] == \"\"\n",
    "                            lineup[8] = string(offense[k,1])\n",
    "                        end\n",
    "                    elseif k in TE_i\n",
    "                        if lineup[7] == \"\"\n",
    "                            lineup[7] = string(offense[k,1])\n",
    "                        elseif lineup[8] == \"\"\n",
    "                            lineup[8] = string(offense[k,1])\n",
    "                        end\n",
    "                    elseif k in DST_i\n",
    "                        if lineup[9] == \"\"\n",
    "                            lineup[9] = string(offense[k,1])\n",
    "                        end\n",
    "                    end\n",
    "                #end\n",
    "\n",
    "        end\n",
    "\n",
    "       print_team = push!(print_team, lineup)\n",
    "    end\n",
    "   #close(outfile)\n",
    "#end"
   ]
  },
  {
   "cell_type": "code",
   "execution_count": 128,
   "metadata": {},
   "outputs": [],
   "source": [
    "cd(\"/Users/kevin/Desktop/Draftkings/2022/Data/ETR/Week 15/\")\n",
    "\n",
    "\n",
    "writedlm( \"test_teams_200exp.csv\",  print_team, ',')"
   ]
  },
  {
   "cell_type": "code",
   "execution_count": 129,
   "metadata": {},
   "outputs": [
    {
     "data": {
      "text/plain": [
       "150-element Vector{Any}:\n",
       " [\"Kyler Murray\" \"James Robinson\" … \"Rondale Moore\" \"Jaguars \"]\n",
       " [\"Josh Allen\" \"James Robinson\" … \"Robby Anderson\" \"Dolphins \"]\n",
       " [\"Dak Prescott\" \"James Robinson\" … \"Amari Cooper\" \"Bills \"]\n",
       " [\"Josh Allen\" \"James Robinson\" … \"George Kittle\" \"Jaguars \"]\n",
       " [\"Kyler Murray\" \"James Robinson\" … \"Deebo Samuel\" \"Broncos \"]\n",
       " [\"Josh Allen\" \"James Robinson\" … \"Antoine Wesley\" \"Bills \"]\n",
       " [\"Ryan Tannehill\" \"James Robinson\" … \"Julio Jones\" \"Bills \"]\n",
       " [\"Tua Tagovailoa\" \"James Robinson\" … \"George Kittle\" \"Packers \"]\n",
       " [\"Kyler Murray\" \"Michael Carter\" … \"Deebo Samuel\" \"Bills \"]\n",
       " [\"Trevor Lawrence\" \"James Robinson\" … \"George Kittle\" \"Dolphins \"]\n",
       " [\"Tua Tagovailoa\" \"Michael Carter\" … \"Davante Adams\" \"Jaguars \"]\n",
       " [\"Jimmy Garoppolo\" \"James Robinson\" … \"Kyle Pitts\" \"Jets \"]\n",
       " [\"Teddy Bridgewater\" \"James Robinson\" … \"C.J. Uzomah\" \"Bills \"]\n",
       " ⋮\n",
       " [\"Dak Prescott\" \"James Robinson\" … \"George Kittle\" \"Dolphins \"]\n",
       " [\"Tyler Huntley\" \"Myles Gaskin\" … \"George Kittle\" \"Broncos \"]\n",
       " [\"Kyler Murray\" \"James Robinson\" … \"Brandon Aiyuk\" \"Bills \"]\n",
       " [\"Kyler Murray\" \"James Robinson\" … \"George Kittle\" \"Steelers \"]\n",
       " [\"Josh Allen\" \"James Robinson\" … \"Christian Kirk\" \"Texans \"]\n",
       " [\"Tua Tagovailoa\" \"James Robinson\" … \"Deebo Samuel\" \"Dolphins \"]\n",
       " [\"Tyler Huntley\" \"James Robinson\" … \"George Kittle\" \"Jaguars \"]\n",
       " [\"Kyler Murray\" \"James Robinson\" … \"Noah Fant\" \"Bills \"]\n",
       " [\"Kyler Murray\" \"Michael Carter\" … \"Davante Adams\" \"Dolphins \"]\n",
       " [\"Tyler Huntley\" \"James Robinson\" … \"Marquez Valdes-Scantling\" \"Bills \"]\n",
       " [\"Tyler Huntley\" \"James Robinson\" … \"Deebo Samuel\" \"Broncos \"]\n",
       " [\"Dak Prescott\" \"James Robinson\" … \"James Conner\" \"Packers \"]"
      ]
     },
     "execution_count": 129,
     "metadata": {},
     "output_type": "execute_result"
    }
   ],
   "source": [
    "print_team"
   ]
  },
  {
   "cell_type": "code",
   "execution_count": 570,
   "metadata": {},
   "outputs": [
    {
     "data": {
      "text/plain": [
       "1×9 Matrix{String}:\n",
       " \"Tua Tagovailoa\"  \"Chase Edmonds\"  …  \"Rondale Moore\"  \"Packers \""
      ]
     },
     "execution_count": 570,
     "metadata": {},
     "output_type": "execute_result"
    }
   ],
   "source": [
    "print_team[1]"
   ]
  },
  {
   "cell_type": "code",
   "execution_count": 224,
   "metadata": {},
   "outputs": [
    {
     "name": "stdout",
     "output_type": "stream",
     "text": [
      "Dak Prescott\n",
      "Dak Prescott\n",
      "Dak Prescott\n",
      "Dak Prescott\n",
      "Dak Prescott\n",
      "Dak Prescott\n",
      "Dak Prescott\n",
      "Dak Prescott\n",
      "Dak Prescott\n"
     ]
    }
   ],
   "source": [
    "for i=1:9\n",
    "    println(offense[all_teams[10][4],1])\n",
    "end"
   ]
  },
  {
   "cell_type": "markdown",
   "metadata": {},
   "source": [
    "# correlation check"
   ]
  },
  {
   "cell_type": "code",
   "execution_count": 788,
   "metadata": {},
   "outputs": [
    {
     "name": "stdout",
     "output_type": "stream",
     "text": [
      "Derrick Henry + Derrick Henry = 1.0\n",
      "Derrick Henry + A.J. Brown = -0.03817318308827438\n",
      "Derrick Henry + Ryan Tannehill = -100.0\n",
      "Derrick Henry + Titans  = 0.0\n",
      "Derrick Henry + Julio Jones = 0.05842984463786353\n",
      "A.J. Brown + Derrick Henry = -0.03817318308827438\n",
      "A.J. Brown + A.J. Brown = 1.0\n",
      "A.J. Brown + Ryan Tannehill = 0.377862221880869\n",
      "A.J. Brown + Titans  = 0.0\n",
      "A.J. Brown + Julio Jones = -0.0024077167373607873\n",
      "Ryan Tannehill + Derrick Henry = -100.0\n",
      "Ryan Tannehill + A.J. Brown = 0.377862221880869\n",
      "Ryan Tannehill + Ryan Tannehill = 1.0\n",
      "Ryan Tannehill + Titans  = 0.0\n",
      "Ryan Tannehill + Julio Jones = -100.0\n",
      "Titans  + Derrick Henry = 0.0\n",
      "Titans  + A.J. Brown = 0.0\n",
      "Titans  + Ryan Tannehill = 0.0\n",
      "Titans  + Titans  = 1.0\n",
      "Titans  + Julio Jones = 0.0\n",
      "Julio Jones + Derrick Henry = 0.05842984463786353\n",
      "Julio Jones + A.J. Brown = -0.0024077167373607873\n",
      "Julio Jones + Ryan Tannehill = -100.0\n",
      "Julio Jones + Titans  = 0.0\n",
      "Julio Jones + Julio Jones = 1.0\n"
     ]
    }
   ],
   "source": [
    "corr = 0\n",
    "team_num = 0\n",
    "team = \"TEN\"\n",
    "\n",
    "\n",
    "for i = 1:length(offense[:,1])\n",
    "    for j = 1:length(offense[:,1])\n",
    "        #if all_teams[team_num][i]< all_teams[team_num][j] \n",
    "                if offense[i, :Team] == team && offense[j, :Team] == team\n",
    "            \n",
    "                #corr = t[all_teams[team_num][i],all_teams[team_num][j]]\n",
    "                    println(string(offense[i,:Player]),\" + \", string(offense[j,:Player]), \" = \", t[i,j])\n",
    "\n",
    "                end\n",
    "            \n",
    "        #end\n",
    "    end\n",
    "end"
   ]
  },
  {
   "cell_type": "code",
   "execution_count": 425,
   "metadata": {},
   "outputs": [
    {
     "data": {
      "text/plain": [
       "175"
      ]
     },
     "execution_count": 425,
     "metadata": {},
     "output_type": "execute_result"
    }
   ],
   "source": [
    "length(offense[:,1])"
   ]
  },
  {
   "cell_type": "code",
   "execution_count": 790,
   "metadata": {},
   "outputs": [
    {
     "name": "stdout",
     "output_type": "stream",
     "text": [
      "Darrell Henderson Jr. + Chris Godwin = 0.0\n",
      "Darrell Henderson Jr. + A.J. Brown = 0.0\n",
      "Darrell Henderson Jr. + Josh Allen = 0.0\n",
      "Darrell Henderson Jr. + Jaguars  = 0.0\n",
      "Darrell Henderson Jr. + Mike Gesicki = 0.0\n",
      "Darrell Henderson Jr. + Zack Moss = 0.0\n",
      "Darrell Henderson Jr. + Emmanuel Sanders = 0.0\n",
      "Darrell Henderson Jr. + Van Jefferson Jr. = -0.015724144894431875\n",
      "Chris Godwin + A.J. Brown = 0.0\n",
      "Chris Godwin + Josh Allen = 0.0\n",
      "Chris Godwin + Jaguars  = 0.0\n",
      "Chris Godwin + Mike Gesicki = 0.0\n",
      "Chris Godwin + Zack Moss = 0.0\n",
      "Chris Godwin + Emmanuel Sanders = 0.0\n",
      "Chris Godwin + Van Jefferson Jr. = 0.0\n",
      "A.J. Brown + Josh Allen = 0.0\n",
      "A.J. Brown + Jaguars  = 0.0\n",
      "A.J. Brown + Mike Gesicki = 0.0\n",
      "A.J. Brown + Zack Moss = 0.0\n",
      "A.J. Brown + Emmanuel Sanders = 0.0\n",
      "A.J. Brown + Van Jefferson Jr. = 0.0\n",
      "Josh Allen + Jaguars  = 0.0\n",
      "Josh Allen + Mike Gesicki = 0.0\n",
      "Josh Allen + Zack Moss = 0.1346466955391425\n",
      "Josh Allen + Emmanuel Sanders = 0.6785059419196471\n",
      "Josh Allen + Van Jefferson Jr. = 0.0\n",
      "Jaguars  + Mike Gesicki = 0.0\n",
      "Jaguars  + Zack Moss = 0.0\n",
      "Jaguars  + Emmanuel Sanders = 0.0\n",
      "Jaguars  + Van Jefferson Jr. = 0.0\n",
      "Mike Gesicki + Zack Moss = 0.0\n",
      "Mike Gesicki + Emmanuel Sanders = 0.0\n",
      "Mike Gesicki + Van Jefferson Jr. = 0.0\n",
      "Zack Moss + Emmanuel Sanders = 0.16184130024235127\n",
      "Zack Moss + Van Jefferson Jr. = 0.0\n",
      "Emmanuel Sanders + Van Jefferson Jr. = 0.0\n"
     ]
    }
   ],
   "source": [
    "corr = 0\n",
    "team_num = 1\n",
    "team = \"NE\"\n",
    "\n",
    "\n",
    "for i = 1:9\n",
    "    for j = 1:9\n",
    "        if all_teams[team_num][i]< all_teams[team_num][j] \n",
    "     #corr = t[all_teams[team_num][i],all_teams[team_num][j]]\n",
    "            println(string(offense[all_teams[team_num][i],1]),\" + \", string(offense[all_teams[team_num][j],1]), \" = \", t[all_teams[team_num][i],all_teams[team_num][j]])\n",
    "\n",
    "\n",
    "        end\n",
    "    end\n",
    "end"
   ]
  },
  {
   "cell_type": "markdown",
   "metadata": {},
   "source": [
    "## player frequnecies"
   ]
  },
  {
   "cell_type": "code",
   "execution_count": 130,
   "metadata": {},
   "outputs": [],
   "source": [
    "players = []\n",
    "\n",
    "for i = 1:num_teams_making\n",
    "    for j =1:9\n",
    "        #if print_team[i][j] in QB_i\n",
    "            push!(players, print_team[i][j])\n",
    "        #end\n",
    "    end\n",
    "end\n",
    "\n",
    "frequency = []\n",
    "for i in players\n",
    "    \n",
    "    \n",
    "end"
   ]
  },
  {
   "cell_type": "code",
   "execution_count": 131,
   "metadata": {},
   "outputs": [
    {
     "data": {
      "text/plain": [
       "93×2 Matrix{Any}:\n",
       " \"DeVante Parker\"            132\n",
       " \"James Robinson\"            129\n",
       " \"Stefon Diggs\"              108\n",
       " \"George Kittle\"              79\n",
       " \"Mike Gesicki\"               59\n",
       " \"Jeff Wilson Jr.\"            51\n",
       " \"Christian Kirk\"             51\n",
       " \"Kyler Murray\"               41\n",
       " \"Myles Gaskin\"               39\n",
       " \"Deebo Samuel\"               36\n",
       " \"Bills \"                     33\n",
       " \"Davante Adams\"              32\n",
       " \"Michael Carter\"             29\n",
       " ⋮                           \n",
       " \"Cardinals \"                  1\n",
       " \"Marquez Valdes-Scantling\"    1\n",
       " \"Marvin Jones Jr.\"            1\n",
       " \"Aaron Jones\"                 1\n",
       " \"Ja'Marr Chase\"               1\n",
       " \"Laquon Treadwell\"            1\n",
       " \"Joe Burrow\"                  1\n",
       " \"Russell Gage\"                1\n",
       " \"Laviska Shenault Jr.\"        1\n",
       " \"Kalif Raymond\"               1\n",
       " \"Matt Ryan\"                   1\n",
       " \"Mark Andrews\"                1"
      ]
     },
     "execution_count": 131,
     "metadata": {},
     "output_type": "execute_result"
    }
   ],
   "source": [
    "c = counter(players)\n",
    "\n",
    "r = hcat(collect(keys(c)),collect(values(c)))\n",
    "\n",
    "r[sortperm(r[:, 2], rev=true), :]"
   ]
  },
  {
   "cell_type": "code",
   "execution_count": 121,
   "metadata": {},
   "outputs": [],
   "source": [
    "\n",
    "cd(\"/Users/kevin/Desktop/Draftkings/2022/Data/ETR/Week 15/\")\n",
    "\n",
    "\n",
    "\n",
    "writedlm( \"exposure_v3.csv\",  r, ',')"
   ]
  },
  {
   "cell_type": "markdown",
   "metadata": {},
   "source": [
    "## Print money/points"
   ]
  },
  {
   "cell_type": "code",
   "execution_count": 122,
   "metadata": {},
   "outputs": [],
   "source": [
    "num_teams_making = 150\n",
    "num = 9 #column\n",
    "\n",
    "#5 = salary\n",
    "#6 = regular projection\n",
    "#7 = DK value\n",
    "#8 = ownership\n",
    "#9 = DK ID\n",
    "#10 = ceiling projection\n",
    "\n",
    "\n",
    "\n",
    "offense = cOffense\n",
    "lineup2 = \"\"\n",
    "#outfile = open(path_to_output, \"w\")\n",
    "print_team = []\n",
    "\n",
    "\n",
    "\n",
    "    for i = 1:num_teams_making\n",
    "        lineup = [\"\" \"\" \"\" \"\" \"\" \"\" \"\" \"\" \"\"]\n",
    "        skip = []\n",
    "\n",
    "\n",
    "        for j =1:9\n",
    "        \n",
    "            if string(offense[all_teams[i][j],2]) in late_teams\n",
    "                skip = push!(skip, all_teams[i][j])\n",
    "            else\n",
    "                    if all_teams[i][j] in QB_i\n",
    "                        if lineup[1]==\"\"\n",
    "                            lineup[1] = string(offense[all_teams[i][j],num])\n",
    "                        end\n",
    "                    elseif all_teams[i][j] in RB_i\n",
    "                        if lineup[2] == \"\"\n",
    "                            lineup[2] = string(offense[all_teams[i][j],num])\n",
    "                        elseif lineup[3] == \"\"\n",
    "                            lineup[3] = string(offense[all_teams[i][j],num])\n",
    "                        elseif lineup[8] == \"\"\n",
    "                            lineup[8] = string(offense[all_teams[i][j],num])\n",
    "                        end\n",
    "                    elseif all_teams[i][j] in WR_i\n",
    "                        if lineup[4] == \"\"\n",
    "                            lineup[4] = string(offense[all_teams[i][j],num])\n",
    "                        elseif lineup[5] ==\"\"\n",
    "                            lineup[5] = string(offense[all_teams[i][j],num])\n",
    "                        elseif lineup[6] == \"\"\n",
    "                            lineup[6] = string(offense[all_teams[i][j],num])\n",
    "                        elseif lineup[8] == \"\"\n",
    "                            lineup[8] = string(offense[all_teams[i][j],num])\n",
    "                        end\n",
    "                    elseif all_teams[i][j] in TE_i\n",
    "                        if lineup[7] == \"\"\n",
    "                            lineup[7] = string(offense[all_teams[i][j],num])\n",
    "                        elseif lineup[8] == \"\"\n",
    "                            lineup[8] = string(offense[all_teams[i][j],num])\n",
    "                        end\n",
    "                    elseif all_teams[i][j] in DST_i\n",
    "                        if lineup[9] == \"\"\n",
    "                            lineup[9] = string(offense[all_teams[i][j],num])\n",
    "                        end\n",
    "                    end\n",
    "                #end\n",
    "\n",
    "            end\n",
    "      end\n",
    "    #println(skip)\n",
    "        for k in skip\n",
    "                    if k in QB_i\n",
    "                        if lineup[1]==\"\"\n",
    "                            lineup[1] = string(offense[k,num])\n",
    "                        end\n",
    "                    elseif k in RB_i\n",
    "                        if lineup[2] == \"\"\n",
    "                            lineup[2] = string(offense[k,num])\n",
    "                        elseif lineup[3] == \"\"\n",
    "                            lineup[3] = string(offense[k,num])\n",
    "                        elseif lineup[8] == \"\"\n",
    "                            lineup[8] = string(offense[k,num])\n",
    "                        end\n",
    "                    elseif k in WR_i\n",
    "                        if lineup[4] == \"\"\n",
    "                            lineup[4] = string(offense[k,num])\n",
    "                        elseif lineup[5] ==\"\"\n",
    "                            lineup[5] = string(offense[k,num])\n",
    "                        elseif lineup[6] == \"\"\n",
    "                            lineup[6] = string(offense[k,num])\n",
    "                        elseif lineup[8] == \"\"\n",
    "                            lineup[8] = string(offense[k,num])\n",
    "                        end\n",
    "                    elseif k in TE_i\n",
    "                        if lineup[7] == \"\"\n",
    "                            lineup[7] = string(offense[k,num])\n",
    "                        elseif lineup[8] == \"\"\n",
    "                            lineup[8] = string(offense[k,num])\n",
    "                        end\n",
    "                    elseif k in DST_i\n",
    "                        if lineup[9] == \"\"\n",
    "                            lineup[9] = string(offense[k,num])\n",
    "                        end\n",
    "                    end\n",
    "                #end\n",
    "\n",
    "        end\n",
    "\n",
    "       print_team = push!(print_team, lineup)\n",
    "    end\n",
    "   #close(outfile)\n",
    "#end"
   ]
  },
  {
   "cell_type": "code",
   "execution_count": 123,
   "metadata": {},
   "outputs": [],
   "source": [
    "cd(\"/Users/kevin/Desktop/Draftkings/2022/Data/ETR/Week 15/\")\n",
    "\n",
    "\n",
    "\n",
    "writedlm( \"dk_ids.csv\",  print_team, ',')"
   ]
  },
  {
   "cell_type": "code",
   "execution_count": 211,
   "metadata": {},
   "outputs": [
    {
     "name": "stdout",
     "output_type": "stream",
     "text": [
      "149.89999999999998\n",
      "99.7\n",
      "109.1\n",
      "135.29999999999998\n",
      "177.0\n",
      "147.79999999999998\n",
      "139.6\n",
      "187.9\n",
      "197.5\n",
      "139.2\n",
      "163.4\n",
      "115.39999999999999\n",
      "135.0\n",
      "156.29999999999998\n",
      "130.2\n",
      "191.1\n",
      "139.3\n",
      "101.89999999999998\n",
      "124.4\n",
      "115.8\n",
      "120.89999999999999\n",
      "118.8\n",
      "171.79999999999998\n",
      "167.4\n",
      "131.79999999999998\n",
      "119.7\n",
      "171.5\n",
      "172.3\n",
      "59.8\n",
      "117.2\n",
      "116.10000000000002\n",
      "145.6\n",
      "114.89999999999999\n",
      "151.7\n",
      "145.2\n",
      "154.2\n",
      "105.29999999999998\n",
      "189.70000000000002\n",
      "108.6\n",
      "125.10000000000001\n",
      "169.70000000000002\n",
      "146.1\n",
      "170.2\n",
      "103.5\n",
      "161.00000000000006\n",
      "117.2\n",
      "146.9\n",
      "133.0\n",
      "73.89999999999999\n",
      "124.30000000000001\n",
      "71.1\n",
      "160.9\n",
      "119.49999999999999\n",
      "124.49999999999999\n",
      "128.1\n",
      "126.20000000000002\n",
      "177.6\n",
      "193.5\n",
      "128.6\n",
      "172.3\n",
      "154.4\n",
      "108.79999999999998\n",
      "156.7\n",
      "135.5\n",
      "148.7\n",
      "162.20000000000002\n",
      "94.79999999999998\n",
      "158.4\n",
      "139.4\n",
      "140.20000000000002\n",
      "115.2\n",
      "87.69999999999999\n",
      "171.4\n",
      "163.0\n",
      "120.8\n",
      "129.3\n",
      "129.1\n",
      "136.2\n",
      "141.3\n",
      "109.9\n",
      "149.2\n",
      "125.4\n",
      "141.0\n",
      "125.8\n",
      "184.79999999999998\n",
      "143.60000000000002\n",
      "106.2\n",
      "185.6\n",
      "166.2\n",
      "177.8\n",
      "142.49999999999997\n",
      "106.5\n",
      "191.89999999999998\n",
      "154.39999999999998\n",
      "138.89999999999998\n",
      "141.79999999999998\n",
      "176.90000000000003\n",
      "104.60000000000001\n",
      "150.0\n",
      "167.9\n",
      "186.00000000000003\n",
      "127.2\n",
      "128.2\n",
      "136.60000000000002\n",
      "193.59999999999997\n",
      "183.7\n",
      "116.2\n",
      "128.79999999999998\n",
      "188.5\n",
      "125.49999999999999\n",
      "186.8\n",
      "131.1\n",
      "146.09999999999997\n",
      "101.5\n",
      "153.70000000000002\n",
      "126.29999999999998\n",
      "176.5\n",
      "180.0\n",
      "177.59999999999997\n",
      "127.10000000000001\n",
      "165.70000000000002\n",
      "165.7\n",
      "152.8\n",
      "168.3\n",
      "149.39999999999998\n",
      "194.29999999999998\n",
      "65.0\n",
      "200.9\n",
      "144.1\n",
      "154.6\n",
      "132.3\n",
      "122.70000000000002\n",
      "196.6\n",
      "141.89999999999998\n",
      "111.0\n",
      "176.3\n",
      "187.1\n",
      "155.70000000000002\n",
      "138.7\n",
      "124.10000000000001\n",
      "156.00000000000003\n",
      "155.60000000000002\n",
      "135.0\n",
      "145.1\n",
      "175.2\n",
      "86.7\n",
      "136.89999999999998\n",
      "123.00000000000001\n",
      "126.1\n",
      "188.5\n"
     ]
    }
   ],
   "source": [
    "scores = []\n",
    "\n",
    "for i =1:150\n",
    "    println(sum(parse.(Float64, print_team[i])))\n",
    "    append!(scores, sum(parse.(Float64, print_team[i])))\n",
    "end"
   ]
  },
  {
   "cell_type": "code",
   "execution_count": 186,
   "metadata": {},
   "outputs": [
    {
     "data": {
      "text/plain": [
       "clean_print_teams (generic function with 1 method)"
      ]
     },
     "execution_count": 186,
     "metadata": {},
     "output_type": "execute_result"
    }
   ],
   "source": [
    "function clean_print_teams(offense, week)\n",
    "    DFN_offense = get_stripped_offense(week)\n",
    "    \n",
    "    offense.\"Player\" .= replace.(offense.\"Player\", r\"-\" => \"\")\n",
    "    offense.\"Player\" .= replace.(offense.\"Player\", r\"\\.\" => \"\")\n",
    "    offense.\"Player\" .= replace.(offense.\"Player\", r\"'\" => \"\")\n",
    "    \n",
    "    transform!(offense, :Player => ByRow(lowercase) => :Player)\n",
    "    \n",
    "    #offense[!, :Actual_FP] = 0\n",
    "\n",
    "\n",
    "\n",
    "    for i = 1:length(offense[:,1])\n",
    "        for j = 1:length(DFN_offense[:,1])\n",
    "            if offense[i, :Player] == DFN_offense[j, :Player_Name]\n",
    "               offense.\"DK Value\"[i] = DFN_offense[j, :Actual_FP] \n",
    "            end\n",
    "        end\n",
    "    end\n",
    "    \n",
    "\n",
    "    return offense\n",
    "end"
   ]
  },
  {
   "cell_type": "code",
   "execution_count": 207,
   "metadata": {},
   "outputs": [
    {
     "data": {
      "text/html": [
       "<div class=\"data-frame\"><p>191 rows × 10 columns (omitted printing of 3 columns)</p><table class=\"data-frame\"><thead><tr><th></th><th>Player</th><th>Team</th><th>Opponent</th><th>DK Position</th><th>Salary</th><th>DK Projection</th><th>DK Value</th></tr><tr><th></th><th title=\"String\">String</th><th title=\"String3\">String3</th><th title=\"String3\">String3</th><th title=\"String3\">String3</th><th title=\"Int64\">Int64</th><th title=\"Float64\">Float64</th><th title=\"Float64\">Float64</th></tr></thead><tbody><tr><th>1</th><td>derrick henry</td><td>TEN</td><td>NYJ</td><td>RB</td><td>8800</td><td>25.2</td><td>28.7</td></tr><tr><th>2</th><td>dj moore</td><td>CAR</td><td>DAL</td><td>WR</td><td>6600</td><td>19.9</td><td>34.9</td></tr><tr><th>3</th><td>alvin kamara</td><td>NO</td><td>NYG</td><td>RB</td><td>8400</td><td>23.2</td><td>15.0</td></tr><tr><th>4</th><td>justin fields</td><td>CHI</td><td>DET</td><td>QB</td><td>5200</td><td>19.5</td><td>8.3</td></tr><tr><th>5</th><td>cooper kupp</td><td>LA</td><td>ARI</td><td>WR</td><td>7800</td><td>21.7</td><td>11.4</td></tr><tr><th>6</th><td>davante adams</td><td>GB</td><td>PIT</td><td>WR</td><td>7900</td><td>21.8</td><td>12.4</td></tr><tr><th>7</th><td>robert woods</td><td>LA</td><td>ARI</td><td>WR</td><td>5300</td><td>16.5</td><td>14.8</td></tr><tr><th>8</th><td>tyreek hill</td><td>KC</td><td>PHI</td><td>WR</td><td>8000</td><td>21.6</td><td>50.6</td></tr><tr><th>9</th><td>deebo samuel</td><td>SF</td><td>SEA</td><td>WR</td><td>6500</td><td>18.6</td><td>38.7</td></tr><tr><th>10</th><td>calvin ridley</td><td>ATL</td><td>WAS</td><td>WR</td><td>7000</td><td>19.3</td><td>15.0</td></tr><tr><th>11</th><td>josh allen</td><td>BUF</td><td>HOU</td><td>QB</td><td>8000</td><td>27.2</td><td>21.0</td></tr><tr><th>12</th><td>dalvin cook</td><td>MIN</td><td>CLE</td><td>RB</td><td>8100</td><td>21.4</td><td>6.4</td></tr><tr><th>13</th><td>stefon diggs</td><td>BUF</td><td>HOU</td><td>WR</td><td>7600</td><td>20.3</td><td>21.4</td></tr><tr><th>14</th><td>odell beckham jr</td><td>CLE</td><td>MIN</td><td>WR</td><td>5800</td><td>16.7</td><td>5.1</td></tr><tr><th>15</th><td>ceedee lamb</td><td>DAL</td><td>CAR</td><td>WR</td><td>6700</td><td>18.4</td><td>3.3</td></tr><tr><th>16</th><td>chuba hubbard</td><td>CAR</td><td>DAL</td><td>RB</td><td>5900</td><td>16.8</td><td>9.1</td></tr><tr><th>17</th><td>taylor heinicke</td><td>WAS</td><td>ATL</td><td>QB</td><td>5900</td><td>20.3</td><td>27.9</td></tr><tr><th>18</th><td>matt ryan</td><td>ATL</td><td>WAS</td><td>QB</td><td>5400</td><td>18.6</td><td>29.0</td></tr><tr><th>19</th><td>dak prescott</td><td>DAL</td><td>CAR</td><td>QB</td><td>6700</td><td>22.5</td><td>27.0</td></tr><tr><th>20</th><td>amari cooper</td><td>DAL</td><td>CAR</td><td>WR</td><td>6000</td><td>16.6</td><td>15.9</td></tr><tr><th>21</th><td>jalen hurts</td><td>PHI</td><td>KC</td><td>QB</td><td>6900</td><td>23.2</td><td>31.2</td></tr><tr><th>22</th><td>antonio gibson</td><td>WAS</td><td>ATL</td><td>RB</td><td>6100</td><td>16.9</td><td>15.5</td></tr><tr><th>23</th><td>david montgomery</td><td>CHI</td><td>DET</td><td>RB</td><td>5800</td><td>16.2</td><td>25.6</td></tr><tr><th>24</th><td>brandin cooks</td><td>HOU</td><td>BUF</td><td>WR</td><td>6400</td><td>17.4</td><td>9.7</td></tr><tr><th>25</th><td>jacoby brissett</td><td>MIA</td><td>IND</td><td>QB</td><td>5100</td><td>17.6</td><td>15.8</td></tr><tr><th>26</th><td>dandre swift</td><td>DET</td><td>CHI</td><td>RB</td><td>6200</td><td>16.9</td><td>8.9</td></tr><tr><th>27</th><td>trey sermon</td><td>SF</td><td>SEA</td><td>RB</td><td>5000</td><td>14.6</td><td>8.9</td></tr><tr><th>28</th><td>travis kelce</td><td>KC</td><td>PHI</td><td>TE</td><td>8100</td><td>20.5</td><td>6.3</td></tr><tr><th>29</th><td>terry mclaurin</td><td>WAS</td><td>ATL</td><td>WR</td><td>6900</td><td>18.2</td><td>33.3</td></tr><tr><th>30</th><td>najee harris</td><td>PIT</td><td>GB</td><td>RB</td><td>6800</td><td>17.8</td><td>21.1</td></tr><tr><th>&vellip;</th><td>&vellip;</td><td>&vellip;</td><td>&vellip;</td><td>&vellip;</td><td>&vellip;</td><td>&vellip;</td><td>&vellip;</td></tr></tbody></table></div>"
      ],
      "text/latex": [
       "\\begin{tabular}{r|cccccccc}\n",
       "\t& Player & Team & Opponent & DK Position & Salary & DK Projection & DK Value & \\\\\n",
       "\t\\hline\n",
       "\t& String & String3 & String3 & String3 & Int64 & Float64 & Float64 & \\\\\n",
       "\t\\hline\n",
       "\t1 & derrick henry & TEN & NYJ & RB & 8800 & 25.2 & 28.7 & $\\dots$ \\\\\n",
       "\t2 & dj moore & CAR & DAL & WR & 6600 & 19.9 & 34.9 & $\\dots$ \\\\\n",
       "\t3 & alvin kamara & NO & NYG & RB & 8400 & 23.2 & 15.0 & $\\dots$ \\\\\n",
       "\t4 & justin fields & CHI & DET & QB & 5200 & 19.5 & 8.3 & $\\dots$ \\\\\n",
       "\t5 & cooper kupp & LA & ARI & WR & 7800 & 21.7 & 11.4 & $\\dots$ \\\\\n",
       "\t6 & davante adams & GB & PIT & WR & 7900 & 21.8 & 12.4 & $\\dots$ \\\\\n",
       "\t7 & robert woods & LA & ARI & WR & 5300 & 16.5 & 14.8 & $\\dots$ \\\\\n",
       "\t8 & tyreek hill & KC & PHI & WR & 8000 & 21.6 & 50.6 & $\\dots$ \\\\\n",
       "\t9 & deebo samuel & SF & SEA & WR & 6500 & 18.6 & 38.7 & $\\dots$ \\\\\n",
       "\t10 & calvin ridley & ATL & WAS & WR & 7000 & 19.3 & 15.0 & $\\dots$ \\\\\n",
       "\t11 & josh allen & BUF & HOU & QB & 8000 & 27.2 & 21.0 & $\\dots$ \\\\\n",
       "\t12 & dalvin cook & MIN & CLE & RB & 8100 & 21.4 & 6.4 & $\\dots$ \\\\\n",
       "\t13 & stefon diggs & BUF & HOU & WR & 7600 & 20.3 & 21.4 & $\\dots$ \\\\\n",
       "\t14 & odell beckham jr & CLE & MIN & WR & 5800 & 16.7 & 5.1 & $\\dots$ \\\\\n",
       "\t15 & ceedee lamb & DAL & CAR & WR & 6700 & 18.4 & 3.3 & $\\dots$ \\\\\n",
       "\t16 & chuba hubbard & CAR & DAL & RB & 5900 & 16.8 & 9.1 & $\\dots$ \\\\\n",
       "\t17 & taylor heinicke & WAS & ATL & QB & 5900 & 20.3 & 27.9 & $\\dots$ \\\\\n",
       "\t18 & matt ryan & ATL & WAS & QB & 5400 & 18.6 & 29.0 & $\\dots$ \\\\\n",
       "\t19 & dak prescott & DAL & CAR & QB & 6700 & 22.5 & 27.0 & $\\dots$ \\\\\n",
       "\t20 & amari cooper & DAL & CAR & WR & 6000 & 16.6 & 15.9 & $\\dots$ \\\\\n",
       "\t21 & jalen hurts & PHI & KC & QB & 6900 & 23.2 & 31.2 & $\\dots$ \\\\\n",
       "\t22 & antonio gibson & WAS & ATL & RB & 6100 & 16.9 & 15.5 & $\\dots$ \\\\\n",
       "\t23 & david montgomery & CHI & DET & RB & 5800 & 16.2 & 25.6 & $\\dots$ \\\\\n",
       "\t24 & brandin cooks & HOU & BUF & WR & 6400 & 17.4 & 9.7 & $\\dots$ \\\\\n",
       "\t25 & jacoby brissett & MIA & IND & QB & 5100 & 17.6 & 15.8 & $\\dots$ \\\\\n",
       "\t26 & dandre swift & DET & CHI & RB & 6200 & 16.9 & 8.9 & $\\dots$ \\\\\n",
       "\t27 & trey sermon & SF & SEA & RB & 5000 & 14.6 & 8.9 & $\\dots$ \\\\\n",
       "\t28 & travis kelce & KC & PHI & TE & 8100 & 20.5 & 6.3 & $\\dots$ \\\\\n",
       "\t29 & terry mclaurin & WAS & ATL & WR & 6900 & 18.2 & 33.3 & $\\dots$ \\\\\n",
       "\t30 & najee harris & PIT & GB & RB & 6800 & 17.8 & 21.1 & $\\dots$ \\\\\n",
       "\t$\\dots$ & $\\dots$ & $\\dots$ & $\\dots$ & $\\dots$ & $\\dots$ & $\\dots$ & $\\dots$ &  \\\\\n",
       "\\end{tabular}\n"
      ],
      "text/plain": [
       "\u001b[1m191×10 DataFrame\u001b[0m\n",
       "\u001b[1m Row \u001b[0m│\u001b[1m Player           \u001b[0m\u001b[1m Team    \u001b[0m\u001b[1m Opponent \u001b[0m\u001b[1m DK Position \u001b[0m\u001b[1m Salary \u001b[0m\u001b[1m DK Projection\u001b[0m ⋯\n",
       "\u001b[1m     \u001b[0m│\u001b[90m String           \u001b[0m\u001b[90m String3 \u001b[0m\u001b[90m String3  \u001b[0m\u001b[90m String3     \u001b[0m\u001b[90m Int64  \u001b[0m\u001b[90m Float64      \u001b[0m ⋯\n",
       "─────┼──────────────────────────────────────────────────────────────────────────\n",
       "   1 │ derrick henry     TEN      NYJ       RB             8800           25.2 ⋯\n",
       "   2 │ dj moore          CAR      DAL       WR             6600           19.9\n",
       "   3 │ alvin kamara      NO       NYG       RB             8400           23.2\n",
       "   4 │ justin fields     CHI      DET       QB             5200           19.5\n",
       "   5 │ cooper kupp       LA       ARI       WR             7800           21.7 ⋯\n",
       "   6 │ davante adams     GB       PIT       WR             7900           21.8\n",
       "   7 │ robert woods      LA       ARI       WR             5300           16.5\n",
       "   8 │ tyreek hill       KC       PHI       WR             8000           21.6\n",
       "   9 │ deebo samuel      SF       SEA       WR             6500           18.6 ⋯\n",
       "  10 │ calvin ridley     ATL      WAS       WR             7000           19.3\n",
       "  11 │ josh allen        BUF      HOU       QB             8000           27.2\n",
       "  ⋮  │        ⋮             ⋮        ⋮           ⋮         ⋮           ⋮       ⋱\n",
       " 182 │ dallas goedert    PHI      KC        TE             4800            7.2\n",
       " 183 │ jd mckissic       WAS      ATL       RB             5000            7.7 ⋯\n",
       " 184 │ gabriel davis     BUF      HOU       WR             3400            4.4\n",
       " 185 │ aj dillon         GB       PIT       RB             4300            6.0\n",
       " 186 │ malcolm brown     MIA      IND       RB             4300            5.8\n",
       " 187 │ royce freeman     CAR      DAL       RB             4700            6.5 ⋯\n",
       " 188 │ rashard higgins   CLE      MIN       WR             4300            5.6\n",
       " 189 │ james conner      ARI      LA        RB             5100            6.6\n",
       " 190 │ sony michel       LA       ARI       RB             5200            6.8\n",
       " 191 │ darrel williams   KC       PHI       RB             4500            5.1 ⋯\n",
       "\u001b[36m                                                  4 columns and 170 rows omitted\u001b[0m"
      ]
     },
     "execution_count": 207,
     "metadata": {},
     "output_type": "execute_result"
    }
   ],
   "source": [
    "offense = clean_print_teams(cOffense, 4)"
   ]
  },
  {
   "cell_type": "code",
   "execution_count": 67,
   "metadata": {},
   "outputs": [
    {
     "data": {
      "text/html": [
       "<div class=\"data-frame\"><p>257 rows × 37 columns (omitted printing of 29 columns)</p><table class=\"data-frame\"><thead><tr><th></th><th>Player_Name</th><th>Likes</th><th>Inj</th><th>Pos</th><th>Salary</th><th>Team</th><th>Opp</th><th>Vegas Pts</th></tr><tr><th></th><th title=\"String\">String</th><th title=\"Union{Missing, Int64}\">Int64?</th><th title=\"Union{Missing, String1}\">String1?</th><th title=\"String3\">String3</th><th title=\"Int64\">Int64</th><th title=\"Union{Missing, String3}\">String3?</th><th title=\"String7\">String7</th><th title=\"Union{Missing, Float64}\">Float64?</th></tr></thead><tbody><tr><th>1</th><td>derrick henry</td><td>10</td><td><em>missing</em></td><td>RB</td><td>8800</td><td>TEN</td><td>@NYJ</td><td>25.8</td></tr><tr><th>2</th><td>alvin kamara</td><td>11</td><td><em>missing</em></td><td>RB</td><td>8400</td><td>NO</td><td>NYG</td><td>24.3</td></tr><tr><th>3</th><td>patrick mahomes</td><td>5</td><td><em>missing</em></td><td>QB</td><td>8100</td><td>KC</td><td>@PHI</td><td>30.8</td></tr><tr><th>4</th><td>travis kelce</td><td>8</td><td><em>missing</em></td><td>TE</td><td>8100</td><td>KC</td><td>@PHI</td><td>30.8</td></tr><tr><th>5</th><td>dalvin cook</td><td>3</td><td><em>missing</em></td><td>RB</td><td>8100</td><td>MIN</td><td>CLE</td><td>24.5</td></tr><tr><th>6</th><td>josh allen</td><td>3</td><td><em>missing</em></td><td>QB</td><td>8000</td><td>BUF</td><td>HOU</td><td>31.3</td></tr><tr><th>7</th><td>tyreek hill</td><td>8</td><td><em>missing</em></td><td>WR</td><td>8000</td><td>KC</td><td>@PHI</td><td>30.8</td></tr><tr><th>8</th><td>davante adams</td><td>10</td><td><em>missing</em></td><td>WR</td><td>7900</td><td>GB</td><td>PIT</td><td>26.0</td></tr><tr><th>9</th><td>cooper kupp</td><td>8</td><td><em>missing</em></td><td>WR</td><td>7800</td><td>LAR</td><td>ARI</td><td>29.5</td></tr><tr><th>10</th><td>kyler murray</td><td>4</td><td><em>missing</em></td><td>QB</td><td>7800</td><td>ARI</td><td>@LAR</td><td>25.0</td></tr><tr><th>11</th><td>aaron jones</td><td>3</td><td><em>missing</em></td><td>RB</td><td>7700</td><td>GB</td><td>PIT</td><td>26.0</td></tr><tr><th>12</th><td>deandre hopkins</td><td>0</td><td><em>missing</em></td><td>WR</td><td>7700</td><td>ARI</td><td>@LAR</td><td>25.0</td></tr><tr><th>13</th><td>stefon diggs</td><td>11</td><td><em>missing</em></td><td>WR</td><td>7600</td><td>BUF</td><td>HOU</td><td>31.3</td></tr><tr><th>14</th><td>austin ekeler</td><td>4</td><td><em>missing</em></td><td>RB</td><td>7600</td><td>LAC</td><td>LV</td><td>27.8</td></tr><tr><th>15</th><td>lamar jackson</td><td>1</td><td><em>missing</em></td><td>QB</td><td>7500</td><td>BAL</td><td>@DEN</td><td>23.3</td></tr><tr><th>16</th><td>justin jefferson</td><td>5</td><td><em>missing</em></td><td>WR</td><td>7300</td><td>MIN</td><td>CLE</td><td>24.5</td></tr><tr><th>17</th><td>dk metcalf</td><td>4</td><td>Q</td><td>WR</td><td>7200</td><td>SEA</td><td>@SF</td><td>24.5</td></tr><tr><th>18</th><td>tom brady</td><td>6</td><td><em>missing</em></td><td>QB</td><td>7200</td><td>TB</td><td>@NE</td><td>28.3</td></tr><tr><th>19</th><td>mike williams</td><td>3</td><td><em>missing</em></td><td>WR</td><td>7200</td><td>LAC</td><td>LV</td><td>27.8</td></tr><tr><th>20</th><td>tyler lockett</td><td>3</td><td><em>missing</em></td><td>WR</td><td>7100</td><td>SEA</td><td>@SF</td><td>24.5</td></tr><tr><th>21</th><td>russell wilson</td><td>2</td><td><em>missing</em></td><td>QB</td><td>7100</td><td>SEA</td><td>@SF</td><td>24.5</td></tr><tr><th>22</th><td>darren waller</td><td>3</td><td><em>missing</em></td><td>TE</td><td>7100</td><td>LV</td><td>@LAC</td><td>24.8</td></tr><tr><th>23</th><td>matthew stafford</td><td>2</td><td><em>missing</em></td><td>QB</td><td>7000</td><td>LAR</td><td>ARI</td><td>29.5</td></tr><tr><th>24</th><td>nick chubb</td><td>0</td><td><em>missing</em></td><td>RB</td><td>7000</td><td>CLE</td><td>@MIN</td><td>27.0</td></tr><tr><th>25</th><td>calvin ridley</td><td>3</td><td><em>missing</em></td><td>WR</td><td>7000</td><td>ATL</td><td>WAS</td><td>23.0</td></tr><tr><th>26</th><td>justin herbert</td><td>6</td><td><em>missing</em></td><td>QB</td><td>7000</td><td>LAC</td><td>LV</td><td>27.8</td></tr><tr><th>27</th><td>jalen hurts</td><td>2</td><td><em>missing</em></td><td>QB</td><td>6900</td><td>PHI</td><td>KC</td><td>23.8</td></tr><tr><th>28</th><td>terry mclaurin</td><td>9</td><td><em>missing</em></td><td>WR</td><td>6900</td><td>WAS</td><td>@ATL</td><td>24.5</td></tr><tr><th>29</th><td>adam thielen</td><td>4</td><td><em>missing</em></td><td>WR</td><td>6800</td><td>MIN</td><td>CLE</td><td>24.5</td></tr><tr><th>30</th><td>najee harris</td><td>3</td><td><em>missing</em></td><td>RB</td><td>6800</td><td>PIT</td><td>@GB</td><td>19.5</td></tr><tr><th>&vellip;</th><td>&vellip;</td><td>&vellip;</td><td>&vellip;</td><td>&vellip;</td><td>&vellip;</td><td>&vellip;</td><td>&vellip;</td><td>&vellip;</td></tr></tbody></table></div>"
      ],
      "text/latex": [
       "\\begin{tabular}{r|ccccccccc}\n",
       "\t& Player\\_Name & Likes & Inj & Pos & Salary & Team & Opp & Vegas Pts & \\\\\n",
       "\t\\hline\n",
       "\t& String & Int64? & String1? & String3 & Int64 & String3? & String7 & Float64? & \\\\\n",
       "\t\\hline\n",
       "\t1 & derrick henry & 10 & \\emph{missing} & RB & 8800 & TEN & @NYJ & 25.8 & $\\dots$ \\\\\n",
       "\t2 & alvin kamara & 11 & \\emph{missing} & RB & 8400 & NO & NYG & 24.3 & $\\dots$ \\\\\n",
       "\t3 & patrick mahomes & 5 & \\emph{missing} & QB & 8100 & KC & @PHI & 30.8 & $\\dots$ \\\\\n",
       "\t4 & travis kelce & 8 & \\emph{missing} & TE & 8100 & KC & @PHI & 30.8 & $\\dots$ \\\\\n",
       "\t5 & dalvin cook & 3 & \\emph{missing} & RB & 8100 & MIN & CLE & 24.5 & $\\dots$ \\\\\n",
       "\t6 & josh allen & 3 & \\emph{missing} & QB & 8000 & BUF & HOU & 31.3 & $\\dots$ \\\\\n",
       "\t7 & tyreek hill & 8 & \\emph{missing} & WR & 8000 & KC & @PHI & 30.8 & $\\dots$ \\\\\n",
       "\t8 & davante adams & 10 & \\emph{missing} & WR & 7900 & GB & PIT & 26.0 & $\\dots$ \\\\\n",
       "\t9 & cooper kupp & 8 & \\emph{missing} & WR & 7800 & LAR & ARI & 29.5 & $\\dots$ \\\\\n",
       "\t10 & kyler murray & 4 & \\emph{missing} & QB & 7800 & ARI & @LAR & 25.0 & $\\dots$ \\\\\n",
       "\t11 & aaron jones & 3 & \\emph{missing} & RB & 7700 & GB & PIT & 26.0 & $\\dots$ \\\\\n",
       "\t12 & deandre hopkins & 0 & \\emph{missing} & WR & 7700 & ARI & @LAR & 25.0 & $\\dots$ \\\\\n",
       "\t13 & stefon diggs & 11 & \\emph{missing} & WR & 7600 & BUF & HOU & 31.3 & $\\dots$ \\\\\n",
       "\t14 & austin ekeler & 4 & \\emph{missing} & RB & 7600 & LAC & LV & 27.8 & $\\dots$ \\\\\n",
       "\t15 & lamar jackson & 1 & \\emph{missing} & QB & 7500 & BAL & @DEN & 23.3 & $\\dots$ \\\\\n",
       "\t16 & justin jefferson & 5 & \\emph{missing} & WR & 7300 & MIN & CLE & 24.5 & $\\dots$ \\\\\n",
       "\t17 & dk metcalf & 4 & Q & WR & 7200 & SEA & @SF & 24.5 & $\\dots$ \\\\\n",
       "\t18 & tom brady & 6 & \\emph{missing} & QB & 7200 & TB & @NE & 28.3 & $\\dots$ \\\\\n",
       "\t19 & mike williams & 3 & \\emph{missing} & WR & 7200 & LAC & LV & 27.8 & $\\dots$ \\\\\n",
       "\t20 & tyler lockett & 3 & \\emph{missing} & WR & 7100 & SEA & @SF & 24.5 & $\\dots$ \\\\\n",
       "\t21 & russell wilson & 2 & \\emph{missing} & QB & 7100 & SEA & @SF & 24.5 & $\\dots$ \\\\\n",
       "\t22 & darren waller & 3 & \\emph{missing} & TE & 7100 & LV & @LAC & 24.8 & $\\dots$ \\\\\n",
       "\t23 & matthew stafford & 2 & \\emph{missing} & QB & 7000 & LAR & ARI & 29.5 & $\\dots$ \\\\\n",
       "\t24 & nick chubb & 0 & \\emph{missing} & RB & 7000 & CLE & @MIN & 27.0 & $\\dots$ \\\\\n",
       "\t25 & calvin ridley & 3 & \\emph{missing} & WR & 7000 & ATL & WAS & 23.0 & $\\dots$ \\\\\n",
       "\t26 & justin herbert & 6 & \\emph{missing} & QB & 7000 & LAC & LV & 27.8 & $\\dots$ \\\\\n",
       "\t27 & jalen hurts & 2 & \\emph{missing} & QB & 6900 & PHI & KC & 23.8 & $\\dots$ \\\\\n",
       "\t28 & terry mclaurin & 9 & \\emph{missing} & WR & 6900 & WAS & @ATL & 24.5 & $\\dots$ \\\\\n",
       "\t29 & adam thielen & 4 & \\emph{missing} & WR & 6800 & MIN & CLE & 24.5 & $\\dots$ \\\\\n",
       "\t30 & najee harris & 3 & \\emph{missing} & RB & 6800 & PIT & @GB & 19.5 & $\\dots$ \\\\\n",
       "\t$\\dots$ & $\\dots$ & $\\dots$ & $\\dots$ & $\\dots$ & $\\dots$ & $\\dots$ & $\\dots$ & $\\dots$ &  \\\\\n",
       "\\end{tabular}\n"
      ],
      "text/plain": [
       "\u001b[1m257×37 DataFrame\u001b[0m\n",
       "\u001b[1m Row \u001b[0m│\u001b[1m Player_Name        \u001b[0m\u001b[1m Likes   \u001b[0m\u001b[1m Inj      \u001b[0m\u001b[1m Pos     \u001b[0m\u001b[1m Salary \u001b[0m\u001b[1m Team     \u001b[0m\u001b[1m Opp  \u001b[0m ⋯\n",
       "\u001b[1m     \u001b[0m│\u001b[90m String             \u001b[0m\u001b[90m Int64?  \u001b[0m\u001b[90m String1? \u001b[0m\u001b[90m String3 \u001b[0m\u001b[90m Int64  \u001b[0m\u001b[90m String3? \u001b[0m\u001b[90m Strin\u001b[0m ⋯\n",
       "─────┼──────────────────────────────────────────────────────────────────────────\n",
       "   1 │ derrick henry            10 \u001b[90m missing  \u001b[0m RB         8800  TEN       @NYJ  ⋯\n",
       "   2 │ alvin kamara             11 \u001b[90m missing  \u001b[0m RB         8400  NO        NYG\n",
       "   3 │ patrick mahomes           5 \u001b[90m missing  \u001b[0m QB         8100  KC        @PHI\n",
       "   4 │ travis kelce              8 \u001b[90m missing  \u001b[0m TE         8100  KC        @PHI\n",
       "   5 │ dalvin cook               3 \u001b[90m missing  \u001b[0m RB         8100  MIN       CLE   ⋯\n",
       "   6 │ josh allen                3 \u001b[90m missing  \u001b[0m QB         8000  BUF       HOU\n",
       "   7 │ tyreek hill               8 \u001b[90m missing  \u001b[0m WR         8000  KC        @PHI\n",
       "   8 │ davante adams            10 \u001b[90m missing  \u001b[0m WR         7900  GB        PIT\n",
       "   9 │ cooper kupp               8 \u001b[90m missing  \u001b[0m WR         7800  LAR       ARI   ⋯\n",
       "  10 │ kyler murray              4 \u001b[90m missing  \u001b[0m QB         7800  ARI       @LAR\n",
       "  11 │ aaron jones               3 \u001b[90m missing  \u001b[0m RB         7700  GB        PIT\n",
       "  ⋮  │         ⋮              ⋮        ⋮         ⋮       ⋮        ⋮         ⋮  ⋱\n",
       " 248 │ hayden hurst       \u001b[90m missing \u001b[0m\u001b[90m missing  \u001b[0m TE         2600  ATL       WAS\n",
       " 249 │ cj uzomah                 0 \u001b[90m missing  \u001b[0m TE         2600  CIN       JAX   ⋯\n",
       " 250 │ harrison bryant    \u001b[90m missing \u001b[0m\u001b[90m missing  \u001b[0m TE         2500  CLE       @MIN\n",
       " 251 │ pharaoh brown      \u001b[90m missing \u001b[0m\u001b[90m missing  \u001b[0m TE         2500  HOU       @BUF\n",
       " 252 │ tommy tremble             0 \u001b[90m missing  \u001b[0m TE         2500  CAR       @DAL\n",
       " 253 │ ryan griffin       \u001b[90m missing \u001b[0m\u001b[90m missing  \u001b[0m TE         2500  NYJ       TEN   ⋯\n",
       " 254 │ kyle rudolph       \u001b[90m missing \u001b[0m\u001b[90m missing  \u001b[0m TE         2500  NYG       @NO\n",
       " 255 │ mo aliecox         \u001b[90m missing \u001b[0m\u001b[90m missing  \u001b[0m TE         2500  IND       @MIA\n",
       " 256 │ ian thomas         \u001b[90m missing \u001b[0m\u001b[90m missing  \u001b[0m TE         2500  CAR       @DAL\n",
       " 257 │ jacob hollister           0 \u001b[90m missing  \u001b[0m TE         2500  JAX       @CIN  ⋯\n",
       "\u001b[36m                                                 31 columns and 236 rows omitted\u001b[0m"
      ]
     },
     "execution_count": 67,
     "metadata": {},
     "output_type": "execute_result"
    }
   ],
   "source": [
    "current_offense = get_stripped_offense(4);\n"
   ]
  },
  {
   "cell_type": "code",
   "execution_count": 277,
   "metadata": {},
   "outputs": [],
   "source": [
    "writedlm( \"dk_ids_20.csv\",  print_team, ',')"
   ]
  },
  {
   "cell_type": "markdown",
   "metadata": {},
   "source": [
    "# late swap"
   ]
  },
  {
   "cell_type": "code",
   "execution_count": 732,
   "metadata": {},
   "outputs": [
    {
     "data": {
      "text/plain": [
       "lateSwapTeamX (generic function with 1 method)"
      ]
     },
     "execution_count": 732,
     "metadata": {},
     "output_type": "execute_result"
    }
   ],
   "source": [
    "function lateSwapTeamX(num, X, cOffense, cNum_offense, QB_i, RB_i, WR_i, TE_i, FLEX_i, num_QB, num_RB, num_WR, num_TE, num_FLEX, bring_back, team_idx, team_idx_cross, opp_team, game_stack, num_games, rand_vec, team_stack, num_teams, current_teams, late_games)#num is what team it is from 1-100, X is current teams\n",
    "    m1 = Model(SCIP.Optimizer)\n",
    "    set_silent(m1)\n",
    "    #GLPK.Optimizer\n",
    "    M = 100\n",
    "    max_overlap = 5.1\n",
    "    max_same_player = 40\n",
    "    @variable(m1, x[1:cNum_offense], Bin) #pick players\n",
    "    #@variable(m1, def[1:cNum_teams], Bin) #pick players\n",
    "    #@variable(m1, PB[1:cNum_offense], Bin) #player boost\n",
    "    \n",
    "    \n",
    "    #@constraint(m1, [i=1:length(FLEX_i)], PB[FLEX_i[i]] <= sum(x[opp_team[i][j]] for j = 1:length(opp_team[i])))\n",
    "    \n",
    "    #@constraint(m1, [i=1:length(QB_i)], PB[QB_i[i]] == 0)\n",
    "    #@constraint(m1, [i=1:length(DST_i)], PB[DST_i[i]] == 0)\n",
    "\n",
    "    #@variable(m1, G[1:num_games], Bin)\n",
    "    #@constraint(m1,[i=1:num_games], 1.5 * G[i] <= sum(x[game_stack[i][j]] for j=1:length(game_stack[i])))\n",
    "    #@constraint(m1, sum(G[i] for i=1:num_games) >= 2)\n",
    "    #need to make num_games and game_stack, try using uniques to get it\n",
    "    \n",
    "    @variable(m1, u) #pick players\n",
    "\n",
    "\n",
    "    @objective(m1, Max, u)\n",
    "\n",
    "    @constraint(m1, sum(x[i]*rand_vec[i] for i=1:cNum_offense) +  # cOffense[i, :Projection] for i=1:cNum_offense) + \n",
    "                    (sum(t[i,team_idx[i][j]]*x[i]*x[team_idx[i][j]] for i=1:cNum_offense for j=1:length(team_idx[i])) * 9)>= u)\n",
    "                    #sum(0.1 * x[i] * x[opp_def[i][j]] for i=1:cNum_offense for j=1:length(opp_def[i])) +\n",
    "                    #sum(0.1*PB[i]*cOffense[i, :Projection] for i=1:cNum_offense) +\n",
    "                    \n",
    "\n",
    "    @constraint(m1, sum(x[QB_i[i]] for i=1:num_QB) == 1)\n",
    "    @constraint(m1, sum(x[RB_i[i]] for i=1:num_RB) >= 2)\n",
    "    @constraint(m1, sum(x[WR_i[i]] for i=1:num_WR) >= 3)\n",
    "    @constraint(m1, sum(x[TE_i[i]] for i=1:num_TE) >= 1)\n",
    "    @constraint(m1, sum(x[DST_i[i]] for i=1:num_DST) == 1)\n",
    "    @constraint(m1, sum(x[FLEX_i[i]] for i=1:num_FLEX) == 7)\n",
    "    @constraint(m1,sum(x[i]*cOffense[i, :Salary] for i=1:cNum_offense) <= 50000)\n",
    "    @constraint(m1, sum(x[i] for i=1:cNum_offense) == 9)\n",
    "                        \n",
    "    @constraint(m1,sum(x[i]*cOffense.\"DK Ownership\"[i] for i=1:cNum_offense) <= 50)\n",
    "                        \n",
    "    for i=1:cNum_offense\n",
    "        #println(i)\n",
    "        if (cOffense[i, :Team] in late_games) == false\n",
    "            if isempty(current_teams[num]) == false\n",
    "                #println(num)\n",
    "                if i in current_teams[num]\n",
    "                    #println(current_teams[num])\n",
    "\n",
    "\n",
    "                    @constraint(m1, x[i] == 1)\n",
    "                else\n",
    "                    @constraint(m1, x[i] == 0)            \n",
    "                end\n",
    "            end\n",
    "        end\n",
    "    end\n",
    "\n",
    "\n",
    "    \n",
    "    \n",
    "    #@constraint(m1, sum(t[i,team_idx[i][j]]*x[i]*x[team_idx[i][j]] for i=1:cNum_offense for j=1:length(team_idx[i])) >= 1.5)\n",
    "    \n",
    "    #bring back\n",
    "                    \n",
    "    @constraint(m1,[i=1:length(QB_i)], x[QB_i[i]] - sum(x[bring_back[i][j]] for j = 1:length(bring_back[i])) <= 0)\n",
    "                        \n",
    "    #team stack          \n",
    "    @constraint(m1,[i=1:num_teams], sum(x[team_stack[i][j]] for j=1:length(team_stack[i])) <= 4)\n",
    "\n",
    "\n",
    "    \n",
    "    #@constraint(m1, sum(def[i] for i=1:cNum_teams) == 1)\n",
    "\n",
    "\n",
    "    if num != 1\n",
    "        #for i=1:num\n",
    "        @constraint(m1,[i=1:num-1], sum(t[X[i][k],team_idx_cross[X[i][k]][j]] * x[team_idx_cross[X[i][k]][j]] for k = 1:9 for j=1:length(team_idx_cross[X[i][k]])) <= 7.9)\n",
    "        #end\n",
    "                        \n",
    "        #@constraint(m1,[i=1:num-1], sum(x[X[i][k]] for k = 1:8) <= max_overlap)\n",
    "\n",
    "\n",
    "    end \n",
    "                                        \n",
    "    optimize!(m1)\n",
    "    return(JuMP.value.(x))\n",
    "end"
   ]
  },
  {
   "cell_type": "code",
   "execution_count": 106,
   "metadata": {},
   "outputs": [
    {
     "data": {
      "text/plain": [
       "lateSwapAllTeams (generic function with 1 method)"
      ]
     },
     "execution_count": 106,
     "metadata": {},
     "output_type": "execute_result"
    }
   ],
   "source": [
    "function lateSwapAllTeams(count, X, cOffense, cNum_offense, QB_i, RB_i, WR_i, TE_i, FLEX_i, num_QB, num_RB, num_WR, num_TE, num_FLEX, bring_back, team_idx, team_idx_cross, opp_team, game_stack, num_games, team_stack, num_teams, current_teams, late_games) #count is how many teams you want\n",
    "    \n",
    "    rand_vec = rand(cNum_offense,1)/25 .+1\n",
    "    temp = cOffense[:, :Projection]\n",
    "    rand_vec = rand_vec .* temp\n",
    "    x1 = lateSwapTeamX(1, X, cOffense, cNum_offense, QB_i, RB_i, WR_i, TE_i, FLEX_i, num_QB, num_RB, num_WR, num_TE, num_FLEX, bring_back, team_idx, team_idx_cross, opp_team, game_stack, num_games, rand_vec, team_stack, num_teams, current_teams, late_games);\n",
    "\n",
    "    B = Vector{Int}()\n",
    "    for i=1:length(x1)\n",
    "        if x1[i] > 0.5\n",
    "            append!(B,i)\n",
    "        end\n",
    "    end\n",
    "    X = push!(X, B)\n",
    "    \n",
    "    for i = 2:count\n",
    "        rand_vec = rand(cNum_offense,1)/25 .+1\n",
    "        temp = cOffense[:, :Projection]\n",
    "        rand_vec = rand_vec .* temp\n",
    "        @time x1 = lateSwapTeamX(i, X, cOffense, cNum_offense, QB_i, RB_i, WR_i, TE_i, FLEX_i, num_QB, num_RB, num_WR, num_TE, num_FLEX, bring_back, team_idx, team_idx_cross, opp_team, game_stack, num_games, rand_vec, team_stack, num_teams, current_teams, late_games);\n",
    "        B = Vector{Int}()\n",
    "        for i=1:length(x1)\n",
    "            if x1[i] > 0.5\n",
    "                append!(B,i)\n",
    "            end\n",
    "        end\n",
    "        \n",
    "        X = push!(X, B)\n",
    "        #print(X)\n",
    "        #D = hcat(D, d1)\n",
    "        \n",
    "        println(i)\n",
    "\n",
    "    end\n",
    "\n",
    "    return(X)\n",
    "end"
   ]
  },
  {
   "cell_type": "code",
   "execution_count": 120,
   "metadata": {},
   "outputs": [
    {
     "name": "stdout",
     "output_type": "stream",
     "text": [
      "  0.031045 seconds (9.45 k allocations: 608.719 KiB)\n",
      "2\n",
      "  0.069187 seconds (9.57 k allocations: 616.078 KiB)\n",
      "3\n",
      "  0.018385 seconds (9.68 k allocations: 622.531 KiB)\n",
      "4\n",
      "  0.013028 seconds (9.81 k allocations: 629.148 KiB)\n",
      "5\n",
      "  0.019120 seconds (9.93 k allocations: 635.500 KiB)\n",
      "6\n",
      "  0.012627 seconds (10.03 k allocations: 641.664 KiB)\n",
      "7\n",
      "  0.045305 seconds (10.15 k allocations: 648.742 KiB)\n",
      "8\n",
      "  0.015053 seconds (10.27 k allocations: 655.641 KiB)\n",
      "9\n",
      "  0.045340 seconds (10.38 k allocations: 662.414 KiB)\n",
      "10\n",
      "  0.017969 seconds (10.48 k allocations: 668.594 KiB)\n",
      "11\n",
      "  0.013646 seconds (10.60 k allocations: 675.039 KiB)\n",
      "12\n",
      "  0.011454 seconds (10.71 k allocations: 681.914 KiB)\n",
      "13\n",
      "  0.017215 seconds (10.84 k allocations: 687.461 KiB)\n",
      "14\n",
      "  0.013956 seconds (10.95 k allocations: 694.117 KiB)\n",
      "15\n",
      "  0.043925 seconds (11.05 k allocations: 699.977 KiB)\n",
      "16\n",
      "  0.013939 seconds (11.15 k allocations: 705.969 KiB)\n",
      "17\n",
      "  0.042063 seconds (11.27 k allocations: 712.586 KiB)\n",
      "18\n",
      "  0.016190 seconds (11.37 k allocations: 720.281 KiB)\n",
      "19\n",
      "  0.063978 seconds (11.49 k allocations: 726.844 KiB)\n",
      "20\n",
      "  0.050232 seconds (11.61 k allocations: 733.500 KiB)\n",
      "21\n",
      "  0.043922 seconds (11.71 k allocations: 739.883 KiB)\n",
      "22\n",
      "  0.017570 seconds (11.82 k allocations: 746.188 KiB)\n",
      "23\n",
      "  0.044350 seconds (11.96 k allocations: 752.859 KiB)\n",
      "24\n",
      "  0.054725 seconds (12.07 k allocations: 758.953 KiB)\n",
      "25\n",
      "  0.015684 seconds (12.19 k allocations: 765.641 KiB)\n",
      "26\n",
      "  0.040278 seconds (12.28 k allocations: 771.664 KiB)\n",
      "27\n",
      "  0.013717 seconds (12.38 k allocations: 777.742 KiB)\n",
      "28\n",
      "  0.012003 seconds (12.50 k allocations: 792.555 KiB)\n",
      "29\n",
      "  0.020587 seconds (12.60 k allocations: 798.430 KiB)\n",
      "30\n",
      "  0.013758 seconds (12.72 k allocations: 804.914 KiB)\n",
      "31\n",
      "  0.044903 seconds (12.82 k allocations: 810.773 KiB)\n",
      "32\n",
      "  0.014623 seconds (12.94 k allocations: 817.789 KiB)\n",
      "33\n",
      "  0.015717 seconds (13.06 k allocations: 824.555 KiB)\n",
      "34\n",
      "  0.023321 seconds (13.17 k allocations: 831.078 KiB)\n",
      "35\n",
      "  0.056551 seconds (13.29 k allocations: 837.516 KiB)\n",
      "36\n",
      "  0.019336 seconds (13.39 k allocations: 843.547 KiB)\n",
      "37\n",
      "  0.052277 seconds (13.51 k allocations: 850.133 KiB)\n",
      "38\n",
      "  0.050740 seconds (13.63 k allocations: 857.055 KiB)\n",
      "39\n",
      "  0.017630 seconds (13.73 k allocations: 863.133 KiB)\n",
      "40\n",
      "  0.014895 seconds (13.84 k allocations: 869.586 KiB)\n",
      "41\n",
      "  0.018184 seconds (13.96 k allocations: 876.391 KiB)\n",
      "42\n",
      "  0.017378 seconds (14.09 k allocations: 883.258 KiB)\n",
      "43\n",
      "  0.022337 seconds (14.21 k allocations: 889.812 KiB)\n",
      "44\n",
      "  0.064096 seconds (14.33 k allocations: 896.984 KiB)\n",
      "45\n",
      "  0.016085 seconds (14.44 k allocations: 903.242 KiB)\n",
      "46\n",
      "  0.055681 seconds (14.54 k allocations: 908.086 KiB)\n",
      "47\n",
      "  0.048462 seconds (14.66 k allocations: 914.820 KiB)\n",
      "48\n",
      "  0.018471 seconds (14.74 k allocations: 919.781 KiB)\n",
      "49\n",
      "  0.052329 seconds (14.87 k allocations: 926.344 KiB)\n",
      "50\n",
      "  0.018509 seconds (14.98 k allocations: 934.672 KiB)\n",
      "51\n",
      "  0.017102 seconds (15.07 k allocations: 940.586 KiB)\n",
      "52\n",
      "  0.020083 seconds (15.20 k allocations: 947.281 KiB)\n",
      "53\n",
      "  0.024109 seconds (15.30 k allocations: 971.578 KiB)\n",
      "54\n",
      "  0.019753 seconds (15.42 k allocations: 960.328 KiB)\n",
      "55\n",
      "  0.021278 seconds (15.53 k allocations: 966.891 KiB)\n",
      "56\n",
      "  0.018754 seconds (15.65 k allocations: 973.617 KiB)\n",
      "57\n",
      "  0.023604 seconds (15.77 k allocations: 980.055 KiB)\n",
      "58\n",
      "  0.017216 seconds (15.89 k allocations: 986.461 KiB)\n",
      "59\n",
      "  0.017830 seconds (16.00 k allocations: 993.164 KiB)\n",
      "60\n",
      "  0.016195 seconds (16.12 k allocations: 1000.180 KiB)\n",
      "61\n",
      "  0.019928 seconds (16.23 k allocations: 1006.734 KiB)\n",
      "62\n",
      "  0.019521 seconds (16.35 k allocations: 1013.344 KiB)\n",
      "63\n",
      "  0.014827 seconds (16.46 k allocations: 1019.898 KiB)\n",
      "64\n",
      "  0.044006 seconds (16.58 k allocations: 1.003 MiB)\n",
      "65\n",
      "  0.016521 seconds (16.66 k allocations: 1.007 MiB)\n",
      "66\n",
      "  0.014801 seconds (16.77 k allocations: 1.014 MiB)\n",
      "67\n",
      "  0.012249 seconds (16.86 k allocations: 1.018 MiB)\n",
      "68\n",
      "  0.016525 seconds (16.99 k allocations: 1.044 MiB)\n",
      "69\n",
      "  0.017148 seconds (17.10 k allocations: 1.050 MiB)\n",
      "70\n",
      "  0.015704 seconds (17.21 k allocations: 1.056 MiB)\n",
      "71\n",
      "  0.015091 seconds (17.32 k allocations: 1.046 MiB)\n",
      "72\n",
      "  0.048310 seconds (17.43 k allocations: 1.052 MiB)\n",
      "73\n",
      "  0.015222 seconds (17.55 k allocations: 1.077 MiB)\n",
      "74\n",
      "  0.044748 seconds (17.66 k allocations: 1.084 MiB)\n",
      "75\n",
      "  0.016452 seconds (17.76 k allocations: 1.090 MiB)\n",
      "76\n",
      "  0.015261 seconds (17.88 k allocations: 1.096 MiB)\n",
      "77\n",
      "  0.015701 seconds (17.97 k allocations: 1.102 MiB)\n",
      "78\n",
      "  0.042413 seconds (18.08 k allocations: 1.108 MiB)\n",
      "79\n",
      "  0.012321 seconds (18.19 k allocations: 1.114 MiB)\n",
      "80\n",
      "  0.041264 seconds (18.33 k allocations: 1.121 MiB)\n",
      "81\n",
      "  0.013611 seconds (18.43 k allocations: 1.127 MiB)\n",
      "82\n",
      "  0.040639 seconds (18.57 k allocations: 1.134 MiB)\n",
      "83\n",
      "  0.048376 seconds (18.68 k allocations: 1.141 MiB)\n",
      "84\n",
      "  0.043911 seconds (18.79 k allocations: 1.147 MiB)\n",
      "85\n",
      "  0.015777 seconds (18.88 k allocations: 1.153 MiB)\n",
      "86\n",
      "  0.016494 seconds (19.00 k allocations: 1.159 MiB)\n",
      "87\n",
      "  0.016952 seconds (19.10 k allocations: 1.165 MiB)\n",
      "88\n",
      "  0.016468 seconds (19.21 k allocations: 1.172 MiB)\n",
      "89\n",
      "  0.019421 seconds (19.33 k allocations: 1.179 MiB)\n",
      "90\n",
      "  0.051459 seconds (19.47 k allocations: 1.185 MiB)\n",
      "91\n",
      "  0.016783 seconds (19.56 k allocations: 1.191 MiB)\n",
      "92\n",
      "  0.040881 seconds (19.71 k allocations: 1.198 MiB)\n",
      "93\n",
      "  0.020687 seconds (19.82 k allocations: 1.204 MiB)\n",
      "94\n",
      "  0.021401 seconds (19.92 k allocations: 1.210 MiB)\n",
      "95\n",
      "  0.016168 seconds (20.04 k allocations: 1.216 MiB)\n",
      "96\n",
      "  0.021945 seconds (20.17 k allocations: 1.223 MiB)\n",
      "97\n",
      "  0.017964 seconds (20.30 k allocations: 1.229 MiB)\n",
      "98\n",
      "  0.017694 seconds (20.42 k allocations: 1.236 MiB)\n",
      "99\n",
      "  0.044983 seconds (20.56 k allocations: 1.242 MiB)\n",
      "100\n",
      "  0.022576 seconds (20.67 k allocations: 1.249 MiB)\n",
      "101\n",
      "  0.014430 seconds (20.77 k allocations: 1.255 MiB)\n",
      "102\n",
      "  0.044986 seconds (20.91 k allocations: 1.262 MiB)\n",
      "103\n",
      "  0.019563 seconds (21.01 k allocations: 1.268 MiB)\n",
      "104\n",
      "  0.018996 seconds (21.13 k allocations: 1.275 MiB)\n",
      "105\n",
      "  0.016095 seconds (21.25 k allocations: 1.281 MiB)\n",
      "106\n",
      "  0.019203 seconds (21.38 k allocations: 1.288 MiB)\n",
      "107\n",
      "  0.018694 seconds (21.51 k allocations: 1.295 MiB)\n",
      "108\n",
      "  0.018132 seconds (21.63 k allocations: 1.302 MiB)\n",
      "109\n",
      "  0.682152 seconds (57.46 k allocations: 1.853 MiB, 64.16% gc time)\n",
      "110\n",
      "  3.572546 seconds (1.75 M allocations: 105.300 MiB, 12.25% gc time)\n"
     ]
    }
   ],
   "source": [
    "X = Vector{Vector{Int}}()\n",
    "\n",
    "@time all_teams = lateSwapAllTeams(110, X, cOffense, cNum_offense, QB_i, RB_i, WR_i, TE_i, FLEX_i, num_QB, num_RB, num_WR, num_TE, num_FLEX, bring_back, team_idx, team_idx_cross, opp_team, game_stack, num_games, team_stack, num_teams, a, late_teams);"
   ]
  },
  {
   "cell_type": "code",
   "execution_count": 697,
   "metadata": {},
   "outputs": [
    {
     "data": {
      "text/plain": [
       "7-element Vector{Any}:\n",
       "   3\n",
       "   2\n",
       "  15\n",
       "  58\n",
       " 118\n",
       "  67\n",
       " 124"
      ]
     },
     "execution_count": 697,
     "metadata": {},
     "output_type": "execute_result"
    }
   ],
   "source": [
    "a[1]"
   ]
  },
  {
   "cell_type": "code",
   "execution_count": 701,
   "metadata": {},
   "outputs": [
    {
     "data": {
      "text/html": [
       "<p>DataFrameRow (10 columns)</p><div class=\"data-frame\"><table class=\"data-frame\"><thead><tr><th></th><th>Player</th><th>Team</th><th>Opponent</th><th>DK Position</th><th>Salary</th><th>DK Projection</th><th>DK Value</th></tr><tr><th></th><th title=\"String31\">String31</th><th title=\"String3\">String3</th><th title=\"String3\">String3</th><th title=\"Union{Missing, String3}\">String3?</th><th title=\"Union{Missing, Int64}\">Int64?</th><th title=\"Float64\">Float64</th><th title=\"Float64\">Float64</th></tr></thead><tbody><tr><th>2</th><td>Darrell Henderson Jr.</td><td>LA</td><td>DET</td><td>RB</td><td>6600</td><td>20.3</td><td>4.3</td></tr></tbody></table></div>"
      ],
      "text/latex": [
       "\\begin{tabular}{r|cccccccc}\n",
       "\t& Player & Team & Opponent & DK Position & Salary & DK Projection & DK Value & \\\\\n",
       "\t\\hline\n",
       "\t& String31 & String3 & String3 & String3? & Int64? & Float64 & Float64 & \\\\\n",
       "\t\\hline\n",
       "\t2 & Darrell Henderson Jr. & LA & DET & RB & 6600 & 20.3 & 4.3 & $\\dots$ \\\\\n",
       "\\end{tabular}\n"
      ],
      "text/plain": [
       "\u001b[1mDataFrameRow\u001b[0m\n",
       "\u001b[1m Row \u001b[0m│\u001b[1m Player                \u001b[0m\u001b[1m Team    \u001b[0m\u001b[1m Opponent \u001b[0m\u001b[1m DK Position \u001b[0m\u001b[1m Salary \u001b[0m\u001b[1m DK Proje\u001b[0m ⋯\n",
       "\u001b[1m     \u001b[0m│\u001b[90m String31              \u001b[0m\u001b[90m String3 \u001b[0m\u001b[90m String3  \u001b[0m\u001b[90m String3?    \u001b[0m\u001b[90m Int64? \u001b[0m\u001b[90m Float64 \u001b[0m ⋯\n",
       "─────┼──────────────────────────────────────────────────────────────────────────\n",
       "   2 │ Darrell Henderson Jr.  LA       DET       RB             6600           ⋯\n",
       "\u001b[36m                                                               5 columns omitted\u001b[0m"
      ]
     },
     "execution_count": 701,
     "metadata": {},
     "output_type": "execute_result"
    }
   ],
   "source": [
    "cOffense[2,:]"
   ]
  },
  {
   "cell_type": "code",
   "execution_count": 108,
   "metadata": {},
   "outputs": [
    {
     "data": {
      "text/plain": [
       "150-element Vector{Any}:\n",
       " Any[25, 3, 20, 2, 21, 37, 13, 36, 28]\n",
       " Any[20, 36, 9, 31, 28]\n",
       " Any[3, 21, 37, 17]\n",
       " Any[20, 36, 2, 27, 18, 10]\n",
       " Any[15, 11, 20, 2, 31, 38, 13, 36, 28]\n",
       " Any[3, 11, 38, 37, 8, 28]\n",
       " Any[15, 3, 20, 9, 21, 24, 18, 38, 28]\n",
       " Any[20, 24, 37, 10]\n",
       " Any[15, 3, 20, 38, 37, 13]\n",
       " Any[20, 39, 21, 18, 28]\n",
       " Any[15, 3, 36, 38, 37, 8, 28]\n",
       " Any[25, 20, 9, 24, 37, 8, 10]\n",
       " Any[22, 1, 20, 5, 31, 27, 13, 36]\n",
       " ⋮\n",
       " Any[11, 20, 5, 37, 36, 28]\n",
       " Any[20, 36, 31, 13, 8]\n",
       " Any[20, 21, 23, 18, 28]\n",
       " Any[15, 3, 20, 9, 37, 17, 39, 28]\n",
       " Any[22, 39, 13, 18]\n",
       " Any[6, 20, 39, 24, 31]\n",
       " Any[20, 36, 9, 24, 18, 39, 12]\n",
       " Any[20, 39, 9, 27, 13]\n",
       " Any[36, 24, 38, 8, 18, 10]\n",
       " Any[20, 2, 9, 18, 28]\n",
       " Any[20, 36, 9, 24, 38, 18]\n",
       " Any[6, 20, 23, 24, 18, 28]"
      ]
     },
     "execution_count": 108,
     "metadata": {},
     "output_type": "execute_result"
    }
   ],
   "source": [
    "a"
   ]
  },
  {
   "cell_type": "code",
   "execution_count": 90,
   "metadata": {},
   "outputs": [
    {
     "data": {
      "text/plain": [
       "150×9 Matrix{Int64}:\n",
       " 20285101  20285121  20285117  20285201  …  20285313  20285129  20285373\n",
       " 20285095  20285117  20285129  20285203     20285309  20285123  20285373\n",
       " 20285095  20285121  20285123  20285285     20285305  20285309  20285376\n",
       " 20285095  20285117  20285129  20285201     20285307  20285309  20285377\n",
       " 20285097  20285127  20285117  20285201     20285313  20285129  20285373\n",
       " 20285095  20285121  20285127  20285223  …  20285303  20285309  20285373\n",
       " 20285097  20285121  20285117  20285203     20285307  20285223  20285373\n",
       " 20285095  20285117  20285123  20285225     20285309  20285131  20285377\n",
       " 20285097  20285121  20285117  20285223     20285313  20285309  20285376\n",
       " 20285095  20285117  20285137  20285285     20285307  20285309  20285373\n",
       " 20285097  20285121  20285129  20285223  …  20285303  20285123  20285373\n",
       " 20285101  20285117  20285123  20285203     20285303  20285217  20285377\n",
       " 20285099  20285125  20285117  20285221     20285313  20285129  20285376\n",
       "        ⋮                                ⋱                      \n",
       " 20285098  20285127  20285117  20285221     20285309  20285129  20285373\n",
       " 20285095  20285117  20285129  20285219     20285313  20285303  20285374\n",
       " 20285095  20285117  20285123  20285285  …  20285307  20285131  20285373\n",
       " 20285097  20285121  20285117  20285203     20285305  20285137  20285373\n",
       " 20285099  20285137  20285123  20285195     20285313  20285307  20285376\n",
       " 20285096  20285117  20285137  20285225     20285309  20285123  20285376\n",
       " 20285095  20285117  20285129  20285203     20285307  20285137  20285375\n",
       " 20285095  20285117  20285137  20285203  …  20285313  20285123  20285376\n",
       " 20285095  20285129  20285123  20285225     20285303  20285307  20285377\n",
       " 20285095  20285117  20285131  20285201     20285307  20285135  20285373\n",
       " 20285095  20285117  20285129  20285203     20285307  20285217  20285374\n",
       " 20285096  20285117  20285123  20285205     20285307  20285131  20285373"
      ]
     },
     "execution_count": 90,
     "metadata": {},
     "output_type": "execute_result"
    }
   ],
   "source": [
    "    ids = readdlm(string(\"/Users/kevin/Desktop/Draftkings/2022/Data/ETR/Week 12/dk_ids3.csv\"), ',', Int)\n",
    "\n"
   ]
  },
  {
   "cell_type": "code",
   "execution_count": 493,
   "metadata": {},
   "outputs": [
    {
     "data": {
      "text/html": [
       "<div class=\"data-frame\"><p>155 rows × 10 columns (omitted printing of 3 columns)</p><table class=\"data-frame\"><thead><tr><th></th><th>Player</th><th>Team</th><th>Opponent</th><th>DK Position</th><th>Salary</th><th>DK Projection</th><th>DK Value</th></tr><tr><th></th><th title=\"String31\">String31</th><th title=\"String3\">String3</th><th title=\"String3\">String3</th><th title=\"Union{Missing, String3}\">String3?</th><th title=\"Union{Missing, Int64}\">Int64?</th><th title=\"Float64\">Float64</th><th title=\"Float64\">Float64</th></tr></thead><tbody><tr><th>1</th><td>Sony Michel</td><td>LA</td><td>JAX</td><td>RB</td><td>4300</td><td>19.9</td><td>8.4</td></tr><tr><th>2</th><td>Antonio Gibson</td><td>WAS</td><td>LV</td><td>RB</td><td>5700</td><td>18.8</td><td>4.5</td></tr><tr><th>3</th><td>Gardner Minshew II</td><td>PHI</td><td>NYJ</td><td>QB</td><td>4000</td><td>17.0</td><td>4.4</td></tr><tr><th>4</th><td>Eli Mitchell</td><td>SF</td><td>SEA</td><td>RB</td><td>6000</td><td>19.0</td><td>4.2</td></tr><tr><th>5</th><td>Jonathan Taylor</td><td>IND</td><td>HOU</td><td>RB</td><td>9200</td><td>25.3</td><td>4.1</td></tr><tr><th>6</th><td>Jamaal Williams</td><td>DET</td><td>MIN</td><td>RB</td><td>5400</td><td>17.7</td><td>4.0</td></tr><tr><th>7</th><td>Alexander Mattison</td><td>MIN</td><td>DET</td><td>RB</td><td>7600</td><td>21.6</td><td>3.6</td></tr><tr><th>8</th><td>Foster Moreau</td><td>LV</td><td>WAS</td><td>TE</td><td>2700</td><td>11.9</td><td>3.5</td></tr><tr><th>9</th><td>James Conner</td><td>ARI</td><td>CHI</td><td>RB</td><td>5900</td><td>17.9</td><td>3.2</td></tr><tr><th>10</th><td>Leonard Fournette</td><td>TB</td><td>ATL</td><td>RB</td><td>7300</td><td>20.7</td><td>3.2</td></tr><tr><th>11</th><td>Cooper Kupp</td><td>LA</td><td>JAX</td><td>WR</td><td>9000</td><td>23.4</td><td>2.6</td></tr><tr><th>12</th><td>Miles Sanders</td><td>PHI</td><td>NYJ</td><td>RB</td><td>5200</td><td>15.7</td><td>2.4</td></tr><tr><th>13</th><td>Tom Brady</td><td>TB</td><td>ATL</td><td>QB</td><td>7200</td><td>24.5</td><td>2.3</td></tr><tr><th>14</th><td>Taylor Heinicke</td><td>WAS</td><td>LV</td><td>QB</td><td>5600</td><td>19.7</td><td>2.3</td></tr><tr><th>15</th><td>Chris Godwin</td><td>TB</td><td>ATL</td><td>WR</td><td>6600</td><td>18.0</td><td>1.9</td></tr><tr><th>16</th><td>David Montgomery</td><td>CHI</td><td>ARI</td><td>RB</td><td>5600</td><td>15.7</td><td>1.6</td></tr><tr><th>17</th><td>Tua Tagovailoa</td><td>MIA</td><td>NYG</td><td>QB</td><td>5500</td><td>18.7</td><td>1.6</td></tr><tr><th>18</th><td>Brandon Aiyuk</td><td>SF</td><td>SEA</td><td>WR</td><td>5600</td><td>15.6</td><td>1.5</td></tr><tr><th>19</th><td>Justin Herbert</td><td>LAC</td><td>CIN</td><td>QB</td><td>6700</td><td>22.2</td><td>1.4</td></tr><tr><th>20</th><td>DeVante Parker</td><td>MIA</td><td>NYG</td><td>WR</td><td>3900</td><td>12.2</td><td>1.4</td></tr><tr><th>21</th><td>Rob Gronkowski</td><td>TB</td><td>ATL</td><td>TE</td><td>5300</td><td>14.9</td><td>1.4</td></tr><tr><th>22</th><td>Joe Mixon</td><td>CIN</td><td>LAC</td><td>RB</td><td>8100</td><td>20.3</td><td>1.3</td></tr><tr><th>23</th><td>Dolphins </td><td>MIA</td><td>NYG</td><td>DST</td><td>3300</td><td>8.8</td><td>1.3</td></tr><tr><th>24</th><td>Diontae Johnson</td><td>PIT</td><td>BAL</td><td>WR</td><td>6800</td><td>17.7</td><td>1.2</td></tr><tr><th>25</th><td>Lamar Jackson</td><td>BAL</td><td>PIT</td><td>QB</td><td>7800</td><td>25.1</td><td>1.1</td></tr><tr><th>26</th><td>Derek Carr</td><td>LV</td><td>WAS</td><td>QB</td><td>6000</td><td>19.7</td><td>1.1</td></tr><tr><th>27</th><td>Hunter Renfrow</td><td>LV</td><td>WAS</td><td>WR</td><td>5800</td><td>15.6</td><td>1.1</td></tr><tr><th>28</th><td>Dallas Goedert</td><td>PHI</td><td>NYJ</td><td>TE</td><td>4500</td><td>13.1</td><td>1.1</td></tr><tr><th>29</th><td>Keenan Allen</td><td>LAC</td><td>CIN</td><td>WR</td><td>7500</td><td>18.8</td><td>1.0</td></tr><tr><th>30</th><td>Josh Jacobs</td><td>LV</td><td>WAS</td><td>RB</td><td>6000</td><td>15.8</td><td>0.9</td></tr><tr><th>&vellip;</th><td>&vellip;</td><td>&vellip;</td><td>&vellip;</td><td>&vellip;</td><td>&vellip;</td><td>&vellip;</td><td>&vellip;</td></tr></tbody></table></div>"
      ],
      "text/latex": [
       "\\begin{tabular}{r|cccccccc}\n",
       "\t& Player & Team & Opponent & DK Position & Salary & DK Projection & DK Value & \\\\\n",
       "\t\\hline\n",
       "\t& String31 & String3 & String3 & String3? & Int64? & Float64 & Float64 & \\\\\n",
       "\t\\hline\n",
       "\t1 & Sony Michel & LA & JAX & RB & 4300 & 19.9 & 8.4 & $\\dots$ \\\\\n",
       "\t2 & Antonio Gibson & WAS & LV & RB & 5700 & 18.8 & 4.5 & $\\dots$ \\\\\n",
       "\t3 & Gardner Minshew II & PHI & NYJ & QB & 4000 & 17.0 & 4.4 & $\\dots$ \\\\\n",
       "\t4 & Eli Mitchell & SF & SEA & RB & 6000 & 19.0 & 4.2 & $\\dots$ \\\\\n",
       "\t5 & Jonathan Taylor & IND & HOU & RB & 9200 & 25.3 & 4.1 & $\\dots$ \\\\\n",
       "\t6 & Jamaal Williams & DET & MIN & RB & 5400 & 17.7 & 4.0 & $\\dots$ \\\\\n",
       "\t7 & Alexander Mattison & MIN & DET & RB & 7600 & 21.6 & 3.6 & $\\dots$ \\\\\n",
       "\t8 & Foster Moreau & LV & WAS & TE & 2700 & 11.9 & 3.5 & $\\dots$ \\\\\n",
       "\t9 & James Conner & ARI & CHI & RB & 5900 & 17.9 & 3.2 & $\\dots$ \\\\\n",
       "\t10 & Leonard Fournette & TB & ATL & RB & 7300 & 20.7 & 3.2 & $\\dots$ \\\\\n",
       "\t11 & Cooper Kupp & LA & JAX & WR & 9000 & 23.4 & 2.6 & $\\dots$ \\\\\n",
       "\t12 & Miles Sanders & PHI & NYJ & RB & 5200 & 15.7 & 2.4 & $\\dots$ \\\\\n",
       "\t13 & Tom Brady & TB & ATL & QB & 7200 & 24.5 & 2.3 & $\\dots$ \\\\\n",
       "\t14 & Taylor Heinicke & WAS & LV & QB & 5600 & 19.7 & 2.3 & $\\dots$ \\\\\n",
       "\t15 & Chris Godwin & TB & ATL & WR & 6600 & 18.0 & 1.9 & $\\dots$ \\\\\n",
       "\t16 & David Montgomery & CHI & ARI & RB & 5600 & 15.7 & 1.6 & $\\dots$ \\\\\n",
       "\t17 & Tua Tagovailoa & MIA & NYG & QB & 5500 & 18.7 & 1.6 & $\\dots$ \\\\\n",
       "\t18 & Brandon Aiyuk & SF & SEA & WR & 5600 & 15.6 & 1.5 & $\\dots$ \\\\\n",
       "\t19 & Justin Herbert & LAC & CIN & QB & 6700 & 22.2 & 1.4 & $\\dots$ \\\\\n",
       "\t20 & DeVante Parker & MIA & NYG & WR & 3900 & 12.2 & 1.4 & $\\dots$ \\\\\n",
       "\t21 & Rob Gronkowski & TB & ATL & TE & 5300 & 14.9 & 1.4 & $\\dots$ \\\\\n",
       "\t22 & Joe Mixon & CIN & LAC & RB & 8100 & 20.3 & 1.3 & $\\dots$ \\\\\n",
       "\t23 & Dolphins  & MIA & NYG & DST & 3300 & 8.8 & 1.3 & $\\dots$ \\\\\n",
       "\t24 & Diontae Johnson & PIT & BAL & WR & 6800 & 17.7 & 1.2 & $\\dots$ \\\\\n",
       "\t25 & Lamar Jackson & BAL & PIT & QB & 7800 & 25.1 & 1.1 & $\\dots$ \\\\\n",
       "\t26 & Derek Carr & LV & WAS & QB & 6000 & 19.7 & 1.1 & $\\dots$ \\\\\n",
       "\t27 & Hunter Renfrow & LV & WAS & WR & 5800 & 15.6 & 1.1 & $\\dots$ \\\\\n",
       "\t28 & Dallas Goedert & PHI & NYJ & TE & 4500 & 13.1 & 1.1 & $\\dots$ \\\\\n",
       "\t29 & Keenan Allen & LAC & CIN & WR & 7500 & 18.8 & 1.0 & $\\dots$ \\\\\n",
       "\t30 & Josh Jacobs & LV & WAS & RB & 6000 & 15.8 & 0.9 & $\\dots$ \\\\\n",
       "\t$\\dots$ & $\\dots$ & $\\dots$ & $\\dots$ & $\\dots$ & $\\dots$ & $\\dots$ & $\\dots$ &  \\\\\n",
       "\\end{tabular}\n"
      ],
      "text/plain": [
       "\u001b[1m155×10 DataFrame\u001b[0m\n",
       "\u001b[1m Row \u001b[0m│\u001b[1m Player             \u001b[0m\u001b[1m Team    \u001b[0m\u001b[1m Opponent \u001b[0m\u001b[1m DK Position \u001b[0m\u001b[1m Salary \u001b[0m\u001b[1m DK Projecti\u001b[0m ⋯\n",
       "\u001b[1m     \u001b[0m│\u001b[90m String31           \u001b[0m\u001b[90m String3 \u001b[0m\u001b[90m String3  \u001b[0m\u001b[90m String3?    \u001b[0m\u001b[90m Int64? \u001b[0m\u001b[90m Float64    \u001b[0m ⋯\n",
       "─────┼──────────────────────────────────────────────────────────────────────────\n",
       "   1 │ Sony Michel         LA       JAX       RB             4300           19 ⋯\n",
       "   2 │ Antonio Gibson      WAS      LV        RB             5700           18\n",
       "   3 │ Gardner Minshew II  PHI      NYJ       QB             4000           17\n",
       "   4 │ Eli Mitchell        SF       SEA       RB             6000           19\n",
       "   5 │ Jonathan Taylor     IND      HOU       RB             9200           25 ⋯\n",
       "   6 │ Jamaal Williams     DET      MIN       RB             5400           17\n",
       "   7 │ Alexander Mattison  MIN      DET       RB             7600           21\n",
       "   8 │ Foster Moreau       LV       WAS       TE             2700           11\n",
       "   9 │ James Conner        ARI      CHI       RB             5900           17 ⋯\n",
       "  10 │ Leonard Fournette   TB       ATL       RB             7300           20\n",
       "  11 │ Cooper Kupp         LA       JAX       WR             9000           23\n",
       "  ⋮  │         ⋮              ⋮        ⋮           ⋮         ⋮           ⋮     ⋱\n",
       " 146 │ Boston Scott        PHI      NYJ       RB             4600            7\n",
       " 147 │ Mike Davis          ATL      TB        RB             4700            7 ⋯\n",
       " 148 │ Rondale Moore       ARI      CHI       WR             4700            7\n",
       " 149 │ Zach Ertz           ARI      CHI       TE             5400            9\n",
       " 150 │ Ty Johnson          NYJ      PHI       RB             4600            6\n",
       " 151 │ Samaje Perine       CIN      LAC       RB             4000            5 ⋯\n",
       " 152 │ Kenneth Gainwell    PHI      NYJ       RB             4200            5\n",
       " 153 │ Kyle Juszczyk       SF       SEA       RB             4000            5\n",
       " 154 │ Mekhi Sargent       LA       JAX       RB             4000            4\n",
       " 155 │ Ronald Jones II     TB       ATL       RB             5000            5 ⋯\n",
       "\u001b[36m                                                  5 columns and 134 rows omitted\u001b[0m"
      ]
     },
     "execution_count": 493,
     "metadata": {},
     "output_type": "execute_result"
    }
   ],
   "source": [
    "offense"
   ]
  },
  {
   "cell_type": "code",
   "execution_count": 122,
   "metadata": {},
   "outputs": [
    {
     "data": {
      "text/plain": [
       "\"DAL\""
      ]
     },
     "execution_count": 122,
     "metadata": {},
     "output_type": "execute_result"
    }
   ],
   "source": [
    "string(offense[all_teams[1][1],2])"
   ]
  },
  {
   "cell_type": "code",
   "execution_count": 126,
   "metadata": {},
   "outputs": [
    {
     "data": {
      "text/plain": [
       "110-element Vector{Any}:\n",
       " [\"Jared Goff\" \"D'Andre Swift\" … \"Tony Pollard\" \"Cowboys \"]\n",
       " [\"Josh Allen\" \"Tony Jones Jr.\" … \"Tony Pollard\" \"Cowboys \"]\n",
       " [\"Josh Allen\" \"D'Andre Swift\" … \"Dawson Knox\" \"Bills \"]\n",
       " [\"Josh Allen\" \"Ezekiel Elliott\" … \"Deonte Harris\" \"Lions \"]\n",
       " [\"Derek Carr\" \"Josh Jacobs\" … \"Tony Pollard\" \"Cowboys \"]\n",
       " [\"Josh Allen\" \"D'Andre Swift\" … \"Josh Jacobs\" \"Cowboys \"]\n",
       " [\"Derek Carr\" \"D'Andre Swift\" … \"Bryan Edwards\" \"Cowboys \"]\n",
       " [\"Josh Allen\" \"Tony Jones Jr.\" … \"Devin Singletary\" \"Lions \"]\n",
       " [\"Derek Carr\" \"D'Andre Swift\" … \"Ezekiel Elliott\" \"Bills \"]\n",
       " [\"Josh Allen\" \"Tony Jones Jr.\" … \"Kenyan Drake\" \"Cowboys \"]\n",
       " [\"Derek Carr\" \"D'Andre Swift\" … \"Dawson Knox\" \"Cowboys \"]\n",
       " [\"Jared Goff\" \"Tony Jones Jr.\" … \"Kalif Raymond\" \"Lions \"]\n",
       " [\"Andy Dalton\" \"David Montgomery\" … \"Tony Pollard\" \"Bills \"]\n",
       " ⋮\n",
       " [\"Jared Goff\" \"D'Andre Swift\" … \"Ezekiel Elliott\" \"Bears \"]\n",
       " [\"Josh Allen\" \"Tony Jones Jr.\" … \"Dawson Knox\" \"Bills \"]\n",
       " [\"Josh Allen\" \"D'Andre Swift\" … \"Ezekiel Elliott\" \"Bears \"]\n",
       " [\"Josh Allen\" \"Ezekiel Elliott\" … \"Dalton Schultz\" \"Cowboys \"]\n",
       " [\"Derek Carr\" \"Josh Jacobs\" … \"Dawson Knox\" \"Cowboys \"]\n",
       " [\"Jared Goff\" \"David Montgomery\" … \"Devin Singletary\" \"Saints \"]\n",
       " [\"Josh Allen\" \"Ezekiel Elliott\" … \"Tre'Quan Smith\" \"Cowboys \"]\n",
       " [\"Dak Prescott\" \"D'Andre Swift\" … \"Bryan Edwards\" \"Cowboys \"]\n",
       " [\"Josh Allen\" \"Tony Jones Jr.\" … \"Dawson Knox\" \"Cowboys \"]\n",
       " [\"Josh Allen\" \"Tony Jones Jr.\" … \"Kalif Raymond\" \"Cowboys \"]\n",
       " [\"Dak Prescott\" \"Ezekiel Elliott\" … \"Cole Kmet\" \"Lions \"]\n",
       " [\"Dak Prescott\" \"Ezekiel Elliott\" … \"Jamaal Williams\" \"Cowboys \"]"
      ]
     },
     "execution_count": 126,
     "metadata": {},
     "output_type": "execute_result"
    }
   ],
   "source": [
    "z = late_swap_print(all_teams, 12, 110, late_teams, cOffense)"
   ]
  },
  {
   "cell_type": "code",
   "execution_count": 127,
   "metadata": {},
   "outputs": [],
   "source": [
    "cd(\"/Users/kevin/Desktop/Draftkings/2022/Data/ETR/Week 12/\")\n",
    "\n",
    "\n",
    "\n",
    "writedlm( \"ls_names.csv\",  z, ',')"
   ]
  },
  {
   "cell_type": "code",
   "execution_count": 128,
   "metadata": {},
   "outputs": [
    {
     "data": {
      "text/plain": [
       "late_swap_print (generic function with 1 method)"
      ]
     },
     "execution_count": 128,
     "metadata": {},
     "output_type": "execute_result"
    }
   ],
   "source": [
    "function late_swap_print(new_teams, week, num_teams, late_teams, cOffense)\n",
    "\n",
    "    num_teams_making = num_teams\n",
    "    num = 9 #column\n",
    "\n",
    "    #5 = salary\n",
    "    #6 = regular projection\n",
    "    #7 = DK value\n",
    "    #8 = ownership\n",
    "    #9 = DK ID\n",
    "    #10 = ceiling projection\n",
    "    \n",
    "    ids = readdlm(string(\"/Users/kevin/Desktop/Draftkings/2022/Data/ETR/Week \", week, \"/dk_ids3.csv\"), ',', Int)\n",
    "\n",
    "\n",
    "\n",
    "\n",
    "\n",
    "    offense = cOffense\n",
    "    lineup2 = \"\"\n",
    "    #outfile = open(path_to_output, \"w\")\n",
    "    print_team = []\n",
    "\n",
    "\n",
    "\n",
    "    for i = 1:num_teams_making\n",
    "        lineup = [\"\" \"\" \"\" \"\" \"\" \"\" \"\" \"\" \"\"]\n",
    "        skip = []\n",
    "\n",
    "\n",
    "        for j =1:9\n",
    "            #println(i, \" \", j)\n",
    "            #if in ids, assign the same, else skip and come back to later\n",
    "            in_old_teams = 0\n",
    "            for t = 1:9\n",
    "                #println(string(offense[new_teams[i][j],9]), ids[i,j])\n",
    "                if string(offense[new_teams[i][j],9]) == string(ids[t,j]) && string(offense[new_teams[i][j],2]) in late_teams == false\n",
    "                    #print(\"here\")\n",
    "                    lineup[t] = string(offense[new_teams[i][j],9])\n",
    "                    in_old_teams = 0\n",
    "                end\n",
    "            end\n",
    "            \n",
    "            if in_old_teams == 0\n",
    "                skip = push!(skip, new_teams[i][j])\n",
    "            end\n",
    "        end\n",
    "    #println(skip)\n",
    "        if length(skip) > 0\n",
    "            for k in skip\n",
    "            \n",
    "                    if k in QB_i\n",
    "                        if lineup[1]==\"\"\n",
    "                            lineup[1] = string(offense[k,num])\n",
    "                        end\n",
    "                    elseif k in RB_i\n",
    "                        if lineup[2] == \"\"\n",
    "                            lineup[2] = string(offense[k,num])\n",
    "                        elseif lineup[3] == \"\"\n",
    "                            lineup[3] = string(offense[k,num])\n",
    "                        elseif lineup[8] == \"\"\n",
    "                            lineup[8] = string(offense[k,num])\n",
    "                        end\n",
    "                    elseif k in WR_i\n",
    "                        if lineup[4] == \"\"\n",
    "                            lineup[4] = string(offense[k,num])\n",
    "                        elseif lineup[5] ==\"\"\n",
    "                            lineup[5] = string(offense[k,num])\n",
    "                        elseif lineup[6] == \"\"\n",
    "                            lineup[6] = string(offense[k,num])\n",
    "                        elseif lineup[8] == \"\"\n",
    "                            lineup[8] = string(offense[k,num])\n",
    "                        end\n",
    "                    elseif k in TE_i\n",
    "                        if lineup[7] == \"\"\n",
    "                            lineup[7] = string(offense[k,num])\n",
    "                        elseif lineup[8] == \"\"\n",
    "                            lineup[8] = string(offense[k,num])\n",
    "                        end\n",
    "                    elseif k in DST_i\n",
    "                        if lineup[9] == \"\"\n",
    "                            lineup[9] = string(offense[k,num])\n",
    "                        end\n",
    "                    else\n",
    "                        println(i, \" \", j, \" sad boi\")\n",
    "                    end\n",
    "                #end\n",
    "\n",
    "            end\n",
    "        end\n",
    "\n",
    "       print_team = push!(print_team, lineup)\n",
    "    end\n",
    "    \n",
    "    return print_team\n",
    "end"
   ]
  },
  {
   "cell_type": "code",
   "execution_count": 212,
   "metadata": {},
   "outputs": [
    {
     "data": {
      "text/plain": [
       "0"
      ]
     },
     "execution_count": 212,
     "metadata": {},
     "output_type": "execute_result"
    }
   ],
   "source": [
    "length([])"
   ]
  },
  {
   "cell_type": "code",
   "execution_count": 870,
   "metadata": {},
   "outputs": [],
   "source": [
    "z"
   ]
  },
  {
   "cell_type": "code",
   "execution_count": 860,
   "metadata": {},
   "outputs": [
    {
     "data": {
      "text/plain": [
       "9-element Vector{Int64}:\n",
       "   2\n",
       "   6\n",
       "  17\n",
       "  28\n",
       "  35\n",
       "  40\n",
       "  52\n",
       "  68\n",
       " 119"
      ]
     },
     "execution_count": 860,
     "metadata": {},
     "output_type": "execute_result"
    }
   ],
   "source": [
    "all_teams[12]"
   ]
  },
  {
   "cell_type": "code",
   "execution_count": 865,
   "metadata": {},
   "outputs": [
    {
     "data": {
      "text/plain": [
       "true"
      ]
     },
     "execution_count": 865,
     "metadata": {},
     "output_type": "execute_result"
    }
   ],
   "source": [
    "isempty(df[in(ids[11,7]).(df.DKSlateID), 2])"
   ]
  },
  {
   "cell_type": "code",
   "execution_count": 169,
   "metadata": {},
   "outputs": [
    {
     "data": {
      "text/plain": [
       "7-element Vector{Int64}:\n",
       " 1\n",
       " 2\n",
       " 3\n",
       " 4\n",
       " 5\n",
       " 6\n",
       " 7"
      ]
     },
     "execution_count": 169,
     "metadata": {},
     "output_type": "execute_result"
    }
   ],
   "source": [
    "a = [1,2,3,4,5,6,7]"
   ]
  },
  {
   "cell_type": "code",
   "execution_count": 170,
   "metadata": {},
   "outputs": [
    {
     "data": {
      "text/plain": [
       "7-element Vector{Float64}:\n",
       " 0.3333333333333333\n",
       " 0.6666666666666666\n",
       " 1.0\n",
       " 1.3333333333333333\n",
       " 1.6666666666666667\n",
       " 2.0\n",
       " 2.3333333333333335"
      ]
     },
     "execution_count": 170,
     "metadata": {},
     "output_type": "execute_result"
    }
   ],
   "source": [
    "a = a./3"
   ]
  },
  {
   "cell_type": "code",
   "execution_count": null,
   "metadata": {},
   "outputs": [],
   "source": []
  }
 ],
 "metadata": {
  "instance_type": "ml.t3.medium",
  "kernelspec": {
   "display_name": "Julia 1.6.2",
   "language": "julia",
   "name": "julia-1.6"
  },
  "language_info": {
   "file_extension": ".jl",
   "mimetype": "application/julia",
   "name": "julia",
   "version": "1.6.2"
  }
 },
 "nbformat": 4,
 "nbformat_minor": 4
}
