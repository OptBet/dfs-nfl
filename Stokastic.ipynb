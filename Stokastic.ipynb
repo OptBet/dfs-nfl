{
 "cells": [
  {
   "cell_type": "code",
   "execution_count": 8,
   "metadata": {},
   "outputs": [],
   "source": [
    "using DataFrames, DelimitedFiles, DataStructures\n",
    "using GLPKMathProgInterface\n",
    "using JuMP, StatsBase, CSV, LinearAlgebra, Distributions, Random\n",
    "using Gurobi, BenchmarkTools"
   ]
  },
  {
   "cell_type": "code",
   "execution_count": null,
   "metadata": {},
   "outputs": [],
   "source": []
  },
  {
   "cell_type": "code",
   "execution_count": 3,
   "metadata": {},
   "outputs": [],
   "source": [
    "# using Pkg\n",
    "# Pkg.add([\"DataFrames\", \"DelimitedFiles\", \"DataStructures\", \"GLPKMathProgInterface\",\n",
    "#         \"StatsBase\", \"CSV\", \"LinearAlgebra\", \"Distributions\", \"Random\", \"GLPK\",\n",
    "#         \"BenchmarkTools\", \"Gurobi\"])"
   ]
  },
  {
   "cell_type": "code",
   "execution_count": 9,
   "metadata": {},
   "outputs": [
    {
     "data": {
      "text/plain": [
       "get_source (generic function with 1 method)"
      ]
     },
     "execution_count": 9,
     "metadata": {},
     "output_type": "execute_result"
    }
   ],
   "source": [
    "function get_source()\n",
    "    return CSV.read(string(\"Data/Projections/Stokastic/2022/Week_1.csv\"), copycols=true, DataFrame)\n",
    "end"
   ]
  },
  {
   "cell_type": "markdown",
   "metadata": {},
   "source": [
    "## Function to clean inputs\n"
   ]
  },
  {
   "cell_type": "code",
   "execution_count": 100,
   "metadata": {},
   "outputs": [
    {
     "data": {
      "text/plain": [
       "clean_input (generic function with 1 method)"
      ]
     },
     "execution_count": 100,
     "metadata": {},
     "output_type": "execute_result"
    }
   ],
   "source": [
    "function clean_input(year, week, version, source)\n",
    "    offense = get_source()\n",
    "\n",
    "    \n",
    "    if source ==  \"SaberSim\"\n",
    "        rename!(offense, Symbol(string(\"Name\")) => :Player)\n",
    "        rename!(offense, Symbol(string(\"Pos\")) => :\"DK Position\")\n",
    "        rename!(offense, Symbol(string(\"Opp\")) => :Opponent)\n",
    "        rename!(offense, Symbol(string(\"dk_85_percentile\")) => :Projection)\n",
    "        rename!(offense, Symbol(string(\"DFS ID\")) => :DKSlateID)\n",
    "        offense = offense[:, [\n",
    "                :Player,\n",
    "                Symbol(\"DK Position\"),\n",
    "                :Team,\n",
    "                :Opponent,\n",
    "                :Salary,\n",
    "                :Projection,\n",
    "                :DKSlateID\n",
    "            ]]\n",
    "        offense.\"DK Position\" .= replace.(offense.\"DK Position\", r\",FLEX\" => \"\")\n",
    "    elseif source == \"ETR\"\n",
    "        rename!(offense, Symbol(string(\"DK Salary\")) => :Salary)\n",
    "        rename!(offense, Symbol(string(\"DK Ceiling\")) => :Projection)\n",
    "        rename!(offense, Symbol(string(\"DK Ownership\")) => :Ownership)\n",
    "    elseif source == \"Stokastic\"\n",
    "        rename!(offense, Symbol(string(\"Name\")) => :Player)\n",
    "        rename!(offense, Symbol(string(\"Position\")) => :\"DK Position\")\n",
    "        rename!(offense, Symbol(string(\"Fpts\")) => :Projection)\n",
    "        transform!(offense, :Salary => ByRow(x -> parse(Float64, replace(x, \",\" => \"\"))) => :Salary)\n",
    "    end\n",
    "\n",
    "\n",
    "\n",
    "\n",
    "    offense = offense[completecases(offense), :]\n",
    "\n",
    " \n",
    "    #cut off players that have projected points less than 5\n",
    "    offense = offense[(offense.\"Projection\".>=9) .| (offense.\"DK Position\".== \"DST\"),:]\n",
    "    #remove injured players\n",
    "\n",
    "    #scores_o = copy(offense)\n",
    "    #global scores_d = copy(defense)\n",
    "\n",
    "    global num_offense = size(offense)[1]\n",
    "\n",
    "    \n",
    "    QB_indicies = Vector{Int}()\n",
    "    RB_indicies = Vector{Int}()\n",
    "    WR_indicies = Vector{Int}()\n",
    "    TE_indicies = Vector{Int}()\n",
    "    FLEX_indicies = Vector{Int}()\n",
    "    DST_indicies = Vector{Int}()\n",
    "\n",
    "\n",
    "   \n",
    "    for i =1:num_offense\n",
    "        if offense.\"DK Position\"[i] == \"QB\"\n",
    "            append!(QB_indicies, i)\n",
    "        elseif offense.\"DK Position\"[i] == \"RB\"\n",
    "            append!(RB_indicies, i)\n",
    "            append!(FLEX_indicies, i)\n",
    "        elseif offense.\"DK Position\"[i] == \"WR\"\n",
    "            append!(WR_indicies, i)\n",
    "            append!(FLEX_indicies, i)\n",
    "        elseif offense.\"DK Position\"[i] == \"TE\"\n",
    "            append!(TE_indicies, i)\n",
    "            append!(FLEX_indicies, i)\n",
    "        elseif offense.\"DK Position\"[i] == \"DST\"\n",
    "            append!(DST_indicies, i)\n",
    "        else\n",
    "            append!(FLEX_indicies, i)\n",
    "        end\n",
    "    end\n",
    "    \n",
    "    return offense, QB_indicies, RB_indicies, WR_indicies, TE_indicies, FLEX_indicies, DST_indicies\n",
    "        \n",
    "        \n",
    "    \n",
    "end"
   ]
  },
  {
   "cell_type": "code",
   "execution_count": 101,
   "metadata": {},
   "outputs": [
    {
     "data": {
      "text/plain": [
       "calc_cor (generic function with 1 method)"
      ]
     },
     "execution_count": 101,
     "metadata": {},
     "output_type": "execute_result"
    }
   ],
   "source": [
    "function calc_cor(player_matrix, temp_teams, player_cor, i, j)\n",
    "    if ismissing(temp_teams[i,2])\n",
    "        player_matrix[i,j] .= 0\n",
    "    elseif ismissing(temp_teams[j,2])\n",
    "        player_matrix[i,j] = 0\n",
    "    elseif temp_teams[i,2]==temp_teams[j,2]\n",
    "        try\n",
    "            orig_a = player_cor[:,i]\n",
    "            orig_b = player_cor[:,j]\n",
    "\n",
    "            a = orig_a[(ismissing.(orig_b).==false) .& (ismissing.(orig_a).==false),1]\n",
    "            b = orig_b[(ismissing.(orig_a).==false) .& (ismissing.(orig_b).==false),1]\n",
    "            \n",
    "            if (i ==1) & (j == 47)\n",
    "                println(a, b)\n",
    "            end\n",
    "            player_matrix[i,j] = cor(a, b)\n",
    "        catch err\n",
    "            player_matrix[i,j] = 0\n",
    "        end\n",
    "    else\n",
    "        player_matrix[i,j] = 0\n",
    "    end\n",
    "    return player_matrix[i,j]\n",
    "end"
   ]
  },
  {
   "cell_type": "code",
   "execution_count": 102,
   "metadata": {},
   "outputs": [
    {
     "data": {
      "text/plain": [
       "calc_var (generic function with 1 method)"
      ]
     },
     "execution_count": 102,
     "metadata": {},
     "output_type": "execute_result"
    }
   ],
   "source": [
    "function calc_var(player_matrix, temp_teams, player_cor, i)\n",
    "\n",
    "    orig_a = player_cor[:,i]\n",
    "    #a = orig_a[(ismissing.(orig_a).==false),1]\n",
    "    a = skipmissing(orig_a)\n",
    "\n",
    "    \n",
    "    println(a)\n",
    "    try\n",
    "        variance = var(a)\n",
    "    catch err\n",
    "        variance = 0    \n",
    "    end\n",
    "    \n",
    "    return variance\n",
    "end"
   ]
  },
  {
   "cell_type": "code",
   "execution_count": 103,
   "metadata": {},
   "outputs": [
    {
     "data": {
      "text/plain": [
       "get_variance (generic function with 1 method)"
      ]
     },
     "execution_count": 103,
     "metadata": {},
     "output_type": "execute_result"
    }
   ],
   "source": [
    "function get_variance(from, to, v, max_score, year, source)\n",
    "    #cd(\"/Users/kevin/Dropbox (MIT)/Draft Kings/2021/2020SeasonData/\")\n",
    "    offense2 = get_stripped_offense(from)\n",
    "    offense2 = offense2[:,[:Player_Name,:Actual_FP]]\n",
    "    temp = offense2\n",
    "    \n",
    "    for i=from+1:to-1\n",
    "        offense2 = get_stripped_offense(i)\n",
    "        offense2 = offense2[:,[:Player_Name,:Actual_FP]]\n",
    "\n",
    "   \n",
    "        temp = outerjoin(temp, offense2, on = :Player_Name, makeunique=true)\n",
    "        \n",
    "    end\n",
    "    #print(temp)\n",
    "    \n",
    "    #temp = Tables.matrix(temp[:,2:end])\n",
    "    #print(temp)\n",
    "    #print(temp)\n",
    "    #cd(\"/Users/kevin/Dropbox (MIT)/Draft Kings/2021/2020SeasonData/\")\n",
    "    # current_offense, QB_i, RB_i, WR_i, TE_i, FLEX_i, DST_i = clean_input_v2(to, v);\n",
    "    current_offense, QB_i, RB_i, WR_i, TE_i, FLEX_i, DST_i = clean_input(year, to, v, source);\n",
    "    current_offense.\"Player\" .= replace.(current_offense.\"Player\", r\"-\" => \"\")\n",
    "    current_offense.\"Player\" .= replace.(current_offense.\"Player\", r\"\\.\" => \"\")\n",
    "    current_offense.\"Player\" .= replace.(current_offense.\"Player\", r\"'\" => \"\")\n",
    "    transform!(current_offense, :Player => ByRow(lowercase) => :Player)\n",
    "    rename!(current_offense, Symbol(string(\"Player\")) => :Player_Name)\n",
    "   \n",
    "   #print(current_offense) \n",
    "    \n",
    "    var_array = []\n",
    "    \n",
    "    for i=1:length(current_offense[:,1])\n",
    "        points = []\n",
    "        #println(current_offense[i,1])\n",
    "        #println(Matrix(filter(row -> row.Player_Name == current_offense[i,1], temp)))\n",
    "        \n",
    "        #println(temp)\n",
    "        \n",
    "        if current_offense[i,1] in temp[:,1]\n",
    "            #println(current_offense[i,1])\n",
    "            points_df = filter(row -> row.Player_Name == current_offense[i,1], temp)\n",
    "            #println(points_df)\n",
    "            for j = 2:(to-from)+1\n",
    "                if ismissing(points_df[1,j]) == false\n",
    "                    if Float64.(points_df[1,j]) != 0\n",
    "                        append!(points, points_df[1,j])\n",
    "                    end\n",
    "                end\n",
    "            end\n",
    "            \n",
    "            #println(current_offense[i,1], points)\n",
    "        else            \n",
    "            points = 0\n",
    "        end\n",
    "        \n",
    "        if length(points) > 0\n",
    "            variance = var(points)\n",
    "        else\n",
    "            variance = 0\n",
    "        end\n",
    "        \n",
    "        if variance > 0\n",
    "            append!(var_array, variance)\n",
    "        else\n",
    "            append!(var_array, 0)\n",
    "        end\n",
    "            \n",
    "        #println(var_array)\n",
    "    end\n",
    "    \n",
    "    #println(var_array)\n",
    "\n",
    "    b = Float64.(var_array)\n",
    "    \n",
    "    scale = maximum(b) / max_score\n",
    "    \n",
    "    b = b ./ scale\n",
    "    \n",
    "    #print(b)\n",
    "    \n",
    "    return b\n",
    "end\n"
   ]
  },
  {
   "cell_type": "code",
   "execution_count": 104,
   "metadata": {},
   "outputs": [
    {
     "data": {
      "text/plain": [
       "\"/Users/tnonet/Documents/GitHub/OptBet/dfs-nfl\""
      ]
     },
     "execution_count": 104,
     "metadata": {},
     "output_type": "execute_result"
    }
   ],
   "source": [
    "# var_boost = get_variance(6,12,4, 33);\n",
    "pwd()"
   ]
  },
  {
   "cell_type": "code",
   "execution_count": 105,
   "metadata": {},
   "outputs": [
    {
     "data": {
      "text/plain": [
       "get_stripped_offense (generic function with 1 method)"
      ]
     },
     "execution_count": 105,
     "metadata": {},
     "output_type": "execute_result"
    }
   ],
   "source": [
    "function get_stripped_offense(week)\n",
    "    offense = CSV.read(string(\"Data/Actuals/2022-2023/Week \", week, \"/Offense.csv\"), copycols=true, DataFrame)\n",
    "    rename!(offense, Symbol(string(\"Proj FP\")) => :Projection)\n",
    "    #offense = offense[offense[:,:Projection].>=3.01,:]\n",
    "    \n",
    "    offense.\"Player Name\" .= replace.(offense.\"Player Name\", r\"-\" => \"\")\n",
    "    offense.\"Player Name\" .= replace.(offense.\"Player Name\", r\"\\.\" => \"\")\n",
    "    offense.\"Player Name\" .= replace.(offense.\"Player Name\", r\"'\" => \"\")\n",
    "    \n",
    "    rename!(offense, Symbol(string(\"Player Name\")) => :Player_Name)\n",
    "    rename!(offense, Symbol(string(\"Actual FP\")) => :Actual_FP)\n",
    "    transform!(offense, :Player_Name => ByRow(lowercase) => :Player_Name)\n",
    "\n",
    "    return offense\n",
    "end"
   ]
  },
  {
   "cell_type": "code",
   "execution_count": 106,
   "metadata": {},
   "outputs": [
    {
     "data": {
      "text/plain": [
       "get_correlation_matrix (generic function with 1 method)"
      ]
     },
     "execution_count": 106,
     "metadata": {},
     "output_type": "execute_result"
    }
   ],
   "source": [
    "function get_correlation_matrix(from, to, v, year, source)\n",
    "    #cd(\"/Users/kevin/Dropbox (MIT)/Draft Kings/2021/2020SeasonData/\")\n",
    "\n",
    "    for i=from:to-1\n",
    "        offense2 = get_stripped_offense(i)\n",
    "        offense2 = offense2[:,[:Player_Name,:Actual_FP]]\n",
    "\n",
    "\n",
    "        #print(i)\n",
    "        if i==from\n",
    "            temp = offense2\n",
    "        else\n",
    "            temp = outerjoin(temp, offense2, on = :Player_Name, makeunique=true)\n",
    "        end\n",
    "    end\n",
    "    #print(temp)\n",
    "    #cd(\"/Users/kevin/Dropbox (MIT)/Draft Kings/2021/2020SeasonData/\")\n",
    "    # current_offense, QB_i, RB_i, WR_i, TE_i, FLEX_i, DST_i = clean_input_v2(to, v);\n",
    "    current_offense, QB_i, RB_i, WR_i, TE_i, FLEX_i, DST_i = clean_input(year, to, v, source);\n",
    "    current_offense.\"Player\" .= replace.(current_offense.\"Player\", r\"-\" => \"\")\n",
    "    current_offense.\"Player\" .= replace.(current_offense.\"Player\", r\"\\.\" => \"\")\n",
    "    current_offense.\"Player\" .= replace.(current_offense.\"Player\", r\"'\" => \"\")\n",
    "    transform!(current_offense, :Player => ByRow(lowercase) => :Player)\n",
    "    rename!(current_offense, Symbol(string(\"Player\")) => :Player_Name)\n",
    "\n",
    "\n",
    "    current_offense = current_offense[:,[:Player_Name,:Team]]\n",
    "    #temp = temp[:,[:Player_Name,:Actual_FP]]\n",
    "\n",
    "    #print(temp)\n",
    "    #print(current_offense)\n",
    "    #print(temp)\n",
    "    #gold skeleton key\n",
    "    temp = leftjoin(current_offense, temp, on = :Player_Name, makeunique=true)\n",
    "\n",
    "\n",
    "    #temp = leftjoin(current_offense, temp, on = [:Player_Name])\n",
    "    #print(temp2)\n",
    "    #println(temp)\n",
    "    temp = temp[:,setdiff(names(temp), [:Team])]\n",
    "    temp_teams = current_offense\n",
    "\n",
    "    temp = Matrix(temp)\n",
    "    #print(temp)\n",
    "    temp = permutedims(temp)\n",
    "    #print(temp)\n",
    "\n",
    "\n",
    "    player_list = temp[1,:]\n",
    "    player_cor = temp[3:end,:]\n",
    "    temp_teams = temp_teams[:,[:Player_Name,:Team]]\n",
    "    #println(player_cor)\n",
    "\n",
    "\n",
    "\n",
    "    n = size(temp_teams)[1]\n",
    "    player_matrix = zeros(n,n)\n",
    "    #temp_teams\n",
    "    for i=1:n,j=1:n\n",
    "        \n",
    "        #if i in FLEX_i && j in FLEX_i && j in opp_team[i]\n",
    "         #   player_matrix[i,j] = (cOffense[j,:Projection]/(9*10))\n",
    "        if i in DST_i || j in DST_i\n",
    "            player_matrix[i,j] = 0\n",
    "        elseif i in QB_i && j in RB_i\n",
    "            player_matrix[i,j] = calc_cor(player_matrix, temp_teams, player_cor, i, j)\n",
    "            if player_matrix[i,j] < -0.2\n",
    "                player_matrix[i,j] = -100\n",
    "            else\n",
    "                player_matrix[i,j] = player_matrix[i,j] * 0.25\n",
    "            end\n",
    "        elseif j in QB_i && i in RB_i\n",
    "            player_matrix[i,j] = calc_cor(player_matrix, temp_teams, player_cor, i, j) \n",
    "            if player_matrix[i,j] < -0.2\n",
    "                player_matrix[i,j] = -100\n",
    "            else\n",
    "                player_matrix[i,j] = player_matrix[i,j] * 0.25\n",
    "            end\n",
    "        elseif i in QB_i || j in QB_i\n",
    "            player_matrix[i,j] = calc_cor(player_matrix, temp_teams, player_cor, i, j)\n",
    "        else\n",
    "            player_matrix[i,j] = calc_cor(player_matrix, temp_teams, player_cor, i, j)\n",
    "            if player_matrix[i,j] < -0.2\n",
    "                player_matrix[i,j] = -100\n",
    "            else\n",
    "                player_matrix[i,j] = player_matrix[i,j] * 0.25\n",
    "            end\n",
    "        end\n",
    "        if isnan(player_matrix[i,j])\n",
    "            player_matrix[i,j] = 0\n",
    "        end\n",
    "    end\n",
    "\n",
    "    for i=1:n\n",
    "        player_matrix[i,i] = 1\n",
    "    end\n",
    "    player_matrix[player_matrix.<-0.2] .= -100;\n",
    "    return player_matrix\n",
    "end"
   ]
  },
  {
   "cell_type": "code",
   "execution_count": 107,
   "metadata": {},
   "outputs": [
    {
     "data": {
      "text/plain": [
       "get_bring_back (generic function with 1 method)"
      ]
     },
     "execution_count": 107,
     "metadata": {},
     "output_type": "execute_result"
    }
   ],
   "source": [
    "function get_bring_back(week, QB_i, offense)\n",
    "    \n",
    "    bring_back = Vector{Vector{Int}}()\n",
    "\n",
    "    for i = 1:length(QB_i)\n",
    "        temp = Vector{Int}()\n",
    "        for j = 1:size(t)[1]\n",
    "            \n",
    "            if (offense[j, :Team] == offense[QB_i[i], :Opponent]) && (j in FLEX_i)\n",
    "                append!(temp, j)\n",
    "\n",
    "            end\n",
    "        end\n",
    "        push!(bring_back, temp)   \n",
    "    end\n",
    "    \n",
    "    return bring_back\n",
    "end"
   ]
  },
  {
   "cell_type": "code",
   "execution_count": 108,
   "metadata": {},
   "outputs": [
    {
     "data": {
      "text/plain": [
       "get_opposing_defense (generic function with 1 method)"
      ]
     },
     "execution_count": 108,
     "metadata": {},
     "output_type": "execute_result"
    }
   ],
   "source": [
    "function get_opposing_defense(week, QB_i, offense)\n",
    "    \n",
    "    opp_defense = Vector{Vector{Int}}()\n",
    "\n",
    "    for i = 1:length(QB_i)\n",
    "        temp = Vector{Int}()\n",
    "        for j = 1:size(t)[1]\n",
    "            \n",
    "            if (offense[QB_i[i], :Team] == offense[j, :Opponent]) && (j in DST_i)\n",
    "                append!(temp, j)\n",
    "\n",
    "            end\n",
    "        end\n",
    "        push!(opp_defense, temp)   \n",
    "    end\n",
    "    \n",
    "    return opp_defense\n",
    "end"
   ]
  },
  {
   "cell_type": "code",
   "execution_count": 109,
   "metadata": {},
   "outputs": [
    {
     "data": {
      "text/plain": [
       "get_opposing_team (generic function with 1 method)"
      ]
     },
     "execution_count": 109,
     "metadata": {},
     "output_type": "execute_result"
    }
   ],
   "source": [
    "function get_opposing_team(week, offense)\n",
    "    \n",
    "    opp_team = Vector{Vector{Int}}()\n",
    "\n",
    "    for i = 1:size(t)[1]\n",
    "        temp = Vector{Int}()\n",
    "        for j = 1:size(t)[1]\n",
    "            \n",
    "            if (offense[i, :Team] == offense[j, :Opponent]) && i in FLEX_i && j in FLEX_i\n",
    "                append!(temp, j)\n",
    "\n",
    "            end\n",
    "        end\n",
    "        push!(opp_team, temp)   \n",
    "    end\n",
    "    \n",
    "    return opp_team\n",
    "end"
   ]
  },
  {
   "cell_type": "code",
   "execution_count": 110,
   "metadata": {},
   "outputs": [
    {
     "data": {
      "text/plain": [
       "get_games (generic function with 1 method)"
      ]
     },
     "execution_count": 110,
     "metadata": {},
     "output_type": "execute_result"
    }
   ],
   "source": [
    "function get_games(df)\n",
    "    unq = unique(df[:,:Team])\n",
    "    num_games = length(unq)\n",
    "    game = Vector{Vector{Int}}()\n",
    "\n",
    "    for i = 1:num_games\n",
    "        temp = Vector{Int}()\n",
    "        for j = 1:size(t)[1]\n",
    "            \n",
    "            if j in FLEX_i || j in DST_i\n",
    "                if (df[j, :Team] == unq[i]) || (df[j, :Opponent] == unq[i]) \n",
    "                    append!(temp, j)\n",
    "\n",
    "                end\n",
    "            end\n",
    "        end\n",
    "        push!(game, temp)   \n",
    "    end\n",
    "    \n",
    "    return game, num_games\n",
    "    \n",
    "end"
   ]
  },
  {
   "cell_type": "code",
   "execution_count": 111,
   "metadata": {},
   "outputs": [
    {
     "data": {
      "text/plain": [
       "get_teams (generic function with 1 method)"
      ]
     },
     "execution_count": 111,
     "metadata": {},
     "output_type": "execute_result"
    }
   ],
   "source": [
    "function get_teams(df)\n",
    "    unq = unique(df[:,:Team])\n",
    "    num_teams = length(unq)\n",
    "    team = Vector{Vector{Int}}()\n",
    "\n",
    "    for i = 1:num_teams\n",
    "        temp = Vector{Int}()\n",
    "        for j = 1:size(t)[1]\n",
    "            \n",
    "            #if j in FLEX_i || j in DST_i\n",
    "                if (df[j, :Team] == unq[i]) \n",
    "                    append!(temp, j)\n",
    "\n",
    "                end\n",
    "           # end\n",
    "        end\n",
    "        push!(team, temp)   \n",
    "    end\n",
    "    \n",
    "    return team, num_teams\n",
    "    \n",
    "end"
   ]
  },
  {
   "cell_type": "code",
   "execution_count": 112,
   "metadata": {},
   "outputs": [
    {
     "data": {
      "text/plain": [
       "get_idx (generic function with 1 method)"
      ]
     },
     "execution_count": 112,
     "metadata": {},
     "output_type": "execute_result"
    }
   ],
   "source": [
    "function get_idx(t)\n",
    "    team_idx = Vector{Vector{Int}}()\n",
    "\n",
    "    for i=1:size(t)[1]\n",
    "\n",
    "        temp = Vector{Int}()\n",
    "\n",
    "        for j=1:size(t)[2]\n",
    "            if i<j\n",
    "                if t[i,j] != 0\n",
    "                    append!(temp, j)\n",
    "                end\n",
    "            end    \n",
    "        end\n",
    "\n",
    "        push!(team_idx, temp)   \n",
    "\n",
    "    end\n",
    "\n",
    "\n",
    "\n",
    "\n",
    "    #####################\n",
    "\n",
    "    team_idx_cross = Vector{Vector{Int}}()\n",
    "\n",
    "    for i=1:size(t)[1]\n",
    "\n",
    "        temp = Vector{Int}()\n",
    "\n",
    "        for j=1:size(t)[2]\n",
    "            #if i<=j\n",
    "                if t[i,j] > 0\n",
    "                    append!(temp, j)\n",
    "                end\n",
    "            #end    \n",
    "        end\n",
    "\n",
    "        push!(team_idx_cross, temp)   \n",
    "    end\n",
    "    \n",
    "    return team_idx, team_idx_cross\n",
    "end"
   ]
  },
  {
   "cell_type": "code",
   "execution_count": 113,
   "metadata": {},
   "outputs": [],
   "source": [
    "# function late_swap_ids(week, new_version, late_teams)\n",
    "#     df, QB_i, RB_i, WR_i, TE_i, FLEX_i, DST_i = clean_input_v2(week, new_version)\n",
    "\n",
    "#     ids = readdlm(string(\"/Users/kevin/Desktop/Draftkings/2022/Data/ETR/Week \", week, \"/dk_ids3.csv\"), ',', Int)\n",
    "    \n",
    "#     all_teams = []\n",
    "#     for i = 1:length(ids[:,1])\n",
    "#         team_i = []\n",
    "#         for j = 1:9            \n",
    "#             row = findall(x -> x == ids[i,j], df.\"DKSlateID\")\n",
    "#             if length(row) > 0\n",
    "#                 if (df[row[1], :Team] in late_teams) == false \n",
    "#                     team_i = push!(team_i, row[1])\n",
    "#                 end\n",
    "#             end\n",
    "#         end\n",
    "#         all_teams = push!(all_teams, team_i)\n",
    "#     end\n",
    "    \n",
    "#     return all_teams\n",
    "# end"
   ]
  },
  {
   "cell_type": "code",
   "execution_count": 114,
   "metadata": {},
   "outputs": [
    {
     "data": {
      "text/plain": [
       "8-element Vector{String}:\n",
       " \"GB\"\n",
       " \"MIN\"\n",
       " \"NYG\"\n",
       " \"TEN\"\n",
       " \"OAK\"\n",
       " \"LAC\"\n",
       " \"KC\"\n",
       " \"ARI\""
      ]
     },
     "execution_count": 114,
     "metadata": {},
     "output_type": "execute_result"
    }
   ],
   "source": [
    "late_teams = [\"GB\", \"MIN\", \"NYG\", \"TEN\", \"OAK\", \"LAC\", \"KC\", \"ARI\"]"
   ]
  },
  {
   "cell_type": "markdown",
   "metadata": {},
   "source": [
    "## required input cleanings"
   ]
  },
  {
   "cell_type": "code",
   "execution_count": 115,
   "metadata": {},
   "outputs": [],
   "source": [
    "year = \"2022-2023\"\n",
    "source = \"Stokastic\"\n",
    "week = 1\n",
    "version = 1\n",
    "max_score = 38\n",
    "variance_start_week = -3\n",
    "correlation_start_week = week -4\n",
    "\n",
    "cOffense, QB_i, RB_i, WR_i, TE_i, FLEX_i, DST_i = clean_input(year, week, version, source);\n",
    "\n",
    "#QB, RB, WR, TE, num_teams, num_offense, num_defense, offense, defense, offense_opp, offense_teams = clean_input(week);\n",
    "\n",
    "t = get_correlation_matrix(correlation_start_week, week, version, year, source)\n",
    "\n",
    "\n",
    "\n",
    "cNum_offense = length(cOffense[:,1])\n",
    "#cNum_teams = length(cDefense[:,1])\n",
    "num_QB = length(QB_i)\n",
    "num_RB = length(RB_i)\n",
    "num_WR = length(WR_i)\n",
    "num_TE = length(TE_i)\n",
    "num_DST = length(DST_i)\n",
    "num_FLEX = length(FLEX_i)\n",
    "\n",
    "\n",
    "var_boost = get_variance(variance_start_week, week, version, max_score, year, source);"
   ]
  },
  {
   "cell_type": "code",
   "execution_count": 116,
   "metadata": {},
   "outputs": [
    {
     "data": {
      "text/plain": [
       "6800.0"
      ]
     },
     "execution_count": 116,
     "metadata": {},
     "output_type": "execute_result"
    }
   ],
   "source": [
    "parse(Float64, replace(\"6,800\", \",\" => \"\"))"
   ]
  },
  {
   "cell_type": "code",
   "execution_count": 117,
   "metadata": {},
   "outputs": [
    {
     "data": {
      "text/html": [
       "<div class=\"data-frame\"><p>136 rows × 8 columns (omitted printing of 1 columns)</p><table class=\"data-frame\"><thead><tr><th></th><th>Player</th><th>Projection</th><th>DK Position</th><th>Team</th><th>Opponent</th><th>Salary</th><th>Value</th></tr><tr><th></th><th title=\"String31\">String31</th><th title=\"Float64\">Float64</th><th title=\"String3\">String3</th><th title=\"String3\">String3</th><th title=\"String3\">String3</th><th title=\"Float64\">Float64</th><th title=\"Float64\">Float64</th></tr></thead><tbody><tr><th>1</th><td>Jalen Hurts</td><td>24.58</td><td>QB</td><td>PHI</td><td>DET</td><td>6800.0</td><td>3.61</td></tr><tr><th>2</th><td>Patrick Mahomes</td><td>24.54</td><td>QB</td><td>KC</td><td>ARI</td><td>7700.0</td><td>3.19</td></tr><tr><th>3</th><td>Justin Herbert</td><td>22.78</td><td>QB</td><td>LAC</td><td>LV</td><td>7600.0</td><td>3.0</td></tr><tr><th>4</th><td>Christian McCaffrey</td><td>22.75</td><td>RB</td><td>CAR</td><td>CLE</td><td>8500.0</td><td>2.68</td></tr><tr><th>5</th><td>Jonathan Taylor</td><td>22.62</td><td>RB</td><td>IND</td><td>HOU</td><td>9100.0</td><td>2.49</td></tr><tr><th>6</th><td>Kyler Murray</td><td>22.07</td><td>QB</td><td>ARI</td><td>KC</td><td>7200.0</td><td>3.06</td></tr><tr><th>7</th><td>Lamar Jackson</td><td>21.23</td><td>QB</td><td>BAL</td><td>NYJ</td><td>7300.0</td><td>2.91</td></tr><tr><th>8</th><td>Derrick Henry</td><td>21.08</td><td>RB</td><td>TEN</td><td>NYG</td><td>8600.0</td><td>2.45</td></tr><tr><th>9</th><td>Davante Adams</td><td>20.22</td><td>WR</td><td>LV</td><td>LAC</td><td>8100.0</td><td>2.5</td></tr><tr><th>10</th><td>Joe Burrow</td><td>19.68</td><td>QB</td><td>CIN</td><td>PIT</td><td>6400.0</td><td>3.08</td></tr><tr><th>11</th><td>Derek Carr</td><td>19.66</td><td>QB</td><td>LV</td><td>LAC</td><td>5900.0</td><td>3.33</td></tr><tr><th>12</th><td>Alvin Kamara</td><td>18.99</td><td>RB</td><td>NO</td><td>ATL</td><td>7600.0</td><td>2.5</td></tr><tr><th>13</th><td>Aaron Rodgers</td><td>18.92</td><td>QB</td><td>GB</td><td>MIN</td><td>7000.0</td><td>2.7</td></tr><tr><th>14</th><td>Justin Jefferson</td><td>18.79</td><td>WR</td><td>MIN</td><td>GB</td><td>7800.0</td><td>2.41</td></tr><tr><th>15</th><td>Tua Tagovailoa</td><td>18.57</td><td>QB</td><td>MIA</td><td>NE</td><td>5700.0</td><td>3.26</td></tr><tr><th>16</th><td>Jameis Winston</td><td>18.56</td><td>QB</td><td>NO</td><td>ATL</td><td>5300.0</td><td>3.5</td></tr><tr><th>17</th><td>Austin Ekeler</td><td>18.32</td><td>RB</td><td>LAC</td><td>LV</td><td>8200.0</td><td>2.23</td></tr><tr><th>18</th><td>Ja&apos;Marr Chase</td><td>18.28</td><td>WR</td><td>CIN</td><td>PIT</td><td>7100.0</td><td>2.57</td></tr><tr><th>19</th><td>Marquise Brown</td><td>17.97</td><td>WR</td><td>ARI</td><td>KC</td><td>6200.0</td><td>2.9</td></tr><tr><th>20</th><td>Travis Kelce</td><td>17.8</td><td>TE</td><td>KC</td><td>ARI</td><td>6600.0</td><td>2.7</td></tr><tr><th>21</th><td>Mac Jones</td><td>17.62</td><td>QB</td><td>NE</td><td>MIA</td><td>5400.0</td><td>3.26</td></tr><tr><th>22</th><td>Carson Wentz</td><td>17.56</td><td>QB</td><td>WAS</td><td>JAX</td><td>5500.0</td><td>3.19</td></tr><tr><th>23</th><td>Trey Lance</td><td>17.54</td><td>QB</td><td>SF</td><td>CHI</td><td>6000.0</td><td>2.92</td></tr><tr><th>24</th><td>Kirk Cousins</td><td>17.47</td><td>QB</td><td>MIN</td><td>GB</td><td>6100.0</td><td>2.86</td></tr><tr><th>25</th><td>Daniel Jones</td><td>17.31</td><td>QB</td><td>NYG</td><td>TEN</td><td>5000.0</td><td>3.46</td></tr><tr><th>26</th><td>Trevor Lawrence</td><td>16.98</td><td>QB</td><td>JAX</td><td>WAS</td><td>5600.0</td><td>3.03</td></tr><tr><th>27</th><td>Matt Ryan</td><td>16.87</td><td>QB</td><td>IND</td><td>HOU</td><td>5500.0</td><td>3.07</td></tr><tr><th>28</th><td>Tyreek Hill</td><td>16.84</td><td>WR</td><td>MIA</td><td>NE</td><td>6800.0</td><td>2.48</td></tr><tr><th>29</th><td>D&apos;Andre Swift</td><td>16.8</td><td>RB</td><td>DET</td><td>PHI</td><td>6800.0</td><td>2.47</td></tr><tr><th>30</th><td>Saquon Barkley</td><td>16.79</td><td>RB</td><td>NYG</td><td>TEN</td><td>6100.0</td><td>2.75</td></tr><tr><th>&vellip;</th><td>&vellip;</td><td>&vellip;</td><td>&vellip;</td><td>&vellip;</td><td>&vellip;</td><td>&vellip;</td><td>&vellip;</td></tr></tbody></table></div>"
      ],
      "text/latex": [
       "\\begin{tabular}{r|cccccccc}\n",
       "\t& Player & Projection & DK Position & Team & Opponent & Salary & Value & \\\\\n",
       "\t\\hline\n",
       "\t& String31 & Float64 & String3 & String3 & String3 & Float64 & Float64 & \\\\\n",
       "\t\\hline\n",
       "\t1 & Jalen Hurts & 24.58 & QB & PHI & DET & 6800.0 & 3.61 & $\\dots$ \\\\\n",
       "\t2 & Patrick Mahomes & 24.54 & QB & KC & ARI & 7700.0 & 3.19 & $\\dots$ \\\\\n",
       "\t3 & Justin Herbert & 22.78 & QB & LAC & LV & 7600.0 & 3.0 & $\\dots$ \\\\\n",
       "\t4 & Christian McCaffrey & 22.75 & RB & CAR & CLE & 8500.0 & 2.68 & $\\dots$ \\\\\n",
       "\t5 & Jonathan Taylor & 22.62 & RB & IND & HOU & 9100.0 & 2.49 & $\\dots$ \\\\\n",
       "\t6 & Kyler Murray & 22.07 & QB & ARI & KC & 7200.0 & 3.06 & $\\dots$ \\\\\n",
       "\t7 & Lamar Jackson & 21.23 & QB & BAL & NYJ & 7300.0 & 2.91 & $\\dots$ \\\\\n",
       "\t8 & Derrick Henry & 21.08 & RB & TEN & NYG & 8600.0 & 2.45 & $\\dots$ \\\\\n",
       "\t9 & Davante Adams & 20.22 & WR & LV & LAC & 8100.0 & 2.5 & $\\dots$ \\\\\n",
       "\t10 & Joe Burrow & 19.68 & QB & CIN & PIT & 6400.0 & 3.08 & $\\dots$ \\\\\n",
       "\t11 & Derek Carr & 19.66 & QB & LV & LAC & 5900.0 & 3.33 & $\\dots$ \\\\\n",
       "\t12 & Alvin Kamara & 18.99 & RB & NO & ATL & 7600.0 & 2.5 & $\\dots$ \\\\\n",
       "\t13 & Aaron Rodgers & 18.92 & QB & GB & MIN & 7000.0 & 2.7 & $\\dots$ \\\\\n",
       "\t14 & Justin Jefferson & 18.79 & WR & MIN & GB & 7800.0 & 2.41 & $\\dots$ \\\\\n",
       "\t15 & Tua Tagovailoa & 18.57 & QB & MIA & NE & 5700.0 & 3.26 & $\\dots$ \\\\\n",
       "\t16 & Jameis Winston & 18.56 & QB & NO & ATL & 5300.0 & 3.5 & $\\dots$ \\\\\n",
       "\t17 & Austin Ekeler & 18.32 & RB & LAC & LV & 8200.0 & 2.23 & $\\dots$ \\\\\n",
       "\t18 & Ja'Marr Chase & 18.28 & WR & CIN & PIT & 7100.0 & 2.57 & $\\dots$ \\\\\n",
       "\t19 & Marquise Brown & 17.97 & WR & ARI & KC & 6200.0 & 2.9 & $\\dots$ \\\\\n",
       "\t20 & Travis Kelce & 17.8 & TE & KC & ARI & 6600.0 & 2.7 & $\\dots$ \\\\\n",
       "\t21 & Mac Jones & 17.62 & QB & NE & MIA & 5400.0 & 3.26 & $\\dots$ \\\\\n",
       "\t22 & Carson Wentz & 17.56 & QB & WAS & JAX & 5500.0 & 3.19 & $\\dots$ \\\\\n",
       "\t23 & Trey Lance & 17.54 & QB & SF & CHI & 6000.0 & 2.92 & $\\dots$ \\\\\n",
       "\t24 & Kirk Cousins & 17.47 & QB & MIN & GB & 6100.0 & 2.86 & $\\dots$ \\\\\n",
       "\t25 & Daniel Jones & 17.31 & QB & NYG & TEN & 5000.0 & 3.46 & $\\dots$ \\\\\n",
       "\t26 & Trevor Lawrence & 16.98 & QB & JAX & WAS & 5600.0 & 3.03 & $\\dots$ \\\\\n",
       "\t27 & Matt Ryan & 16.87 & QB & IND & HOU & 5500.0 & 3.07 & $\\dots$ \\\\\n",
       "\t28 & Tyreek Hill & 16.84 & WR & MIA & NE & 6800.0 & 2.48 & $\\dots$ \\\\\n",
       "\t29 & D'Andre Swift & 16.8 & RB & DET & PHI & 6800.0 & 2.47 & $\\dots$ \\\\\n",
       "\t30 & Saquon Barkley & 16.79 & RB & NYG & TEN & 6100.0 & 2.75 & $\\dots$ \\\\\n",
       "\t$\\dots$ & $\\dots$ & $\\dots$ & $\\dots$ & $\\dots$ & $\\dots$ & $\\dots$ & $\\dots$ &  \\\\\n",
       "\\end{tabular}\n"
      ],
      "text/plain": [
       "\u001b[1m136×8 DataFrame\u001b[0m\n",
       "\u001b[1m Row \u001b[0m│\u001b[1m Player              \u001b[0m\u001b[1m Projection \u001b[0m\u001b[1m DK Position \u001b[0m\u001b[1m Team    \u001b[0m\u001b[1m Opponent \u001b[0m\u001b[1m Salary\u001b[0m ⋯\n",
       "\u001b[1m     \u001b[0m│\u001b[90m String31            \u001b[0m\u001b[90m Float64    \u001b[0m\u001b[90m String3     \u001b[0m\u001b[90m String3 \u001b[0m\u001b[90m String3  \u001b[0m\u001b[90m Float6\u001b[0m ⋯\n",
       "─────┼──────────────────────────────────────────────────────────────────────────\n",
       "   1 │ Jalen Hurts               24.58  QB           PHI      DET        6800. ⋯\n",
       "   2 │ Patrick Mahomes           24.54  QB           KC       ARI        7700.\n",
       "   3 │ Justin Herbert            22.78  QB           LAC      LV         7600.\n",
       "   4 │ Christian McCaffrey       22.75  RB           CAR      CLE        8500.\n",
       "   5 │ Jonathan Taylor           22.62  RB           IND      HOU        9100. ⋯\n",
       "   6 │ Kyler Murray              22.07  QB           ARI      KC         7200.\n",
       "   7 │ Lamar Jackson             21.23  QB           BAL      NYJ        7300.\n",
       "   8 │ Derrick Henry             21.08  RB           TEN      NYG        8600.\n",
       "   9 │ Davante Adams             20.22  WR           LV       LAC        8100. ⋯\n",
       "  10 │ Joe Burrow                19.68  QB           CIN      PIT        6400.\n",
       "  11 │ Derek Carr                19.66  QB           LV       LAC        5900.\n",
       "  ⋮  │          ⋮               ⋮            ⋮          ⋮        ⋮         ⋮   ⋱\n",
       " 127 │ Jets                       5.97  DST          NYJ      BAL        2300.\n",
       " 128 │ Packers                    5.94  DST          GB       MIN        3200. ⋯\n",
       " 129 │ Patriots                   5.9   DST          NE       MIA        2700.\n",
       " 130 │ Jaguars                    5.73  DST          JAX      WAS        2500.\n",
       " 131 │ Vikings                    5.54  DST          MIN      GB         2200.\n",
       " 132 │ Falcons                    5.5   DST          ATL      NO         2800. ⋯\n",
       " 133 │ Raiders                    5.16  DST          LV       LAC        2100.\n",
       " 134 │ Texans                     5.15  DST          HOU      IND        2400.\n",
       " 135 │ Lions                      4.86  DST          DET      PHI        2000.\n",
       " 136 │ Cardinals                  4.65  DST          ARI      KC         2900. ⋯\n",
       "\u001b[36m                                                  3 columns and 115 rows omitted\u001b[0m"
      ]
     },
     "execution_count": 117,
     "metadata": {},
     "output_type": "execute_result"
    }
   ],
   "source": [
    "cOffense"
   ]
  },
  {
   "cell_type": "code",
   "execution_count": 118,
   "metadata": {},
   "outputs": [
    {
     "data": {
      "text/html": [
       "<div class=\"data-frame\"><p>136 rows × 8 columns (omitted printing of 1 columns)</p><table class=\"data-frame\"><thead><tr><th></th><th>Player</th><th>Projection</th><th>DK Position</th><th>Team</th><th>Opponent</th><th>Salary</th><th>Value</th></tr><tr><th></th><th title=\"String31\">String31</th><th title=\"Float64\">Float64</th><th title=\"String3\">String3</th><th title=\"String3\">String3</th><th title=\"String3\">String3</th><th title=\"Float64\">Float64</th><th title=\"Float64\">Float64</th></tr></thead><tbody><tr><th>1</th><td>Jalen Hurts</td><td>24.58</td><td>QB</td><td>PHI</td><td>DET</td><td>6800.0</td><td>3.61</td></tr><tr><th>2</th><td>Patrick Mahomes</td><td>24.54</td><td>QB</td><td>KC</td><td>ARI</td><td>7700.0</td><td>3.19</td></tr><tr><th>3</th><td>Justin Herbert</td><td>22.78</td><td>QB</td><td>LAC</td><td>LV</td><td>7600.0</td><td>3.0</td></tr><tr><th>4</th><td>Christian McCaffrey</td><td>22.75</td><td>RB</td><td>CAR</td><td>CLE</td><td>8500.0</td><td>2.68</td></tr><tr><th>5</th><td>Jonathan Taylor</td><td>22.62</td><td>RB</td><td>IND</td><td>HOU</td><td>9100.0</td><td>2.49</td></tr><tr><th>6</th><td>Kyler Murray</td><td>22.07</td><td>QB</td><td>ARI</td><td>KC</td><td>7200.0</td><td>3.06</td></tr><tr><th>7</th><td>Lamar Jackson</td><td>21.23</td><td>QB</td><td>BAL</td><td>NYJ</td><td>7300.0</td><td>2.91</td></tr><tr><th>8</th><td>Derrick Henry</td><td>21.08</td><td>RB</td><td>TEN</td><td>NYG</td><td>8600.0</td><td>2.45</td></tr><tr><th>9</th><td>Davante Adams</td><td>20.22</td><td>WR</td><td>LV</td><td>LAC</td><td>8100.0</td><td>2.5</td></tr><tr><th>10</th><td>Joe Burrow</td><td>19.68</td><td>QB</td><td>CIN</td><td>PIT</td><td>6400.0</td><td>3.08</td></tr><tr><th>11</th><td>Derek Carr</td><td>19.66</td><td>QB</td><td>LV</td><td>LAC</td><td>5900.0</td><td>3.33</td></tr><tr><th>12</th><td>Alvin Kamara</td><td>18.99</td><td>RB</td><td>NO</td><td>ATL</td><td>7600.0</td><td>2.5</td></tr><tr><th>13</th><td>Aaron Rodgers</td><td>18.92</td><td>QB</td><td>GB</td><td>MIN</td><td>7000.0</td><td>2.7</td></tr><tr><th>14</th><td>Justin Jefferson</td><td>18.79</td><td>WR</td><td>MIN</td><td>GB</td><td>7800.0</td><td>2.41</td></tr><tr><th>15</th><td>Tua Tagovailoa</td><td>18.57</td><td>QB</td><td>MIA</td><td>NE</td><td>5700.0</td><td>3.26</td></tr><tr><th>16</th><td>Jameis Winston</td><td>18.56</td><td>QB</td><td>NO</td><td>ATL</td><td>5300.0</td><td>3.5</td></tr><tr><th>17</th><td>Austin Ekeler</td><td>18.32</td><td>RB</td><td>LAC</td><td>LV</td><td>8200.0</td><td>2.23</td></tr><tr><th>18</th><td>Ja&apos;Marr Chase</td><td>18.28</td><td>WR</td><td>CIN</td><td>PIT</td><td>7100.0</td><td>2.57</td></tr><tr><th>19</th><td>Marquise Brown</td><td>17.97</td><td>WR</td><td>ARI</td><td>KC</td><td>6200.0</td><td>2.9</td></tr><tr><th>20</th><td>Travis Kelce</td><td>17.8</td><td>TE</td><td>KC</td><td>ARI</td><td>6600.0</td><td>2.7</td></tr><tr><th>21</th><td>Mac Jones</td><td>17.62</td><td>QB</td><td>NE</td><td>MIA</td><td>5400.0</td><td>3.26</td></tr><tr><th>22</th><td>Carson Wentz</td><td>17.56</td><td>QB</td><td>WAS</td><td>JAX</td><td>5500.0</td><td>3.19</td></tr><tr><th>23</th><td>Trey Lance</td><td>17.54</td><td>QB</td><td>SF</td><td>CHI</td><td>6000.0</td><td>2.92</td></tr><tr><th>24</th><td>Kirk Cousins</td><td>17.47</td><td>QB</td><td>MIN</td><td>GB</td><td>6100.0</td><td>2.86</td></tr><tr><th>25</th><td>Daniel Jones</td><td>17.31</td><td>QB</td><td>NYG</td><td>TEN</td><td>5000.0</td><td>3.46</td></tr><tr><th>26</th><td>Trevor Lawrence</td><td>16.98</td><td>QB</td><td>JAX</td><td>WAS</td><td>5600.0</td><td>3.03</td></tr><tr><th>27</th><td>Matt Ryan</td><td>16.87</td><td>QB</td><td>IND</td><td>HOU</td><td>5500.0</td><td>3.07</td></tr><tr><th>28</th><td>Tyreek Hill</td><td>16.84</td><td>WR</td><td>MIA</td><td>NE</td><td>6800.0</td><td>2.48</td></tr><tr><th>29</th><td>D&apos;Andre Swift</td><td>16.8</td><td>RB</td><td>DET</td><td>PHI</td><td>6800.0</td><td>2.47</td></tr><tr><th>30</th><td>Saquon Barkley</td><td>16.79</td><td>RB</td><td>NYG</td><td>TEN</td><td>6100.0</td><td>2.75</td></tr><tr><th>&vellip;</th><td>&vellip;</td><td>&vellip;</td><td>&vellip;</td><td>&vellip;</td><td>&vellip;</td><td>&vellip;</td><td>&vellip;</td></tr></tbody></table></div>"
      ],
      "text/latex": [
       "\\begin{tabular}{r|cccccccc}\n",
       "\t& Player & Projection & DK Position & Team & Opponent & Salary & Value & \\\\\n",
       "\t\\hline\n",
       "\t& String31 & Float64 & String3 & String3 & String3 & Float64 & Float64 & \\\\\n",
       "\t\\hline\n",
       "\t1 & Jalen Hurts & 24.58 & QB & PHI & DET & 6800.0 & 3.61 & $\\dots$ \\\\\n",
       "\t2 & Patrick Mahomes & 24.54 & QB & KC & ARI & 7700.0 & 3.19 & $\\dots$ \\\\\n",
       "\t3 & Justin Herbert & 22.78 & QB & LAC & LV & 7600.0 & 3.0 & $\\dots$ \\\\\n",
       "\t4 & Christian McCaffrey & 22.75 & RB & CAR & CLE & 8500.0 & 2.68 & $\\dots$ \\\\\n",
       "\t5 & Jonathan Taylor & 22.62 & RB & IND & HOU & 9100.0 & 2.49 & $\\dots$ \\\\\n",
       "\t6 & Kyler Murray & 22.07 & QB & ARI & KC & 7200.0 & 3.06 & $\\dots$ \\\\\n",
       "\t7 & Lamar Jackson & 21.23 & QB & BAL & NYJ & 7300.0 & 2.91 & $\\dots$ \\\\\n",
       "\t8 & Derrick Henry & 21.08 & RB & TEN & NYG & 8600.0 & 2.45 & $\\dots$ \\\\\n",
       "\t9 & Davante Adams & 20.22 & WR & LV & LAC & 8100.0 & 2.5 & $\\dots$ \\\\\n",
       "\t10 & Joe Burrow & 19.68 & QB & CIN & PIT & 6400.0 & 3.08 & $\\dots$ \\\\\n",
       "\t11 & Derek Carr & 19.66 & QB & LV & LAC & 5900.0 & 3.33 & $\\dots$ \\\\\n",
       "\t12 & Alvin Kamara & 18.99 & RB & NO & ATL & 7600.0 & 2.5 & $\\dots$ \\\\\n",
       "\t13 & Aaron Rodgers & 18.92 & QB & GB & MIN & 7000.0 & 2.7 & $\\dots$ \\\\\n",
       "\t14 & Justin Jefferson & 18.79 & WR & MIN & GB & 7800.0 & 2.41 & $\\dots$ \\\\\n",
       "\t15 & Tua Tagovailoa & 18.57 & QB & MIA & NE & 5700.0 & 3.26 & $\\dots$ \\\\\n",
       "\t16 & Jameis Winston & 18.56 & QB & NO & ATL & 5300.0 & 3.5 & $\\dots$ \\\\\n",
       "\t17 & Austin Ekeler & 18.32 & RB & LAC & LV & 8200.0 & 2.23 & $\\dots$ \\\\\n",
       "\t18 & Ja'Marr Chase & 18.28 & WR & CIN & PIT & 7100.0 & 2.57 & $\\dots$ \\\\\n",
       "\t19 & Marquise Brown & 17.97 & WR & ARI & KC & 6200.0 & 2.9 & $\\dots$ \\\\\n",
       "\t20 & Travis Kelce & 17.8 & TE & KC & ARI & 6600.0 & 2.7 & $\\dots$ \\\\\n",
       "\t21 & Mac Jones & 17.62 & QB & NE & MIA & 5400.0 & 3.26 & $\\dots$ \\\\\n",
       "\t22 & Carson Wentz & 17.56 & QB & WAS & JAX & 5500.0 & 3.19 & $\\dots$ \\\\\n",
       "\t23 & Trey Lance & 17.54 & QB & SF & CHI & 6000.0 & 2.92 & $\\dots$ \\\\\n",
       "\t24 & Kirk Cousins & 17.47 & QB & MIN & GB & 6100.0 & 2.86 & $\\dots$ \\\\\n",
       "\t25 & Daniel Jones & 17.31 & QB & NYG & TEN & 5000.0 & 3.46 & $\\dots$ \\\\\n",
       "\t26 & Trevor Lawrence & 16.98 & QB & JAX & WAS & 5600.0 & 3.03 & $\\dots$ \\\\\n",
       "\t27 & Matt Ryan & 16.87 & QB & IND & HOU & 5500.0 & 3.07 & $\\dots$ \\\\\n",
       "\t28 & Tyreek Hill & 16.84 & WR & MIA & NE & 6800.0 & 2.48 & $\\dots$ \\\\\n",
       "\t29 & D'Andre Swift & 16.8 & RB & DET & PHI & 6800.0 & 2.47 & $\\dots$ \\\\\n",
       "\t30 & Saquon Barkley & 16.79 & RB & NYG & TEN & 6100.0 & 2.75 & $\\dots$ \\\\\n",
       "\t$\\dots$ & $\\dots$ & $\\dots$ & $\\dots$ & $\\dots$ & $\\dots$ & $\\dots$ & $\\dots$ &  \\\\\n",
       "\\end{tabular}\n"
      ],
      "text/plain": [
       "\u001b[1m136×8 DataFrame\u001b[0m\n",
       "\u001b[1m Row \u001b[0m│\u001b[1m Player              \u001b[0m\u001b[1m Projection \u001b[0m\u001b[1m DK Position \u001b[0m\u001b[1m Team    \u001b[0m\u001b[1m Opponent \u001b[0m\u001b[1m Salary\u001b[0m ⋯\n",
       "\u001b[1m     \u001b[0m│\u001b[90m String31            \u001b[0m\u001b[90m Float64    \u001b[0m\u001b[90m String3     \u001b[0m\u001b[90m String3 \u001b[0m\u001b[90m String3  \u001b[0m\u001b[90m Float6\u001b[0m ⋯\n",
       "─────┼──────────────────────────────────────────────────────────────────────────\n",
       "   1 │ Jalen Hurts               24.58  QB           PHI      DET        6800. ⋯\n",
       "   2 │ Patrick Mahomes           24.54  QB           KC       ARI        7700.\n",
       "   3 │ Justin Herbert            22.78  QB           LAC      LV         7600.\n",
       "   4 │ Christian McCaffrey       22.75  RB           CAR      CLE        8500.\n",
       "   5 │ Jonathan Taylor           22.62  RB           IND      HOU        9100. ⋯\n",
       "   6 │ Kyler Murray              22.07  QB           ARI      KC         7200.\n",
       "   7 │ Lamar Jackson             21.23  QB           BAL      NYJ        7300.\n",
       "   8 │ Derrick Henry             21.08  RB           TEN      NYG        8600.\n",
       "   9 │ Davante Adams             20.22  WR           LV       LAC        8100. ⋯\n",
       "  10 │ Joe Burrow                19.68  QB           CIN      PIT        6400.\n",
       "  11 │ Derek Carr                19.66  QB           LV       LAC        5900.\n",
       "  ⋮  │          ⋮               ⋮            ⋮          ⋮        ⋮         ⋮   ⋱\n",
       " 127 │ Jets                       5.97  DST          NYJ      BAL        2300.\n",
       " 128 │ Packers                    5.94  DST          GB       MIN        3200. ⋯\n",
       " 129 │ Patriots                   5.9   DST          NE       MIA        2700.\n",
       " 130 │ Jaguars                    5.73  DST          JAX      WAS        2500.\n",
       " 131 │ Vikings                    5.54  DST          MIN      GB         2200.\n",
       " 132 │ Falcons                    5.5   DST          ATL      NO         2800. ⋯\n",
       " 133 │ Raiders                    5.16  DST          LV       LAC        2100.\n",
       " 134 │ Texans                     5.15  DST          HOU      IND        2400.\n",
       " 135 │ Lions                      4.86  DST          DET      PHI        2000.\n",
       " 136 │ Cardinals                  4.65  DST          ARI      KC         2900. ⋯\n",
       "\u001b[36m                                                  3 columns and 115 rows omitted\u001b[0m"
      ]
     },
     "execution_count": 118,
     "metadata": {},
     "output_type": "execute_result"
    }
   ],
   "source": [
    "cOffense"
   ]
  },
  {
   "cell_type": "code",
   "execution_count": 119,
   "metadata": {},
   "outputs": [],
   "source": [
    "# get a player that's opposing your QB\n",
    "bring_back = get_bring_back(week, QB_i, cOffense);"
   ]
  },
  {
   "cell_type": "code",
   "execution_count": 120,
   "metadata": {},
   "outputs": [],
   "source": [
    "opp_team = get_opposing_team(week, cOffense);"
   ]
  },
  {
   "cell_type": "code",
   "execution_count": 121,
   "metadata": {},
   "outputs": [],
   "source": [
    "# get dataframe indexes of players on same team\n",
    "# cross is indexes of players on opposing team\n",
    "team_idx, team_idx_cross = get_idx(t);"
   ]
  },
  {
   "cell_type": "code",
   "execution_count": 122,
   "metadata": {},
   "outputs": [],
   "source": [
    "# getting games and teams that are playing for the selected slate\n",
    "game_stack, num_games = get_games(cOffense);\n",
    "team_stack, num_teams = get_teams(cOffense);"
   ]
  },
  {
   "cell_type": "markdown",
   "metadata": {},
   "source": [
    "## make optimization"
   ]
  },
  {
   "cell_type": "code",
   "execution_count": 123,
   "metadata": {},
   "outputs": [
    {
     "data": {
      "text/plain": [
       "makeTeamX (generic function with 1 method)"
      ]
     },
     "execution_count": 123,
     "metadata": {},
     "output_type": "execute_result"
    }
   ],
   "source": [
    "function makeTeamX(num, X, cOffense, cNum_offense, QB_i, RB_i, WR_i, TE_i, FLEX_i, num_QB, num_RB, num_WR, num_TE, num_FLEX, bring_back, team_idx, team_idx_cross, opp_team, game_stack, num_games, rand_vec, team_stack, num_teams, var_boost)#num is what team it is from 1-100, X is current teams\n",
    "    m1 = Model(Gurobi.Optimizer)\n",
    "    JuMP.set_optimizer_attribute(m1, \"Threads\", 1)\n",
    "    set_silent(m1)\n",
    "    #GLPK.Optimizer\n",
    "    M = 100\n",
    "    max_overlap = 5.1\n",
    "    max_same_player = 40\n",
    "    @variable(m1, x[1:cNum_offense], Bin) #pick players\n",
    "    #@variable(m1, def[1:cNum_teams], Bin) #pick players\n",
    "    #@variable(m1, PB[1:cNum_offense], Bin) #player boost\n",
    "    \n",
    "    \n",
    "    #@constraint(m1, [i=1:length(FLEX_i)], PB[FLEX_i[i]] <= sum(x[opp_team[i][j]] for j = 1:length(opp_team[i])))\n",
    "    \n",
    "    #@constraint(m1, [i=1:length(QB_i)], PB[QB_i[i]] == 0)\n",
    "    #@constraint(m1, [i=1:length(DST_i)], PB[DST_i[i]] == 0)\n",
    "\n",
    "    #@variable(m1, G[1:num_games], Bin)\n",
    "    #@constraint(m1,[i=1:num_games], 1.5 * G[i] <= sum(x[game_stack[i][j]] for j=1:length(game_stack[i])))\n",
    "    #@constraint(m1, sum(G[i] for i=1:num_games) >= 2)\n",
    "    #need to make num_games and game_stack, try using uniques to get it\n",
    "    \n",
    "    @variable(m1, u>=0) #pick players\n",
    "\n",
    "\n",
    "    @objective(m1, Max, u)\n",
    "\n",
    "    @constraint(m1, sum(x[i]*rand_vec[i] for i=1:cNum_offense) +  # cOffense[i, :Projection] for i=1:cNum_offense) + \n",
    "                    (sum(t[i,team_idx[i][j]]*x[i]*x[team_idx[i][j]] for i=1:cNum_offense for j=1:length(team_idx[i])) * 9) +\n",
    "                        (sum(x[i]*var_boost[i] for i=1:cNum_offense) *0.03) >= u)\n",
    "                    #sum(0.1 * x[i] * x[opp_def[i][j]] for i=1:cNum_offense for j=1:length(opp_def[i])) +\n",
    "                    #sum(0.1*PB[i]*cOffense[i, :Projection] for i=1:cNum_offense) +\n",
    "                    \n",
    "\n",
    "    @constraint(m1, sum(x[QB_i[i]] for i=1:num_QB) == 1)\n",
    "    @constraint(m1, sum(x[RB_i[i]] for i=1:num_RB) >= 2)\n",
    "    @constraint(m1, sum(x[WR_i[i]] for i=1:num_WR) >= 3)\n",
    "    @constraint(m1, sum(x[TE_i[i]] for i=1:num_TE) >= 1)\n",
    "    @constraint(m1, sum(x[DST_i[i]] for i=1:num_DST) == 1)\n",
    "    @constraint(m1, sum(x[FLEX_i[i]] for i=1:num_FLEX) == 7)\n",
    "    @constraint(m1,sum(x[i]*cOffense[i, :Salary] for i=1:cNum_offense) <= 50000)\n",
    "    @constraint(m1, sum(x[i] for i=1:cNum_offense) == 9)\n",
    "       \n",
    "    \n",
    "    #@constraint(m1,sum(x[i]*cOffense[i, :Ownership] for i=1:cNum_offense) <= 200)\n",
    "\n",
    "\n",
    "    \n",
    "    \n",
    "    #@constraint(m1, sum(t[i,team_idx[i][j]]*x[i]*x[team_idx[i][j]] for i=1:cNum_offense for j=1:length(team_idx[i])) >= 1.5)\n",
    "    \n",
    "    #bring back\n",
    "                    \n",
    "    @constraint(m1,[i=1:length(QB_i)], x[QB_i[i]] - sum(x[bring_back[i][j]] for j = 1:length(bring_back[i])) <= 0)\n",
    "                        \n",
    "    #team stack          \n",
    "    @constraint(m1,[i=1:num_teams], sum(x[team_stack[i][j]] for j=1:length(team_stack[i])) <= 4)\n",
    "\n",
    "\n",
    "    \n",
    "    #@constraint(m1, sum(def[i] for i=1:cNum_teams) == 1)\n",
    "\n",
    "\n",
    "    if num != 1\n",
    "        #for i=1:num\n",
    "        @constraint(m1,[i=1:num-1], sum(t[X[i][k],team_idx_cross[X[i][k]][j]] * x[team_idx_cross[X[i][k]][j]] for k = 1:9 for j=1:length(team_idx_cross[X[i][k]])) <= 6.9)\n",
    "        #end\n",
    "                        \n",
    "        #@constraint(m1,[i=1:num-1], sum(x[X[i][k]] for k = 1:8) <= max_overlap)\n",
    "\n",
    "\n",
    "    end \n",
    "                                        \n",
    "    optimize!(m1)\n",
    "    return(JuMP.value.(x))\n",
    "end"
   ]
  },
  {
   "cell_type": "code",
   "execution_count": 124,
   "metadata": {
    "scrolled": true
   },
   "outputs": [
    {
     "data": {
      "text/plain": [
       "makeAllTeams (generic function with 1 method)"
      ]
     },
     "execution_count": 124,
     "metadata": {},
     "output_type": "execute_result"
    }
   ],
   "source": [
    "function makeAllTeams(count, X, cOffense, cNum_offense, QB_i, RB_i, WR_i, TE_i, FLEX_i, num_QB, num_RB, num_WR, num_TE, num_FLEX, bring_back, team_idx, team_idx_cross, opp_team, game_stack, num_games, team_stack, num_teams, var_boost) #count is how many teams you want\n",
    "    \n",
    "    rand_vec = rand(cNum_offense,1)/25 .+1\n",
    "    temp = cOffense[:, :Projection]\n",
    "    rand_vec = rand_vec .* temp\n",
    "    x1 = makeTeamX(1, X, cOffense, cNum_offense, QB_i, RB_i, WR_i, TE_i, FLEX_i, num_QB, num_RB, num_WR, num_TE, num_FLEX, bring_back, team_idx, team_idx_cross, opp_team, game_stack, num_games, rand_vec, team_stack, num_teams, var_boost);\n",
    "\n",
    "    B = Vector{Int}()\n",
    "    for i=1:length(x1)\n",
    "        if x1[i] > 0.5\n",
    "            append!(B,i)\n",
    "        end\n",
    "    end\n",
    "    X = push!(X, B)\n",
    "    \n",
    "    for i = 2:count\n",
    "        rand_vec = rand(cNum_offense,1)/25 .+1\n",
    "        temp = cOffense[:, :Projection]\n",
    "        rand_vec = rand_vec .* temp\n",
    "        @time x1 = makeTeamX(i, X, cOffense, cNum_offense, QB_i, RB_i, WR_i, TE_i, FLEX_i, num_QB, num_RB, num_WR, num_TE, num_FLEX, bring_back, team_idx, team_idx_cross, opp_team, game_stack, num_games, rand_vec, team_stack, num_teams, var_boost);\n",
    "        B = Vector{Int}()\n",
    "        for i=1:length(x1)\n",
    "            if x1[i] > 0.5\n",
    "                append!(B,i)\n",
    "            end\n",
    "        end\n",
    "        \n",
    "        X = push!(X, B)\n",
    "        #print(X)\n",
    "        #D = hcat(D, d1)\n",
    "        \n",
    "        println(i)\n",
    "\n",
    "    end\n",
    "\n",
    "    return(X)\n",
    "end"
   ]
  },
  {
   "cell_type": "code",
   "execution_count": null,
   "metadata": {},
   "outputs": [
    {
     "name": "stdout",
     "output_type": "stream",
     "text": [
      "Academic license - for non-commercial use only\n",
      "Academic license - for non-commercial use only\n",
      "  1.136383 seconds (279.59 k allocations: 15.698 MiB, 8.71% compilation time)\n",
      "2\n",
      "Academic license - for non-commercial use only\n",
      "  0.998055 seconds (12.73 k allocations: 829.148 KiB)\n",
      "3\n",
      "Academic license - for non-commercial use only\n",
      "  1.017857 seconds (12.90 k allocations: 836.992 KiB)\n",
      "4\n",
      "Academic license - for non-commercial use only\n",
      "  2.887555 seconds (15.20 k allocations: 912.086 KiB)\n",
      "5\n",
      "Academic license - for non-commercial use only\n",
      "  4.415436 seconds (16.41 k allocations: 952.258 KiB)\n",
      "6\n",
      "Academic license - for non-commercial use only\n",
      "  6.344855 seconds (17.77 k allocations: 997.477 KiB)\n",
      "7\n",
      "Academic license - for non-commercial use only\n",
      "  1.949116 seconds (13.58 k allocations: 869.008 KiB)\n",
      "8\n",
      "Academic license - for non-commercial use only\n",
      "  8.065605 seconds (18.24 k allocations: 1017.117 KiB)\n",
      "9\n",
      "Academic license - for non-commercial use only\n",
      "  4.464912 seconds (15.36 k allocations: 930.211 KiB)\n",
      "10\n",
      "Academic license - for non-commercial use only\n",
      "  7.935187 seconds (18.87 k allocations: 1.018 MiB)\n",
      "11\n",
      "Academic license - for non-commercial use only\n",
      "  2.666267 seconds (14.53 k allocations: 909.477 KiB)\n",
      "12\n",
      "Academic license - for non-commercial use only\n",
      "  6.148663 seconds (17.75 k allocations: 1012.477 KiB)\n",
      "13\n",
      "Academic license - for non-commercial use only\n",
      "  4.942393 seconds (16.73 k allocations: 983.883 KiB)\n",
      "14\n",
      "Academic license - for non-commercial use only\n",
      "  6.862596 seconds (18.34 k allocations: 1.013 MiB)\n",
      "15\n",
      "Academic license - for non-commercial use only\n",
      "  4.735952 seconds (16.95 k allocations: 996.320 KiB)\n",
      "16\n"
     ]
    }
   ],
   "source": [
    "X = Vector{Vector{Int}}()\n",
    "\n",
    "@time all_teams = makeAllTeams(150, X, cOffense, cNum_offense, QB_i, RB_i, WR_i, TE_i, FLEX_i, num_QB, num_RB, num_WR, num_TE, num_FLEX, bring_back, team_idx, team_idx_cross, opp_team, game_stack, num_games, team_stack, num_teams, var_boost);"
   ]
  },
  {
   "cell_type": "markdown",
   "metadata": {},
   "source": [
    "# Prints by Player Name\n"
   ]
  },
  {
   "cell_type": "code",
   "execution_count": 37,
   "metadata": {},
   "outputs": [],
   "source": [
    "num_teams_making = 150\n",
    "\n",
    "\n",
    "offense = cOffense\n",
    "lineup2 = \"\"\n",
    "#outfile = open(path_to_output, \"w\")\n",
    "print_team_name = []\n",
    "\n",
    "\n",
    "\n",
    "    for i = 1:num_teams_making\n",
    "        lineup = [\"\" \"\" \"\" \"\" \"\" \"\" \"\" \"\" \"\"]\n",
    "        skip = []\n",
    "\n",
    "\n",
    "        for j =1:9\n",
    "        \n",
    "            if string(offense[all_teams[i][j],2]) in late_teams\n",
    "                skip = push!(skip, all_teams[i][j])\n",
    "            else\n",
    "                    if all_teams[i][j] in QB_i\n",
    "                        if lineup[1]==\"\"\n",
    "                            lineup[1] = string(offense[all_teams[i][j],1])\n",
    "                        end\n",
    "                    elseif all_teams[i][j] in RB_i\n",
    "                        if lineup[2] == \"\"\n",
    "                            lineup[2] = string(offense[all_teams[i][j],1])\n",
    "                        elseif lineup[3] == \"\"\n",
    "                            lineup[3] = string(offense[all_teams[i][j],1])\n",
    "                        elseif lineup[8] == \"\"\n",
    "                            lineup[8] = string(offense[all_teams[i][j],1])\n",
    "                        end\n",
    "                    elseif all_teams[i][j] in WR_i\n",
    "                        if lineup[4] == \"\"\n",
    "                            lineup[4] = string(offense[all_teams[i][j],1])\n",
    "                        elseif lineup[5] ==\"\"\n",
    "                            lineup[5] = string(offense[all_teams[i][j],1])\n",
    "                        elseif lineup[6] == \"\"\n",
    "                            lineup[6] = string(offense[all_teams[i][j],1])\n",
    "                        elseif lineup[8] == \"\"\n",
    "                            lineup[8] = string(offense[all_teams[i][j],1])\n",
    "                        end\n",
    "                    elseif all_teams[i][j] in TE_i\n",
    "                        if lineup[7] == \"\"\n",
    "                            lineup[7] = string(offense[all_teams[i][j],1])\n",
    "                        elseif lineup[8] == \"\"\n",
    "                            lineup[8] = string(offense[all_teams[i][j],1])\n",
    "                        end\n",
    "                    elseif all_teams[i][j] in DST_i\n",
    "                        if lineup[9] == \"\"\n",
    "                            lineup[9] = string(offense[all_teams[i][j],1])\n",
    "                        end\n",
    "                    end\n",
    "                #end\n",
    "\n",
    "            end\n",
    "      end\n",
    "    #println(skip)\n",
    "        for k in skip\n",
    "                    if k in QB_i\n",
    "                        if lineup[1]==\"\"\n",
    "                            lineup[1] = string(offense[k,1])\n",
    "                        end\n",
    "                    elseif k in RB_i\n",
    "                        if lineup[2] == \"\"\n",
    "                            lineup[2] = string(offense[k,1])\n",
    "                        elseif lineup[3] == \"\"\n",
    "                            lineup[3] = string(offense[k,1])\n",
    "                        elseif lineup[8] == \"\"\n",
    "                            lineup[8] = string(offense[k,1])\n",
    "                        end\n",
    "                    elseif k in WR_i\n",
    "                        if lineup[4] == \"\"\n",
    "                            lineup[4] = string(offense[k,1])\n",
    "                        elseif lineup[5] ==\"\"\n",
    "                            lineup[5] = string(offense[k,1])\n",
    "                        elseif lineup[6] == \"\"\n",
    "                            lineup[6] = string(offense[k,1])\n",
    "                        elseif lineup[8] == \"\"\n",
    "                            lineup[8] = string(offense[k,1])\n",
    "                        end\n",
    "                    elseif k in TE_i\n",
    "                        if lineup[7] == \"\"\n",
    "                            lineup[7] = string(offense[k,1])\n",
    "                        elseif lineup[8] == \"\"\n",
    "                            lineup[8] = string(offense[k,1])\n",
    "                        end\n",
    "                    elseif k in DST_i\n",
    "                        if lineup[9] == \"\"\n",
    "                            lineup[9] = string(offense[k,1])\n",
    "                        end\n",
    "                    end\n",
    "                #end\n",
    "\n",
    "        end\n",
    "\n",
    "       print_team_name = push!(print_team_name, lineup)\n",
    "    end\n",
    "   #close(outfile)\n",
    "#end"
   ]
  },
  {
   "cell_type": "code",
   "execution_count": 38,
   "metadata": {},
   "outputs": [],
   "source": [
    "writedlm(\"2022_Week_1_Test1_ETR.csv\",  print_team, ',')"
   ]
  },
  {
   "cell_type": "code",
   "execution_count": 39,
   "metadata": {},
   "outputs": [
    {
     "data": {
      "text/plain": [
       "150-element Vector{Any}:\n",
       " [\"Joe Burrow\" \"Najee Harris\" … \"Tyler Boyd\" \"Commanders \"]\n",
       " [\"Jalen Hurts\" \"Miles Sanders\" … \"Tee Higgins\" \"Commanders \"]\n",
       " [\"Kirk Cousins\" \"Aaron Jones\" … \"Tee Higgins\" \"Steelers \"]\n",
       " [\"Matt Ryan\" \"Dameon Pierce\" … \"Tee Higgins\" \"Commanders \"]\n",
       " [\"Patrick Mahomes\" \"Aaron Jones\" … \"Randall Cobb\" \"Commanders \"]\n",
       " [\"Trevor Lawrence\" \"Christian McCaffrey\" … \"Tee Higgins\" \"49ers \"]\n",
       " [\"Lamar Jackson\" \"Michael Carter\" … \"Isaiah Likely\" \"Commanders \"]\n",
       " [\"Aaron Rodgers\" \"Aaron Jones\" … \"Romeo Doubs\" \"Lions \"]\n",
       " [\"Jalen Hurts\" \"Christian McCaffrey\" … \"Dallas Goedert\" \"Steelers \"]\n",
       " [\"Kirk Cousins\" \"Christian McCaffrey\" … \"Irv Smith Jr.\" \"Commanders \"]\n",
       " [\"Derek Carr\" \"Josh Jacobs\" … \"Tyler Boyd\" \"Commanders \"]\n",
       " [\"Mitch Trubisky\" \"Najee Harris\" … \"Tee Higgins\" \"Bears \"]\n",
       " [\"Justin Herbert\" \"Josh Jacobs\" … \"Randall Cobb\" \"Lions \"]\n",
       " ⋮\n",
       " [\"Jalen Hurts\" \"Aaron Jones\" … \"Randall Cobb\" \"Steelers \"]\n",
       " [\"Jalen Hurts\" \"Christian McCaffrey\" … \"DeVonta Smith\" \"Steelers \"]\n",
       " [\"Jalen Hurts\" \"Dameon Pierce\" … \"Randall Cobb\" \"Commanders \"]\n",
       " [\"Jalen Hurts\" \"Najee Harris\" … \"DeVonta Smith\" \"Jaguars \"]\n",
       " [\"Jalen Hurts\" \"Jonathan Taylor\" … \"DJ Chark Jr.\" \"Commanders \"]\n",
       " [\"Kyler Murray\" \"Christian McCaffrey\" … \"Mo Alie-Cox\" \"Giants \"]\n",
       " [\"Justin Herbert\" \"Christian McCaffrey\" … \"Randall Cobb\" \"Bears \"]\n",
       " [\"Jalen Hurts\" \"Christian McCaffrey\" … \"Ja'Marr Chase\" \"Dolphins \"]\n",
       " [\"Derek Carr\" \"Christian McCaffrey\" … \"Randall Cobb\" \"Commanders \"]\n",
       " [\"Patrick Mahomes\" \"James Conner\" … \"Randall Cobb\" \"Bears \"]\n",
       " [\"Kyler Murray\" \"Christian McCaffrey\" … \"Randall Cobb\" \"Dolphins \"]\n",
       " [\"Jalen Hurts\" \"Najee Harris\" … \"Joe Mixon\" \"Steelers \"]"
      ]
     },
     "execution_count": 39,
     "metadata": {},
     "output_type": "execute_result"
    }
   ],
   "source": [
    "print_team_name"
   ]
  },
  {
   "cell_type": "markdown",
   "metadata": {},
   "source": [
    "## player frequnecies"
   ]
  },
  {
   "cell_type": "code",
   "execution_count": 32,
   "metadata": {},
   "outputs": [],
   "source": [
    "players = []\n",
    "\n",
    "for i = 1:num_teams_making\n",
    "    for j =1:9\n",
    "        #if print_team[i][j] in QB_i\n",
    "            push!(players, print_team[i][j])\n",
    "        #end\n",
    "    end\n",
    "end\n",
    "\n",
    "frequency = []\n",
    "for i in players\n",
    "    \n",
    "    \n",
    "end"
   ]
  },
  {
   "cell_type": "code",
   "execution_count": 33,
   "metadata": {},
   "outputs": [
    {
     "data": {
      "text/plain": [
       "103×2 Matrix{Any}:\n",
       " \"Travis Kelce\"         87\n",
       " \"Tee Higgins\"          78\n",
       " \"Joe Mixon\"            72\n",
       " \"Ja'Marr Chase\"        71\n",
       " \"Randall Cobb\"         70\n",
       " \"Jalen Hurts\"          70\n",
       " \"Christian McCaffrey\"  54\n",
       " \"Commanders \"          51\n",
       " \"JuJu Smith-Schuster\"  46\n",
       " \"Jahan Dotson\"         46\n",
       " \"Michael Pittman Jr.\"  43\n",
       " \"Aaron Jones\"          38\n",
       " \"DeVonta Smith\"        31\n",
       " ⋮                      \n",
       " \"Baker Mayfield\"        1\n",
       " \"Jakobi Meyers\"         1\n",
       " \"Davante Adams\"         1\n",
       " \"Nico Collins\"          1\n",
       " \"David Montgomery\"      1\n",
       " \"Mac Jones\"             1\n",
       " \"Elijah Moore\"          1\n",
       " \"Evan Engram\"           1\n",
       " \"Trevor Lawrence\"       1\n",
       " \"Jared Goff\"            1\n",
       " \"Zay Jones\"             1\n",
       " \"Corey Davis\"           1"
      ]
     },
     "execution_count": 33,
     "metadata": {},
     "output_type": "execute_result"
    }
   ],
   "source": [
    "c = counter(players)\n",
    "\n",
    "r = hcat(collect(keys(c)),collect(values(c)))\n",
    "\n",
    "r[sortperm(r[:, 2], rev=true), :]"
   ]
  },
  {
   "cell_type": "code",
   "execution_count": 34,
   "metadata": {},
   "outputs": [],
   "source": [
    "writedlm( \"2022_Week_1_Test1_ETR_exposure.csv\",  r, ',')"
   ]
  },
  {
   "cell_type": "code",
   "execution_count": 40,
   "metadata": {},
   "outputs": [
    {
     "data": {
      "text/html": [
       "<div class=\"data-frame\"><p>192 rows × 10 columns (omitted printing of 3 columns)</p><table class=\"data-frame\"><thead><tr><th></th><th>Player</th><th>Team</th><th>Opponent</th><th>DK Position</th><th>Salary</th><th>DK Projection</th><th>DK Value</th></tr><tr><th></th><th title=\"String31\">String31</th><th title=\"String3\">String3</th><th title=\"String3\">String3</th><th title=\"String3\">String3</th><th title=\"Int64\">Int64</th><th title=\"Float64\">Float64</th><th title=\"Float64\">Float64</th></tr></thead><tbody><tr><th>1</th><td>Christian McCaffrey</td><td>CAR</td><td>CLE</td><td>RB</td><td>8500</td><td>24.5</td><td>4.7</td></tr><tr><th>2</th><td>Jalen Hurts</td><td>PHI</td><td>DET</td><td>QB</td><td>6800</td><td>24.6</td><td>3.6</td></tr><tr><th>3</th><td>Aaron Jones</td><td>GB</td><td>MIN</td><td>RB</td><td>6700</td><td>18.8</td><td>2.6</td></tr><tr><th>4</th><td>Saquon Barkley</td><td>NYG</td><td>TEN</td><td>RB</td><td>6100</td><td>17.6</td><td>2.6</td></tr><tr><th>5</th><td>Justin Jefferson</td><td>MIN</td><td>GB</td><td>WR</td><td>7800</td><td>20.9</td><td>2.5</td></tr><tr><th>6</th><td>Joe Mixon</td><td>CIN</td><td>PIT</td><td>RB</td><td>7100</td><td>19.4</td><td>2.3</td></tr><tr><th>7</th><td>Travis Kelce</td><td>KC</td><td>ARI</td><td>TE</td><td>6600</td><td>18.4</td><td>2.3</td></tr><tr><th>8</th><td>Ja&apos;Marr Chase</td><td>CIN</td><td>PIT</td><td>WR</td><td>7100</td><td>19.1</td><td>2.1</td></tr><tr><th>9</th><td>Lamar Jackson</td><td>BAL</td><td>NYJ</td><td>QB</td><td>7300</td><td>24.6</td><td>2.0</td></tr><tr><th>10</th><td>James Conner</td><td>ARI</td><td>KC</td><td>RB</td><td>7000</td><td>18.7</td><td>1.9</td></tr><tr><th>11</th><td>Joe Burrow</td><td>CIN</td><td>PIT</td><td>QB</td><td>6400</td><td>21.7</td><td>1.9</td></tr><tr><th>12</th><td>Najee Harris</td><td>PIT</td><td>CIN</td><td>RB</td><td>6400</td><td>17.6</td><td>1.9</td></tr><tr><th>13</th><td>Tee Higgins</td><td>CIN</td><td>PIT</td><td>WR</td><td>6100</td><td>16.8</td><td>1.8</td></tr><tr><th>14</th><td>Derek Carr</td><td>LV</td><td>LAC</td><td>QB</td><td>5900</td><td>20.1</td><td>1.8</td></tr><tr><th>15</th><td>Jameis Winston</td><td>NO</td><td>ATL</td><td>QB</td><td>5300</td><td>18.2</td><td>1.7</td></tr><tr><th>16</th><td>Mitch Trubisky</td><td>PIT</td><td>CIN</td><td>QB</td><td>5000</td><td>17.2</td><td>1.7</td></tr><tr><th>17</th><td>Daniel Jones</td><td>NYG</td><td>TEN</td><td>QB</td><td>5000</td><td>17.2</td><td>1.6</td></tr><tr><th>18</th><td>JuJu Smith-Schuster</td><td>KC</td><td>ARI</td><td>WR</td><td>5200</td><td>14.8</td><td>1.5</td></tr><tr><th>19</th><td>Marcus Mariota</td><td>ATL</td><td>NO</td><td>QB</td><td>5200</td><td>17.6</td><td>1.4</td></tr><tr><th>20</th><td>Jonathan Taylor</td><td>IND</td><td>HOU</td><td>RB</td><td>9100</td><td>22.4</td><td>1.4</td></tr><tr><th>21</th><td>Michael Pittman Jr.</td><td>IND</td><td>HOU</td><td>WR</td><td>5500</td><td>15.3</td><td>1.4</td></tr><tr><th>22</th><td>Marquise Brown</td><td>ARI</td><td>KC</td><td>WR</td><td>6200</td><td>16.6</td><td>1.3</td></tr><tr><th>23</th><td>Randall Cobb</td><td>GB</td><td>MIN</td><td>WR</td><td>3400</td><td>11.0</td><td>1.3</td></tr><tr><th>24</th><td>Trey Lance</td><td>SF</td><td>CHI</td><td>QB</td><td>6000</td><td>19.9</td><td>1.3</td></tr><tr><th>25</th><td>Commanders </td><td>WAS</td><td>JAX</td><td>DST</td><td>2500</td><td>7.2</td><td>1.3</td></tr><tr><th>26</th><td>Patrick Mahomes</td><td>KC</td><td>ARI</td><td>QB</td><td>7700</td><td>24.9</td><td>1.2</td></tr><tr><th>27</th><td>D&apos;Andre Swift</td><td>DET</td><td>PHI</td><td>RB</td><td>6800</td><td>17.5</td><td>1.1</td></tr><tr><th>28</th><td>Kyler Murray</td><td>ARI</td><td>KC</td><td>QB</td><td>7200</td><td>23.2</td><td>1.0</td></tr><tr><th>29</th><td>Brandin Cooks</td><td>HOU</td><td>IND</td><td>WR</td><td>6300</td><td>16.5</td><td>1.0</td></tr><tr><th>30</th><td>Alvin Kamara</td><td>NO</td><td>ATL</td><td>RB</td><td>7600</td><td>18.9</td><td>0.9</td></tr><tr><th>&vellip;</th><td>&vellip;</td><td>&vellip;</td><td>&vellip;</td><td>&vellip;</td><td>&vellip;</td><td>&vellip;</td><td>&vellip;</td></tr></tbody></table></div>"
      ],
      "text/latex": [
       "\\begin{tabular}{r|cccccccc}\n",
       "\t& Player & Team & Opponent & DK Position & Salary & DK Projection & DK Value & \\\\\n",
       "\t\\hline\n",
       "\t& String31 & String3 & String3 & String3 & Int64 & Float64 & Float64 & \\\\\n",
       "\t\\hline\n",
       "\t1 & Christian McCaffrey & CAR & CLE & RB & 8500 & 24.5 & 4.7 & $\\dots$ \\\\\n",
       "\t2 & Jalen Hurts & PHI & DET & QB & 6800 & 24.6 & 3.6 & $\\dots$ \\\\\n",
       "\t3 & Aaron Jones & GB & MIN & RB & 6700 & 18.8 & 2.6 & $\\dots$ \\\\\n",
       "\t4 & Saquon Barkley & NYG & TEN & RB & 6100 & 17.6 & 2.6 & $\\dots$ \\\\\n",
       "\t5 & Justin Jefferson & MIN & GB & WR & 7800 & 20.9 & 2.5 & $\\dots$ \\\\\n",
       "\t6 & Joe Mixon & CIN & PIT & RB & 7100 & 19.4 & 2.3 & $\\dots$ \\\\\n",
       "\t7 & Travis Kelce & KC & ARI & TE & 6600 & 18.4 & 2.3 & $\\dots$ \\\\\n",
       "\t8 & Ja'Marr Chase & CIN & PIT & WR & 7100 & 19.1 & 2.1 & $\\dots$ \\\\\n",
       "\t9 & Lamar Jackson & BAL & NYJ & QB & 7300 & 24.6 & 2.0 & $\\dots$ \\\\\n",
       "\t10 & James Conner & ARI & KC & RB & 7000 & 18.7 & 1.9 & $\\dots$ \\\\\n",
       "\t11 & Joe Burrow & CIN & PIT & QB & 6400 & 21.7 & 1.9 & $\\dots$ \\\\\n",
       "\t12 & Najee Harris & PIT & CIN & RB & 6400 & 17.6 & 1.9 & $\\dots$ \\\\\n",
       "\t13 & Tee Higgins & CIN & PIT & WR & 6100 & 16.8 & 1.8 & $\\dots$ \\\\\n",
       "\t14 & Derek Carr & LV & LAC & QB & 5900 & 20.1 & 1.8 & $\\dots$ \\\\\n",
       "\t15 & Jameis Winston & NO & ATL & QB & 5300 & 18.2 & 1.7 & $\\dots$ \\\\\n",
       "\t16 & Mitch Trubisky & PIT & CIN & QB & 5000 & 17.2 & 1.7 & $\\dots$ \\\\\n",
       "\t17 & Daniel Jones & NYG & TEN & QB & 5000 & 17.2 & 1.6 & $\\dots$ \\\\\n",
       "\t18 & JuJu Smith-Schuster & KC & ARI & WR & 5200 & 14.8 & 1.5 & $\\dots$ \\\\\n",
       "\t19 & Marcus Mariota & ATL & NO & QB & 5200 & 17.6 & 1.4 & $\\dots$ \\\\\n",
       "\t20 & Jonathan Taylor & IND & HOU & RB & 9100 & 22.4 & 1.4 & $\\dots$ \\\\\n",
       "\t21 & Michael Pittman Jr. & IND & HOU & WR & 5500 & 15.3 & 1.4 & $\\dots$ \\\\\n",
       "\t22 & Marquise Brown & ARI & KC & WR & 6200 & 16.6 & 1.3 & $\\dots$ \\\\\n",
       "\t23 & Randall Cobb & GB & MIN & WR & 3400 & 11.0 & 1.3 & $\\dots$ \\\\\n",
       "\t24 & Trey Lance & SF & CHI & QB & 6000 & 19.9 & 1.3 & $\\dots$ \\\\\n",
       "\t25 & Commanders  & WAS & JAX & DST & 2500 & 7.2 & 1.3 & $\\dots$ \\\\\n",
       "\t26 & Patrick Mahomes & KC & ARI & QB & 7700 & 24.9 & 1.2 & $\\dots$ \\\\\n",
       "\t27 & D'Andre Swift & DET & PHI & RB & 6800 & 17.5 & 1.1 & $\\dots$ \\\\\n",
       "\t28 & Kyler Murray & ARI & KC & QB & 7200 & 23.2 & 1.0 & $\\dots$ \\\\\n",
       "\t29 & Brandin Cooks & HOU & IND & WR & 6300 & 16.5 & 1.0 & $\\dots$ \\\\\n",
       "\t30 & Alvin Kamara & NO & ATL & RB & 7600 & 18.9 & 0.9 & $\\dots$ \\\\\n",
       "\t$\\dots$ & $\\dots$ & $\\dots$ & $\\dots$ & $\\dots$ & $\\dots$ & $\\dots$ & $\\dots$ &  \\\\\n",
       "\\end{tabular}\n"
      ],
      "text/plain": [
       "\u001b[1m192×10 DataFrame\u001b[0m\n",
       "\u001b[1m Row \u001b[0m│\u001b[1m Player              \u001b[0m\u001b[1m Team    \u001b[0m\u001b[1m Opponent \u001b[0m\u001b[1m DK Position \u001b[0m\u001b[1m Salary \u001b[0m\u001b[1m DK Project\u001b[0m ⋯\n",
       "\u001b[1m     \u001b[0m│\u001b[90m String31            \u001b[0m\u001b[90m String3 \u001b[0m\u001b[90m String3  \u001b[0m\u001b[90m String3     \u001b[0m\u001b[90m Int64  \u001b[0m\u001b[90m Float64   \u001b[0m ⋯\n",
       "─────┼──────────────────────────────────────────────────────────────────────────\n",
       "   1 │ Christian McCaffrey  CAR      CLE       RB             8500           2 ⋯\n",
       "   2 │ Jalen Hurts          PHI      DET       QB             6800           2\n",
       "   3 │ Aaron Jones          GB       MIN       RB             6700           1\n",
       "   4 │ Saquon Barkley       NYG      TEN       RB             6100           1\n",
       "   5 │ Justin Jefferson     MIN      GB        WR             7800           2 ⋯\n",
       "   6 │ Joe Mixon            CIN      PIT       RB             7100           1\n",
       "   7 │ Travis Kelce         KC       ARI       TE             6600           1\n",
       "   8 │ Ja'Marr Chase        CIN      PIT       WR             7100           1\n",
       "   9 │ Lamar Jackson        BAL      NYJ       QB             7300           2 ⋯\n",
       "  10 │ James Conner         ARI      KC        RB             7000           1\n",
       "  11 │ Joe Burrow           CIN      PIT       QB             6400           2\n",
       "  ⋮  │          ⋮              ⋮        ⋮           ⋮         ⋮           ⋮    ⋱\n",
       " 183 │ Sterling Shepard     NYG      TEN       WR             4900\n",
       " 184 │ Skyy Moore           KC       ARI       WR             3800             ⋯\n",
       " 185 │ Bryan Edwards        ATL      NO        WR             4200\n",
       " 186 │ Jerick McKinnon      KC       ARI       RB             4200\n",
       " 187 │ Ameer Abdullah       LV       LAC       RB             4200\n",
       " 188 │ Kendrick Bourne      NE       MIA       WR             4200             ⋯\n",
       " 189 │ Christian Watson     GB       MIN       WR             5100\n",
       " 190 │ Dontrell Hilliard    TEN      NYG       RB             4500\n",
       " 191 │ James Robinson       JAX      WAS       RB             5600\n",
       " 192 │ Mark Ingram II       NO       ATL       RB             5900             ⋯\n",
       "\u001b[36m                                                  5 columns and 171 rows omitted\u001b[0m"
      ]
     },
     "execution_count": 40,
     "metadata": {},
     "output_type": "execute_result"
    }
   ],
   "source": [
    "offense"
   ]
  },
  {
   "cell_type": "markdown",
   "metadata": {},
   "source": [
    "## Print money/points"
   ]
  },
  {
   "cell_type": "code",
   "execution_count": 37,
   "metadata": {},
   "outputs": [
    {
     "ename": "LoadError",
     "evalue": "BoundsError: attempt to access 195×7 DataFrame at index [1, 9]",
     "output_type": "error",
     "traceback": [
      "BoundsError: attempt to access 195×7 DataFrame at index [1, 9]",
      "",
      "Stacktrace:",
      " [1] getindex(df::DataFrame, row_ind::Int64, col_ind::Int64)",
      "   @ DataFrames ~/opt/anaconda3/envs/julia/share/julia/packages/DataFrames/zqFGs/src/dataframe/dataframe.jl:478",
      " [2] top-level scope",
      "   @ ./In[37]:36",
      " [3] eval",
      "   @ ./boot.jl:368 [inlined]",
      " [4] include_string(mapexpr::typeof(REPL.softscope), mod::Module, code::String, filename::String)",
      "   @ Base ./loading.jl:1428"
     ]
    }
   ],
   "source": [
    "num_teams_making = 150\n",
    "num = 9 #column\n",
    "\n",
    "#5 = salary\n",
    "#6 = regular projection\n",
    "#7 = DK value\n",
    "#8 = ownership\n",
    "#9 = DK ID\n",
    "#10 = ceiling projection\n",
    "\n",
    "\n",
    "\n",
    "offense = cOffense\n",
    "lineup2 = \"\"\n",
    "#outfile = open(path_to_output, \"w\")\n",
    "print_team = []\n",
    "\n",
    "\n",
    "\n",
    "    for i = 1:num_teams_making\n",
    "        lineup = [\"\" \"\" \"\" \"\" \"\" \"\" \"\" \"\" \"\"]\n",
    "        skip = []\n",
    "\n",
    "\n",
    "        for j =1:9\n",
    "        \n",
    "            if string(offense[all_teams[i][j],2]) in late_teams\n",
    "                skip = push!(skip, all_teams[i][j])\n",
    "            else\n",
    "                    if all_teams[i][j] in QB_i\n",
    "                        if lineup[1]==\"\"\n",
    "                            lineup[1] = string(offense[all_teams[i][j],num])\n",
    "                        end\n",
    "                    elseif all_teams[i][j] in RB_i\n",
    "                        if lineup[2] == \"\"\n",
    "                            lineup[2] = string(offense[all_teams[i][j],num])\n",
    "                        elseif lineup[3] == \"\"\n",
    "                            lineup[3] = string(offense[all_teams[i][j],num])\n",
    "                        elseif lineup[8] == \"\"\n",
    "                            lineup[8] = string(offense[all_teams[i][j],num])\n",
    "                        end\n",
    "                    elseif all_teams[i][j] in WR_i\n",
    "                        if lineup[4] == \"\"\n",
    "                            lineup[4] = string(offense[all_teams[i][j],num])\n",
    "                        elseif lineup[5] ==\"\"\n",
    "                            lineup[5] = string(offense[all_teams[i][j],num])\n",
    "                        elseif lineup[6] == \"\"\n",
    "                            lineup[6] = string(offense[all_teams[i][j],num])\n",
    "                        elseif lineup[8] == \"\"\n",
    "                            lineup[8] = string(offense[all_teams[i][j],num])\n",
    "                        end\n",
    "                    elseif all_teams[i][j] in TE_i\n",
    "                        if lineup[7] == \"\"\n",
    "                            lineup[7] = string(offense[all_teams[i][j],num])\n",
    "                        elseif lineup[8] == \"\"\n",
    "                            lineup[8] = string(offense[all_teams[i][j],num])\n",
    "                        end\n",
    "                    elseif all_teams[i][j] in DST_i\n",
    "                        if lineup[9] == \"\"\n",
    "                            lineup[9] = string(offense[all_teams[i][j],num])\n",
    "                        end\n",
    "                    end\n",
    "                #end\n",
    "\n",
    "            end\n",
    "      end\n",
    "    #println(skip)\n",
    "        for k in skip\n",
    "                    if k in QB_i\n",
    "                        if lineup[1]==\"\"\n",
    "                            lineup[1] = string(offense[k,num])\n",
    "                        end\n",
    "                    elseif k in RB_i\n",
    "                        if lineup[2] == \"\"\n",
    "                            lineup[2] = string(offense[k,num])\n",
    "                        elseif lineup[3] == \"\"\n",
    "                            lineup[3] = string(offense[k,num])\n",
    "                        elseif lineup[8] == \"\"\n",
    "                            lineup[8] = string(offense[k,num])\n",
    "                        end\n",
    "                    elseif k in WR_i\n",
    "                        if lineup[4] == \"\"\n",
    "                            lineup[4] = string(offense[k,num])\n",
    "                        elseif lineup[5] ==\"\"\n",
    "                            lineup[5] = string(offense[k,num])\n",
    "                        elseif lineup[6] == \"\"\n",
    "                            lineup[6] = string(offense[k,num])\n",
    "                        elseif lineup[8] == \"\"\n",
    "                            lineup[8] = string(offense[k,num])\n",
    "                        end\n",
    "                    elseif k in TE_i\n",
    "                        if lineup[7] == \"\"\n",
    "                            lineup[7] = string(offense[k,num])\n",
    "                        elseif lineup[8] == \"\"\n",
    "                            lineup[8] = string(offense[k,num])\n",
    "                        end\n",
    "                    elseif k in DST_i\n",
    "                        if lineup[9] == \"\"\n",
    "                            lineup[9] = string(offense[k,num])\n",
    "                        end\n",
    "                    end\n",
    "                #end\n",
    "\n",
    "        end\n",
    "\n",
    "       print_team = push!(print_team, lineup)\n",
    "    end\n",
    "   #close(outfile)\n",
    "#end"
   ]
  },
  {
   "cell_type": "code",
   "execution_count": 35,
   "metadata": {},
   "outputs": [],
   "source": [
    "writedlm( \"2022_Week_1_Test1_ETR_IDS.csv\",  print_team, ',')"
   ]
  },
  {
   "cell_type": "code",
   "execution_count": 43,
   "metadata": {},
   "outputs": [],
   "source": [
    "writedlm( \"dk_ids_20.csv\",  print_team, ',')"
   ]
  },
  {
   "cell_type": "markdown",
   "metadata": {},
   "source": [
    "# Logic to Run LateSwap\n",
    "1. CSV file for Draft Kings Entries\n",
    "    - This will include a current point value\n",
    "    - Order teams by points/salary (using excel)\n",
    "    - Kev will send this file and we will keep track of the logic later.\n",
    "2. Upload CSV file by points\n",
    "    - Rerun notebook with new file from Kev but instead of running makeTeams, use lateSwapTeam \n",
    "    \n",
    "    "
   ]
  },
  {
   "cell_type": "markdown",
   "metadata": {},
   "source": [
    "# late swap"
   ]
  },
  {
   "cell_type": "code",
   "execution_count": 44,
   "metadata": {},
   "outputs": [
    {
     "data": {
      "text/plain": [
       "lateSwapTeamX (generic function with 1 method)"
      ]
     },
     "execution_count": 44,
     "metadata": {},
     "output_type": "execute_result"
    }
   ],
   "source": [
    "function lateSwapTeamX(num, X, cOffense, cNum_offense, QB_i, RB_i, WR_i, TE_i, FLEX_i, num_QB, num_RB, num_WR, num_TE, num_FLEX, bring_back, team_idx, team_idx_cross, opp_team, game_stack, num_games, rand_vec, team_stack, num_teams, current_teams, late_games)#num is what team it is from 1-100, X is current teams\n",
    "    m1 = Model(SCIP.Optimizer)\n",
    "    set_silent(m1)\n",
    "    #GLPK.Optimizer\n",
    "    M = 100\n",
    "    max_overlap = 5.1\n",
    "    max_same_player = 40\n",
    "    @variable(m1, x[1:cNum_offense], Bin) #pick players\n",
    "    #@variable(m1, def[1:cNum_teams], Bin) #pick players\n",
    "    #@variable(m1, PB[1:cNum_offense], Bin) #player boost\n",
    "    \n",
    "    \n",
    "    #@constraint(m1, [i=1:length(FLEX_i)], PB[FLEX_i[i]] <= sum(x[opp_team[i][j]] for j = 1:length(opp_team[i])))\n",
    "    \n",
    "    #@constraint(m1, [i=1:length(QB_i)], PB[QB_i[i]] == 0)\n",
    "    #@constraint(m1, [i=1:length(DST_i)], PB[DST_i[i]] == 0)\n",
    "\n",
    "    #@variable(m1, G[1:num_games], Bin)\n",
    "    #@constraint(m1,[i=1:num_games], 1.5 * G[i] <= sum(x[game_stack[i][j]] for j=1:length(game_stack[i])))\n",
    "    #@constraint(m1, sum(G[i] for i=1:num_games) >= 2)\n",
    "    #need to make num_games and game_stack, try using uniques to get it\n",
    "    \n",
    "    @variable(m1, u) #pick players\n",
    "\n",
    "\n",
    "    @objective(m1, Max, u)\n",
    "\n",
    "    @constraint(m1, sum(x[i]*rand_vec[i] for i=1:cNum_offense) +  # cOffense[i, :Projection] for i=1:cNum_offense) + \n",
    "                    (sum(t[i,team_idx[i][j]]*x[i]*x[team_idx[i][j]] for i=1:cNum_offense for j=1:length(team_idx[i])) * 9)>= u)\n",
    "                    #sum(0.1 * x[i] * x[opp_def[i][j]] for i=1:cNum_offense for j=1:length(opp_def[i])) +\n",
    "                    #sum(0.1*PB[i]*cOffense[i, :Projection] for i=1:cNum_offense) +\n",
    "                    \n",
    "\n",
    "    @constraint(m1, sum(x[QB_i[i]] for i=1:num_QB) == 1)\n",
    "    @constraint(m1, sum(x[RB_i[i]] for i=1:num_RB) >= 2)\n",
    "    @constraint(m1, sum(x[WR_i[i]] for i=1:num_WR) >= 3)\n",
    "    @constraint(m1, sum(x[TE_i[i]] for i=1:num_TE) >= 1)\n",
    "    @constraint(m1, sum(x[DST_i[i]] for i=1:num_DST) == 1)\n",
    "    @constraint(m1, sum(x[FLEX_i[i]] for i=1:num_FLEX) == 7)\n",
    "    @constraint(m1,sum(x[i]*cOffense[i, :Salary] for i=1:cNum_offense) <= 50000)\n",
    "    @constraint(m1, sum(x[i] for i=1:cNum_offense) == 9)\n",
    "                        \n",
    "    @constraint(m1,sum(x[i]*cOffense.\"DK Ownership\"[i] for i=1:cNum_offense) <= 50)\n",
    "                        \n",
    "    for i=1:cNum_offense\n",
    "        #println(i)\n",
    "        if (cOffense[i, :Team] in late_games) == false\n",
    "            if isempty(current_teams[num]) == false\n",
    "                #println(num)\n",
    "                if i in current_teams[num]\n",
    "                    #println(current_teams[num])\n",
    "\n",
    "\n",
    "                    @constraint(m1, x[i] == 1)\n",
    "                else\n",
    "                    @constraint(m1, x[i] == 0)            \n",
    "                end\n",
    "            end\n",
    "        end\n",
    "    end\n",
    "\n",
    "\n",
    "    \n",
    "    \n",
    "    #@constraint(m1, sum(t[i,team_idx[i][j]]*x[i]*x[team_idx[i][j]] for i=1:cNum_offense for j=1:length(team_idx[i])) >= 1.5)\n",
    "    \n",
    "    #bring back\n",
    "                    \n",
    "    @constraint(m1,[i=1:length(QB_i)], x[QB_i[i]] - sum(x[bring_back[i][j]] for j = 1:length(bring_back[i])) <= 0)\n",
    "                        \n",
    "    #team stack          \n",
    "    @constraint(m1,[i=1:num_teams], sum(x[team_stack[i][j]] for j=1:length(team_stack[i])) <= 4)\n",
    "\n",
    "\n",
    "    \n",
    "    #@constraint(m1, sum(def[i] for i=1:cNum_teams) == 1)\n",
    "\n",
    "\n",
    "    if num != 1\n",
    "        #for i=1:num\n",
    "        @constraint(m1,[i=1:num-1], sum(t[X[i][k],team_idx_cross[X[i][k]][j]] * x[team_idx_cross[X[i][k]][j]] for k = 1:9 for j=1:length(team_idx_cross[X[i][k]])) <= 7.9)\n",
    "        #end\n",
    "                        \n",
    "        #@constraint(m1,[i=1:num-1], sum(x[X[i][k]] for k = 1:8) <= max_overlap)\n",
    "\n",
    "\n",
    "    end \n",
    "                                        \n",
    "    optimize!(m1)\n",
    "    return(JuMP.value.(x))\n",
    "end"
   ]
  },
  {
   "cell_type": "code",
   "execution_count": 45,
   "metadata": {},
   "outputs": [
    {
     "data": {
      "text/plain": [
       "lateSwapAllTeams (generic function with 1 method)"
      ]
     },
     "execution_count": 45,
     "metadata": {},
     "output_type": "execute_result"
    }
   ],
   "source": [
    "function lateSwapAllTeams(count, X, cOffense, cNum_offense, QB_i, RB_i, WR_i, TE_i, FLEX_i, num_QB, num_RB, num_WR, num_TE, num_FLEX, bring_back, team_idx, team_idx_cross, opp_team, game_stack, num_games, team_stack, num_teams, current_teams, late_games) #count is how many teams you want\n",
    "    \n",
    "    rand_vec = rand(cNum_offense,1)/25 .+1\n",
    "    temp = cOffense[:, :Projection]\n",
    "    rand_vec = rand_vec .* temp\n",
    "    x1 = lateSwapTeamX(1, X, cOffense, cNum_offense, QB_i, RB_i, WR_i, TE_i, FLEX_i, num_QB, num_RB, num_WR, num_TE, num_FLEX, bring_back, team_idx, team_idx_cross, opp_team, game_stack, num_games, rand_vec, team_stack, num_teams, current_teams, late_games);\n",
    "\n",
    "    B = Vector{Int}()\n",
    "    for i=1:length(x1)\n",
    "        if x1[i] > 0.5\n",
    "            append!(B,i)\n",
    "        end\n",
    "    end\n",
    "    X = push!(X, B)\n",
    "    \n",
    "    for i = 2:count\n",
    "        rand_vec = rand(cNum_offense,1)/25 .+1\n",
    "        temp = cOffense[:, :Projection]\n",
    "        rand_vec = rand_vec .* temp\n",
    "        @time x1 = lateSwapTeamX(i, X, cOffense, cNum_offense, QB_i, RB_i, WR_i, TE_i, FLEX_i, num_QB, num_RB, num_WR, num_TE, num_FLEX, bring_back, team_idx, team_idx_cross, opp_team, game_stack, num_games, rand_vec, team_stack, num_teams, current_teams, late_games);\n",
    "        B = Vector{Int}()\n",
    "        for i=1:length(x1)\n",
    "            if x1[i] > 0.5\n",
    "                append!(B,i)\n",
    "            end\n",
    "        end\n",
    "        \n",
    "        X = push!(X, B)\n",
    "        #print(X)\n",
    "        #D = hcat(D, d1)\n",
    "        \n",
    "        println(i)\n",
    "\n",
    "    end\n",
    "\n",
    "    return(X)\n",
    "end"
   ]
  },
  {
   "cell_type": "code",
   "execution_count": 46,
   "metadata": {},
   "outputs": [
    {
     "ename": "LoadError",
     "evalue": "UndefVarError: a not defined",
     "output_type": "error",
     "traceback": [
      "UndefVarError: a not defined",
      "",
      "Stacktrace:",
      " [1] top-level scope",
      "   @ ./timing.jl:263 [inlined]",
      " [2] top-level scope",
      "   @ ./In[46]:0",
      " [3] eval",
      "   @ ./boot.jl:368 [inlined]",
      " [4] include_string(mapexpr::typeof(REPL.softscope), mod::Module, code::String, filename::String)",
      "   @ Base ./loading.jl:1428"
     ]
    }
   ],
   "source": [
    "X = Vector{Vector{Int}}()\n",
    "\n",
    "@time all_teams = lateSwapAllTeams(110, X, cOffense, cNum_offense, QB_i, RB_i, WR_i, TE_i, FLEX_i, num_QB, num_RB, num_WR, num_TE, num_FLEX, bring_back, team_idx, team_idx_cross, opp_team, game_stack, num_games, team_stack, num_teams, a, late_teams);"
   ]
  },
  {
   "cell_type": "code",
   "execution_count": 55,
   "metadata": {},
   "outputs": [
    {
     "data": {
      "text/plain": [
       "late_swap_print (generic function with 1 method)"
      ]
     },
     "execution_count": 55,
     "metadata": {},
     "output_type": "execute_result"
    }
   ],
   "source": [
    "function late_swap_print(new_teams, week, num_teams, late_teams, cOffense)\n",
    "\n",
    "    num_teams_making = num_teams\n",
    "    num = 9 #column\n",
    "\n",
    "    #5 = salary\n",
    "    #6 = regular projection\n",
    "    #7 = DK value\n",
    "    #8 = ownership\n",
    "    #9 = DK ID\n",
    "    #10 = ceiling projection\n",
    "    \n",
    "    # This is the origonal projections we submitted in teh morning\n",
    "    ids = readdlm(string(\"/Users/kevin/Desktop/Draftkings/2022/Data/ETR/Week \", week, \"/dk_ids3.csv\"), ',', Int)\n",
    "\n",
    "\n",
    "\n",
    "\n",
    "\n",
    "    offense = cOffense\n",
    "    lineup2 = \"\"\n",
    "    #outfile = open(path_to_output, \"w\")\n",
    "    print_team = []\n",
    "\n",
    "\n",
    "\n",
    "    for i = 1:num_teams_making\n",
    "        lineup = [\"\" \"\" \"\" \"\" \"\" \"\" \"\" \"\" \"\"]\n",
    "        skip = []\n",
    "\n",
    "\n",
    "        for j =1:9\n",
    "            #println(i, \" \", j)\n",
    "            #if in ids, assign the same, else skip and come back to later\n",
    "            in_old_teams = 0\n",
    "            for t = 1:9\n",
    "                #println(string(offense[new_teams[i][j],9]), ids[i,j])\n",
    "                if string(offense[new_teams[i][j],9]) == string(ids[t,j]) && string(offense[new_teams[i][j],2]) in late_teams == false\n",
    "                    #print(\"here\")\n",
    "                    lineup[t] = string(offense[new_teams[i][j],9])\n",
    "                    in_old_teams = 0\n",
    "                end\n",
    "            end\n",
    "            \n",
    "            if in_old_teams == 0\n",
    "                skip = push!(skip, new_teams[i][j])\n",
    "            end\n",
    "        end\n",
    "    #println(skip)\n",
    "        if length(skip) > 0\n",
    "            for k in skip\n",
    "            \n",
    "                    if k in QB_i\n",
    "                        if lineup[1]==\"\"\n",
    "                            lineup[1] = string(offense[k,num])\n",
    "                        end\n",
    "                    elseif k in RB_i\n",
    "                        if lineup[2] == \"\"\n",
    "                            lineup[2] = string(offense[k,num])\n",
    "                        elseif lineup[3] == \"\"\n",
    "                            lineup[3] = string(offense[k,num])\n",
    "                        elseif lineup[8] == \"\"\n",
    "                            lineup[8] = string(offense[k,num])\n",
    "                        end\n",
    "                    elseif k in WR_i\n",
    "                        if lineup[4] == \"\"\n",
    "                            lineup[4] = string(offense[k,num])\n",
    "                        elseif lineup[5] ==\"\"\n",
    "                            lineup[5] = string(offense[k,num])\n",
    "                        elseif lineup[6] == \"\"\n",
    "                            lineup[6] = string(offense[k,num])\n",
    "                        elseif lineup[8] == \"\"\n",
    "                            lineup[8] = string(offense[k,num])\n",
    "                        end\n",
    "                    elseif k in TE_i\n",
    "                        if lineup[7] == \"\"\n",
    "                            lineup[7] = string(offense[k,num])\n",
    "                        elseif lineup[8] == \"\"\n",
    "                            lineup[8] = string(offense[k,num])\n",
    "                        end\n",
    "                    elseif k in DST_i\n",
    "                        if lineup[9] == \"\"\n",
    "                            lineup[9] = string(offense[k,num])\n",
    "                        end\n",
    "                    else\n",
    "                        println(i, \" \", j, \" sad boi\")\n",
    "                    end\n",
    "                #end\n",
    "\n",
    "            end\n",
    "        end\n",
    "\n",
    "       print_team = push!(print_team, lineup)\n",
    "    end\n",
    "    \n",
    "    return print_team\n",
    "end"
   ]
  },
  {
   "cell_type": "code",
   "execution_count": 53,
   "metadata": {},
   "outputs": [
    {
     "ename": "LoadError",
     "evalue": "UndefVarError: late_swap_print not defined",
     "output_type": "error",
     "traceback": [
      "UndefVarError: late_swap_print not defined",
      "",
      "Stacktrace:",
      " [1] top-level scope",
      "   @ In[53]:1",
      " [2] eval",
      "   @ ./boot.jl:368 [inlined]",
      " [3] include_string(mapexpr::typeof(REPL.softscope), mod::Module, code::String, filename::String)",
      "   @ Base ./loading.jl:1428"
     ]
    }
   ],
   "source": [
    "z = late_swap_print(all_teams, 12, 110, late_teams, cOffense)"
   ]
  },
  {
   "cell_type": "code",
   "execution_count": 54,
   "metadata": {},
   "outputs": [
    {
     "ename": "LoadError",
     "evalue": "IOError: cd(\"/Users/kevin/Desktop/Draftkings/2022/Data/ETR/Week 12/\"): no such file or directory (ENOENT)",
     "output_type": "error",
     "traceback": [
      "IOError: cd(\"/Users/kevin/Desktop/Draftkings/2022/Data/ETR/Week 12/\"): no such file or directory (ENOENT)",
      "",
      "Stacktrace:",
      " [1] uv_error",
      "   @ ./libuv.jl:97 [inlined]",
      " [2] cd(dir::String)",
      "   @ Base.Filesystem ./file.jl:91",
      " [3] top-level scope",
      "   @ In[54]:1",
      " [4] eval",
      "   @ ./boot.jl:368 [inlined]",
      " [5] include_string(mapexpr::typeof(REPL.softscope), mod::Module, code::String, filename::String)",
      "   @ Base ./loading.jl:1428"
     ]
    }
   ],
   "source": [
    "cd(\"/Users/kevin/Desktop/Draftkings/2022/Data/ETR/Week 12/\")\n",
    "\n",
    "\n",
    "\n",
    "writedlm( \"ls_names.csv\",  z, ',')"
   ]
  },
  {
   "cell_type": "code",
   "execution_count": 56,
   "metadata": {},
   "outputs": [
    {
     "data": {
      "text/plain": [
       "0"
      ]
     },
     "execution_count": 56,
     "metadata": {},
     "output_type": "execute_result"
    }
   ],
   "source": [
    "length([])"
   ]
  },
  {
   "cell_type": "code",
   "execution_count": 57,
   "metadata": {},
   "outputs": [
    {
     "ename": "LoadError",
     "evalue": "UndefVarError: z not defined",
     "output_type": "error",
     "traceback": [
      "UndefVarError: z not defined",
      "",
      "Stacktrace:",
      " [1] top-level scope",
      "   @ :0",
      " [2] eval",
      "   @ ./boot.jl:368 [inlined]",
      " [3] include_string(mapexpr::typeof(REPL.softscope), mod::Module, code::String, filename::String)",
      "   @ Base ./loading.jl:1428"
     ]
    }
   ],
   "source": [
    "z"
   ]
  },
  {
   "cell_type": "code",
   "execution_count": 58,
   "metadata": {},
   "outputs": [
    {
     "data": {
      "text/plain": [
       "9-element Vector{Int64}:\n",
       "   1\n",
       "  12\n",
       "  19\n",
       "  32\n",
       "  43\n",
       "  49\n",
       "  76\n",
       " 109\n",
       " 152"
      ]
     },
     "execution_count": 58,
     "metadata": {},
     "output_type": "execute_result"
    }
   ],
   "source": [
    "all_teams[12]"
   ]
  },
  {
   "cell_type": "code",
   "execution_count": 59,
   "metadata": {},
   "outputs": [
    {
     "ename": "LoadError",
     "evalue": "UndefVarError: ids not defined",
     "output_type": "error",
     "traceback": [
      "UndefVarError: ids not defined",
      "",
      "Stacktrace:",
      " [1] top-level scope",
      "   @ In[59]:1",
      " [2] eval",
      "   @ ./boot.jl:368 [inlined]",
      " [3] include_string(mapexpr::typeof(REPL.softscope), mod::Module, code::String, filename::String)",
      "   @ Base ./loading.jl:1428"
     ]
    }
   ],
   "source": [
    "isempty(df[in(ids[11,7]).(df.DKSlateID), 2])"
   ]
  },
  {
   "cell_type": "code",
   "execution_count": 60,
   "metadata": {},
   "outputs": [
    {
     "data": {
      "text/plain": [
       "7-element Vector{Int64}:\n",
       " 1\n",
       " 2\n",
       " 3\n",
       " 4\n",
       " 5\n",
       " 6\n",
       " 7"
      ]
     },
     "execution_count": 60,
     "metadata": {},
     "output_type": "execute_result"
    }
   ],
   "source": [
    "a = [1,2,3,4,5,6,7]"
   ]
  },
  {
   "cell_type": "code",
   "execution_count": 61,
   "metadata": {},
   "outputs": [
    {
     "data": {
      "text/plain": [
       "7-element Vector{Float64}:\n",
       " 0.3333333333333333\n",
       " 0.6666666666666666\n",
       " 1.0\n",
       " 1.3333333333333333\n",
       " 1.6666666666666667\n",
       " 2.0\n",
       " 2.3333333333333335"
      ]
     },
     "execution_count": 61,
     "metadata": {},
     "output_type": "execute_result"
    }
   ],
   "source": [
    "a = a./3"
   ]
  },
  {
   "cell_type": "code",
   "execution_count": null,
   "metadata": {},
   "outputs": [],
   "source": []
  }
 ],
 "metadata": {
  "instance_type": "ml.m5.large",
  "kernelspec": {
   "display_name": "Julia 1.8.0",
   "language": "julia",
   "name": "julia-1.8"
  },
  "language_info": {
   "file_extension": ".jl",
   "mimetype": "application/julia",
   "name": "julia",
   "version": "1.8.0"
  }
 },
 "nbformat": 4,
 "nbformat_minor": 4
}
